{
 "cells": [
  {
   "cell_type": "code",
   "execution_count": 1,
   "outputs": [],
   "source": [
    "class Person:\n",
    "    def __init__(self):\n",
    "        self.hello = '안녕하세요.'\n",
    "        \n",
    "    def greeting(self):\n",
    "        print(self.hello)"
   ],
   "metadata": {
    "collapsed": false,
    "ExecuteTime": {
     "end_time": "2023-11-19T14:03:06.832666200Z",
     "start_time": "2023-11-19T14:03:06.824664600Z"
    }
   },
   "id": "71c757dd153a8748"
  },
  {
   "cell_type": "code",
   "execution_count": 3,
   "id": "initial_id",
   "metadata": {
    "collapsed": true,
    "ExecuteTime": {
     "end_time": "2023-11-19T14:04:07.256288500Z",
     "start_time": "2023-11-19T14:04:07.242284300Z"
    }
   },
   "outputs": [],
   "source": [
    "james = Person()  # 인슨턴스 생성"
   ]
  },
  {
   "cell_type": "code",
   "execution_count": 5,
   "outputs": [
    {
     "name": "stdout",
     "output_type": "stream",
     "text": [
      "안녕하세요.\n"
     ]
    }
   ],
   "source": [
    "james.greeting()  # greeting method 출력"
   ],
   "metadata": {
    "collapsed": false,
    "ExecuteTime": {
     "end_time": "2023-11-19T14:05:43.521268700Z",
     "start_time": "2023-11-19T14:05:43.480263600Z"
    }
   },
   "id": "b32eec5feee6037"
  },
  {
   "cell_type": "code",
   "execution_count": 10,
   "outputs": [],
   "source": [
    "# 클래스로 인스턴스 만들 때 값 받기\n",
    "\n",
    "class Person:\n",
    "    def __init__(self, name, age, address):\n",
    "        self.hello = '안녕하세요.'\n",
    "        self.name = name\n",
    "        self.age = age\n",
    "        self. address = address\n",
    "        \n",
    "    def greeting(self):\n",
    "        print('{0} 저는 {1}입니다. '.format(self.hello, self.name))"
   ],
   "metadata": {
    "collapsed": false,
    "ExecuteTime": {
     "end_time": "2023-11-19T14:12:18.728607100Z",
     "start_time": "2023-11-19T14:12:18.700095600Z"
    }
   },
   "id": "5e0ce84d5f46d14c"
  },
  {
   "cell_type": "code",
   "execution_count": 11,
   "outputs": [
    {
     "name": "stdout",
     "output_type": "stream",
     "text": [
      "안녕하세요. 저는 마리아입니다. \n",
      "아름 마리아\n",
      "나이 20\n",
      "주소 서울시 서초구 반포동\n"
     ]
    }
   ],
   "source": [
    "maria = Person('마리아', 20, '서울시 서초구 반포동')\n",
    "maria.greeting()\n",
    "\n",
    "print('아름', maria.name)\n",
    "print('나이', maria.age)\n",
    "print('주소', maria.address)"
   ],
   "metadata": {
    "collapsed": false,
    "ExecuteTime": {
     "end_time": "2023-11-19T14:12:19.065075800Z",
     "start_time": "2023-11-19T14:12:19.053567400Z"
    }
   },
   "id": "64dccc3abb9f6b31"
  },
  {
   "cell_type": "code",
   "execution_count": 12,
   "outputs": [
    {
     "name": "stdout",
     "output_type": "stream",
     "text": [
      "['책', '열쇠']\n",
      "['책', '열쇠']\n"
     ]
    }
   ],
   "source": [
    "class Person:\n",
    "    bag = []\n",
    "    \n",
    "    def put_bag(self, stuff):\n",
    "        self.bag.append(stuff)\n",
    "        \n",
    "james = Person()\n",
    "james.put_bag('책')\n",
    "\n",
    "maria = Person()\n",
    "maria.put_bag('열쇠')\n",
    "\n",
    "print(james.bag)\n",
    "print(maria.bag)"
   ],
   "metadata": {
    "collapsed": false,
    "ExecuteTime": {
     "end_time": "2023-11-19T14:21:15.973520300Z",
     "start_time": "2023-11-19T14:21:15.931003900Z"
    }
   },
   "id": "fa338f8f20d20b83"
  },
  {
   "cell_type": "markdown",
   "source": [
    "클래스 속성은 클래스에 속해있으며 모든 인스턴스에서 공유\n",
    "클래스 속성에 접근할 떄는 클래스 이름으로 접근하면 코드가 명확해짐"
   ],
   "metadata": {
    "collapsed": false
   },
   "id": "b2f3540c34b469f7"
  },
  {
   "cell_type": "code",
   "execution_count": 13,
   "outputs": [],
   "source": [
    "class Person:\n",
    "    bag=[]\n",
    "    \n",
    "    def put_bag(self, stuff):\n",
    "        Person.bag.append(stuff)  # 클래스 이름으로 클래스 속성에 접근\n",
    "        \n",
    "        "
   ],
   "metadata": {
    "collapsed": false,
    "ExecuteTime": {
     "end_time": "2023-11-19T14:23:43.221320800Z",
     "start_time": "2023-11-19T14:23:43.202810700Z"
    }
   },
   "id": "7357eddfa6a5fe89"
  },
  {
   "cell_type": "code",
   "execution_count": 14,
   "outputs": [
    {
     "name": "stdout",
     "output_type": "stream",
     "text": [
      "[]\n"
     ]
    }
   ],
   "source": [
    "print(Person.bag)  # Person에 속한 bag 속성이라는 것을 알 수 있음"
   ],
   "metadata": {
    "collapsed": false,
    "ExecuteTime": {
     "end_time": "2023-11-19T14:23:52.514510700Z",
     "start_time": "2023-11-19T14:23:52.503004400Z"
    }
   },
   "id": "84278ccb7b459ea3"
  },
  {
   "cell_type": "code",
   "execution_count": 15,
   "outputs": [],
   "source": [
    "class Person:\n",
    "    def __init__(self):\n",
    "        self.bag = []\n",
    "    \n",
    "    def put_bag(self, stuff):\n",
    "        self.bag.append(stuff)"
   ],
   "metadata": {
    "collapsed": false,
    "ExecuteTime": {
     "end_time": "2023-11-19T14:28:10.976011800Z",
     "start_time": "2023-11-19T14:28:10.957502200Z"
    }
   },
   "id": "1f163deeb1ecca3"
  },
  {
   "cell_type": "code",
   "execution_count": 16,
   "outputs": [
    {
     "name": "stdout",
     "output_type": "stream",
     "text": [
      "['책']\n",
      "['열쇠']\n"
     ]
    }
   ],
   "source": [
    "james = Person()\n",
    "james.put_bag('책')\n",
    "\n",
    "maria = Person()\n",
    "maria.put_bag('열쇠')\n",
    "\n",
    "print(james.bag)\n",
    "print(maria.bag)"
   ],
   "metadata": {
    "collapsed": false,
    "ExecuteTime": {
     "end_time": "2023-11-19T14:29:04.461833Z",
     "start_time": "2023-11-19T14:29:04.450325200Z"
    }
   },
   "id": "3d4473d82b67d6b2"
  },
  {
   "cell_type": "markdown",
   "source": [
    "## 인스턴스 속성은 인스턴스별로 독립되어 있으며 서로 영향을 주지 않음\n",
    "\n",
    "### 클래스 속성 : 모든 인스턴스가 공유 인스턴스 전체가 사용해야 하는 값을 저장할 때 사용\n",
    "### 인스턴스 속성 : 인스턴스별로 독립되어 있음. 각 인스턴스가 값을 따로 저장해아할 때 사용"
   ],
   "metadata": {
    "collapsed": false
   },
   "id": "54bd83c8a0eb44be"
  },
  {
   "cell_type": "code",
   "execution_count": 21,
   "outputs": [
    {
     "name": "stdout",
     "output_type": "stream",
     "text": [
      "30\n",
      "200\n"
     ]
    }
   ],
   "source": [
    "# 정적 메서드를 호출할 떄는 클래스에서 바로 메서드를 호출하면 된다.\n",
    "\n",
    "class Calc:\n",
    "    @staticmethod\n",
    "    def add(a, b):\n",
    "        print(a + b)\n",
    "        \n",
    "    @staticmethod\n",
    "    def mul(a, b):\n",
    "        print(a * b)\n",
    "\n",
    "Calc.add(10, 20)  # 클래스에서 바로 메서드 호출\n",
    "Calc.mul(10, 20)  # 클래스에서 바로 메서드 호출"
   ],
   "metadata": {
    "collapsed": false,
    "ExecuteTime": {
     "end_time": "2023-11-19T14:38:28.555290100Z",
     "start_time": "2023-11-19T14:38:28.537781400Z"
    }
   },
   "id": "328878f7e4e80eef"
  },
  {
   "cell_type": "code",
   "execution_count": 22,
   "outputs": [
    {
     "name": "stdout",
     "output_type": "stream",
     "text": [
      "2명 생성되었습니다.\n"
     ]
    }
   ],
   "source": [
    "# 클래스 메서드\n",
    "\n",
    "class Person:\n",
    "    count=0 # 클래스 속성\n",
    "    \n",
    "    def __init__(self):\n",
    "        Person.count += 1  # 인스턴스가 만들어질 때\n",
    "                           # 클래스 속성 count에 1을 더함\n",
    "    @classmethod\n",
    "    def print_count(cls):\n",
    "        print('{0}명 생성되었습니다.'.format(cls.count))  # cls로 클래스 속성에 접근\n",
    "        \n",
    "james = Person()\n",
    "maria = Person()\n",
    "\n",
    "Person.print_count() "
   ],
   "metadata": {
    "collapsed": false,
    "ExecuteTime": {
     "end_time": "2023-11-19T14:43:04.291089400Z",
     "start_time": "2023-11-19T14:43:04.269178300Z"
    }
   },
   "id": "c5da2f588f3a8081"
  },
  {
   "cell_type": "code",
   "execution_count": 23,
   "outputs": [
    {
     "name": "stdout",
     "output_type": "stream",
     "text": [
      "안녕하세요\n",
      "공부하기\n"
     ]
    }
   ],
   "source": [
    "# 클래스 상속 -  기반 클래스의 능력을 그대로 활용하면서 새로운 클래스를 만들 때 사용. 상속을 사용하면 중복되는 기능 만들지 않아도 됨. 기존 기능을 재사용할 수 있어 효율적\n",
    "\n",
    "class Person:\n",
    "    def greeting(self):\n",
    "        print('안녕하세요')\n",
    "class Student(Person):\n",
    "    def study(self):\n",
    "        print('공부하기')\n",
    "        \n",
    "james = Student()\n",
    "james.greeting()    # 기반 클래스 Person의 메서드 호출\n",
    "james.study()       # 공부하기 : 파생 클래스 Student에 추가한 study 메서드"
   ],
   "metadata": {
    "collapsed": false,
    "ExecuteTime": {
     "end_time": "2023-11-19T14:53:43.975516700Z",
     "start_time": "2023-11-19T14:53:43.938002600Z"
    }
   },
   "id": "5c9e7ebfd94ed7a4"
  },
  {
   "cell_type": "code",
   "execution_count": null,
   "outputs": [],
   "source": [],
   "metadata": {
    "collapsed": false
   },
   "id": "14309ae48e338d6e"
  }
 ],
 "metadata": {
  "kernelspec": {
   "display_name": "Python 3",
   "language": "python",
   "name": "python3"
  },
  "language_info": {
   "codemirror_mode": {
    "name": "ipython",
    "version": 2
   },
   "file_extension": ".py",
   "mimetype": "text/x-python",
   "name": "python",
   "nbconvert_exporter": "python",
   "pygments_lexer": "ipython2",
   "version": "2.7.6"
  }
 },
 "nbformat": 4,
 "nbformat_minor": 5
}
