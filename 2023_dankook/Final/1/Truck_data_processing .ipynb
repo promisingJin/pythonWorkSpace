{
 "cells": [
  {
   "cell_type": "markdown",
   "source": [
    "## 차량 데이터 전처리"
   ],
   "metadata": {
    "collapsed": false
   },
   "id": "367561042770e5af"
  },
  {
   "cell_type": "markdown",
   "source": [
    "- GWCT\n",
    "    - GWCT_202009.csv\n",
    "    - GWCT_202010.csv\n",
    "    - GWCT_202011.csv\n",
    "    - GWCT_202012.csv\n",
    "    - GWCT_2021_first_half.csv\n",
    "- KIT\n",
    "    - KIT_202009.csv\n",
    "    - KIT_202010.csv \n",
    "    - KIT_202011.csv\n",
    "    - KIT_202012.csv\n",
    "    - KIT_2021_first_half.csv"
   ],
   "metadata": {
    "collapsed": false
   },
   "id": "349d64db756ad924"
  },
  {
   "cell_type": "code",
   "execution_count": 27,
   "outputs": [
    {
     "name": "stdout",
     "output_type": "stream",
     "text": [
      "(98681, 7)\n"
     ]
    },
    {
     "data": {
      "text/plain": "            차량번호    진입게이트              진입일시     진출게이트              진출일시  \\\n0      경남99바****  4번 GATE  2020-09-01 07:58  10번 GATE  2020-09-01 08:06   \n1      경남99바****  2번 GATE  2020-09-01 07:59   8번 GATE  2020-09-01 08:24   \n2      울산99바****  5번 GATE  2020-09-01 08:00  10번 GATE  2020-09-01 08:28   \n3      광주99바****  2번 GATE  2020-09-01 08:00   8번 GATE  2020-09-01 08:44   \n4      광주99사****  4번 GATE  2020-09-01 08:00  10번 GATE  2020-09-01 08:11   \n...          ...      ...               ...       ...               ...   \n98676  부산99사****  5번 GATE  2020-09-30 19:00   9번 GATE  2020-09-30 19:12   \n98677  전남80바****  4번 GATE  2020-09-30 19:02   9번 GATE  2020-09-30 19:13   \n98678  전남98바****  5번 GATE  2020-09-30 19:21   8번 GATE  2020-09-30 20:48   \n98679  전남98바****  4번 GATE  2020-09-30 19:55   9번 GATE  2020-09-30 20:55   \n98680  전남98바****  4번 GATE  2020-09-30 22:34  10번 GATE  2020-09-30 22:53   \n\n           작업시간   터미널  \n0      00:07:02  GWCT  \n1      00:24:19  GWCT  \n2      00:28:16  GWCT  \n3      00:44:36  GWCT  \n4      00:10:46  GWCT  \n...         ...   ...  \n98676  00:11:55   KIT  \n98677  00:11:03   KIT  \n98678  01:26:30   KIT  \n98679  00:59:57   KIT  \n98680  00:19:12   KIT  \n\n[98681 rows x 7 columns]",
      "text/html": "<div>\n<style scoped>\n    .dataframe tbody tr th:only-of-type {\n        vertical-align: middle;\n    }\n\n    .dataframe tbody tr th {\n        vertical-align: top;\n    }\n\n    .dataframe thead th {\n        text-align: right;\n    }\n</style>\n<table border=\"1\" class=\"dataframe\">\n  <thead>\n    <tr style=\"text-align: right;\">\n      <th></th>\n      <th>차량번호</th>\n      <th>진입게이트</th>\n      <th>진입일시</th>\n      <th>진출게이트</th>\n      <th>진출일시</th>\n      <th>작업시간</th>\n      <th>터미널</th>\n    </tr>\n  </thead>\n  <tbody>\n    <tr>\n      <th>0</th>\n      <td>경남99바****</td>\n      <td>4번 GATE</td>\n      <td>2020-09-01 07:58</td>\n      <td>10번 GATE</td>\n      <td>2020-09-01 08:06</td>\n      <td>00:07:02</td>\n      <td>GWCT</td>\n    </tr>\n    <tr>\n      <th>1</th>\n      <td>경남99바****</td>\n      <td>2번 GATE</td>\n      <td>2020-09-01 07:59</td>\n      <td>8번 GATE</td>\n      <td>2020-09-01 08:24</td>\n      <td>00:24:19</td>\n      <td>GWCT</td>\n    </tr>\n    <tr>\n      <th>2</th>\n      <td>울산99바****</td>\n      <td>5번 GATE</td>\n      <td>2020-09-01 08:00</td>\n      <td>10번 GATE</td>\n      <td>2020-09-01 08:28</td>\n      <td>00:28:16</td>\n      <td>GWCT</td>\n    </tr>\n    <tr>\n      <th>3</th>\n      <td>광주99바****</td>\n      <td>2번 GATE</td>\n      <td>2020-09-01 08:00</td>\n      <td>8번 GATE</td>\n      <td>2020-09-01 08:44</td>\n      <td>00:44:36</td>\n      <td>GWCT</td>\n    </tr>\n    <tr>\n      <th>4</th>\n      <td>광주99사****</td>\n      <td>4번 GATE</td>\n      <td>2020-09-01 08:00</td>\n      <td>10번 GATE</td>\n      <td>2020-09-01 08:11</td>\n      <td>00:10:46</td>\n      <td>GWCT</td>\n    </tr>\n    <tr>\n      <th>...</th>\n      <td>...</td>\n      <td>...</td>\n      <td>...</td>\n      <td>...</td>\n      <td>...</td>\n      <td>...</td>\n      <td>...</td>\n    </tr>\n    <tr>\n      <th>98676</th>\n      <td>부산99사****</td>\n      <td>5번 GATE</td>\n      <td>2020-09-30 19:00</td>\n      <td>9번 GATE</td>\n      <td>2020-09-30 19:12</td>\n      <td>00:11:55</td>\n      <td>KIT</td>\n    </tr>\n    <tr>\n      <th>98677</th>\n      <td>전남80바****</td>\n      <td>4번 GATE</td>\n      <td>2020-09-30 19:02</td>\n      <td>9번 GATE</td>\n      <td>2020-09-30 19:13</td>\n      <td>00:11:03</td>\n      <td>KIT</td>\n    </tr>\n    <tr>\n      <th>98678</th>\n      <td>전남98바****</td>\n      <td>5번 GATE</td>\n      <td>2020-09-30 19:21</td>\n      <td>8번 GATE</td>\n      <td>2020-09-30 20:48</td>\n      <td>01:26:30</td>\n      <td>KIT</td>\n    </tr>\n    <tr>\n      <th>98679</th>\n      <td>전남98바****</td>\n      <td>4번 GATE</td>\n      <td>2020-09-30 19:55</td>\n      <td>9번 GATE</td>\n      <td>2020-09-30 20:55</td>\n      <td>00:59:57</td>\n      <td>KIT</td>\n    </tr>\n    <tr>\n      <th>98680</th>\n      <td>전남98바****</td>\n      <td>4번 GATE</td>\n      <td>2020-09-30 22:34</td>\n      <td>10번 GATE</td>\n      <td>2020-09-30 22:53</td>\n      <td>00:19:12</td>\n      <td>KIT</td>\n    </tr>\n  </tbody>\n</table>\n<p>98681 rows × 7 columns</p>\n</div>"
     },
     "execution_count": 27,
     "metadata": {},
     "output_type": "execute_result"
    }
   ],
   "source": [
    "import pandas as pd\n",
    "df = pd.read_csv('./data/terminal_operation/GWCT/GWCT_202009.csv', encoding=\"cp949\")\n",
    "print(df.shape)\n",
    "df"
   ],
   "metadata": {
    "collapsed": false,
    "ExecuteTime": {
     "end_time": "2023-12-16T08:26:07.862782400Z",
     "start_time": "2023-12-16T08:26:07.584515200Z"
    }
   },
   "id": "ecaae7a64de44cf5"
  },
  {
   "cell_type": "code",
   "execution_count": 30,
   "outputs": [
    {
     "data": {
      "text/plain": "            차량번호    진입게이트              진입일시     진출게이트              진출일시  \\\n0      경남99바****  4번 GATE  2020-09-01 07:58  10번 GATE  2020-09-01 08:06   \n1      경남99바****  2번 GATE  2020-09-01 07:59   8번 GATE  2020-09-01 08:24   \n2      울산99바****  5번 GATE  2020-09-01 08:00  10번 GATE  2020-09-01 08:28   \n3      광주99바****  2번 GATE  2020-09-01 08:00   8번 GATE  2020-09-01 08:44   \n4      광주99사****  4번 GATE  2020-09-01 08:00  10번 GATE  2020-09-01 08:11   \n...          ...      ...               ...       ...               ...   \n98676  부산99사****  5번 GATE  2020-09-30 19:00   9번 GATE  2020-09-30 19:12   \n98677  전남80바****  4번 GATE  2020-09-30 19:02   9번 GATE  2020-09-30 19:13   \n98678  전남98바****  5번 GATE  2020-09-30 19:21   8번 GATE  2020-09-30 20:48   \n98679  전남98바****  4번 GATE  2020-09-30 19:55   9번 GATE  2020-09-30 20:55   \n98680  전남98바****  4번 GATE  2020-09-30 22:34  10번 GATE  2020-09-30 22:53   \n\n           작업시간   터미널  \n0      00:07:02  GWCT  \n1      00:24:19  GWCT  \n2      00:28:16  GWCT  \n3      00:44:36  GWCT  \n4      00:10:46  GWCT  \n...         ...   ...  \n98676  00:11:55   KIT  \n98677  00:11:03   KIT  \n98678  01:26:30   KIT  \n98679  00:59:57   KIT  \n98680  00:19:12   KIT  \n\n[98681 rows x 7 columns]",
      "text/html": "<div>\n<style scoped>\n    .dataframe tbody tr th:only-of-type {\n        vertical-align: middle;\n    }\n\n    .dataframe tbody tr th {\n        vertical-align: top;\n    }\n\n    .dataframe thead th {\n        text-align: right;\n    }\n</style>\n<table border=\"1\" class=\"dataframe\">\n  <thead>\n    <tr style=\"text-align: right;\">\n      <th></th>\n      <th>차량번호</th>\n      <th>진입게이트</th>\n      <th>진입일시</th>\n      <th>진출게이트</th>\n      <th>진출일시</th>\n      <th>작업시간</th>\n      <th>터미널</th>\n    </tr>\n  </thead>\n  <tbody>\n    <tr>\n      <th>0</th>\n      <td>경남99바****</td>\n      <td>4번 GATE</td>\n      <td>2020-09-01 07:58</td>\n      <td>10번 GATE</td>\n      <td>2020-09-01 08:06</td>\n      <td>00:07:02</td>\n      <td>GWCT</td>\n    </tr>\n    <tr>\n      <th>1</th>\n      <td>경남99바****</td>\n      <td>2번 GATE</td>\n      <td>2020-09-01 07:59</td>\n      <td>8번 GATE</td>\n      <td>2020-09-01 08:24</td>\n      <td>00:24:19</td>\n      <td>GWCT</td>\n    </tr>\n    <tr>\n      <th>2</th>\n      <td>울산99바****</td>\n      <td>5번 GATE</td>\n      <td>2020-09-01 08:00</td>\n      <td>10번 GATE</td>\n      <td>2020-09-01 08:28</td>\n      <td>00:28:16</td>\n      <td>GWCT</td>\n    </tr>\n    <tr>\n      <th>3</th>\n      <td>광주99바****</td>\n      <td>2번 GATE</td>\n      <td>2020-09-01 08:00</td>\n      <td>8번 GATE</td>\n      <td>2020-09-01 08:44</td>\n      <td>00:44:36</td>\n      <td>GWCT</td>\n    </tr>\n    <tr>\n      <th>4</th>\n      <td>광주99사****</td>\n      <td>4번 GATE</td>\n      <td>2020-09-01 08:00</td>\n      <td>10번 GATE</td>\n      <td>2020-09-01 08:11</td>\n      <td>00:10:46</td>\n      <td>GWCT</td>\n    </tr>\n    <tr>\n      <th>...</th>\n      <td>...</td>\n      <td>...</td>\n      <td>...</td>\n      <td>...</td>\n      <td>...</td>\n      <td>...</td>\n      <td>...</td>\n    </tr>\n    <tr>\n      <th>98676</th>\n      <td>부산99사****</td>\n      <td>5번 GATE</td>\n      <td>2020-09-30 19:00</td>\n      <td>9번 GATE</td>\n      <td>2020-09-30 19:12</td>\n      <td>00:11:55</td>\n      <td>KIT</td>\n    </tr>\n    <tr>\n      <th>98677</th>\n      <td>전남80바****</td>\n      <td>4번 GATE</td>\n      <td>2020-09-30 19:02</td>\n      <td>9번 GATE</td>\n      <td>2020-09-30 19:13</td>\n      <td>00:11:03</td>\n      <td>KIT</td>\n    </tr>\n    <tr>\n      <th>98678</th>\n      <td>전남98바****</td>\n      <td>5번 GATE</td>\n      <td>2020-09-30 19:21</td>\n      <td>8번 GATE</td>\n      <td>2020-09-30 20:48</td>\n      <td>01:26:30</td>\n      <td>KIT</td>\n    </tr>\n    <tr>\n      <th>98679</th>\n      <td>전남98바****</td>\n      <td>4번 GATE</td>\n      <td>2020-09-30 19:55</td>\n      <td>9번 GATE</td>\n      <td>2020-09-30 20:55</td>\n      <td>00:59:57</td>\n      <td>KIT</td>\n    </tr>\n    <tr>\n      <th>98680</th>\n      <td>전남98바****</td>\n      <td>4번 GATE</td>\n      <td>2020-09-30 22:34</td>\n      <td>10번 GATE</td>\n      <td>2020-09-30 22:53</td>\n      <td>00:19:12</td>\n      <td>KIT</td>\n    </tr>\n  </tbody>\n</table>\n<p>98681 rows × 7 columns</p>\n</div>"
     },
     "metadata": {},
     "output_type": "display_data"
    }
   ],
   "source": [
    "pd.set_option('display.max_rows', 500)\n",
    "pd.set_option('display.max_columns', None)\n",
    "display(df)"
   ],
   "metadata": {
    "collapsed": false,
    "ExecuteTime": {
     "end_time": "2023-12-16T08:28:48.855755500Z",
     "start_time": "2023-12-16T08:28:48.793553800Z"
    }
   },
   "id": "cc369ab24d9d7728"
  },
  {
   "cell_type": "markdown",
   "source": [
    "시간대별로 정리해야함. \n",
    "\n",
    "1. 진입 시간을 기준으로 시간대별로 그룹화 - 시간별로 차량 진입 횟수 집계\n",
    "\n",
    "2. 진출 시간을 사용하여 항구에 머문 시간계산, 시간대별로 집계\n",
    "\n",
    "3. 작업 시간계산 - 진출 시간 - 진입 시간 => 평균 작업 시간 계산\n",
    "\n",
    "4. 시간대별로 집계 후 결측치 처리. 시간대별 평균 대체, 앞 뒤 시간대 데이터로 보간, 이상치 제거 혹은 수정"
   ],
   "metadata": {
    "collapsed": false
   },
   "id": "e06ad1b2519e104d"
  },
  {
   "cell_type": "code",
   "execution_count": 37,
   "outputs": [],
   "source": [
    "\n",
    "import pandas as pd\n",
    "df = pd.read_csv('./data/terminal_operation/GWCT/GWCT_202009.csv', encoding=\"cp949\")\n",
    "\n",
    "# datetime 형식으로 변환\n",
    "df['진입일시'] = pd.to_datetime(df['진입일시'])\n",
    "df['진출일시'] = pd.to_datetime(df['진출일시'])\n"
   ],
   "metadata": {
    "collapsed": false,
    "ExecuteTime": {
     "end_time": "2023-12-16T08:35:10.690822300Z",
     "start_time": "2023-12-16T08:35:10.350618900Z"
    }
   },
   "id": "e3755c257ff9b008"
  },
  {
   "cell_type": "code",
   "execution_count": 25,
   "outputs": [],
   "source": [
    "pd.set_option('display.max_rows', 500)"
   ],
   "metadata": {
    "collapsed": false,
    "ExecuteTime": {
     "end_time": "2023-12-16T08:24:54.521783Z",
     "start_time": "2023-12-16T08:24:54.484304400Z"
    }
   },
   "id": "e3f45832229546b3"
  },
  {
   "cell_type": "code",
   "execution_count": 26,
   "outputs": [
    {
     "data": {
      "text/plain": "            차량번호    진입게이트                진입일시     진출게이트                진출일시  \\\n0      경남99바****  4번 GATE 2020-09-01 07:58:00  10번 GATE 2020-09-01 08:06:00   \n1      경남99바****  2번 GATE 2020-09-01 07:59:00   8번 GATE 2020-09-01 08:24:00   \n2      울산99바****  5번 GATE 2020-09-01 08:00:00  10번 GATE 2020-09-01 08:28:00   \n3      광주99바****  2번 GATE 2020-09-01 08:00:00   8번 GATE 2020-09-01 08:44:00   \n4      광주99사****  4번 GATE 2020-09-01 08:00:00  10번 GATE 2020-09-01 08:11:00   \n...          ...      ...                 ...       ...                 ...   \n98676  부산99사****  5번 GATE 2020-09-30 19:00:00   9번 GATE 2020-09-30 19:12:00   \n98677  전남80바****  4번 GATE 2020-09-30 19:02:00   9번 GATE 2020-09-30 19:13:00   \n98678  전남98바****  5번 GATE 2020-09-30 19:21:00   8번 GATE 2020-09-30 20:48:00   \n98679  전남98바****  4번 GATE 2020-09-30 19:55:00   9번 GATE 2020-09-30 20:55:00   \n98680  전남98바****  4번 GATE 2020-09-30 22:34:00  10번 GATE 2020-09-30 22:53:00   \n\n           작업시간   터미널  \n0      00:07:02  GWCT  \n1      00:24:19  GWCT  \n2      00:28:16  GWCT  \n3      00:44:36  GWCT  \n4      00:10:46  GWCT  \n...         ...   ...  \n98676  00:11:55   KIT  \n98677  00:11:03   KIT  \n98678  01:26:30   KIT  \n98679  00:59:57   KIT  \n98680  00:19:12   KIT  \n\n[98681 rows x 7 columns]",
      "text/html": "<div>\n<style scoped>\n    .dataframe tbody tr th:only-of-type {\n        vertical-align: middle;\n    }\n\n    .dataframe tbody tr th {\n        vertical-align: top;\n    }\n\n    .dataframe thead th {\n        text-align: right;\n    }\n</style>\n<table border=\"1\" class=\"dataframe\">\n  <thead>\n    <tr style=\"text-align: right;\">\n      <th></th>\n      <th>차량번호</th>\n      <th>진입게이트</th>\n      <th>진입일시</th>\n      <th>진출게이트</th>\n      <th>진출일시</th>\n      <th>작업시간</th>\n      <th>터미널</th>\n    </tr>\n  </thead>\n  <tbody>\n    <tr>\n      <th>0</th>\n      <td>경남99바****</td>\n      <td>4번 GATE</td>\n      <td>2020-09-01 07:58:00</td>\n      <td>10번 GATE</td>\n      <td>2020-09-01 08:06:00</td>\n      <td>00:07:02</td>\n      <td>GWCT</td>\n    </tr>\n    <tr>\n      <th>1</th>\n      <td>경남99바****</td>\n      <td>2번 GATE</td>\n      <td>2020-09-01 07:59:00</td>\n      <td>8번 GATE</td>\n      <td>2020-09-01 08:24:00</td>\n      <td>00:24:19</td>\n      <td>GWCT</td>\n    </tr>\n    <tr>\n      <th>2</th>\n      <td>울산99바****</td>\n      <td>5번 GATE</td>\n      <td>2020-09-01 08:00:00</td>\n      <td>10번 GATE</td>\n      <td>2020-09-01 08:28:00</td>\n      <td>00:28:16</td>\n      <td>GWCT</td>\n    </tr>\n    <tr>\n      <th>3</th>\n      <td>광주99바****</td>\n      <td>2번 GATE</td>\n      <td>2020-09-01 08:00:00</td>\n      <td>8번 GATE</td>\n      <td>2020-09-01 08:44:00</td>\n      <td>00:44:36</td>\n      <td>GWCT</td>\n    </tr>\n    <tr>\n      <th>4</th>\n      <td>광주99사****</td>\n      <td>4번 GATE</td>\n      <td>2020-09-01 08:00:00</td>\n      <td>10번 GATE</td>\n      <td>2020-09-01 08:11:00</td>\n      <td>00:10:46</td>\n      <td>GWCT</td>\n    </tr>\n    <tr>\n      <th>...</th>\n      <td>...</td>\n      <td>...</td>\n      <td>...</td>\n      <td>...</td>\n      <td>...</td>\n      <td>...</td>\n      <td>...</td>\n    </tr>\n    <tr>\n      <th>98676</th>\n      <td>부산99사****</td>\n      <td>5번 GATE</td>\n      <td>2020-09-30 19:00:00</td>\n      <td>9번 GATE</td>\n      <td>2020-09-30 19:12:00</td>\n      <td>00:11:55</td>\n      <td>KIT</td>\n    </tr>\n    <tr>\n      <th>98677</th>\n      <td>전남80바****</td>\n      <td>4번 GATE</td>\n      <td>2020-09-30 19:02:00</td>\n      <td>9번 GATE</td>\n      <td>2020-09-30 19:13:00</td>\n      <td>00:11:03</td>\n      <td>KIT</td>\n    </tr>\n    <tr>\n      <th>98678</th>\n      <td>전남98바****</td>\n      <td>5번 GATE</td>\n      <td>2020-09-30 19:21:00</td>\n      <td>8번 GATE</td>\n      <td>2020-09-30 20:48:00</td>\n      <td>01:26:30</td>\n      <td>KIT</td>\n    </tr>\n    <tr>\n      <th>98679</th>\n      <td>전남98바****</td>\n      <td>4번 GATE</td>\n      <td>2020-09-30 19:55:00</td>\n      <td>9번 GATE</td>\n      <td>2020-09-30 20:55:00</td>\n      <td>00:59:57</td>\n      <td>KIT</td>\n    </tr>\n    <tr>\n      <th>98680</th>\n      <td>전남98바****</td>\n      <td>4번 GATE</td>\n      <td>2020-09-30 22:34:00</td>\n      <td>10번 GATE</td>\n      <td>2020-09-30 22:53:00</td>\n      <td>00:19:12</td>\n      <td>KIT</td>\n    </tr>\n  </tbody>\n</table>\n<p>98681 rows × 7 columns</p>\n</div>"
     },
     "execution_count": 26,
     "metadata": {},
     "output_type": "execute_result"
    }
   ],
   "source": [
    "df"
   ],
   "metadata": {
    "collapsed": false,
    "ExecuteTime": {
     "end_time": "2023-12-16T08:24:54.961292100Z",
     "start_time": "2023-12-16T08:24:54.914302500Z"
    }
   },
   "id": "6b4a87fb62c7f1a7"
  },
  {
   "cell_type": "code",
   "execution_count": 43,
   "outputs": [],
   "source": [
    " # 작업시간을 timedelta 형식으로 변환\n",
    "\n",
    "df['작업시간'] = pd.to_timedelta(df['작업시간'])"
   ],
   "metadata": {
    "collapsed": false,
    "ExecuteTime": {
     "end_time": "2023-12-16T08:38:15.410188600Z",
     "start_time": "2023-12-16T08:38:15.251716800Z"
    }
   },
   "id": "a39ad311e4c1de64"
  },
  {
   "cell_type": "code",
   "execution_count": 7,
   "outputs": [
    {
     "data": {
      "text/plain": "            차량번호    진입게이트                진입일시     진출게이트                진출일시  \\\n0      경남99바****  4번 GATE 2020-09-01 07:58:00  10번 GATE 2020-09-01 08:06:00   \n1      경남99바****  2번 GATE 2020-09-01 07:59:00   8번 GATE 2020-09-01 08:24:00   \n2      울산99바****  5번 GATE 2020-09-01 08:00:00  10번 GATE 2020-09-01 08:28:00   \n3      광주99바****  2번 GATE 2020-09-01 08:00:00   8번 GATE 2020-09-01 08:44:00   \n4      광주99사****  4번 GATE 2020-09-01 08:00:00  10번 GATE 2020-09-01 08:11:00   \n...          ...      ...                 ...       ...                 ...   \n98676  부산99사****  5번 GATE 2020-09-30 19:00:00   9번 GATE 2020-09-30 19:12:00   \n98677  전남80바****  4번 GATE 2020-09-30 19:02:00   9번 GATE 2020-09-30 19:13:00   \n98678  전남98바****  5번 GATE 2020-09-30 19:21:00   8번 GATE 2020-09-30 20:48:00   \n98679  전남98바****  4번 GATE 2020-09-30 19:55:00   9번 GATE 2020-09-30 20:55:00   \n98680  전남98바****  4번 GATE 2020-09-30 22:34:00  10번 GATE 2020-09-30 22:53:00   \n\n                 작업시간   터미널  \n0     0 days 00:07:02  GWCT  \n1     0 days 00:24:19  GWCT  \n2     0 days 00:28:16  GWCT  \n3     0 days 00:44:36  GWCT  \n4     0 days 00:10:46  GWCT  \n...               ...   ...  \n98676 0 days 00:11:55   KIT  \n98677 0 days 00:11:03   KIT  \n98678 0 days 01:26:30   KIT  \n98679 0 days 00:59:57   KIT  \n98680 0 days 00:19:12   KIT  \n\n[98681 rows x 7 columns]",
      "text/html": "<div>\n<style scoped>\n    .dataframe tbody tr th:only-of-type {\n        vertical-align: middle;\n    }\n\n    .dataframe tbody tr th {\n        vertical-align: top;\n    }\n\n    .dataframe thead th {\n        text-align: right;\n    }\n</style>\n<table border=\"1\" class=\"dataframe\">\n  <thead>\n    <tr style=\"text-align: right;\">\n      <th></th>\n      <th>차량번호</th>\n      <th>진입게이트</th>\n      <th>진입일시</th>\n      <th>진출게이트</th>\n      <th>진출일시</th>\n      <th>작업시간</th>\n      <th>터미널</th>\n    </tr>\n  </thead>\n  <tbody>\n    <tr>\n      <th>0</th>\n      <td>경남99바****</td>\n      <td>4번 GATE</td>\n      <td>2020-09-01 07:58:00</td>\n      <td>10번 GATE</td>\n      <td>2020-09-01 08:06:00</td>\n      <td>0 days 00:07:02</td>\n      <td>GWCT</td>\n    </tr>\n    <tr>\n      <th>1</th>\n      <td>경남99바****</td>\n      <td>2번 GATE</td>\n      <td>2020-09-01 07:59:00</td>\n      <td>8번 GATE</td>\n      <td>2020-09-01 08:24:00</td>\n      <td>0 days 00:24:19</td>\n      <td>GWCT</td>\n    </tr>\n    <tr>\n      <th>2</th>\n      <td>울산99바****</td>\n      <td>5번 GATE</td>\n      <td>2020-09-01 08:00:00</td>\n      <td>10번 GATE</td>\n      <td>2020-09-01 08:28:00</td>\n      <td>0 days 00:28:16</td>\n      <td>GWCT</td>\n    </tr>\n    <tr>\n      <th>3</th>\n      <td>광주99바****</td>\n      <td>2번 GATE</td>\n      <td>2020-09-01 08:00:00</td>\n      <td>8번 GATE</td>\n      <td>2020-09-01 08:44:00</td>\n      <td>0 days 00:44:36</td>\n      <td>GWCT</td>\n    </tr>\n    <tr>\n      <th>4</th>\n      <td>광주99사****</td>\n      <td>4번 GATE</td>\n      <td>2020-09-01 08:00:00</td>\n      <td>10번 GATE</td>\n      <td>2020-09-01 08:11:00</td>\n      <td>0 days 00:10:46</td>\n      <td>GWCT</td>\n    </tr>\n    <tr>\n      <th>...</th>\n      <td>...</td>\n      <td>...</td>\n      <td>...</td>\n      <td>...</td>\n      <td>...</td>\n      <td>...</td>\n      <td>...</td>\n    </tr>\n    <tr>\n      <th>98676</th>\n      <td>부산99사****</td>\n      <td>5번 GATE</td>\n      <td>2020-09-30 19:00:00</td>\n      <td>9번 GATE</td>\n      <td>2020-09-30 19:12:00</td>\n      <td>0 days 00:11:55</td>\n      <td>KIT</td>\n    </tr>\n    <tr>\n      <th>98677</th>\n      <td>전남80바****</td>\n      <td>4번 GATE</td>\n      <td>2020-09-30 19:02:00</td>\n      <td>9번 GATE</td>\n      <td>2020-09-30 19:13:00</td>\n      <td>0 days 00:11:03</td>\n      <td>KIT</td>\n    </tr>\n    <tr>\n      <th>98678</th>\n      <td>전남98바****</td>\n      <td>5번 GATE</td>\n      <td>2020-09-30 19:21:00</td>\n      <td>8번 GATE</td>\n      <td>2020-09-30 20:48:00</td>\n      <td>0 days 01:26:30</td>\n      <td>KIT</td>\n    </tr>\n    <tr>\n      <th>98679</th>\n      <td>전남98바****</td>\n      <td>4번 GATE</td>\n      <td>2020-09-30 19:55:00</td>\n      <td>9번 GATE</td>\n      <td>2020-09-30 20:55:00</td>\n      <td>0 days 00:59:57</td>\n      <td>KIT</td>\n    </tr>\n    <tr>\n      <th>98680</th>\n      <td>전남98바****</td>\n      <td>4번 GATE</td>\n      <td>2020-09-30 22:34:00</td>\n      <td>10번 GATE</td>\n      <td>2020-09-30 22:53:00</td>\n      <td>0 days 00:19:12</td>\n      <td>KIT</td>\n    </tr>\n  </tbody>\n</table>\n<p>98681 rows × 7 columns</p>\n</div>"
     },
     "execution_count": 7,
     "metadata": {},
     "output_type": "execute_result"
    }
   ],
   "source": [
    "df"
   ],
   "metadata": {
    "collapsed": false,
    "ExecuteTime": {
     "end_time": "2023-12-16T08:18:18.001242800Z",
     "start_time": "2023-12-16T08:18:17.938351400Z"
    }
   },
   "id": "2ae5154d9ac33352"
  },
  {
   "cell_type": "code",
   "execution_count": 63,
   "outputs": [],
   "source": [
    "# 시간대별 차량 진입 횟수 계산\n",
    "\n",
    "df['진입시간_시간대'] = df['진입일시'].dt.hour\n",
    "hourly_entries = df.groupby('진입시간_시간대').size()\n",
    "df"
   ],
   "metadata": {
    "collapsed": false,
    "ExecuteTime": {
     "end_time": "2023-12-16T10:05:22.154937800Z",
     "start_time": "2023-12-16T10:05:22.089653800Z"
    }
   },
   "id": "e50395dc0bcfde52"
  },
  {
   "cell_type": "markdown",
   "source": [],
   "metadata": {
    "collapsed": false
   },
   "id": "5ff288c43cbc773b"
  },
  {
   "cell_type": "code",
   "execution_count": 45,
   "outputs": [
    {
     "data": {
      "text/plain": "진입시간_시간대\n1        14\n2        13\n3         5\n7       310\n8      6396\n9      8720\n10     9856\n11     8370\n12      454\n13    11252\n14    11008\n15    11311\n16    10751\n17     6804\n18     1071\n19     6401\n20     3023\n21     1843\n22      895\n23      184\ndtype: int64"
     },
     "execution_count": 45,
     "metadata": {},
     "output_type": "execute_result"
    }
   ],
   "source": [
    "hourly_entries"
   ],
   "metadata": {
    "collapsed": false,
    "ExecuteTime": {
     "end_time": "2023-12-16T08:38:23.195020900Z",
     "start_time": "2023-12-16T08:38:23.164121600Z"
    }
   },
   "id": "e5f552e75d82f9f7"
  },
  {
   "cell_type": "code",
   "execution_count": 38,
   "outputs": [
    {
     "data": {
      "text/plain": "            차량번호    진입게이트                진입일시     진출게이트                진출일시  \\\n0      경남99바****  4번 GATE 2020-09-01 07:58:00  10번 GATE 2020-09-01 08:06:00   \n1      경남99바****  2번 GATE 2020-09-01 07:59:00   8번 GATE 2020-09-01 08:24:00   \n2      울산99바****  5번 GATE 2020-09-01 08:00:00  10번 GATE 2020-09-01 08:28:00   \n3      광주99바****  2번 GATE 2020-09-01 08:00:00   8번 GATE 2020-09-01 08:44:00   \n4      광주99사****  4번 GATE 2020-09-01 08:00:00  10번 GATE 2020-09-01 08:11:00   \n...          ...      ...                 ...       ...                 ...   \n98676  부산99사****  5번 GATE 2020-09-30 19:00:00   9번 GATE 2020-09-30 19:12:00   \n98677  전남80바****  4번 GATE 2020-09-30 19:02:00   9번 GATE 2020-09-30 19:13:00   \n98678  전남98바****  5번 GATE 2020-09-30 19:21:00   8번 GATE 2020-09-30 20:48:00   \n98679  전남98바****  4번 GATE 2020-09-30 19:55:00   9번 GATE 2020-09-30 20:55:00   \n98680  전남98바****  4번 GATE 2020-09-30 22:34:00  10번 GATE 2020-09-30 22:53:00   \n\n           작업시간   터미널    체류시간  \n0      00:07:02  GWCT   480.0  \n1      00:24:19  GWCT  1500.0  \n2      00:28:16  GWCT  1680.0  \n3      00:44:36  GWCT  2640.0  \n4      00:10:46  GWCT   660.0  \n...         ...   ...     ...  \n98676  00:11:55   KIT   720.0  \n98677  00:11:03   KIT   660.0  \n98678  01:26:30   KIT  5220.0  \n98679  00:59:57   KIT  3600.0  \n98680  00:19:12   KIT  1140.0  \n\n[98681 rows x 8 columns]",
      "text/html": "<div>\n<style scoped>\n    .dataframe tbody tr th:only-of-type {\n        vertical-align: middle;\n    }\n\n    .dataframe tbody tr th {\n        vertical-align: top;\n    }\n\n    .dataframe thead th {\n        text-align: right;\n    }\n</style>\n<table border=\"1\" class=\"dataframe\">\n  <thead>\n    <tr style=\"text-align: right;\">\n      <th></th>\n      <th>차량번호</th>\n      <th>진입게이트</th>\n      <th>진입일시</th>\n      <th>진출게이트</th>\n      <th>진출일시</th>\n      <th>작업시간</th>\n      <th>터미널</th>\n      <th>체류시간</th>\n    </tr>\n  </thead>\n  <tbody>\n    <tr>\n      <th>0</th>\n      <td>경남99바****</td>\n      <td>4번 GATE</td>\n      <td>2020-09-01 07:58:00</td>\n      <td>10번 GATE</td>\n      <td>2020-09-01 08:06:00</td>\n      <td>00:07:02</td>\n      <td>GWCT</td>\n      <td>480.0</td>\n    </tr>\n    <tr>\n      <th>1</th>\n      <td>경남99바****</td>\n      <td>2번 GATE</td>\n      <td>2020-09-01 07:59:00</td>\n      <td>8번 GATE</td>\n      <td>2020-09-01 08:24:00</td>\n      <td>00:24:19</td>\n      <td>GWCT</td>\n      <td>1500.0</td>\n    </tr>\n    <tr>\n      <th>2</th>\n      <td>울산99바****</td>\n      <td>5번 GATE</td>\n      <td>2020-09-01 08:00:00</td>\n      <td>10번 GATE</td>\n      <td>2020-09-01 08:28:00</td>\n      <td>00:28:16</td>\n      <td>GWCT</td>\n      <td>1680.0</td>\n    </tr>\n    <tr>\n      <th>3</th>\n      <td>광주99바****</td>\n      <td>2번 GATE</td>\n      <td>2020-09-01 08:00:00</td>\n      <td>8번 GATE</td>\n      <td>2020-09-01 08:44:00</td>\n      <td>00:44:36</td>\n      <td>GWCT</td>\n      <td>2640.0</td>\n    </tr>\n    <tr>\n      <th>4</th>\n      <td>광주99사****</td>\n      <td>4번 GATE</td>\n      <td>2020-09-01 08:00:00</td>\n      <td>10번 GATE</td>\n      <td>2020-09-01 08:11:00</td>\n      <td>00:10:46</td>\n      <td>GWCT</td>\n      <td>660.0</td>\n    </tr>\n    <tr>\n      <th>...</th>\n      <td>...</td>\n      <td>...</td>\n      <td>...</td>\n      <td>...</td>\n      <td>...</td>\n      <td>...</td>\n      <td>...</td>\n      <td>...</td>\n    </tr>\n    <tr>\n      <th>98676</th>\n      <td>부산99사****</td>\n      <td>5번 GATE</td>\n      <td>2020-09-30 19:00:00</td>\n      <td>9번 GATE</td>\n      <td>2020-09-30 19:12:00</td>\n      <td>00:11:55</td>\n      <td>KIT</td>\n      <td>720.0</td>\n    </tr>\n    <tr>\n      <th>98677</th>\n      <td>전남80바****</td>\n      <td>4번 GATE</td>\n      <td>2020-09-30 19:02:00</td>\n      <td>9번 GATE</td>\n      <td>2020-09-30 19:13:00</td>\n      <td>00:11:03</td>\n      <td>KIT</td>\n      <td>660.0</td>\n    </tr>\n    <tr>\n      <th>98678</th>\n      <td>전남98바****</td>\n      <td>5번 GATE</td>\n      <td>2020-09-30 19:21:00</td>\n      <td>8번 GATE</td>\n      <td>2020-09-30 20:48:00</td>\n      <td>01:26:30</td>\n      <td>KIT</td>\n      <td>5220.0</td>\n    </tr>\n    <tr>\n      <th>98679</th>\n      <td>전남98바****</td>\n      <td>4번 GATE</td>\n      <td>2020-09-30 19:55:00</td>\n      <td>9번 GATE</td>\n      <td>2020-09-30 20:55:00</td>\n      <td>00:59:57</td>\n      <td>KIT</td>\n      <td>3600.0</td>\n    </tr>\n    <tr>\n      <th>98680</th>\n      <td>전남98바****</td>\n      <td>4번 GATE</td>\n      <td>2020-09-30 22:34:00</td>\n      <td>10번 GATE</td>\n      <td>2020-09-30 22:53:00</td>\n      <td>00:19:12</td>\n      <td>KIT</td>\n      <td>1140.0</td>\n    </tr>\n  </tbody>\n</table>\n<p>98681 rows × 8 columns</p>\n</div>"
     },
     "execution_count": 38,
     "metadata": {},
     "output_type": "execute_result"
    }
   ],
   "source": [
    "# 시간대별로 차량 쳬류 시간(진출일시 - 진입일시) 계산 그 다음 평균 계산\n",
    "\n",
    "df['체류시간'] = (df['진출일시'] - df['진입일시']).dt.total_seconds()\n",
    "df"
   ],
   "metadata": {
    "collapsed": false,
    "ExecuteTime": {
     "end_time": "2023-12-16T08:35:15.675175900Z",
     "start_time": "2023-12-16T08:35:15.647145700Z"
    }
   },
   "id": "8ad20c75972653c1"
  },
  {
   "cell_type": "code",
   "execution_count": 46,
   "outputs": [
    {
     "data": {
      "text/plain": "진입시간_시간대\n1     1748.571429\n2      480.000000\n3      432.000000\n7     2660.129032\n8     2121.838649\n9     2169.805046\n10    2454.125406\n11    3880.172043\n12    2078.590308\n13    2262.392464\n14    2392.881541\n15    2663.472726\n16    2789.729328\n17    3192.292769\n18    2610.308123\n19    2780.096860\n20    2341.786305\n21    2006.467716\n22    1749.653631\n23    1179.782609\nName: 체류시간, dtype: float64"
     },
     "execution_count": 46,
     "metadata": {},
     "output_type": "execute_result"
    }
   ],
   "source": [
    "hourly_average_stay = df.groupby('진입시간_시간대')['체류시간'].mean()\n",
    "hourly_average_stay"
   ],
   "metadata": {
    "collapsed": false,
    "ExecuteTime": {
     "end_time": "2023-12-16T08:38:25.658838Z",
     "start_time": "2023-12-16T08:38:25.628941400Z"
    }
   },
   "id": "c5e4f9b0734dcd43"
  },
  {
   "cell_type": "code",
   "execution_count": 47,
   "outputs": [
    {
     "data": {
      "text/plain": "진입시간_시간대\n1     1763.500000\n2      483.461538\n3      438.200000\n7     2657.206452\n8     2121.804253\n9     2169.995528\n10    2454.263596\n11    3880.060215\n12    2077.988987\n13    2262.231426\n14    2392.777525\n15    2663.525683\n16    2789.339224\n17    3192.381540\n18    2609.565826\n19    2780.459147\n20    2341.265961\n21    2005.678242\n22    1750.798883\n23    1184.315217\nName: 작업시간, dtype: float64"
     },
     "execution_count": 47,
     "metadata": {},
     "output_type": "execute_result"
    }
   ],
   "source": [
    "# 시간대별 평균 작업시간 구하기\n",
    "\n",
    "hourly_average_work_time = df.groupby('진입시간_시간대')['작업시간'].mean().dt.total_seconds()\n",
    "hourly_average_work_time"
   ],
   "metadata": {
    "collapsed": false,
    "ExecuteTime": {
     "end_time": "2023-12-16T08:38:28.269903700Z",
     "start_time": "2023-12-16T08:38:28.240158200Z"
    }
   },
   "id": "269f757724fec11e"
  },
  {
   "cell_type": "code",
   "execution_count": 48,
   "outputs": [
    {
     "name": "stdout",
     "output_type": "stream",
     "text": [
      "진입시간_시간대\n",
      "1      14\n",
      "2      13\n",
      "3       5\n",
      "7     310\n",
      "8    6396\n",
      "dtype: int64\n",
      "진입시간_시간대\n",
      "1    1748.571429\n",
      "2     480.000000\n",
      "3     432.000000\n",
      "7    2660.129032\n",
      "8    2121.838649\n",
      "Name: 체류시간, dtype: float64\n",
      "진입시간_시간대\n",
      "1    1763.500000\n",
      "2     483.461538\n",
      "3     438.200000\n",
      "7    2657.206452\n",
      "8    2121.804253\n",
      "Name: 작업시간, dtype: float64\n"
     ]
    }
   ],
   "source": [
    "print(hourly_entries.head())\n",
    "print(hourly_average_stay.head())\n",
    "print(hourly_average_work_time.head())"
   ],
   "metadata": {
    "collapsed": false,
    "ExecuteTime": {
     "end_time": "2023-12-16T08:39:00.740414500Z",
     "start_time": "2023-12-16T08:39:00.655657100Z"
    }
   },
   "id": "49a0321f6e7d7ef8"
  },
  {
   "cell_type": "code",
   "execution_count": 4,
   "outputs": [],
   "source": [
    "import pandas as pd\n",
    "from glob import glob\n",
    "\n",
    "# 파일 경로 패턴을 사용하여 모든 CSV 파일의 목록을 생성합니다.\n",
    "file_paths = glob('./data/terminal_operation/GWCT//*.csv')+ glob('./data/terminal_operation/KIT//*.csv')"
   ],
   "metadata": {
    "collapsed": false,
    "ExecuteTime": {
     "end_time": "2023-12-16T11:35:14.362701700Z",
     "start_time": "2023-12-16T11:35:14.323556900Z"
    }
   },
   "id": "ec4b7ed36024ce8f"
  },
  {
   "cell_type": "code",
   "execution_count": 2,
   "outputs": [
    {
     "name": "stdout",
     "output_type": "stream",
     "text": [
      "./data/terminal_operation/GWCT\\GWCT_202009.csv\n",
      "./data/terminal_operation/GWCT\\GWCT_202010.csv\n",
      "./data/terminal_operation/GWCT\\GWCT_202011.csv\n",
      "./data/terminal_operation/GWCT\\GWCT_202012.csv\n",
      "./data/terminal_operation/GWCT\\GWCT_2021_first_half.csv\n",
      "./data/terminal_operation/KIT\\KIT_202009.csv\n",
      "./data/terminal_operation/KIT\\KIT_202010.csv\n",
      "./data/terminal_operation/KIT\\KIT_202011.csv\n",
      "./data/terminal_operation/KIT\\KIT_202012.csv\n",
      "./data/terminal_operation/KIT\\KIT_2021_first_half.csv\n"
     ]
    }
   ],
   "source": [
    "for path in file_paths:\n",
    "    print(path)"
   ],
   "metadata": {
    "collapsed": false,
    "ExecuteTime": {
     "end_time": "2023-12-16T11:34:14.649715Z",
     "start_time": "2023-12-16T11:34:14.644702600Z"
    }
   },
   "id": "cc69badf620c0c08"
  },
  {
   "cell_type": "code",
   "execution_count": 5,
   "outputs": [
    {
     "name": "stdout",
     "output_type": "stream",
     "text": [
      "File paths:\n",
      "['./data/terminal_operation/GWCT\\\\GWCT_202009.csv', './data/terminal_operation/GWCT\\\\GWCT_202010.csv', './data/terminal_operation/GWCT\\\\GWCT_202011.csv', './data/terminal_operation/GWCT\\\\GWCT_202012.csv', './data/terminal_operation/GWCT\\\\GWCT_2021_first_half.csv', './data/terminal_operation/KIT\\\\KIT_202009.csv', './data/terminal_operation/KIT\\\\KIT_202010.csv', './data/terminal_operation/KIT\\\\KIT_202011.csv', './data/terminal_operation/KIT\\\\KIT_202012.csv', './data/terminal_operation/KIT\\\\KIT_2021_first_half.csv']\n",
      "Data in ./data/terminal_operation/GWCT\\GWCT_202009.csv:\n",
      "        차량번호    진입게이트              진입일시     진출게이트              진출일시      작업시간  \\\n",
      "0  경남99바****  4번 GATE  2020-09-01 07:58  10번 GATE  2020-09-01 08:06  00:07:02   \n",
      "1  경남99바****  2번 GATE  2020-09-01 07:59   8번 GATE  2020-09-01 08:24  00:24:19   \n",
      "2  울산99바****  5번 GATE  2020-09-01 08:00  10번 GATE  2020-09-01 08:28  00:28:16   \n",
      "3  광주99바****  2번 GATE  2020-09-01 08:00   8번 GATE  2020-09-01 08:44  00:44:36   \n",
      "4  광주99사****  4번 GATE  2020-09-01 08:00  10번 GATE  2020-09-01 08:11  00:10:46   \n",
      "\n",
      "    터미널  \n",
      "0  GWCT  \n",
      "1  GWCT  \n",
      "2  GWCT  \n",
      "3  GWCT  \n",
      "4  GWCT  \n",
      "Data in ./data/terminal_operation/GWCT\\GWCT_202010.csv:\n",
      "        차량번호    진입게이트              진입일시     진출게이트              진출일시      작업시간  \\\n",
      "0  전남98바****  4번 GATE  2020-10-02 07:59  10번 GATE  2020-10-02 08:07  00:08:11   \n",
      "1  경남99사****  2번 GATE  2020-10-02 08:06   8번 GATE  2020-10-02 08:18  00:11:38   \n",
      "2  서울98사****  4번 GATE  2020-10-02 08:09  10번 GATE  2020-10-02 08:21  00:11:45   \n",
      "3  경남99사****  2번 GATE  2020-10-02 08:34   8번 GATE  2020-10-02 08:44  00:09:41   \n",
      "4  부산99사****  4번 GATE  2020-10-02 08:40  10번 GATE  2020-10-02 08:55  00:14:23   \n",
      "\n",
      "    터미널  \n",
      "0  GWCT  \n",
      "1  GWCT  \n",
      "2  GWCT  \n",
      "3  GWCT  \n",
      "4  GWCT  \n",
      "Data in ./data/terminal_operation/GWCT\\GWCT_202011.csv:\n",
      "        차량번호    진입게이트              진입일시     진출게이트              진출일시      작업시간  \\\n",
      "0  전남98사****  1번 GATE  2020-11-01 08:36   8번 GATE  2020-11-01 08:58  00:22:22   \n",
      "1  경남99바****  4번 GATE  2020-11-01 09:06  10번 GATE  2020-11-01 09:41  00:35:02   \n",
      "2  전남98사****  2번 GATE  2020-11-01 09:19   1번 GATE  2020-11-01 09:41  00:21:57   \n",
      "3  전남98사****  2번 GATE  2020-11-01 09:49   8번 GATE  2020-11-01 10:06  00:16:29   \n",
      "4  전남98바****  2번 GATE  2020-11-01 09:58   8번 GATE  2020-11-01 10:14  00:16:15   \n",
      "\n",
      "    터미널  \n",
      "0  GWCT  \n",
      "1  GWCT  \n",
      "2  GWCT  \n",
      "3  GWCT  \n",
      "4  GWCT  \n",
      "Data in ./data/terminal_operation/GWCT\\GWCT_202012.csv:\n",
      "        차량번호    진입게이트              진입일시     진출게이트              진출일시      작업시간\n",
      "0  전남98바****  4번 GATE  2020-12-01 07:59   7번 GATE  2020-12-01 08:37  00:37:33\n",
      "1  경남99사****  5번 GATE  2020-12-01 07:59  10번 GATE  2020-12-01 08:10  00:10:50\n",
      "2  부산99사****  2번 GATE  2020-12-01 08:00   7번 GATE  2020-12-01 08:38  00:38:53\n",
      "3  전남98자****  4번 GATE  2020-12-01 08:00   7번 GATE  2020-12-01 08:20  00:19:35\n",
      "4  경남99바****  2번 GATE  2020-12-01 08:00   7번 GATE  2020-12-01 08:09  00:09:06\n",
      "Data in ./data/terminal_operation/GWCT\\GWCT_2021_first_half.csv:\n",
      "        차량번호    진입게이트                 진입일시     진출게이트                 진출일시  \\\n",
      "0  전북98사****  4번 GATE  2021-01-01 07:57:32  10번 GATE  2021-01-01 08:49:51   \n",
      "1  부산99사****  4번 GATE  2021-01-01 08:00:34   7번 GATE  2021-01-01 08:56:54   \n",
      "2  전남98바****  5번 GATE  2021-01-01 08:01:03   8번 GATE  2021-01-01 08:52:18   \n",
      "3  부산99사****  5번 GATE  2021-01-01 08:03:51  10번 GATE  2021-01-01 08:28:13   \n",
      "4  전남98사****  2번 GATE  2021-01-01 08:03:58   8번 GATE  2021-01-01 08:27:35   \n",
      "\n",
      "    작업시간  \n",
      "0  52:19  \n",
      "1  56:20  \n",
      "2  51:15  \n",
      "3  24:22  \n",
      "4  23:37  \n",
      "Data in ./data/terminal_operation/KIT\\KIT_202009.csv:\n",
      "        차량번호    진입게이트              진입일시     진출게이트              진출일시      작업시간  \\\n",
      "0  경남99바****  4번 GATE  2020-09-01 07:58  10번 GATE  2020-09-01 08:06  00:07:02   \n",
      "1  경남99바****  2번 GATE  2020-09-01 07:59   8번 GATE  2020-09-01 08:24  00:24:19   \n",
      "2  울산99바****  5번 GATE  2020-09-01 08:00  10번 GATE  2020-09-01 08:28  00:28:16   \n",
      "3  광주99바****  2번 GATE  2020-09-01 08:00   8번 GATE  2020-09-01 08:44  00:44:36   \n",
      "4  광주99사****  4번 GATE  2020-09-01 08:00  10번 GATE  2020-09-01 08:11  00:10:46   \n",
      "\n",
      "    터미널  \n",
      "0  GWCT  \n",
      "1  GWCT  \n",
      "2  GWCT  \n",
      "3  GWCT  \n",
      "4  GWCT  \n",
      "Data in ./data/terminal_operation/KIT\\KIT_202010.csv:\n",
      "        차량번호    진입게이트              진입일시     진출게이트              진출일시      작업시간  \\\n",
      "0  전남98바****  4번 GATE  2020-10-02 07:59  10번 GATE  2020-10-02 08:07  00:08:11   \n",
      "1  경남99사****  2번 GATE  2020-10-02 08:06   8번 GATE  2020-10-02 08:18  00:11:38   \n",
      "2  서울98사****  4번 GATE  2020-10-02 08:09  10번 GATE  2020-10-02 08:21  00:11:45   \n",
      "3  경남99사****  2번 GATE  2020-10-02 08:34   8번 GATE  2020-10-02 08:44  00:09:41   \n",
      "4  부산99사****  4번 GATE  2020-10-02 08:40  10번 GATE  2020-10-02 08:55  00:14:23   \n",
      "\n",
      "    터미널  \n",
      "0  GWCT  \n",
      "1  GWCT  \n",
      "2  GWCT  \n",
      "3  GWCT  \n",
      "4  GWCT  \n",
      "Data in ./data/terminal_operation/KIT\\KIT_202011.csv:\n",
      "        차량번호    진입게이트              진입일시     진출게이트              진출일시      작업시간  \\\n",
      "0  전남98사****  1번 GATE  2020-11-01 08:36   8번 GATE  2020-11-01 08:58  00:22:22   \n",
      "1  경남99바****  4번 GATE  2020-11-01 09:06  10번 GATE  2020-11-01 09:41  00:35:02   \n",
      "2  전남98사****  2번 GATE  2020-11-01 09:19   1번 GATE  2020-11-01 09:41  00:21:57   \n",
      "3  전남98사****  2번 GATE  2020-11-01 09:49   8번 GATE  2020-11-01 10:06  00:16:29   \n",
      "4  전남98바****  2번 GATE  2020-11-01 09:58   8번 GATE  2020-11-01 10:14  00:16:15   \n",
      "\n",
      "    터미널  \n",
      "0  GWCT  \n",
      "1  GWCT  \n",
      "2  GWCT  \n",
      "3  GWCT  \n",
      "4  GWCT  \n",
      "Data in ./data/terminal_operation/KIT\\KIT_202012.csv:\n",
      "        차량번호    진입게이트              진입일시     진출게이트              진출일시      작업시간\n",
      "0  전남98바****  4번 GATE  2020-12-01 07:58  10번 GATE  2020-12-01 09:22  01:23:59\n",
      "1  전남98사****  4번 GATE  2020-12-01 07:58   9번 GATE  2020-12-01 09:39  01:40:17\n",
      "2  광주99사****  5번 GATE  2020-12-01 07:59  10번 GATE  2020-12-01 08:30  00:30:58\n",
      "3  경남99바****  3번 GATE  2020-12-01 07:59   9번 GATE  2020-12-01 08:17  00:18:06\n",
      "4  전남98사****  4번 GATE  2020-12-01 07:59  10번 GATE  2020-12-01 09:14  01:15:16\n",
      "Data in ./data/terminal_operation/KIT\\KIT_2021_first_half.csv:\n",
      "        차량번호    진입게이트                 진입일시     진출게이트                 진출일시  \\\n",
      "0  전남98사****  5번 GATE  2021-01-05 13:15:18   9번 GATE  2021-01-05 13:46:21   \n",
      "1  부산98바****  4번 GATE  2021-01-05 13:15:20  10번 GATE  2021-01-05 13:36:41   \n",
      "2  경남99바****  5번 GATE  2021-01-05 13:15:38   9번 GATE  2021-01-05 13:32:13   \n",
      "3  전남98사****  3번 GATE  2021-01-05 13:15:55  10번 GATE  2021-01-05 13:40:27   \n",
      "4  경북98아****  4번 GATE  2021-01-05 13:15:56  10번 GATE  2021-01-05 13:50:16   \n",
      "\n",
      "    작업시간  \n",
      "0  31:03  \n",
      "1  21:21  \n",
      "2  16:35  \n",
      "3  24:32  \n",
      "4  34:20  \n"
     ]
    }
   ],
   "source": [
    "import pandas as pd\n",
    "from glob import glob\n",
    "\n",
    "# 파일 경로 확인\n",
    "print(\"File paths:\")\n",
    "print(file_paths)\n",
    "\n",
    "all_data = pd.DataFrame()\n",
    "for file_path in file_paths:\n",
    "    try:\n",
    "        monthly_data = pd.read_csv(file_path, encoding='utf-8')  #\n",
    "    except UnicodeDecodeError:\n",
    "        monthly_data = pd.read_csv(file_path, encoding='cp949')  \n",
    "        \n",
    "    # 파일 내용 확인\n",
    "    print(f\"Data in {file_path}:\")\n",
    "    print(monthly_data.head())\n",
    "\n",
    "    monthly_data['진입일시'] = pd.to_datetime(monthly_data['진입일시'])\n",
    "    monthly_data['진출일시'] = pd.to_datetime(monthly_data['진출일시'])\n",
    "\n",
    "    monthly_data['체류시간'] = (monthly_data['진출일시'] - monthly_data['진입일시'])\n",
    "\n",
    "    # '작업시간' 열의 데이터 형식 확인\n",
    "    # print(f\"Data format in '작업시간' column in {file_path}:\")\n",
    "    # print(monthly_data['작업시간'].head())\n",
    "\n",
    "    # 필요한 경우, 데이터 형식에 맞는 변환 로직 적용\n",
    "    # 예: monthly_data['작업시간'] = monthly_data['작업시간'].apply(custom_format_function)\n",
    "\n",
    "    # monthly_data['작업시간'] = pd.to_timedelta(monthly_data['작업시간'])\n",
    "    # if monthly_data['작업시간'].dtype == 'object':\n",
    "    #     monthly_data['작업시간'] = pd.to_timedelta(monthly_data['작업시간'])\n",
    "\n",
    "    all_data = pd.concat([all_data, monthly_data], ignore_index=True)"
   ],
   "metadata": {
    "collapsed": false,
    "ExecuteTime": {
     "end_time": "2023-12-16T11:35:25.160423900Z",
     "start_time": "2023-12-16T11:35:19.930039200Z"
    }
   },
   "id": "f757a31aca74c3f1"
  },
  {
   "cell_type": "code",
   "execution_count": 6,
   "outputs": [
    {
     "name": "stdout",
     "output_type": "stream",
     "text": [
      "Combined Data Frame:\n",
      "        차량번호    진입게이트                진입일시     진출게이트                진출일시  \\\n",
      "0  경남99바****  4번 GATE 2020-09-01 07:58:00  10번 GATE 2020-09-01 08:06:00   \n",
      "1  경남99바****  2번 GATE 2020-09-01 07:59:00   8번 GATE 2020-09-01 08:24:00   \n",
      "2  울산99바****  5번 GATE 2020-09-01 08:00:00  10번 GATE 2020-09-01 08:28:00   \n",
      "3  광주99바****  2번 GATE 2020-09-01 08:00:00   8번 GATE 2020-09-01 08:44:00   \n",
      "4  광주99사****  4번 GATE 2020-09-01 08:00:00  10번 GATE 2020-09-01 08:11:00   \n",
      "\n",
      "       작업시간   터미널            체류시간  \n",
      "0  00:07:02  GWCT 0 days 00:08:00  \n",
      "1  00:24:19  GWCT 0 days 00:25:00  \n",
      "2  00:28:16  GWCT 0 days 00:28:00  \n",
      "3  00:44:36  GWCT 0 days 00:44:00  \n",
      "4  00:10:46  GWCT 0 days 00:11:00  \n",
      "Data types of '진입일시' and '진출일시' in the combined data frame:\n",
      "datetime64[ns]\n",
      "datetime64[ns]\n"
     ]
    }
   ],
   "source": [
    "# 병합된 데이터 프레임 확인\n",
    "print(\"Combined Data Frame:\")\n",
    "print(all_data.head())\n",
    "\n",
    "# datetime 변환 확인\n",
    "print(\"Data types of '진입일시' and '진출일시' in the combined data frame:\")\n",
    "print(all_data['진입일시'].dtype)\n",
    "print(all_data['진출일시'].dtype)"
   ],
   "metadata": {
    "collapsed": false,
    "ExecuteTime": {
     "end_time": "2023-12-16T11:36:25.961330600Z",
     "start_time": "2023-12-16T11:36:25.927649600Z"
    }
   },
   "id": "36ecfdddeb711325"
  },
  {
   "cell_type": "code",
   "execution_count": 9,
   "outputs": [
    {
     "name": "stdout",
     "output_type": "stream",
     "text": [
      "[[시간대별 진입 횟수]]\n",
      "날짜          시간대\n",
      "2020-09-01  7        8\n",
      "            8      520\n",
      "            9      754\n",
      "            10     900\n",
      "            11     898\n",
      "                  ... \n",
      "2021-06-30  19     132\n",
      "            20      91\n",
      "            21      49\n",
      "            22      16\n",
      "            23       4\n",
      "Length: 5339, dtype: int64\n",
      "[[평균 체류 시간]]\n",
      "날짜          시간대\n",
      "2020-09-01  7               0 days 00:21:00\n",
      "            8     0 days 00:30:33.230769230\n",
      "            9     0 days 00:29:29.761273209\n",
      "            10    0 days 00:29:26.533333333\n",
      "            11    0 days 00:58:36.881959910\n",
      "                             ...           \n",
      "2021-06-30  19    0 days 00:36:09.545454545\n",
      "            20    0 days 00:25:24.318681318\n",
      "            21    0 days 00:35:33.816326530\n",
      "            22       0 days 00:16:34.875000\n",
      "            23       0 days 00:20:26.500000\n",
      "Name: 체류시간, Length: 5339, dtype: timedelta64[ns]\n"
     ]
    }
   ],
   "source": [
    "# 진입일시의 날짜와 시간 추출\n",
    "all_data['날짜'] = all_data['진입일시'].dt.date\n",
    "all_data['시간대'] = all_data['진입일시'].dt.hour\n",
    "\n",
    "# 날짜별, 시간대별 차량 진입 횟수\n",
    "daily_hourly_truck_count = all_data.groupby(['날짜','시간대']).size()\n",
    "\n",
    "# 날짜별, 시간대별 체류시간 평균계산\n",
    "daily_hourly_stay = all_data.groupby(['날짜','시간대'])['체류시간'].mean()\n",
    "\n",
    "print(\"[[시간대별 진입 횟수]]\")\n",
    "print(daily_hourly_truck_count)\n",
    "print(\"[[평균 체류 시간]]\")\n",
    "print(daily_hourly_stay)"
   ],
   "metadata": {
    "collapsed": false,
    "ExecuteTime": {
     "end_time": "2023-12-16T11:37:19.496067900Z",
     "start_time": "2023-12-16T11:37:18.435446500Z"
    }
   },
   "id": "723b11a40a8e1ef8"
  },
  {
   "cell_type": "code",
   "execution_count": 10,
   "outputs": [
    {
     "data": {
      "text/plain": "              날짜  시간대  차량진입횟수\n0     2020-09-01    7       8\n1     2020-09-01    8     520\n2     2020-09-01    9     754\n3     2020-09-01   10     900\n4     2020-09-01   11     898\n...          ...  ...     ...\n5334  2021-06-30   19     132\n5335  2021-06-30   20      91\n5336  2021-06-30   21      49\n5337  2021-06-30   22      16\n5338  2021-06-30   23       4\n\n[5339 rows x 3 columns]",
      "text/html": "<div>\n<style scoped>\n    .dataframe tbody tr th:only-of-type {\n        vertical-align: middle;\n    }\n\n    .dataframe tbody tr th {\n        vertical-align: top;\n    }\n\n    .dataframe thead th {\n        text-align: right;\n    }\n</style>\n<table border=\"1\" class=\"dataframe\">\n  <thead>\n    <tr style=\"text-align: right;\">\n      <th></th>\n      <th>날짜</th>\n      <th>시간대</th>\n      <th>차량진입횟수</th>\n    </tr>\n  </thead>\n  <tbody>\n    <tr>\n      <th>0</th>\n      <td>2020-09-01</td>\n      <td>7</td>\n      <td>8</td>\n    </tr>\n    <tr>\n      <th>1</th>\n      <td>2020-09-01</td>\n      <td>8</td>\n      <td>520</td>\n    </tr>\n    <tr>\n      <th>2</th>\n      <td>2020-09-01</td>\n      <td>9</td>\n      <td>754</td>\n    </tr>\n    <tr>\n      <th>3</th>\n      <td>2020-09-01</td>\n      <td>10</td>\n      <td>900</td>\n    </tr>\n    <tr>\n      <th>4</th>\n      <td>2020-09-01</td>\n      <td>11</td>\n      <td>898</td>\n    </tr>\n    <tr>\n      <th>...</th>\n      <td>...</td>\n      <td>...</td>\n      <td>...</td>\n    </tr>\n    <tr>\n      <th>5334</th>\n      <td>2021-06-30</td>\n      <td>19</td>\n      <td>132</td>\n    </tr>\n    <tr>\n      <th>5335</th>\n      <td>2021-06-30</td>\n      <td>20</td>\n      <td>91</td>\n    </tr>\n    <tr>\n      <th>5336</th>\n      <td>2021-06-30</td>\n      <td>21</td>\n      <td>49</td>\n    </tr>\n    <tr>\n      <th>5337</th>\n      <td>2021-06-30</td>\n      <td>22</td>\n      <td>16</td>\n    </tr>\n    <tr>\n      <th>5338</th>\n      <td>2021-06-30</td>\n      <td>23</td>\n      <td>4</td>\n    </tr>\n  </tbody>\n</table>\n<p>5339 rows × 3 columns</p>\n</div>"
     },
     "execution_count": 10,
     "metadata": {},
     "output_type": "execute_result"
    }
   ],
   "source": [
    "daily_hourly_truck_count = daily_hourly_truck_count.reset_index()\n",
    "daily_hourly_truck_count.columns = ['날짜', '시간대', '차량진입횟수']\n",
    "daily_hourly_truck_count"
   ],
   "metadata": {
    "collapsed": false,
    "ExecuteTime": {
     "end_time": "2023-12-16T11:37:27.288137300Z",
     "start_time": "2023-12-16T11:37:27.256292400Z"
    }
   },
   "id": "ba28912d8d85a548"
  },
  {
   "cell_type": "code",
   "execution_count": 11,
   "outputs": [
    {
     "data": {
      "text/plain": "              날짜  시간대                      체류시간\n0     2020-09-01    7           0 days 00:21:00\n1     2020-09-01    8 0 days 00:30:33.230769230\n2     2020-09-01    9 0 days 00:29:29.761273209\n3     2020-09-01   10 0 days 00:29:26.533333333\n4     2020-09-01   11 0 days 00:58:36.881959910\n...          ...  ...                       ...\n5334  2021-06-30   19 0 days 00:36:09.545454545\n5335  2021-06-30   20 0 days 00:25:24.318681318\n5336  2021-06-30   21 0 days 00:35:33.816326530\n5337  2021-06-30   22    0 days 00:16:34.875000\n5338  2021-06-30   23    0 days 00:20:26.500000\n\n[5339 rows x 3 columns]",
      "text/html": "<div>\n<style scoped>\n    .dataframe tbody tr th:only-of-type {\n        vertical-align: middle;\n    }\n\n    .dataframe tbody tr th {\n        vertical-align: top;\n    }\n\n    .dataframe thead th {\n        text-align: right;\n    }\n</style>\n<table border=\"1\" class=\"dataframe\">\n  <thead>\n    <tr style=\"text-align: right;\">\n      <th></th>\n      <th>날짜</th>\n      <th>시간대</th>\n      <th>체류시간</th>\n    </tr>\n  </thead>\n  <tbody>\n    <tr>\n      <th>0</th>\n      <td>2020-09-01</td>\n      <td>7</td>\n      <td>0 days 00:21:00</td>\n    </tr>\n    <tr>\n      <th>1</th>\n      <td>2020-09-01</td>\n      <td>8</td>\n      <td>0 days 00:30:33.230769230</td>\n    </tr>\n    <tr>\n      <th>2</th>\n      <td>2020-09-01</td>\n      <td>9</td>\n      <td>0 days 00:29:29.761273209</td>\n    </tr>\n    <tr>\n      <th>3</th>\n      <td>2020-09-01</td>\n      <td>10</td>\n      <td>0 days 00:29:26.533333333</td>\n    </tr>\n    <tr>\n      <th>4</th>\n      <td>2020-09-01</td>\n      <td>11</td>\n      <td>0 days 00:58:36.881959910</td>\n    </tr>\n    <tr>\n      <th>...</th>\n      <td>...</td>\n      <td>...</td>\n      <td>...</td>\n    </tr>\n    <tr>\n      <th>5334</th>\n      <td>2021-06-30</td>\n      <td>19</td>\n      <td>0 days 00:36:09.545454545</td>\n    </tr>\n    <tr>\n      <th>5335</th>\n      <td>2021-06-30</td>\n      <td>20</td>\n      <td>0 days 00:25:24.318681318</td>\n    </tr>\n    <tr>\n      <th>5336</th>\n      <td>2021-06-30</td>\n      <td>21</td>\n      <td>0 days 00:35:33.816326530</td>\n    </tr>\n    <tr>\n      <th>5337</th>\n      <td>2021-06-30</td>\n      <td>22</td>\n      <td>0 days 00:16:34.875000</td>\n    </tr>\n    <tr>\n      <th>5338</th>\n      <td>2021-06-30</td>\n      <td>23</td>\n      <td>0 days 00:20:26.500000</td>\n    </tr>\n  </tbody>\n</table>\n<p>5339 rows × 3 columns</p>\n</div>"
     },
     "execution_count": 11,
     "metadata": {},
     "output_type": "execute_result"
    }
   ],
   "source": [
    "daily_hourly_stay = daily_hourly_stay.reset_index()\n",
    "daily_hourly_stay"
   ],
   "metadata": {
    "collapsed": false,
    "ExecuteTime": {
     "end_time": "2023-12-16T11:37:30.942942700Z",
     "start_time": "2023-12-16T11:37:30.905718700Z"
    }
   },
   "id": "840de38d56c555fa"
  },
  {
   "cell_type": "code",
   "execution_count": 12,
   "outputs": [
    {
     "data": {
      "text/plain": "           날짜  시간대  차량진입횟수                      체류시간\n0  2020-09-01    7       8           0 days 00:21:00\n1  2020-09-01    8     520 0 days 00:30:33.230769230\n2  2020-09-01    9     754 0 days 00:29:29.761273209\n3  2020-09-01   10     900 0 days 00:29:26.533333333\n4  2020-09-01   11     898 0 days 00:58:36.881959910",
      "text/html": "<div>\n<style scoped>\n    .dataframe tbody tr th:only-of-type {\n        vertical-align: middle;\n    }\n\n    .dataframe tbody tr th {\n        vertical-align: top;\n    }\n\n    .dataframe thead th {\n        text-align: right;\n    }\n</style>\n<table border=\"1\" class=\"dataframe\">\n  <thead>\n    <tr style=\"text-align: right;\">\n      <th></th>\n      <th>날짜</th>\n      <th>시간대</th>\n      <th>차량진입횟수</th>\n      <th>체류시간</th>\n    </tr>\n  </thead>\n  <tbody>\n    <tr>\n      <th>0</th>\n      <td>2020-09-01</td>\n      <td>7</td>\n      <td>8</td>\n      <td>0 days 00:21:00</td>\n    </tr>\n    <tr>\n      <th>1</th>\n      <td>2020-09-01</td>\n      <td>8</td>\n      <td>520</td>\n      <td>0 days 00:30:33.230769230</td>\n    </tr>\n    <tr>\n      <th>2</th>\n      <td>2020-09-01</td>\n      <td>9</td>\n      <td>754</td>\n      <td>0 days 00:29:29.761273209</td>\n    </tr>\n    <tr>\n      <th>3</th>\n      <td>2020-09-01</td>\n      <td>10</td>\n      <td>900</td>\n      <td>0 days 00:29:26.533333333</td>\n    </tr>\n    <tr>\n      <th>4</th>\n      <td>2020-09-01</td>\n      <td>11</td>\n      <td>898</td>\n      <td>0 days 00:58:36.881959910</td>\n    </tr>\n  </tbody>\n</table>\n</div>"
     },
     "execution_count": 12,
     "metadata": {},
     "output_type": "execute_result"
    }
   ],
   "source": [
    "# dasily_hourly_truck_count와 daily_hourly_stay 합쳐서 파일로 저장\n",
    "combined_data = pd.merge(daily_hourly_truck_count, \n",
    "                         daily_hourly_stay,\n",
    "                         on=['날짜','시간대'])\n",
    "combined_data.head()"
   ],
   "metadata": {
    "collapsed": false,
    "ExecuteTime": {
     "end_time": "2023-12-16T11:37:37.582164600Z",
     "start_time": "2023-12-16T11:37:37.534458200Z"
    }
   },
   "id": "f541ed6788b2e392"
  },
  {
   "cell_type": "code",
   "execution_count": 13,
   "outputs": [
    {
     "data": {
      "text/plain": "              날짜  시간대  차량진입횟수                      체류시간\n5319  2021-06-30    0       2           0 days 00:16:37\n5320  2021-06-30    1       1           0 days 00:16:16\n5321  2021-06-30    6       2           0 days 00:26:34\n5322  2021-06-30    7      29 0 days 00:58:16.724137931\n5323  2021-06-30    8     242 0 days 00:50:51.714876033\n5324  2021-06-30    9     273 0 days 00:40:25.454212454\n5325  2021-06-30   10     344 0 days 00:50:33.302325581\n5326  2021-06-30   11     329 0 days 00:59:55.711246200\n5327  2021-06-30   12      83 0 days 00:59:19.204819277\n5328  2021-06-30   13     393 0 days 00:47:22.483460559\n5329  2021-06-30   14     382 0 days 00:43:20.840314136\n5330  2021-06-30   15     373 0 days 00:49:00.694369973\n5331  2021-06-30   16     353 0 days 00:43:04.393767705\n5332  2021-06-30   17     230 0 days 00:51:06.956521739\n5333  2021-06-30   18     140 0 days 00:42:02.435714285\n5334  2021-06-30   19     132 0 days 00:36:09.545454545\n5335  2021-06-30   20      91 0 days 00:25:24.318681318\n5336  2021-06-30   21      49 0 days 00:35:33.816326530\n5337  2021-06-30   22      16    0 days 00:16:34.875000\n5338  2021-06-30   23       4    0 days 00:20:26.500000",
      "text/html": "<div>\n<style scoped>\n    .dataframe tbody tr th:only-of-type {\n        vertical-align: middle;\n    }\n\n    .dataframe tbody tr th {\n        vertical-align: top;\n    }\n\n    .dataframe thead th {\n        text-align: right;\n    }\n</style>\n<table border=\"1\" class=\"dataframe\">\n  <thead>\n    <tr style=\"text-align: right;\">\n      <th></th>\n      <th>날짜</th>\n      <th>시간대</th>\n      <th>차량진입횟수</th>\n      <th>체류시간</th>\n    </tr>\n  </thead>\n  <tbody>\n    <tr>\n      <th>5319</th>\n      <td>2021-06-30</td>\n      <td>0</td>\n      <td>2</td>\n      <td>0 days 00:16:37</td>\n    </tr>\n    <tr>\n      <th>5320</th>\n      <td>2021-06-30</td>\n      <td>1</td>\n      <td>1</td>\n      <td>0 days 00:16:16</td>\n    </tr>\n    <tr>\n      <th>5321</th>\n      <td>2021-06-30</td>\n      <td>6</td>\n      <td>2</td>\n      <td>0 days 00:26:34</td>\n    </tr>\n    <tr>\n      <th>5322</th>\n      <td>2021-06-30</td>\n      <td>7</td>\n      <td>29</td>\n      <td>0 days 00:58:16.724137931</td>\n    </tr>\n    <tr>\n      <th>5323</th>\n      <td>2021-06-30</td>\n      <td>8</td>\n      <td>242</td>\n      <td>0 days 00:50:51.714876033</td>\n    </tr>\n    <tr>\n      <th>5324</th>\n      <td>2021-06-30</td>\n      <td>9</td>\n      <td>273</td>\n      <td>0 days 00:40:25.454212454</td>\n    </tr>\n    <tr>\n      <th>5325</th>\n      <td>2021-06-30</td>\n      <td>10</td>\n      <td>344</td>\n      <td>0 days 00:50:33.302325581</td>\n    </tr>\n    <tr>\n      <th>5326</th>\n      <td>2021-06-30</td>\n      <td>11</td>\n      <td>329</td>\n      <td>0 days 00:59:55.711246200</td>\n    </tr>\n    <tr>\n      <th>5327</th>\n      <td>2021-06-30</td>\n      <td>12</td>\n      <td>83</td>\n      <td>0 days 00:59:19.204819277</td>\n    </tr>\n    <tr>\n      <th>5328</th>\n      <td>2021-06-30</td>\n      <td>13</td>\n      <td>393</td>\n      <td>0 days 00:47:22.483460559</td>\n    </tr>\n    <tr>\n      <th>5329</th>\n      <td>2021-06-30</td>\n      <td>14</td>\n      <td>382</td>\n      <td>0 days 00:43:20.840314136</td>\n    </tr>\n    <tr>\n      <th>5330</th>\n      <td>2021-06-30</td>\n      <td>15</td>\n      <td>373</td>\n      <td>0 days 00:49:00.694369973</td>\n    </tr>\n    <tr>\n      <th>5331</th>\n      <td>2021-06-30</td>\n      <td>16</td>\n      <td>353</td>\n      <td>0 days 00:43:04.393767705</td>\n    </tr>\n    <tr>\n      <th>5332</th>\n      <td>2021-06-30</td>\n      <td>17</td>\n      <td>230</td>\n      <td>0 days 00:51:06.956521739</td>\n    </tr>\n    <tr>\n      <th>5333</th>\n      <td>2021-06-30</td>\n      <td>18</td>\n      <td>140</td>\n      <td>0 days 00:42:02.435714285</td>\n    </tr>\n    <tr>\n      <th>5334</th>\n      <td>2021-06-30</td>\n      <td>19</td>\n      <td>132</td>\n      <td>0 days 00:36:09.545454545</td>\n    </tr>\n    <tr>\n      <th>5335</th>\n      <td>2021-06-30</td>\n      <td>20</td>\n      <td>91</td>\n      <td>0 days 00:25:24.318681318</td>\n    </tr>\n    <tr>\n      <th>5336</th>\n      <td>2021-06-30</td>\n      <td>21</td>\n      <td>49</td>\n      <td>0 days 00:35:33.816326530</td>\n    </tr>\n    <tr>\n      <th>5337</th>\n      <td>2021-06-30</td>\n      <td>22</td>\n      <td>16</td>\n      <td>0 days 00:16:34.875000</td>\n    </tr>\n    <tr>\n      <th>5338</th>\n      <td>2021-06-30</td>\n      <td>23</td>\n      <td>4</td>\n      <td>0 days 00:20:26.500000</td>\n    </tr>\n  </tbody>\n</table>\n</div>"
     },
     "execution_count": 13,
     "metadata": {},
     "output_type": "execute_result"
    }
   ],
   "source": [
    "combined_data.tail(20)"
   ],
   "metadata": {
    "collapsed": false,
    "ExecuteTime": {
     "end_time": "2023-12-16T11:37:44.176996400Z",
     "start_time": "2023-12-16T11:37:44.124472100Z"
    }
   },
   "id": "9dca2b9db2f5aec1"
  },
  {
   "cell_type": "code",
   "execution_count": 18,
   "outputs": [
    {
     "name": "stdout",
     "output_type": "stream",
     "text": [
      "saved truck.csv\n"
     ]
    }
   ],
   "source": [
    "# 병합된 데이터를 CSV 파일로 저장\n",
    "combined_data.to_csv('./filtered_data/truck.csv', index=False)\n",
    "\n",
    "print('saved truck.csv')"
   ],
   "metadata": {
    "collapsed": false,
    "ExecuteTime": {
     "end_time": "2023-12-16T11:39:55.242610700Z",
     "start_time": "2023-12-16T11:39:55.124923500Z"
    }
   },
   "id": "afe0835f90872b7a"
  },
  {
   "cell_type": "code",
   "execution_count": 19,
   "outputs": [
    {
     "data": {
      "text/plain": "              날짜  시간대  차량진입횟수                       체류시간\n0     2020-09-01    7       8            0 days 00:21:00\n1     2020-09-01    8     520  0 days 00:30:33.230769230\n2     2020-09-01    9     754  0 days 00:29:29.761273209\n3     2020-09-01   10     900  0 days 00:29:26.533333333\n4     2020-09-01   11     898  0 days 00:58:36.881959910\n...          ...  ...     ...                        ...\n5334  2021-06-30   19     132  0 days 00:36:09.545454545\n5335  2021-06-30   20      91  0 days 00:25:24.318681318\n5336  2021-06-30   21      49  0 days 00:35:33.816326530\n5337  2021-06-30   22      16     0 days 00:16:34.875000\n5338  2021-06-30   23       4     0 days 00:20:26.500000\n\n[5339 rows x 4 columns]",
      "text/html": "<div>\n<style scoped>\n    .dataframe tbody tr th:only-of-type {\n        vertical-align: middle;\n    }\n\n    .dataframe tbody tr th {\n        vertical-align: top;\n    }\n\n    .dataframe thead th {\n        text-align: right;\n    }\n</style>\n<table border=\"1\" class=\"dataframe\">\n  <thead>\n    <tr style=\"text-align: right;\">\n      <th></th>\n      <th>날짜</th>\n      <th>시간대</th>\n      <th>차량진입횟수</th>\n      <th>체류시간</th>\n    </tr>\n  </thead>\n  <tbody>\n    <tr>\n      <th>0</th>\n      <td>2020-09-01</td>\n      <td>7</td>\n      <td>8</td>\n      <td>0 days 00:21:00</td>\n    </tr>\n    <tr>\n      <th>1</th>\n      <td>2020-09-01</td>\n      <td>8</td>\n      <td>520</td>\n      <td>0 days 00:30:33.230769230</td>\n    </tr>\n    <tr>\n      <th>2</th>\n      <td>2020-09-01</td>\n      <td>9</td>\n      <td>754</td>\n      <td>0 days 00:29:29.761273209</td>\n    </tr>\n    <tr>\n      <th>3</th>\n      <td>2020-09-01</td>\n      <td>10</td>\n      <td>900</td>\n      <td>0 days 00:29:26.533333333</td>\n    </tr>\n    <tr>\n      <th>4</th>\n      <td>2020-09-01</td>\n      <td>11</td>\n      <td>898</td>\n      <td>0 days 00:58:36.881959910</td>\n    </tr>\n    <tr>\n      <th>...</th>\n      <td>...</td>\n      <td>...</td>\n      <td>...</td>\n      <td>...</td>\n    </tr>\n    <tr>\n      <th>5334</th>\n      <td>2021-06-30</td>\n      <td>19</td>\n      <td>132</td>\n      <td>0 days 00:36:09.545454545</td>\n    </tr>\n    <tr>\n      <th>5335</th>\n      <td>2021-06-30</td>\n      <td>20</td>\n      <td>91</td>\n      <td>0 days 00:25:24.318681318</td>\n    </tr>\n    <tr>\n      <th>5336</th>\n      <td>2021-06-30</td>\n      <td>21</td>\n      <td>49</td>\n      <td>0 days 00:35:33.816326530</td>\n    </tr>\n    <tr>\n      <th>5337</th>\n      <td>2021-06-30</td>\n      <td>22</td>\n      <td>16</td>\n      <td>0 days 00:16:34.875000</td>\n    </tr>\n    <tr>\n      <th>5338</th>\n      <td>2021-06-30</td>\n      <td>23</td>\n      <td>4</td>\n      <td>0 days 00:20:26.500000</td>\n    </tr>\n  </tbody>\n</table>\n<p>5339 rows × 4 columns</p>\n</div>"
     },
     "execution_count": 19,
     "metadata": {},
     "output_type": "execute_result"
    }
   ],
   "source": [
    "df = pd.read_csv('./filtered_data/truck.csv')\n",
    "df"
   ],
   "metadata": {
    "collapsed": false,
    "ExecuteTime": {
     "end_time": "2023-12-16T11:40:02.929113100Z",
     "start_time": "2023-12-16T11:40:02.879267300Z"
    }
   },
   "id": "9f98230500a6ca0e"
  },
  {
   "cell_type": "code",
   "execution_count": null,
   "outputs": [],
   "source": [
    "#  20시 40분 차량 데이터 필터링 완료"
   ],
   "metadata": {
    "collapsed": false
   },
   "id": "b8de9d5136e5fd90"
  }
 ],
 "metadata": {
  "kernelspec": {
   "display_name": "Python 3",
   "language": "python",
   "name": "python3"
  },
  "language_info": {
   "codemirror_mode": {
    "name": "ipython",
    "version": 2
   },
   "file_extension": ".py",
   "mimetype": "text/x-python",
   "name": "python",
   "nbconvert_exporter": "python",
   "pygments_lexer": "ipython2",
   "version": "2.7.6"
  }
 },
 "nbformat": 4,
 "nbformat_minor": 5
}
