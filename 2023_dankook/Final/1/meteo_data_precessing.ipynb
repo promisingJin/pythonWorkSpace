{
 "cells": [
  {
   "cell_type": "markdown",
   "source": [
    "# 기상 데이터 구조\n",
    "## 파일 이름 : \n",
    "*'SURFACE_AWS_856_HR_2020.csv', 'SURFACE_AWS_856_HR_2021.csv'* \n"
   ],
   "metadata": {
    "collapsed": false
   },
   "id": "3145ad0a03306b5"
  },
  {
   "cell_type": "code",
   "execution_count": 1,
   "outputs": [
    {
     "data": {
      "text/plain": "       지점                일시  기온(°C)  풍향(deg)  풍속(m/s)  강수량(mm)  현지기압(hPa)  \\\n0     856  2020-01-01 00:00    -7.2    315.1      6.5      0.0        NaN   \n1     856  2020-01-01 01:00    -7.4    304.2      5.8      0.0        NaN   \n2     856  2020-01-01 02:00    -6.3    333.4      3.7      0.0        NaN   \n3     856  2020-01-01 03:00    -7.2    322.7      1.4      0.0        NaN   \n4     856  2020-01-01 04:00    -5.8    321.6      2.6      0.0        NaN   \n...   ...               ...     ...      ...      ...      ...        ...   \n8779  856  2020-12-31 19:00    -4.0     15.1      1.9      0.0        NaN   \n8780  856  2020-12-31 20:00    -4.0     11.4      2.5      0.0        NaN   \n8781  856  2020-12-31 21:00    -4.0      5.3      2.9      0.0        NaN   \n8782  856  2020-12-31 22:00    -3.7      1.9      4.3      0.0        NaN   \n8783  856  2020-12-31 23:00    -4.0    358.9      4.5      0.0        NaN   \n\n      해면기압(hPa)  습도(%)  일사(MJ/m^2)  일조(hr)  \n0           NaN   46.5           0       0  \n1           NaN   42.7           0       0  \n2           NaN   30.2           0       0  \n3           NaN   41.2           0       0  \n4           NaN   48.2           0       0  \n...         ...    ...         ...     ...  \n8779        NaN   79.3           0       0  \n8780        NaN   80.5           0       0  \n8781        NaN   83.5           0       0  \n8782        NaN   80.3           0       0  \n8783        NaN   83.5           0       0  \n\n[8784 rows x 11 columns]",
      "text/html": "<div>\n<style scoped>\n    .dataframe tbody tr th:only-of-type {\n        vertical-align: middle;\n    }\n\n    .dataframe tbody tr th {\n        vertical-align: top;\n    }\n\n    .dataframe thead th {\n        text-align: right;\n    }\n</style>\n<table border=\"1\" class=\"dataframe\">\n  <thead>\n    <tr style=\"text-align: right;\">\n      <th></th>\n      <th>지점</th>\n      <th>일시</th>\n      <th>기온(°C)</th>\n      <th>풍향(deg)</th>\n      <th>풍속(m/s)</th>\n      <th>강수량(mm)</th>\n      <th>현지기압(hPa)</th>\n      <th>해면기압(hPa)</th>\n      <th>습도(%)</th>\n      <th>일사(MJ/m^2)</th>\n      <th>일조(hr)</th>\n    </tr>\n  </thead>\n  <tbody>\n    <tr>\n      <th>0</th>\n      <td>856</td>\n      <td>2020-01-01 00:00</td>\n      <td>-7.2</td>\n      <td>315.1</td>\n      <td>6.5</td>\n      <td>0.0</td>\n      <td>NaN</td>\n      <td>NaN</td>\n      <td>46.5</td>\n      <td>0</td>\n      <td>0</td>\n    </tr>\n    <tr>\n      <th>1</th>\n      <td>856</td>\n      <td>2020-01-01 01:00</td>\n      <td>-7.4</td>\n      <td>304.2</td>\n      <td>5.8</td>\n      <td>0.0</td>\n      <td>NaN</td>\n      <td>NaN</td>\n      <td>42.7</td>\n      <td>0</td>\n      <td>0</td>\n    </tr>\n    <tr>\n      <th>2</th>\n      <td>856</td>\n      <td>2020-01-01 02:00</td>\n      <td>-6.3</td>\n      <td>333.4</td>\n      <td>3.7</td>\n      <td>0.0</td>\n      <td>NaN</td>\n      <td>NaN</td>\n      <td>30.2</td>\n      <td>0</td>\n      <td>0</td>\n    </tr>\n    <tr>\n      <th>3</th>\n      <td>856</td>\n      <td>2020-01-01 03:00</td>\n      <td>-7.2</td>\n      <td>322.7</td>\n      <td>1.4</td>\n      <td>0.0</td>\n      <td>NaN</td>\n      <td>NaN</td>\n      <td>41.2</td>\n      <td>0</td>\n      <td>0</td>\n    </tr>\n    <tr>\n      <th>4</th>\n      <td>856</td>\n      <td>2020-01-01 04:00</td>\n      <td>-5.8</td>\n      <td>321.6</td>\n      <td>2.6</td>\n      <td>0.0</td>\n      <td>NaN</td>\n      <td>NaN</td>\n      <td>48.2</td>\n      <td>0</td>\n      <td>0</td>\n    </tr>\n    <tr>\n      <th>...</th>\n      <td>...</td>\n      <td>...</td>\n      <td>...</td>\n      <td>...</td>\n      <td>...</td>\n      <td>...</td>\n      <td>...</td>\n      <td>...</td>\n      <td>...</td>\n      <td>...</td>\n      <td>...</td>\n    </tr>\n    <tr>\n      <th>8779</th>\n      <td>856</td>\n      <td>2020-12-31 19:00</td>\n      <td>-4.0</td>\n      <td>15.1</td>\n      <td>1.9</td>\n      <td>0.0</td>\n      <td>NaN</td>\n      <td>NaN</td>\n      <td>79.3</td>\n      <td>0</td>\n      <td>0</td>\n    </tr>\n    <tr>\n      <th>8780</th>\n      <td>856</td>\n      <td>2020-12-31 20:00</td>\n      <td>-4.0</td>\n      <td>11.4</td>\n      <td>2.5</td>\n      <td>0.0</td>\n      <td>NaN</td>\n      <td>NaN</td>\n      <td>80.5</td>\n      <td>0</td>\n      <td>0</td>\n    </tr>\n    <tr>\n      <th>8781</th>\n      <td>856</td>\n      <td>2020-12-31 21:00</td>\n      <td>-4.0</td>\n      <td>5.3</td>\n      <td>2.9</td>\n      <td>0.0</td>\n      <td>NaN</td>\n      <td>NaN</td>\n      <td>83.5</td>\n      <td>0</td>\n      <td>0</td>\n    </tr>\n    <tr>\n      <th>8782</th>\n      <td>856</td>\n      <td>2020-12-31 22:00</td>\n      <td>-3.7</td>\n      <td>1.9</td>\n      <td>4.3</td>\n      <td>0.0</td>\n      <td>NaN</td>\n      <td>NaN</td>\n      <td>80.3</td>\n      <td>0</td>\n      <td>0</td>\n    </tr>\n    <tr>\n      <th>8783</th>\n      <td>856</td>\n      <td>2020-12-31 23:00</td>\n      <td>-4.0</td>\n      <td>358.9</td>\n      <td>4.5</td>\n      <td>0.0</td>\n      <td>NaN</td>\n      <td>NaN</td>\n      <td>83.5</td>\n      <td>0</td>\n      <td>0</td>\n    </tr>\n  </tbody>\n</table>\n<p>8784 rows × 11 columns</p>\n</div>"
     },
     "execution_count": 1,
     "metadata": {},
     "output_type": "execute_result"
    }
   ],
   "source": [
    "import pandas as pd\n",
    "df = pd.read_csv('./data/meteo/SURFACE_AWS_856_HR_2020.csv', encoding=\"cp949\")\n",
    "df"
   ],
   "metadata": {
    "collapsed": false,
    "ExecuteTime": {
     "end_time": "2023-12-16T14:33:02.745466900Z",
     "start_time": "2023-12-16T14:33:01.743272800Z"
    }
   },
   "id": "ae66bbea189efcf3"
  },
  {
   "cell_type": "code",
   "execution_count": 2,
   "outputs": [
    {
     "data": {
      "text/plain": "       지점                일시  기온(°C)  풍향(deg)  풍속(m/s)  강수량(mm)  현지기압(hPa)  \\\n8764  856  2020-12-31 04:00    -9.5    358.7      5.4      0.0        NaN   \n8765  856  2020-12-31 05:00    -9.3    351.7      5.9      0.0        NaN   \n8766  856  2020-12-31 06:00    -9.0    348.5      6.1      0.0        NaN   \n8767  856  2020-12-31 07:00    -8.6    355.5      5.5      0.0        NaN   \n8768  856  2020-12-31 08:00    -8.1    345.0      5.2      0.0        NaN   \n8769  856  2020-12-31 09:00    -6.5    358.6      4.9      0.0        NaN   \n8770  856  2020-12-31 10:00    -5.4    344.0      3.6      0.0        NaN   \n8771  856  2020-12-31 11:00    -4.4    346.8      3.7      0.0        NaN   \n8772  856  2020-12-31 12:00    -4.0    352.6      4.6      0.0        NaN   \n8773  856  2020-12-31 13:00    -3.3    351.1      4.3      0.0        NaN   \n8774  856  2020-12-31 14:00    -2.8      2.0      3.0      0.0        NaN   \n8775  856  2020-12-31 15:00    -3.6    356.4      2.6      0.0        NaN   \n8776  856  2020-12-31 16:00    -3.8      8.8      2.3      0.0        NaN   \n8777  856  2020-12-31 17:00    -4.1    355.6      3.1      0.0        NaN   \n8778  856  2020-12-31 18:00    -4.1      1.1      1.8      0.0        NaN   \n8779  856  2020-12-31 19:00    -4.0     15.1      1.9      0.0        NaN   \n8780  856  2020-12-31 20:00    -4.0     11.4      2.5      0.0        NaN   \n8781  856  2020-12-31 21:00    -4.0      5.3      2.9      0.0        NaN   \n8782  856  2020-12-31 22:00    -3.7      1.9      4.3      0.0        NaN   \n8783  856  2020-12-31 23:00    -4.0    358.9      4.5      0.0        NaN   \n\n      해면기압(hPa)  습도(%)  일사(MJ/m^2)  일조(hr)  \n8764        NaN   66.7           0       0  \n8765        NaN   65.4           0       0  \n8766        NaN   65.7           0       0  \n8767        NaN   65.6           0       0  \n8768        NaN   63.9           0       0  \n8769        NaN   62.1           0       0  \n8770        NaN   61.3           0       0  \n8771        NaN   58.3           0       0  \n8772        NaN   59.8           0       0  \n8773        NaN   61.1           0       0  \n8774        NaN   60.2           0       0  \n8775        NaN   67.8           0       0  \n8776        NaN   71.2           0       0  \n8777        NaN   75.9           0       0  \n8778        NaN   75.7           0       0  \n8779        NaN   79.3           0       0  \n8780        NaN   80.5           0       0  \n8781        NaN   83.5           0       0  \n8782        NaN   80.3           0       0  \n8783        NaN   83.5           0       0  ",
      "text/html": "<div>\n<style scoped>\n    .dataframe tbody tr th:only-of-type {\n        vertical-align: middle;\n    }\n\n    .dataframe tbody tr th {\n        vertical-align: top;\n    }\n\n    .dataframe thead th {\n        text-align: right;\n    }\n</style>\n<table border=\"1\" class=\"dataframe\">\n  <thead>\n    <tr style=\"text-align: right;\">\n      <th></th>\n      <th>지점</th>\n      <th>일시</th>\n      <th>기온(°C)</th>\n      <th>풍향(deg)</th>\n      <th>풍속(m/s)</th>\n      <th>강수량(mm)</th>\n      <th>현지기압(hPa)</th>\n      <th>해면기압(hPa)</th>\n      <th>습도(%)</th>\n      <th>일사(MJ/m^2)</th>\n      <th>일조(hr)</th>\n    </tr>\n  </thead>\n  <tbody>\n    <tr>\n      <th>8764</th>\n      <td>856</td>\n      <td>2020-12-31 04:00</td>\n      <td>-9.5</td>\n      <td>358.7</td>\n      <td>5.4</td>\n      <td>0.0</td>\n      <td>NaN</td>\n      <td>NaN</td>\n      <td>66.7</td>\n      <td>0</td>\n      <td>0</td>\n    </tr>\n    <tr>\n      <th>8765</th>\n      <td>856</td>\n      <td>2020-12-31 05:00</td>\n      <td>-9.3</td>\n      <td>351.7</td>\n      <td>5.9</td>\n      <td>0.0</td>\n      <td>NaN</td>\n      <td>NaN</td>\n      <td>65.4</td>\n      <td>0</td>\n      <td>0</td>\n    </tr>\n    <tr>\n      <th>8766</th>\n      <td>856</td>\n      <td>2020-12-31 06:00</td>\n      <td>-9.0</td>\n      <td>348.5</td>\n      <td>6.1</td>\n      <td>0.0</td>\n      <td>NaN</td>\n      <td>NaN</td>\n      <td>65.7</td>\n      <td>0</td>\n      <td>0</td>\n    </tr>\n    <tr>\n      <th>8767</th>\n      <td>856</td>\n      <td>2020-12-31 07:00</td>\n      <td>-8.6</td>\n      <td>355.5</td>\n      <td>5.5</td>\n      <td>0.0</td>\n      <td>NaN</td>\n      <td>NaN</td>\n      <td>65.6</td>\n      <td>0</td>\n      <td>0</td>\n    </tr>\n    <tr>\n      <th>8768</th>\n      <td>856</td>\n      <td>2020-12-31 08:00</td>\n      <td>-8.1</td>\n      <td>345.0</td>\n      <td>5.2</td>\n      <td>0.0</td>\n      <td>NaN</td>\n      <td>NaN</td>\n      <td>63.9</td>\n      <td>0</td>\n      <td>0</td>\n    </tr>\n    <tr>\n      <th>8769</th>\n      <td>856</td>\n      <td>2020-12-31 09:00</td>\n      <td>-6.5</td>\n      <td>358.6</td>\n      <td>4.9</td>\n      <td>0.0</td>\n      <td>NaN</td>\n      <td>NaN</td>\n      <td>62.1</td>\n      <td>0</td>\n      <td>0</td>\n    </tr>\n    <tr>\n      <th>8770</th>\n      <td>856</td>\n      <td>2020-12-31 10:00</td>\n      <td>-5.4</td>\n      <td>344.0</td>\n      <td>3.6</td>\n      <td>0.0</td>\n      <td>NaN</td>\n      <td>NaN</td>\n      <td>61.3</td>\n      <td>0</td>\n      <td>0</td>\n    </tr>\n    <tr>\n      <th>8771</th>\n      <td>856</td>\n      <td>2020-12-31 11:00</td>\n      <td>-4.4</td>\n      <td>346.8</td>\n      <td>3.7</td>\n      <td>0.0</td>\n      <td>NaN</td>\n      <td>NaN</td>\n      <td>58.3</td>\n      <td>0</td>\n      <td>0</td>\n    </tr>\n    <tr>\n      <th>8772</th>\n      <td>856</td>\n      <td>2020-12-31 12:00</td>\n      <td>-4.0</td>\n      <td>352.6</td>\n      <td>4.6</td>\n      <td>0.0</td>\n      <td>NaN</td>\n      <td>NaN</td>\n      <td>59.8</td>\n      <td>0</td>\n      <td>0</td>\n    </tr>\n    <tr>\n      <th>8773</th>\n      <td>856</td>\n      <td>2020-12-31 13:00</td>\n      <td>-3.3</td>\n      <td>351.1</td>\n      <td>4.3</td>\n      <td>0.0</td>\n      <td>NaN</td>\n      <td>NaN</td>\n      <td>61.1</td>\n      <td>0</td>\n      <td>0</td>\n    </tr>\n    <tr>\n      <th>8774</th>\n      <td>856</td>\n      <td>2020-12-31 14:00</td>\n      <td>-2.8</td>\n      <td>2.0</td>\n      <td>3.0</td>\n      <td>0.0</td>\n      <td>NaN</td>\n      <td>NaN</td>\n      <td>60.2</td>\n      <td>0</td>\n      <td>0</td>\n    </tr>\n    <tr>\n      <th>8775</th>\n      <td>856</td>\n      <td>2020-12-31 15:00</td>\n      <td>-3.6</td>\n      <td>356.4</td>\n      <td>2.6</td>\n      <td>0.0</td>\n      <td>NaN</td>\n      <td>NaN</td>\n      <td>67.8</td>\n      <td>0</td>\n      <td>0</td>\n    </tr>\n    <tr>\n      <th>8776</th>\n      <td>856</td>\n      <td>2020-12-31 16:00</td>\n      <td>-3.8</td>\n      <td>8.8</td>\n      <td>2.3</td>\n      <td>0.0</td>\n      <td>NaN</td>\n      <td>NaN</td>\n      <td>71.2</td>\n      <td>0</td>\n      <td>0</td>\n    </tr>\n    <tr>\n      <th>8777</th>\n      <td>856</td>\n      <td>2020-12-31 17:00</td>\n      <td>-4.1</td>\n      <td>355.6</td>\n      <td>3.1</td>\n      <td>0.0</td>\n      <td>NaN</td>\n      <td>NaN</td>\n      <td>75.9</td>\n      <td>0</td>\n      <td>0</td>\n    </tr>\n    <tr>\n      <th>8778</th>\n      <td>856</td>\n      <td>2020-12-31 18:00</td>\n      <td>-4.1</td>\n      <td>1.1</td>\n      <td>1.8</td>\n      <td>0.0</td>\n      <td>NaN</td>\n      <td>NaN</td>\n      <td>75.7</td>\n      <td>0</td>\n      <td>0</td>\n    </tr>\n    <tr>\n      <th>8779</th>\n      <td>856</td>\n      <td>2020-12-31 19:00</td>\n      <td>-4.0</td>\n      <td>15.1</td>\n      <td>1.9</td>\n      <td>0.0</td>\n      <td>NaN</td>\n      <td>NaN</td>\n      <td>79.3</td>\n      <td>0</td>\n      <td>0</td>\n    </tr>\n    <tr>\n      <th>8780</th>\n      <td>856</td>\n      <td>2020-12-31 20:00</td>\n      <td>-4.0</td>\n      <td>11.4</td>\n      <td>2.5</td>\n      <td>0.0</td>\n      <td>NaN</td>\n      <td>NaN</td>\n      <td>80.5</td>\n      <td>0</td>\n      <td>0</td>\n    </tr>\n    <tr>\n      <th>8781</th>\n      <td>856</td>\n      <td>2020-12-31 21:00</td>\n      <td>-4.0</td>\n      <td>5.3</td>\n      <td>2.9</td>\n      <td>0.0</td>\n      <td>NaN</td>\n      <td>NaN</td>\n      <td>83.5</td>\n      <td>0</td>\n      <td>0</td>\n    </tr>\n    <tr>\n      <th>8782</th>\n      <td>856</td>\n      <td>2020-12-31 22:00</td>\n      <td>-3.7</td>\n      <td>1.9</td>\n      <td>4.3</td>\n      <td>0.0</td>\n      <td>NaN</td>\n      <td>NaN</td>\n      <td>80.3</td>\n      <td>0</td>\n      <td>0</td>\n    </tr>\n    <tr>\n      <th>8783</th>\n      <td>856</td>\n      <td>2020-12-31 23:00</td>\n      <td>-4.0</td>\n      <td>358.9</td>\n      <td>4.5</td>\n      <td>0.0</td>\n      <td>NaN</td>\n      <td>NaN</td>\n      <td>83.5</td>\n      <td>0</td>\n      <td>0</td>\n    </tr>\n  </tbody>\n</table>\n</div>"
     },
     "execution_count": 2,
     "metadata": {},
     "output_type": "execute_result"
    }
   ],
   "source": [
    "df.tail(20)\n"
   ],
   "metadata": {
    "collapsed": false,
    "ExecuteTime": {
     "end_time": "2023-12-16T14:33:20.717088600Z",
     "start_time": "2023-12-16T14:33:20.678322500Z"
    }
   },
   "id": "89a4edd0d41f88f9"
  },
  {
   "cell_type": "code",
   "execution_count": 3,
   "outputs": [
    {
     "data": {
      "text/plain": "       지점                일시  기온(°C)  풍향(deg)  풍속(m/s)  강수량(mm)  현지기압(hPa)  \\\n0     856  2021-01-01 00:00    -4.6    349.4      5.0      0.0        NaN   \n1     856  2021-01-01 01:00    -5.8    359.1      5.7      0.0        NaN   \n2     856  2021-01-01 02:00    -5.5    353.4      4.7      0.0        NaN   \n3     856  2021-01-01 03:00    -5.2    356.9      4.8      0.0        NaN   \n4     856  2021-01-01 04:00    -5.3      1.3      4.7      0.0        NaN   \n...   ...               ...     ...      ...      ...      ...        ...   \n8755  856  2021-12-31 19:00    -5.5    343.1      4.7      0.0        NaN   \n8756  856  2021-12-31 20:00    -6.1    329.0      3.1      0.0        NaN   \n8757  856  2021-12-31 21:00    -6.5    341.9      3.7      0.0        NaN   \n8758  856  2021-12-31 22:00    -6.7    330.2      3.8      0.0        NaN   \n8759  856  2021-12-31 23:00    -7.1    310.4      5.5      0.0        NaN   \n\n      해면기압(hPa)  습도(%)  일사(MJ/m^2)  일조(hr)  \n0           NaN   72.6           0       0  \n1           NaN   70.6           0       0  \n2           NaN   71.8           0       0  \n3           NaN   75.3           0       0  \n4           NaN   74.8           0       0  \n...         ...    ...         ...     ...  \n8755        NaN   57.4           0       0  \n8756        NaN   60.4           0       0  \n8757        NaN   60.7           0       0  \n8758        NaN   58.9           0       0  \n8759        NaN   56.5           0       0  \n\n[8760 rows x 11 columns]",
      "text/html": "<div>\n<style scoped>\n    .dataframe tbody tr th:only-of-type {\n        vertical-align: middle;\n    }\n\n    .dataframe tbody tr th {\n        vertical-align: top;\n    }\n\n    .dataframe thead th {\n        text-align: right;\n    }\n</style>\n<table border=\"1\" class=\"dataframe\">\n  <thead>\n    <tr style=\"text-align: right;\">\n      <th></th>\n      <th>지점</th>\n      <th>일시</th>\n      <th>기온(°C)</th>\n      <th>풍향(deg)</th>\n      <th>풍속(m/s)</th>\n      <th>강수량(mm)</th>\n      <th>현지기압(hPa)</th>\n      <th>해면기압(hPa)</th>\n      <th>습도(%)</th>\n      <th>일사(MJ/m^2)</th>\n      <th>일조(hr)</th>\n    </tr>\n  </thead>\n  <tbody>\n    <tr>\n      <th>0</th>\n      <td>856</td>\n      <td>2021-01-01 00:00</td>\n      <td>-4.6</td>\n      <td>349.4</td>\n      <td>5.0</td>\n      <td>0.0</td>\n      <td>NaN</td>\n      <td>NaN</td>\n      <td>72.6</td>\n      <td>0</td>\n      <td>0</td>\n    </tr>\n    <tr>\n      <th>1</th>\n      <td>856</td>\n      <td>2021-01-01 01:00</td>\n      <td>-5.8</td>\n      <td>359.1</td>\n      <td>5.7</td>\n      <td>0.0</td>\n      <td>NaN</td>\n      <td>NaN</td>\n      <td>70.6</td>\n      <td>0</td>\n      <td>0</td>\n    </tr>\n    <tr>\n      <th>2</th>\n      <td>856</td>\n      <td>2021-01-01 02:00</td>\n      <td>-5.5</td>\n      <td>353.4</td>\n      <td>4.7</td>\n      <td>0.0</td>\n      <td>NaN</td>\n      <td>NaN</td>\n      <td>71.8</td>\n      <td>0</td>\n      <td>0</td>\n    </tr>\n    <tr>\n      <th>3</th>\n      <td>856</td>\n      <td>2021-01-01 03:00</td>\n      <td>-5.2</td>\n      <td>356.9</td>\n      <td>4.8</td>\n      <td>0.0</td>\n      <td>NaN</td>\n      <td>NaN</td>\n      <td>75.3</td>\n      <td>0</td>\n      <td>0</td>\n    </tr>\n    <tr>\n      <th>4</th>\n      <td>856</td>\n      <td>2021-01-01 04:00</td>\n      <td>-5.3</td>\n      <td>1.3</td>\n      <td>4.7</td>\n      <td>0.0</td>\n      <td>NaN</td>\n      <td>NaN</td>\n      <td>74.8</td>\n      <td>0</td>\n      <td>0</td>\n    </tr>\n    <tr>\n      <th>...</th>\n      <td>...</td>\n      <td>...</td>\n      <td>...</td>\n      <td>...</td>\n      <td>...</td>\n      <td>...</td>\n      <td>...</td>\n      <td>...</td>\n      <td>...</td>\n      <td>...</td>\n      <td>...</td>\n    </tr>\n    <tr>\n      <th>8755</th>\n      <td>856</td>\n      <td>2021-12-31 19:00</td>\n      <td>-5.5</td>\n      <td>343.1</td>\n      <td>4.7</td>\n      <td>0.0</td>\n      <td>NaN</td>\n      <td>NaN</td>\n      <td>57.4</td>\n      <td>0</td>\n      <td>0</td>\n    </tr>\n    <tr>\n      <th>8756</th>\n      <td>856</td>\n      <td>2021-12-31 20:00</td>\n      <td>-6.1</td>\n      <td>329.0</td>\n      <td>3.1</td>\n      <td>0.0</td>\n      <td>NaN</td>\n      <td>NaN</td>\n      <td>60.4</td>\n      <td>0</td>\n      <td>0</td>\n    </tr>\n    <tr>\n      <th>8757</th>\n      <td>856</td>\n      <td>2021-12-31 21:00</td>\n      <td>-6.5</td>\n      <td>341.9</td>\n      <td>3.7</td>\n      <td>0.0</td>\n      <td>NaN</td>\n      <td>NaN</td>\n      <td>60.7</td>\n      <td>0</td>\n      <td>0</td>\n    </tr>\n    <tr>\n      <th>8758</th>\n      <td>856</td>\n      <td>2021-12-31 22:00</td>\n      <td>-6.7</td>\n      <td>330.2</td>\n      <td>3.8</td>\n      <td>0.0</td>\n      <td>NaN</td>\n      <td>NaN</td>\n      <td>58.9</td>\n      <td>0</td>\n      <td>0</td>\n    </tr>\n    <tr>\n      <th>8759</th>\n      <td>856</td>\n      <td>2021-12-31 23:00</td>\n      <td>-7.1</td>\n      <td>310.4</td>\n      <td>5.5</td>\n      <td>0.0</td>\n      <td>NaN</td>\n      <td>NaN</td>\n      <td>56.5</td>\n      <td>0</td>\n      <td>0</td>\n    </tr>\n  </tbody>\n</table>\n<p>8760 rows × 11 columns</p>\n</div>"
     },
     "execution_count": 3,
     "metadata": {},
     "output_type": "execute_result"
    }
   ],
   "source": [
    "df = pd.read_csv('./data/meteo/SURFACE_AWS_856_HR_2021.csv', encoding=\"cp949\")\n",
    "df"
   ],
   "metadata": {
    "collapsed": false,
    "ExecuteTime": {
     "end_time": "2023-12-16T14:33:31.651826Z",
     "start_time": "2023-12-16T14:33:31.563432Z"
    }
   },
   "id": "79e440e88bb60ebb"
  },
  {
   "cell_type": "code",
   "execution_count": 4,
   "outputs": [
    {
     "name": "stdout",
     "output_type": "stream",
     "text": [
      "Index(['지점', '일시', '기온(°C)', '풍향(deg)', '풍속(m/s)', '강수량(mm)', '현지기압(hPa)',\n",
      "       '해면기압(hPa)', '습도(%)', '일사(MJ/m^2)', '일조(hr)'],\n",
      "      dtype='object')\n"
     ]
    }
   ],
   "source": [
    "print(df.columns)\n"
   ],
   "metadata": {
    "collapsed": false,
    "ExecuteTime": {
     "end_time": "2023-12-16T14:34:18.231808600Z",
     "start_time": "2023-12-16T14:34:18.222793Z"
    }
   },
   "id": "b7d1086abccd639f"
  },
  {
   "cell_type": "code",
   "execution_count": 5,
   "outputs": [
    {
     "data": {
      "text/plain": "       지점                일시  기온(°C)  풍향(deg)  풍속(m/s)  강수량(mm)  현지기압(hPa)  \\\n0     856  2021-01-01 00:00    -4.6    349.4      5.0      0.0        NaN   \n1     856  2021-01-01 01:00    -5.8    359.1      5.7      0.0        NaN   \n2     856  2021-01-01 02:00    -5.5    353.4      4.7      0.0        NaN   \n3     856  2021-01-01 03:00    -5.2    356.9      4.8      0.0        NaN   \n4     856  2021-01-01 04:00    -5.3      1.3      4.7      0.0        NaN   \n...   ...               ...     ...      ...      ...      ...        ...   \n8755  856  2021-12-31 19:00    -5.5    343.1      4.7      0.0        NaN   \n8756  856  2021-12-31 20:00    -6.1    329.0      3.1      0.0        NaN   \n8757  856  2021-12-31 21:00    -6.5    341.9      3.7      0.0        NaN   \n8758  856  2021-12-31 22:00    -6.7    330.2      3.8      0.0        NaN   \n8759  856  2021-12-31 23:00    -7.1    310.4      5.5      0.0        NaN   \n\n      해면기압(hPa)  습도(%)  일사(MJ/m^2)  일조(hr)  \n0           NaN   72.6           0       0  \n1           NaN   70.6           0       0  \n2           NaN   71.8           0       0  \n3           NaN   75.3           0       0  \n4           NaN   74.8           0       0  \n...         ...    ...         ...     ...  \n8755        NaN   57.4           0       0  \n8756        NaN   60.4           0       0  \n8757        NaN   60.7           0       0  \n8758        NaN   58.9           0       0  \n8759        NaN   56.5           0       0  \n\n[8760 rows x 11 columns]",
      "text/html": "<div>\n<style scoped>\n    .dataframe tbody tr th:only-of-type {\n        vertical-align: middle;\n    }\n\n    .dataframe tbody tr th {\n        vertical-align: top;\n    }\n\n    .dataframe thead th {\n        text-align: right;\n    }\n</style>\n<table border=\"1\" class=\"dataframe\">\n  <thead>\n    <tr style=\"text-align: right;\">\n      <th></th>\n      <th>지점</th>\n      <th>일시</th>\n      <th>기온(°C)</th>\n      <th>풍향(deg)</th>\n      <th>풍속(m/s)</th>\n      <th>강수량(mm)</th>\n      <th>현지기압(hPa)</th>\n      <th>해면기압(hPa)</th>\n      <th>습도(%)</th>\n      <th>일사(MJ/m^2)</th>\n      <th>일조(hr)</th>\n    </tr>\n  </thead>\n  <tbody>\n    <tr>\n      <th>0</th>\n      <td>856</td>\n      <td>2021-01-01 00:00</td>\n      <td>-4.6</td>\n      <td>349.4</td>\n      <td>5.0</td>\n      <td>0.0</td>\n      <td>NaN</td>\n      <td>NaN</td>\n      <td>72.6</td>\n      <td>0</td>\n      <td>0</td>\n    </tr>\n    <tr>\n      <th>1</th>\n      <td>856</td>\n      <td>2021-01-01 01:00</td>\n      <td>-5.8</td>\n      <td>359.1</td>\n      <td>5.7</td>\n      <td>0.0</td>\n      <td>NaN</td>\n      <td>NaN</td>\n      <td>70.6</td>\n      <td>0</td>\n      <td>0</td>\n    </tr>\n    <tr>\n      <th>2</th>\n      <td>856</td>\n      <td>2021-01-01 02:00</td>\n      <td>-5.5</td>\n      <td>353.4</td>\n      <td>4.7</td>\n      <td>0.0</td>\n      <td>NaN</td>\n      <td>NaN</td>\n      <td>71.8</td>\n      <td>0</td>\n      <td>0</td>\n    </tr>\n    <tr>\n      <th>3</th>\n      <td>856</td>\n      <td>2021-01-01 03:00</td>\n      <td>-5.2</td>\n      <td>356.9</td>\n      <td>4.8</td>\n      <td>0.0</td>\n      <td>NaN</td>\n      <td>NaN</td>\n      <td>75.3</td>\n      <td>0</td>\n      <td>0</td>\n    </tr>\n    <tr>\n      <th>4</th>\n      <td>856</td>\n      <td>2021-01-01 04:00</td>\n      <td>-5.3</td>\n      <td>1.3</td>\n      <td>4.7</td>\n      <td>0.0</td>\n      <td>NaN</td>\n      <td>NaN</td>\n      <td>74.8</td>\n      <td>0</td>\n      <td>0</td>\n    </tr>\n    <tr>\n      <th>...</th>\n      <td>...</td>\n      <td>...</td>\n      <td>...</td>\n      <td>...</td>\n      <td>...</td>\n      <td>...</td>\n      <td>...</td>\n      <td>...</td>\n      <td>...</td>\n      <td>...</td>\n      <td>...</td>\n    </tr>\n    <tr>\n      <th>8755</th>\n      <td>856</td>\n      <td>2021-12-31 19:00</td>\n      <td>-5.5</td>\n      <td>343.1</td>\n      <td>4.7</td>\n      <td>0.0</td>\n      <td>NaN</td>\n      <td>NaN</td>\n      <td>57.4</td>\n      <td>0</td>\n      <td>0</td>\n    </tr>\n    <tr>\n      <th>8756</th>\n      <td>856</td>\n      <td>2021-12-31 20:00</td>\n      <td>-6.1</td>\n      <td>329.0</td>\n      <td>3.1</td>\n      <td>0.0</td>\n      <td>NaN</td>\n      <td>NaN</td>\n      <td>60.4</td>\n      <td>0</td>\n      <td>0</td>\n    </tr>\n    <tr>\n      <th>8757</th>\n      <td>856</td>\n      <td>2021-12-31 21:00</td>\n      <td>-6.5</td>\n      <td>341.9</td>\n      <td>3.7</td>\n      <td>0.0</td>\n      <td>NaN</td>\n      <td>NaN</td>\n      <td>60.7</td>\n      <td>0</td>\n      <td>0</td>\n    </tr>\n    <tr>\n      <th>8758</th>\n      <td>856</td>\n      <td>2021-12-31 22:00</td>\n      <td>-6.7</td>\n      <td>330.2</td>\n      <td>3.8</td>\n      <td>0.0</td>\n      <td>NaN</td>\n      <td>NaN</td>\n      <td>58.9</td>\n      <td>0</td>\n      <td>0</td>\n    </tr>\n    <tr>\n      <th>8759</th>\n      <td>856</td>\n      <td>2021-12-31 23:00</td>\n      <td>-7.1</td>\n      <td>310.4</td>\n      <td>5.5</td>\n      <td>0.0</td>\n      <td>NaN</td>\n      <td>NaN</td>\n      <td>56.5</td>\n      <td>0</td>\n      <td>0</td>\n    </tr>\n  </tbody>\n</table>\n<p>8760 rows × 11 columns</p>\n</div>"
     },
     "execution_count": 5,
     "metadata": {},
     "output_type": "execute_result"
    }
   ],
   "source": [
    "import pandas as pd\n",
    "\n",
    "pd.set_option('display.max_rows', 200)\n",
    "\n",
    "df"
   ],
   "metadata": {
    "collapsed": false,
    "ExecuteTime": {
     "end_time": "2023-12-16T14:34:32.234739900Z",
     "start_time": "2023-12-16T14:34:32.194463400Z"
    }
   },
   "id": "c96f8daed130063d"
  },
  {
   "cell_type": "markdown",
   "source": [
    "데이터 정제\n",
    "- 기간 : 2020년 9월 ~ 2021년 9월\n",
    "- 변수 : 일시, 기온, 풍속, 습도, 강수"
   ],
   "metadata": {
    "collapsed": false
   },
   "id": "79d535357a2ea4c3"
  },
  {
   "cell_type": "code",
   "execution_count": 10,
   "outputs": [],
   "source": [
    "df = pd.read_csv('./data/meteo/SURFACE_AWS_856_HR_2021.csv', encoding = \"cp949\")\n",
    "df['일시'] = pd.to_datetime(df['일시'])\n"
   ],
   "metadata": {
    "collapsed": false,
    "ExecuteTime": {
     "end_time": "2023-12-16T14:45:22.947928200Z",
     "start_time": "2023-12-16T14:45:22.919470100Z"
    }
   },
   "id": "2934b2b28cbc906e"
  },
  {
   "cell_type": "markdown",
   "source": [],
   "metadata": {
    "collapsed": false
   },
   "id": "52db8e7560258962"
  },
  {
   "cell_type": "code",
   "execution_count": 11,
   "outputs": [
    {
     "name": "stdout",
     "output_type": "stream",
     "text": [
      "날짜 열의 데이터 타입: datetime64[ns]\n"
     ]
    }
   ],
   "source": [
    "print(\"날짜 열의 데이터 타입:\", df['일시'].dtype)"
   ],
   "metadata": {
    "collapsed": false,
    "ExecuteTime": {
     "end_time": "2023-12-16T14:46:20.037119Z",
     "start_time": "2023-12-16T14:46:20.017431900Z"
    }
   },
   "id": "e0645817f66fce57"
  },
  {
   "cell_type": "code",
   "execution_count": 16,
   "outputs": [
    {
     "data": {
      "text/plain": "Index(['지점', '일시', '기온(°C)', '풍향(deg)', '풍속(m/s)', '강수량(mm)', '현지기압(hPa)',\n       '해면기압(hPa)', '습도(%)', '일사(MJ/m^2)', '일조(hr)'],\n      dtype='object')"
     },
     "execution_count": 16,
     "metadata": {},
     "output_type": "execute_result"
    }
   ],
   "source": [
    "df.columns"
   ],
   "metadata": {
    "collapsed": false,
    "ExecuteTime": {
     "end_time": "2023-12-16T14:49:52.743144200Z",
     "start_time": "2023-12-16T14:49:52.705889400Z"
    }
   },
   "id": "30bbe3ada4989341"
  },
  {
   "cell_type": "code",
   "execution_count": 23,
   "outputs": [
    {
     "name": "stdout",
     "output_type": "stream",
     "text": [
      "불러온 데이터 (SURFACE_AWS_856_HR_2020.csv):\n",
      "    지점                일시  기온(°C)  풍향(deg)  풍속(m/s)  강수량(mm)  현지기압(hPa)  \\\n",
      "0  856  2020-01-01 00:00    -7.2    315.1      6.5      0.0        NaN   \n",
      "1  856  2020-01-01 01:00    -7.4    304.2      5.8      0.0        NaN   \n",
      "2  856  2020-01-01 02:00    -6.3    333.4      3.7      0.0        NaN   \n",
      "3  856  2020-01-01 03:00    -7.2    322.7      1.4      0.0        NaN   \n",
      "4  856  2020-01-01 04:00    -5.8    321.6      2.6      0.0        NaN   \n",
      "\n",
      "   해면기압(hPa)  습도(%)  일사(MJ/m^2)  일조(hr)  \n",
      "0        NaN   46.5           0       0  \n",
      "1        NaN   42.7           0       0  \n",
      "2        NaN   30.2           0       0  \n",
      "3        NaN   41.2           0       0  \n",
      "4        NaN   48.2           0       0  \n",
      "날짜 필터링된 데이터 - 앞의 5행\n",
      "       지점                  일시  기온(°C)  풍향(deg)  풍속(m/s)  강수량(mm)  현지기압(hPa)  \\\n",
      "5856  856 2020-09-01 00:00:00    21.8    321.5      1.1      NaN        NaN   \n",
      "5857  856 2020-09-01 01:00:00    22.1    296.7      2.1      0.0        NaN   \n",
      "5858  856 2020-09-01 02:00:00    22.2    355.8      1.7      0.0        NaN   \n",
      "5859  856 2020-09-01 03:00:00    22.4    320.5      2.8      0.0        NaN   \n",
      "5860  856 2020-09-01 04:00:00    22.5    348.0      2.8      0.0        NaN   \n",
      "\n",
      "      해면기압(hPa)  습도(%)  일사(MJ/m^2)  일조(hr)  \n",
      "5856        NaN   90.3           0       0  \n",
      "5857        NaN   84.1           0       0  \n",
      "5858        NaN   82.4           0       0  \n",
      "5859        NaN   81.7           0       0  \n",
      "5860        NaN   83.5           0       0  \n",
      "날짜 필터링된 데이터 - 뒤의 5헹\n",
      "       지점                  일시  기온(°C)  풍향(deg)  풍속(m/s)  강수량(mm)  현지기압(hPa)  \\\n",
      "8779  856 2020-12-31 19:00:00    -4.0     15.1      1.9      0.0        NaN   \n",
      "8780  856 2020-12-31 20:00:00    -4.0     11.4      2.5      0.0        NaN   \n",
      "8781  856 2020-12-31 21:00:00    -4.0      5.3      2.9      0.0        NaN   \n",
      "8782  856 2020-12-31 22:00:00    -3.7      1.9      4.3      0.0        NaN   \n",
      "8783  856 2020-12-31 23:00:00    -4.0    358.9      4.5      0.0        NaN   \n",
      "\n",
      "      해면기압(hPa)  습도(%)  일사(MJ/m^2)  일조(hr)  \n",
      "8779        NaN   79.3           0       0  \n",
      "8780        NaN   80.5           0       0  \n",
      "8781        NaN   83.5           0       0  \n",
      "8782        NaN   80.3           0       0  \n",
      "8783        NaN   83.5           0       0  \n",
      "필요한 변수 선택 후 데이터:\n",
      "              날짜        시간  기온(°C)  풍속(m/s)  강수량(mm)  습도(%)\n",
      "5856  2020-09-01  00:00:00    21.8      1.1      NaN   90.3\n",
      "5857  2020-09-01  01:00:00    22.1      2.1      0.0   84.1\n",
      "5858  2020-09-01  02:00:00    22.2      1.7      0.0   82.4\n",
      "5859  2020-09-01  03:00:00    22.4      2.8      0.0   81.7\n",
      "5860  2020-09-01  04:00:00    22.5      2.8      0.0   83.5\n",
      "불러온 데이터 (SURFACE_AWS_856_HR_2021.csv):\n",
      "    지점                일시  기온(°C)  풍향(deg)  풍속(m/s)  강수량(mm)  현지기압(hPa)  \\\n",
      "0  856  2021-01-01 00:00    -4.6    349.4      5.0      0.0        NaN   \n",
      "1  856  2021-01-01 01:00    -5.8    359.1      5.7      0.0        NaN   \n",
      "2  856  2021-01-01 02:00    -5.5    353.4      4.7      0.0        NaN   \n",
      "3  856  2021-01-01 03:00    -5.2    356.9      4.8      0.0        NaN   \n",
      "4  856  2021-01-01 04:00    -5.3      1.3      4.7      0.0        NaN   \n",
      "\n",
      "   해면기압(hPa)  습도(%)  일사(MJ/m^2)  일조(hr)  \n",
      "0        NaN   72.6           0       0  \n",
      "1        NaN   70.6           0       0  \n",
      "2        NaN   71.8           0       0  \n",
      "3        NaN   75.3           0       0  \n",
      "4        NaN   74.8           0       0  \n",
      "날짜 필터링된 데이터 - 앞의 5행\n",
      "    지점                  일시  기온(°C)  풍향(deg)  풍속(m/s)  강수량(mm)  현지기압(hPa)  \\\n",
      "0  856 2021-01-01 00:00:00    -4.6    349.4      5.0      0.0        NaN   \n",
      "1  856 2021-01-01 01:00:00    -5.8    359.1      5.7      0.0        NaN   \n",
      "2  856 2021-01-01 02:00:00    -5.5    353.4      4.7      0.0        NaN   \n",
      "3  856 2021-01-01 03:00:00    -5.2    356.9      4.8      0.0        NaN   \n",
      "4  856 2021-01-01 04:00:00    -5.3      1.3      4.7      0.0        NaN   \n",
      "\n",
      "   해면기압(hPa)  습도(%)  일사(MJ/m^2)  일조(hr)  \n",
      "0        NaN   72.6           0       0  \n",
      "1        NaN   70.6           0       0  \n",
      "2        NaN   71.8           0       0  \n",
      "3        NaN   75.3           0       0  \n",
      "4        NaN   74.8           0       0  \n",
      "날짜 필터링된 데이터 - 뒤의 5헹\n",
      "       지점                  일시  기온(°C)  풍향(deg)  풍속(m/s)  강수량(mm)  현지기압(hPa)  \\\n",
      "4316  856 2021-06-29 20:00:00    20.4    174.6      0.9      0.0        NaN   \n",
      "4317  856 2021-06-29 21:00:00    19.3      0.0      0.4      0.0        NaN   \n",
      "4318  856 2021-06-29 22:00:00    18.5      6.0      1.0      0.0        NaN   \n",
      "4319  856 2021-06-29 23:00:00    18.1     22.9      1.3      0.5        NaN   \n",
      "4320  856 2021-06-30 00:00:00    18.3     11.5      1.0      0.0        NaN   \n",
      "\n",
      "      해면기압(hPa)  습도(%)  일사(MJ/m^2)  일조(hr)  \n",
      "4316        NaN   86.6           0       0  \n",
      "4317        NaN   94.2           0       0  \n",
      "4318        NaN   97.3           0       0  \n",
      "4319        NaN   98.9           0       0  \n",
      "4320        NaN   99.3           0       0  \n",
      "필요한 변수 선택 후 데이터:\n",
      "           날짜        시간  기온(°C)  풍속(m/s)  강수량(mm)  습도(%)\n",
      "0  2021-01-01  00:00:00    -4.6      5.0      0.0   72.6\n",
      "1  2021-01-01  01:00:00    -5.8      5.7      0.0   70.6\n",
      "2  2021-01-01  02:00:00    -5.5      4.7      0.0   71.8\n",
      "3  2021-01-01  03:00:00    -5.2      4.8      0.0   75.3\n",
      "4  2021-01-01  04:00:00    -5.3      4.7      0.0   74.8\n",
      "최종:\n",
      "           날짜        시간  기온(°C)  풍속(m/s)  강수량(mm)  습도(%)\n",
      "0  2020-09-01  00:00:00    21.8      1.1      NaN   90.3\n",
      "1  2020-09-01  01:00:00    22.1      2.1      0.0   84.1\n",
      "2  2020-09-01  02:00:00    22.2      1.7      0.0   82.4\n",
      "3  2020-09-01  03:00:00    22.4      2.8      0.0   81.7\n",
      "4  2020-09-01  04:00:00    22.5      2.8      0.0   83.5\n",
      "              날짜        시간  기온(°C)  풍속(m/s)  강수량(mm)  습도(%)\n",
      "7244  2021-06-29  20:00:00    20.4      0.9      0.0   86.6\n",
      "7245  2021-06-29  21:00:00    19.3      0.4      0.0   94.2\n",
      "7246  2021-06-29  22:00:00    18.5      1.0      0.0   97.3\n",
      "7247  2021-06-29  23:00:00    18.1      1.3      0.5   98.9\n",
      "7248  2021-06-30  00:00:00    18.3      1.0      0.0   99.3\n"
     ]
    }
   ],
   "source": [
    "import pandas as pd\n",
    "from glob import glob\n",
    "\n",
    "# 2020년과 2021년 기상 데이터 파일 리스트 생성\n",
    "meteo_2020 = glob('./data/meteo/SURFACE_AWS_856_HR_2020.csv')\n",
    "meteo_2021 = glob('./data/meteo/SURFACE_AWS_856_HR_2021.csv')\n",
    "weather_files = meteo_2020 + meteo_2021\n",
    "\n",
    "all_weather = pd.DataFrame()\n",
    "for file_path in weather_files:\n",
    "    weather = pd.read_csv(file_path, encoding='cp949')\n",
    "    print(f\"불러온 데이터 ({file_path.split('/')[-1]}):\")\n",
    "    print(weather.head())\n",
    "\n",
    "\n",
    "    # 날짜 형식 변환\n",
    "    weather['일시'] = pd.to_datetime(weather['일시'])\n",
    "\n",
    "    # 2020년 9월부터 2021년 6월까지의 데이터 필터링\n",
    "    weather = weather[(weather['일시'] >= '2020-09-01') & (weather['일시'] <= '2021-06-30')]\n",
    "    print(\"날짜 필터링된 데이터 - 앞의 5행\")\n",
    "    print(weather.head())\n",
    "    print(\"날짜 필터링된 데이터 - 뒤의 5헹\")\n",
    "    print(weather.tail())\n",
    "    \n",
    "    # 날짜와 시간 열 분리\n",
    "    weather['날짜'] = weather['일시'].dt.date\n",
    "    weather['시간'] = weather['일시'].dt.time\n",
    "\n",
    "    # 필요한 변수만 선택\n",
    "    weather = weather[['날짜','시간', '기온(°C)', '풍속(m/s)', '강수량(mm)',  '습도(%)']]\n",
    "    print(\"필요한 변수 선택 후 데이터:\")\n",
    "    print(weather.head())\n",
    "    \n",
    "    # 데이터를 하나의 데이터프레임에 추가\n",
    "    all_weather = pd.concat([all_weather, weather], ignore_index=True)\n",
    "\n",
    "# 결과 확인\n",
    "print(\"최종:\")\n",
    "print(all_weather.head())\n",
    "print(all_weather.tail())\n"
   ],
   "metadata": {
    "collapsed": false,
    "ExecuteTime": {
     "end_time": "2023-12-16T15:03:49.811037700Z",
     "start_time": "2023-12-16T15:03:49.697127Z"
    }
   },
   "id": "9600ff93fb89d0fd"
  },
  {
   "cell_type": "code",
   "execution_count": 24,
   "outputs": [
    {
     "name": "stdout",
     "output_type": "stream",
     "text": [
      "saved weather.csv\n"
     ]
    }
   ],
   "source": [
    "# 병합된 데이터를 CSV 파일로 저장\n",
    "all_weather.to_csv('./filtered_data/weather.csv', index=False)\n",
    "\n",
    "print('saved weather.csv')"
   ],
   "metadata": {
    "collapsed": false,
    "ExecuteTime": {
     "end_time": "2023-12-16T15:04:46.811006400Z",
     "start_time": "2023-12-16T15:04:46.673709400Z"
    }
   },
   "id": "b6481c9eb6fcc859"
  },
  {
   "cell_type": "code",
   "execution_count": 25,
   "outputs": [
    {
     "data": {
      "text/plain": "              날짜        시간  기온(°C)  풍속(m/s)  강수량(mm)  습도(%)\n0     2020-09-01  00:00:00    21.8      1.1      NaN   90.3\n1     2020-09-01  01:00:00    22.1      2.1      0.0   84.1\n2     2020-09-01  02:00:00    22.2      1.7      0.0   82.4\n3     2020-09-01  03:00:00    22.4      2.8      0.0   81.7\n4     2020-09-01  04:00:00    22.5      2.8      0.0   83.5\n...          ...       ...     ...      ...      ...    ...\n7244  2021-06-29  20:00:00    20.4      0.9      0.0   86.6\n7245  2021-06-29  21:00:00    19.3      0.4      0.0   94.2\n7246  2021-06-29  22:00:00    18.5      1.0      0.0   97.3\n7247  2021-06-29  23:00:00    18.1      1.3      0.5   98.9\n7248  2021-06-30  00:00:00    18.3      1.0      0.0   99.3\n\n[7249 rows x 6 columns]",
      "text/html": "<div>\n<style scoped>\n    .dataframe tbody tr th:only-of-type {\n        vertical-align: middle;\n    }\n\n    .dataframe tbody tr th {\n        vertical-align: top;\n    }\n\n    .dataframe thead th {\n        text-align: right;\n    }\n</style>\n<table border=\"1\" class=\"dataframe\">\n  <thead>\n    <tr style=\"text-align: right;\">\n      <th></th>\n      <th>날짜</th>\n      <th>시간</th>\n      <th>기온(°C)</th>\n      <th>풍속(m/s)</th>\n      <th>강수량(mm)</th>\n      <th>습도(%)</th>\n    </tr>\n  </thead>\n  <tbody>\n    <tr>\n      <th>0</th>\n      <td>2020-09-01</td>\n      <td>00:00:00</td>\n      <td>21.8</td>\n      <td>1.1</td>\n      <td>NaN</td>\n      <td>90.3</td>\n    </tr>\n    <tr>\n      <th>1</th>\n      <td>2020-09-01</td>\n      <td>01:00:00</td>\n      <td>22.1</td>\n      <td>2.1</td>\n      <td>0.0</td>\n      <td>84.1</td>\n    </tr>\n    <tr>\n      <th>2</th>\n      <td>2020-09-01</td>\n      <td>02:00:00</td>\n      <td>22.2</td>\n      <td>1.7</td>\n      <td>0.0</td>\n      <td>82.4</td>\n    </tr>\n    <tr>\n      <th>3</th>\n      <td>2020-09-01</td>\n      <td>03:00:00</td>\n      <td>22.4</td>\n      <td>2.8</td>\n      <td>0.0</td>\n      <td>81.7</td>\n    </tr>\n    <tr>\n      <th>4</th>\n      <td>2020-09-01</td>\n      <td>04:00:00</td>\n      <td>22.5</td>\n      <td>2.8</td>\n      <td>0.0</td>\n      <td>83.5</td>\n    </tr>\n    <tr>\n      <th>...</th>\n      <td>...</td>\n      <td>...</td>\n      <td>...</td>\n      <td>...</td>\n      <td>...</td>\n      <td>...</td>\n    </tr>\n    <tr>\n      <th>7244</th>\n      <td>2021-06-29</td>\n      <td>20:00:00</td>\n      <td>20.4</td>\n      <td>0.9</td>\n      <td>0.0</td>\n      <td>86.6</td>\n    </tr>\n    <tr>\n      <th>7245</th>\n      <td>2021-06-29</td>\n      <td>21:00:00</td>\n      <td>19.3</td>\n      <td>0.4</td>\n      <td>0.0</td>\n      <td>94.2</td>\n    </tr>\n    <tr>\n      <th>7246</th>\n      <td>2021-06-29</td>\n      <td>22:00:00</td>\n      <td>18.5</td>\n      <td>1.0</td>\n      <td>0.0</td>\n      <td>97.3</td>\n    </tr>\n    <tr>\n      <th>7247</th>\n      <td>2021-06-29</td>\n      <td>23:00:00</td>\n      <td>18.1</td>\n      <td>1.3</td>\n      <td>0.5</td>\n      <td>98.9</td>\n    </tr>\n    <tr>\n      <th>7248</th>\n      <td>2021-06-30</td>\n      <td>00:00:00</td>\n      <td>18.3</td>\n      <td>1.0</td>\n      <td>0.0</td>\n      <td>99.3</td>\n    </tr>\n  </tbody>\n</table>\n<p>7249 rows × 6 columns</p>\n</div>"
     },
     "execution_count": 25,
     "metadata": {},
     "output_type": "execute_result"
    }
   ],
   "source": [
    "df = pd.read_csv('./filtered_data/weather.csv')\n",
    "df"
   ],
   "metadata": {
    "collapsed": false,
    "ExecuteTime": {
     "end_time": "2023-12-16T15:05:02.525614100Z",
     "start_time": "2023-12-16T15:05:02.449127300Z"
    }
   },
   "id": "bc0bb1b48667d5fb"
  },
  {
   "cell_type": "code",
   "execution_count": null,
   "outputs": [],
   "source": [],
   "metadata": {
    "collapsed": false
   },
   "id": "17860fbdfe76bde6"
  }
 ],
 "metadata": {
  "kernelspec": {
   "display_name": "Python 3",
   "language": "python",
   "name": "python3"
  },
  "language_info": {
   "codemirror_mode": {
    "name": "ipython",
    "version": 2
   },
   "file_extension": ".py",
   "mimetype": "text/x-python",
   "name": "python",
   "nbconvert_exporter": "python",
   "pygments_lexer": "ipython2",
   "version": "2.7.6"
  }
 },
 "nbformat": 4,
 "nbformat_minor": 5
}
