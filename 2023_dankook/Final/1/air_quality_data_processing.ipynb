{
 "cells": [
  {
   "cell_type": "markdown",
   "source": [
    "# 공기질 데이터 구조\n",
    "- ## airQuality 파일 안\n",
    "    - ### 20년 9월.xls\n",
    "    - ### 20년 10월.xls\n",
    "    - ### 20년 11월.xls\n",
    "    - ### 20년 12월.xls\n",
    "    - ### 21년 1월.xls\n",
    "    - ### 21년 2월.xls\n",
    "    - ### 21년 3월.xls\n",
    "    - ### 21년 4월.xls\n",
    "    - ### 21년 5월.xls\n",
    "    - ### 21년 6월.xls"
   ],
   "metadata": {
    "collapsed": false
   },
   "id": "86566ce3e31b6072"
  },
  {
   "cell_type": "code",
   "execution_count": 1,
   "outputs": [
    {
     "data": {
      "text/plain": "           날짜   PM10  PM2.5    오 존  이산화질소  일산화탄소  아황산가스\n0     (월-일-시)  (㎍/㎥)  (㎍/㎥)  (ppm)  (ppm)  (ppm)  (ppm)\n1    09-01-01     16     16  0.026  0.004    0.1  0.001\n2    09-01-02     11      9  0.029  0.003    0.1  0.001\n3    09-01-03     11      8  0.030  0.004    0.1  0.001\n4    09-01-04     17      7  0.031  0.004    0.1  0.001\n..        ...    ...    ...    ...    ...    ...    ...\n716  09-30-20     41     34  0.061  0.015    0.5  0.004\n717  09-30-21     52     41  0.053  0.015    0.3  0.002\n718  09-30-22     31     18  0.054  0.011    0.2  0.002\n719  09-30-23     28     19  0.057  0.006    0.2  0.002\n720  09-30-24     25     18  0.052  0.006    0.2  0.002\n\n[721 rows x 7 columns]",
      "text/html": "<div>\n<style scoped>\n    .dataframe tbody tr th:only-of-type {\n        vertical-align: middle;\n    }\n\n    .dataframe tbody tr th {\n        vertical-align: top;\n    }\n\n    .dataframe thead th {\n        text-align: right;\n    }\n</style>\n<table border=\"1\" class=\"dataframe\">\n  <thead>\n    <tr style=\"text-align: right;\">\n      <th></th>\n      <th>날짜</th>\n      <th>PM10</th>\n      <th>PM2.5</th>\n      <th>오 존</th>\n      <th>이산화질소</th>\n      <th>일산화탄소</th>\n      <th>아황산가스</th>\n    </tr>\n  </thead>\n  <tbody>\n    <tr>\n      <th>0</th>\n      <td>(월-일-시)</td>\n      <td>(㎍/㎥)</td>\n      <td>(㎍/㎥)</td>\n      <td>(ppm)</td>\n      <td>(ppm)</td>\n      <td>(ppm)</td>\n      <td>(ppm)</td>\n    </tr>\n    <tr>\n      <th>1</th>\n      <td>09-01-01</td>\n      <td>16</td>\n      <td>16</td>\n      <td>0.026</td>\n      <td>0.004</td>\n      <td>0.1</td>\n      <td>0.001</td>\n    </tr>\n    <tr>\n      <th>2</th>\n      <td>09-01-02</td>\n      <td>11</td>\n      <td>9</td>\n      <td>0.029</td>\n      <td>0.003</td>\n      <td>0.1</td>\n      <td>0.001</td>\n    </tr>\n    <tr>\n      <th>3</th>\n      <td>09-01-03</td>\n      <td>11</td>\n      <td>8</td>\n      <td>0.030</td>\n      <td>0.004</td>\n      <td>0.1</td>\n      <td>0.001</td>\n    </tr>\n    <tr>\n      <th>4</th>\n      <td>09-01-04</td>\n      <td>17</td>\n      <td>7</td>\n      <td>0.031</td>\n      <td>0.004</td>\n      <td>0.1</td>\n      <td>0.001</td>\n    </tr>\n    <tr>\n      <th>...</th>\n      <td>...</td>\n      <td>...</td>\n      <td>...</td>\n      <td>...</td>\n      <td>...</td>\n      <td>...</td>\n      <td>...</td>\n    </tr>\n    <tr>\n      <th>716</th>\n      <td>09-30-20</td>\n      <td>41</td>\n      <td>34</td>\n      <td>0.061</td>\n      <td>0.015</td>\n      <td>0.5</td>\n      <td>0.004</td>\n    </tr>\n    <tr>\n      <th>717</th>\n      <td>09-30-21</td>\n      <td>52</td>\n      <td>41</td>\n      <td>0.053</td>\n      <td>0.015</td>\n      <td>0.3</td>\n      <td>0.002</td>\n    </tr>\n    <tr>\n      <th>718</th>\n      <td>09-30-22</td>\n      <td>31</td>\n      <td>18</td>\n      <td>0.054</td>\n      <td>0.011</td>\n      <td>0.2</td>\n      <td>0.002</td>\n    </tr>\n    <tr>\n      <th>719</th>\n      <td>09-30-23</td>\n      <td>28</td>\n      <td>19</td>\n      <td>0.057</td>\n      <td>0.006</td>\n      <td>0.2</td>\n      <td>0.002</td>\n    </tr>\n    <tr>\n      <th>720</th>\n      <td>09-30-24</td>\n      <td>25</td>\n      <td>18</td>\n      <td>0.052</td>\n      <td>0.006</td>\n      <td>0.2</td>\n      <td>0.002</td>\n    </tr>\n  </tbody>\n</table>\n<p>721 rows × 7 columns</p>\n</div>"
     },
     "execution_count": 1,
     "metadata": {},
     "output_type": "execute_result"
    }
   ],
   "source": [
    "# 예시\n",
    "import pandas as pd\n",
    "df = pd.read_excel('./data/airQuality/20년9월.xls')\n",
    "df"
   ],
   "metadata": {
    "collapsed": false,
    "ExecuteTime": {
     "end_time": "2023-12-16T11:42:21.244049Z",
     "start_time": "2023-12-16T11:42:20.337546800Z"
    }
   },
   "id": "b898116dbb3cca69"
  },
  {
   "cell_type": "code",
   "execution_count": 2,
   "outputs": [
    {
     "data": {
      "text/plain": "             날짜 PM10 PM2.5    오 존  이산화질소 일산화탄소  아황산가스\ncount       721  536   528    535    535   535    535\nunique      721   61    44     76     40    11     13\ntop     (월-일-시)   25    17  0.034  0.005   0.3  0.002\nfreq          1   34    45     31     41   150    230",
      "text/html": "<div>\n<style scoped>\n    .dataframe tbody tr th:only-of-type {\n        vertical-align: middle;\n    }\n\n    .dataframe tbody tr th {\n        vertical-align: top;\n    }\n\n    .dataframe thead th {\n        text-align: right;\n    }\n</style>\n<table border=\"1\" class=\"dataframe\">\n  <thead>\n    <tr style=\"text-align: right;\">\n      <th></th>\n      <th>날짜</th>\n      <th>PM10</th>\n      <th>PM2.5</th>\n      <th>오 존</th>\n      <th>이산화질소</th>\n      <th>일산화탄소</th>\n      <th>아황산가스</th>\n    </tr>\n  </thead>\n  <tbody>\n    <tr>\n      <th>count</th>\n      <td>721</td>\n      <td>536</td>\n      <td>528</td>\n      <td>535</td>\n      <td>535</td>\n      <td>535</td>\n      <td>535</td>\n    </tr>\n    <tr>\n      <th>unique</th>\n      <td>721</td>\n      <td>61</td>\n      <td>44</td>\n      <td>76</td>\n      <td>40</td>\n      <td>11</td>\n      <td>13</td>\n    </tr>\n    <tr>\n      <th>top</th>\n      <td>(월-일-시)</td>\n      <td>25</td>\n      <td>17</td>\n      <td>0.034</td>\n      <td>0.005</td>\n      <td>0.3</td>\n      <td>0.002</td>\n    </tr>\n    <tr>\n      <th>freq</th>\n      <td>1</td>\n      <td>34</td>\n      <td>45</td>\n      <td>31</td>\n      <td>41</td>\n      <td>150</td>\n      <td>230</td>\n    </tr>\n  </tbody>\n</table>\n</div>"
     },
     "execution_count": 2,
     "metadata": {},
     "output_type": "execute_result"
    }
   ],
   "source": [
    "df.describe()"
   ],
   "metadata": {
    "collapsed": false,
    "ExecuteTime": {
     "end_time": "2023-12-16T11:42:35.368114100Z",
     "start_time": "2023-12-16T11:42:35.274781500Z"
    }
   },
   "id": "6b9c37c642ea9b6a"
  },
  {
   "cell_type": "code",
   "execution_count": 3,
   "outputs": [
    {
     "data": {
      "text/plain": "(721, 7)"
     },
     "execution_count": 3,
     "metadata": {},
     "output_type": "execute_result"
    }
   ],
   "source": [
    "df.shape"
   ],
   "metadata": {
    "collapsed": false,
    "ExecuteTime": {
     "end_time": "2023-12-16T11:42:40.732610Z",
     "start_time": "2023-12-16T11:42:40.687501400Z"
    }
   },
   "id": "f5125dae50ebd104"
  },
  {
   "cell_type": "code",
   "execution_count": 4,
   "outputs": [
    {
     "data": {
      "text/plain": "Index(['날짜', 'PM10', 'PM2.5', '오 존', '이산화질소', '일산화탄소', '아황산가스'], dtype='object')"
     },
     "execution_count": 4,
     "metadata": {},
     "output_type": "execute_result"
    }
   ],
   "source": [
    "df.columns\n",
    "\n",
    "# O3: 오존, NO2 : 이산화질소 CO: 일산화탄소 SO2 : 아황산가스"
   ],
   "metadata": {
    "collapsed": false,
    "ExecuteTime": {
     "end_time": "2023-12-16T11:42:47.763302400Z",
     "start_time": "2023-12-16T11:42:47.704955800Z"
    }
   },
   "id": "30b856b3378247ff"
  },
  {
   "cell_type": "code",
   "execution_count": 5,
   "outputs": [
    {
     "data": {
      "text/plain": "           날짜   PM10  PM2.5    오 존  이산화질소  일산화탄소  아황산가스\n0     (월-일-시)  (㎍/㎥)  (㎍/㎥)  (ppm)  (ppm)  (ppm)  (ppm)\n1    06-01-01     42     28  0.031  0.026    0.4  0.005\n2    06-01-02     41     24  0.038  0.017    0.4  0.004\n3    06-01-03     38     26  0.035  0.016    0.4  0.004\n4    06-01-04     27     21  0.028  0.019    0.4  0.005\n..        ...    ...    ...    ...    ...    ...    ...\n716  06-30-20     34     26  0.048  0.025    0.3  0.007\n717  06-30-21     32     21  0.042  0.020    0.3  0.005\n718  06-30-22     27     24  0.038  0.018    0.3  0.003\n719  06-30-23     27     23  0.037  0.014    0.3  0.003\n720  06-30-24     31     23  0.034  0.014    0.3  0.004\n\n[721 rows x 7 columns]",
      "text/html": "<div>\n<style scoped>\n    .dataframe tbody tr th:only-of-type {\n        vertical-align: middle;\n    }\n\n    .dataframe tbody tr th {\n        vertical-align: top;\n    }\n\n    .dataframe thead th {\n        text-align: right;\n    }\n</style>\n<table border=\"1\" class=\"dataframe\">\n  <thead>\n    <tr style=\"text-align: right;\">\n      <th></th>\n      <th>날짜</th>\n      <th>PM10</th>\n      <th>PM2.5</th>\n      <th>오 존</th>\n      <th>이산화질소</th>\n      <th>일산화탄소</th>\n      <th>아황산가스</th>\n    </tr>\n  </thead>\n  <tbody>\n    <tr>\n      <th>0</th>\n      <td>(월-일-시)</td>\n      <td>(㎍/㎥)</td>\n      <td>(㎍/㎥)</td>\n      <td>(ppm)</td>\n      <td>(ppm)</td>\n      <td>(ppm)</td>\n      <td>(ppm)</td>\n    </tr>\n    <tr>\n      <th>1</th>\n      <td>06-01-01</td>\n      <td>42</td>\n      <td>28</td>\n      <td>0.031</td>\n      <td>0.026</td>\n      <td>0.4</td>\n      <td>0.005</td>\n    </tr>\n    <tr>\n      <th>2</th>\n      <td>06-01-02</td>\n      <td>41</td>\n      <td>24</td>\n      <td>0.038</td>\n      <td>0.017</td>\n      <td>0.4</td>\n      <td>0.004</td>\n    </tr>\n    <tr>\n      <th>3</th>\n      <td>06-01-03</td>\n      <td>38</td>\n      <td>26</td>\n      <td>0.035</td>\n      <td>0.016</td>\n      <td>0.4</td>\n      <td>0.004</td>\n    </tr>\n    <tr>\n      <th>4</th>\n      <td>06-01-04</td>\n      <td>27</td>\n      <td>21</td>\n      <td>0.028</td>\n      <td>0.019</td>\n      <td>0.4</td>\n      <td>0.005</td>\n    </tr>\n    <tr>\n      <th>...</th>\n      <td>...</td>\n      <td>...</td>\n      <td>...</td>\n      <td>...</td>\n      <td>...</td>\n      <td>...</td>\n      <td>...</td>\n    </tr>\n    <tr>\n      <th>716</th>\n      <td>06-30-20</td>\n      <td>34</td>\n      <td>26</td>\n      <td>0.048</td>\n      <td>0.025</td>\n      <td>0.3</td>\n      <td>0.007</td>\n    </tr>\n    <tr>\n      <th>717</th>\n      <td>06-30-21</td>\n      <td>32</td>\n      <td>21</td>\n      <td>0.042</td>\n      <td>0.020</td>\n      <td>0.3</td>\n      <td>0.005</td>\n    </tr>\n    <tr>\n      <th>718</th>\n      <td>06-30-22</td>\n      <td>27</td>\n      <td>24</td>\n      <td>0.038</td>\n      <td>0.018</td>\n      <td>0.3</td>\n      <td>0.003</td>\n    </tr>\n    <tr>\n      <th>719</th>\n      <td>06-30-23</td>\n      <td>27</td>\n      <td>23</td>\n      <td>0.037</td>\n      <td>0.014</td>\n      <td>0.3</td>\n      <td>0.003</td>\n    </tr>\n    <tr>\n      <th>720</th>\n      <td>06-30-24</td>\n      <td>31</td>\n      <td>23</td>\n      <td>0.034</td>\n      <td>0.014</td>\n      <td>0.3</td>\n      <td>0.004</td>\n    </tr>\n  </tbody>\n</table>\n<p>721 rows × 7 columns</p>\n</div>"
     },
     "execution_count": 5,
     "metadata": {},
     "output_type": "execute_result"
    }
   ],
   "source": [
    "# 예시\n",
    "\n",
    "df = pd.read_excel('./data/airQuality/21년6월.xls')\n",
    "df"
   ],
   "metadata": {
    "collapsed": false,
    "ExecuteTime": {
     "end_time": "2023-12-16T11:43:02.356817800Z",
     "start_time": "2023-12-16T11:43:02.280638Z"
    }
   },
   "id": "13644b034bf7731e"
  },
  {
   "cell_type": "markdown",
   "source": [
    "논문 사용 공기질 변수\n",
    ": PM10, PM2.5, O3(오존), NO2(이산화질소), CO(일산화탄소), SO2(아황산가스)"
   ],
   "metadata": {
    "collapsed": false
   },
   "id": "fa1ba8cdc2bf0498"
  },
  {
   "cell_type": "code",
   "execution_count": 6,
   "outputs": [
    {
     "name": "stdout",
     "output_type": "stream",
     "text": [
      "           날짜   PM10  PM2.5    오 존  이산화질소  일산화탄소  아황산가스\n",
      "0     (월-일-시)  (㎍/㎥)  (㎍/㎥)  (ppm)  (ppm)  (ppm)  (ppm)\n",
      "1    06-01-01     42     28  0.031  0.026    0.4  0.005\n",
      "2    06-01-02     41     24  0.038  0.017    0.4  0.004\n",
      "3    06-01-03     38     26  0.035  0.016    0.4  0.004\n",
      "4    06-01-04     27     21  0.028  0.019    0.4  0.005\n",
      "..        ...    ...    ...    ...    ...    ...    ...\n",
      "716  06-30-20     34     26  0.048  0.025    0.3  0.007\n",
      "717  06-30-21     32     21  0.042  0.020    0.3  0.005\n",
      "718  06-30-22     27     24  0.038  0.018    0.3  0.003\n",
      "719  06-30-23     27     23  0.037  0.014    0.3  0.003\n",
      "720  06-30-24     31     23  0.034  0.014    0.3  0.004\n",
      "\n",
      "[721 rows x 7 columns]\n"
     ]
    }
   ],
   "source": [
    "print(df)\n",
    "# 첫 번째 행 제외해야함"
   ],
   "metadata": {
    "collapsed": false,
    "ExecuteTime": {
     "end_time": "2023-12-16T11:46:29.641730500Z",
     "start_time": "2023-12-16T11:46:29.578022200Z"
    }
   },
   "id": "22b972547f0f39ce"
  },
  {
   "cell_type": "code",
   "execution_count": 25,
   "outputs": [
    {
     "name": "stdout",
     "output_type": "stream",
     "text": [
      "         날짜  PM10  PM2.5    오 존  이산화질소  일산화탄소  아황산가스\n",
      "0  09-01-01  16.0   16.0  0.026  0.004    0.1  0.001\n",
      "1  09-01-02  11.0    9.0  0.029  0.003    0.1  0.001\n",
      "2  09-01-03  11.0    8.0  0.030  0.004    0.1  0.001\n",
      "3  09-01-04  17.0    7.0  0.031  0.004    0.1  0.001\n",
      "4  09-01-05  12.0   11.0  0.031  0.004    0.1  0.001\n"
     ]
    }
   ],
   "source": [
    "import pandas as pd\n",
    "\n",
    "air = pd.read_excel('./data/airQuality/20년9월.xls', skiprows=[1])\n",
    "\n",
    "# print(air.columns)\n",
    "print(air.head())"
   ],
   "metadata": {
    "collapsed": false,
    "ExecuteTime": {
     "end_time": "2023-12-16T13:03:54.722722500Z",
     "start_time": "2023-12-16T13:03:54.685789200Z"
    }
   },
   "id": "2bc7dda8515604b3"
  },
  {
   "cell_type": "code",
   "execution_count": 26,
   "outputs": [
    {
     "data": {
      "text/plain": "          날짜  PM10  PM2.5    오 존  이산화질소  일산화탄소  아황산가스\n0   09-01-01  16.0   16.0  0.026  0.004    0.1  0.001\n1   09-01-02  11.0    9.0  0.029  0.003    0.1  0.001\n2   09-01-03  11.0    8.0  0.030  0.004    0.1  0.001\n3   09-01-04  17.0    7.0  0.031  0.004    0.1  0.001\n4   09-01-05  12.0   11.0  0.031  0.004    0.1  0.001\n..       ...   ...    ...    ...    ...    ...    ...\n95  09-04-24   NaN    NaN    NaN    NaN    NaN    NaN\n96  09-05-01   NaN    NaN    NaN    NaN    NaN    NaN\n97  09-05-02   NaN    NaN    NaN    NaN    NaN    NaN\n98  09-05-03   NaN    NaN    NaN    NaN    NaN    NaN\n99  09-05-04   NaN    NaN    NaN    NaN    NaN    NaN\n\n[100 rows x 7 columns]",
      "text/html": "<div>\n<style scoped>\n    .dataframe tbody tr th:only-of-type {\n        vertical-align: middle;\n    }\n\n    .dataframe tbody tr th {\n        vertical-align: top;\n    }\n\n    .dataframe thead th {\n        text-align: right;\n    }\n</style>\n<table border=\"1\" class=\"dataframe\">\n  <thead>\n    <tr style=\"text-align: right;\">\n      <th></th>\n      <th>날짜</th>\n      <th>PM10</th>\n      <th>PM2.5</th>\n      <th>오 존</th>\n      <th>이산화질소</th>\n      <th>일산화탄소</th>\n      <th>아황산가스</th>\n    </tr>\n  </thead>\n  <tbody>\n    <tr>\n      <th>0</th>\n      <td>09-01-01</td>\n      <td>16.0</td>\n      <td>16.0</td>\n      <td>0.026</td>\n      <td>0.004</td>\n      <td>0.1</td>\n      <td>0.001</td>\n    </tr>\n    <tr>\n      <th>1</th>\n      <td>09-01-02</td>\n      <td>11.0</td>\n      <td>9.0</td>\n      <td>0.029</td>\n      <td>0.003</td>\n      <td>0.1</td>\n      <td>0.001</td>\n    </tr>\n    <tr>\n      <th>2</th>\n      <td>09-01-03</td>\n      <td>11.0</td>\n      <td>8.0</td>\n      <td>0.030</td>\n      <td>0.004</td>\n      <td>0.1</td>\n      <td>0.001</td>\n    </tr>\n    <tr>\n      <th>3</th>\n      <td>09-01-04</td>\n      <td>17.0</td>\n      <td>7.0</td>\n      <td>0.031</td>\n      <td>0.004</td>\n      <td>0.1</td>\n      <td>0.001</td>\n    </tr>\n    <tr>\n      <th>4</th>\n      <td>09-01-05</td>\n      <td>12.0</td>\n      <td>11.0</td>\n      <td>0.031</td>\n      <td>0.004</td>\n      <td>0.1</td>\n      <td>0.001</td>\n    </tr>\n    <tr>\n      <th>...</th>\n      <td>...</td>\n      <td>...</td>\n      <td>...</td>\n      <td>...</td>\n      <td>...</td>\n      <td>...</td>\n      <td>...</td>\n    </tr>\n    <tr>\n      <th>95</th>\n      <td>09-04-24</td>\n      <td>NaN</td>\n      <td>NaN</td>\n      <td>NaN</td>\n      <td>NaN</td>\n      <td>NaN</td>\n      <td>NaN</td>\n    </tr>\n    <tr>\n      <th>96</th>\n      <td>09-05-01</td>\n      <td>NaN</td>\n      <td>NaN</td>\n      <td>NaN</td>\n      <td>NaN</td>\n      <td>NaN</td>\n      <td>NaN</td>\n    </tr>\n    <tr>\n      <th>97</th>\n      <td>09-05-02</td>\n      <td>NaN</td>\n      <td>NaN</td>\n      <td>NaN</td>\n      <td>NaN</td>\n      <td>NaN</td>\n      <td>NaN</td>\n    </tr>\n    <tr>\n      <th>98</th>\n      <td>09-05-03</td>\n      <td>NaN</td>\n      <td>NaN</td>\n      <td>NaN</td>\n      <td>NaN</td>\n      <td>NaN</td>\n      <td>NaN</td>\n    </tr>\n    <tr>\n      <th>99</th>\n      <td>09-05-04</td>\n      <td>NaN</td>\n      <td>NaN</td>\n      <td>NaN</td>\n      <td>NaN</td>\n      <td>NaN</td>\n      <td>NaN</td>\n    </tr>\n  </tbody>\n</table>\n<p>100 rows × 7 columns</p>\n</div>"
     },
     "execution_count": 26,
     "metadata": {},
     "output_type": "execute_result"
    }
   ],
   "source": [
    "air.head(100)"
   ],
   "metadata": {
    "collapsed": false,
    "ExecuteTime": {
     "end_time": "2023-12-16T13:03:55.854241300Z",
     "start_time": "2023-12-16T13:03:55.829435300Z"
    }
   },
   "id": "31ae1d601f199e56"
  },
  {
   "cell_type": "code",
   "execution_count": 27,
   "outputs": [
    {
     "name": "stdout",
     "output_type": "stream",
     "text": [
      "열 이름:  Index(['날짜', 'PM10', 'PM2.5', '오 존', '이산화질소', '일산화탄소', '아황산가스'], dtype='object')\n"
     ]
    },
    {
     "ename": "ValueError",
     "evalue": "unconverted data remains: 4",
     "output_type": "error",
     "traceback": [
      "\u001B[1;31m---------------------------------------------------------------------------\u001B[0m",
      "\u001B[1;31mValueError\u001B[0m                                Traceback (most recent call last)",
      "Cell \u001B[1;32mIn[27], line 8\u001B[0m\n\u001B[0;32m      4\u001B[0m \u001B[38;5;28mprint\u001B[39m(\u001B[38;5;124m\"\u001B[39m\u001B[38;5;124m열 이름: \u001B[39m\u001B[38;5;124m\"\u001B[39m , air\u001B[38;5;241m.\u001B[39mcolumns)\n\u001B[0;32m      7\u001B[0m \u001B[38;5;66;03m# datetime 변환\u001B[39;00m\n\u001B[1;32m----> 8\u001B[0m air[\u001B[38;5;124m'\u001B[39m\u001B[38;5;124m날짜\u001B[39m\u001B[38;5;124m'\u001B[39m] \u001B[38;5;241m=\u001B[39m pd\u001B[38;5;241m.\u001B[39mto_datetime(air[\u001B[38;5;124m'\u001B[39m\u001B[38;5;124m날짜\u001B[39m\u001B[38;5;124m'\u001B[39m], \u001B[38;5;28mformat\u001B[39m\u001B[38;5;241m=\u001B[39m\u001B[38;5;124m'\u001B[39m\u001B[38;5;124m%\u001B[39m\u001B[38;5;124mm-\u001B[39m\u001B[38;5;132;01m%d\u001B[39;00m\u001B[38;5;124m-\u001B[39m\u001B[38;5;124m%\u001B[39m\u001B[38;5;124mH\u001B[39m\u001B[38;5;124m'\u001B[39m)\n\u001B[0;32m     10\u001B[0m \u001B[38;5;66;03m# 날짜와 시간 열 분리\u001B[39;00m\n\u001B[0;32m     11\u001B[0m air[\u001B[38;5;124m'\u001B[39m\u001B[38;5;124m날짜\u001B[39m\u001B[38;5;124m'\u001B[39m] \u001B[38;5;241m=\u001B[39m air[\u001B[38;5;124m'\u001B[39m\u001B[38;5;124m날짜\u001B[39m\u001B[38;5;124m'\u001B[39m]\u001B[38;5;241m.\u001B[39mdt\u001B[38;5;241m.\u001B[39mdate\n",
      "File \u001B[1;32m~\\AppData\\Local\\anaconda3\\Lib\\site-packages\\pandas\\core\\tools\\datetimes.py:1068\u001B[0m, in \u001B[0;36mto_datetime\u001B[1;34m(arg, errors, dayfirst, yearfirst, utc, format, exact, unit, infer_datetime_format, origin, cache)\u001B[0m\n\u001B[0;32m   1066\u001B[0m         result \u001B[38;5;241m=\u001B[39m arg\u001B[38;5;241m.\u001B[39mmap(cache_array)\n\u001B[0;32m   1067\u001B[0m     \u001B[38;5;28;01melse\u001B[39;00m:\n\u001B[1;32m-> 1068\u001B[0m         values \u001B[38;5;241m=\u001B[39m convert_listlike(arg\u001B[38;5;241m.\u001B[39m_values, \u001B[38;5;28mformat\u001B[39m)\n\u001B[0;32m   1069\u001B[0m         result \u001B[38;5;241m=\u001B[39m arg\u001B[38;5;241m.\u001B[39m_constructor(values, index\u001B[38;5;241m=\u001B[39marg\u001B[38;5;241m.\u001B[39mindex, name\u001B[38;5;241m=\u001B[39marg\u001B[38;5;241m.\u001B[39mname)\n\u001B[0;32m   1070\u001B[0m \u001B[38;5;28;01melif\u001B[39;00m \u001B[38;5;28misinstance\u001B[39m(arg, (ABCDataFrame, abc\u001B[38;5;241m.\u001B[39mMutableMapping)):\n",
      "File \u001B[1;32m~\\AppData\\Local\\anaconda3\\Lib\\site-packages\\pandas\\core\\tools\\datetimes.py:430\u001B[0m, in \u001B[0;36m_convert_listlike_datetimes\u001B[1;34m(arg, format, name, tz, unit, errors, infer_datetime_format, dayfirst, yearfirst, exact)\u001B[0m\n\u001B[0;32m    427\u001B[0m         \u001B[38;5;28mformat\u001B[39m \u001B[38;5;241m=\u001B[39m \u001B[38;5;28;01mNone\u001B[39;00m\n\u001B[0;32m    429\u001B[0m \u001B[38;5;28;01mif\u001B[39;00m \u001B[38;5;28mformat\u001B[39m \u001B[38;5;129;01mis\u001B[39;00m \u001B[38;5;129;01mnot\u001B[39;00m \u001B[38;5;28;01mNone\u001B[39;00m:\n\u001B[1;32m--> 430\u001B[0m     res \u001B[38;5;241m=\u001B[39m _to_datetime_with_format(\n\u001B[0;32m    431\u001B[0m         arg, orig_arg, name, tz, \u001B[38;5;28mformat\u001B[39m, exact, errors, infer_datetime_format\n\u001B[0;32m    432\u001B[0m     )\n\u001B[0;32m    433\u001B[0m     \u001B[38;5;28;01mif\u001B[39;00m res \u001B[38;5;129;01mis\u001B[39;00m \u001B[38;5;129;01mnot\u001B[39;00m \u001B[38;5;28;01mNone\u001B[39;00m:\n\u001B[0;32m    434\u001B[0m         \u001B[38;5;28;01mreturn\u001B[39;00m res\n",
      "File \u001B[1;32m~\\AppData\\Local\\anaconda3\\Lib\\site-packages\\pandas\\core\\tools\\datetimes.py:538\u001B[0m, in \u001B[0;36m_to_datetime_with_format\u001B[1;34m(arg, orig_arg, name, tz, fmt, exact, errors, infer_datetime_format)\u001B[0m\n\u001B[0;32m    535\u001B[0m         \u001B[38;5;28;01mreturn\u001B[39;00m _box_as_indexlike(result, utc\u001B[38;5;241m=\u001B[39mutc, name\u001B[38;5;241m=\u001B[39mname)\n\u001B[0;32m    537\u001B[0m \u001B[38;5;66;03m# fallback\u001B[39;00m\n\u001B[1;32m--> 538\u001B[0m res \u001B[38;5;241m=\u001B[39m _array_strptime_with_fallback(\n\u001B[0;32m    539\u001B[0m     arg, name, tz, fmt, exact, errors, infer_datetime_format\n\u001B[0;32m    540\u001B[0m )\n\u001B[0;32m    541\u001B[0m \u001B[38;5;28;01mreturn\u001B[39;00m res\n",
      "File \u001B[1;32m~\\AppData\\Local\\anaconda3\\Lib\\site-packages\\pandas\\core\\tools\\datetimes.py:473\u001B[0m, in \u001B[0;36m_array_strptime_with_fallback\u001B[1;34m(arg, name, tz, fmt, exact, errors, infer_datetime_format)\u001B[0m\n\u001B[0;32m    470\u001B[0m utc \u001B[38;5;241m=\u001B[39m tz \u001B[38;5;241m==\u001B[39m \u001B[38;5;124m\"\u001B[39m\u001B[38;5;124mutc\u001B[39m\u001B[38;5;124m\"\u001B[39m\n\u001B[0;32m    472\u001B[0m \u001B[38;5;28;01mtry\u001B[39;00m:\n\u001B[1;32m--> 473\u001B[0m     result, timezones \u001B[38;5;241m=\u001B[39m array_strptime(arg, fmt, exact\u001B[38;5;241m=\u001B[39mexact, errors\u001B[38;5;241m=\u001B[39merrors)\n\u001B[0;32m    474\u001B[0m \u001B[38;5;28;01mexcept\u001B[39;00m OutOfBoundsDatetime:\n\u001B[0;32m    475\u001B[0m     \u001B[38;5;28;01mif\u001B[39;00m errors \u001B[38;5;241m==\u001B[39m \u001B[38;5;124m\"\u001B[39m\u001B[38;5;124mraise\u001B[39m\u001B[38;5;124m\"\u001B[39m:\n",
      "File \u001B[1;32m~\\AppData\\Local\\anaconda3\\Lib\\site-packages\\pandas\\_libs\\tslibs\\strptime.pyx:156\u001B[0m, in \u001B[0;36mpandas._libs.tslibs.strptime.array_strptime\u001B[1;34m()\u001B[0m\n",
      "\u001B[1;31mValueError\u001B[0m: unconverted data remains: 4"
     ]
    }
   ],
   "source": [
    "import pandas as pd\n",
    "\n",
    "air = pd.read_excel('./data/airQuality/20년9월.xls', skiprows=[1])\n",
    "print(\"열 이름: \" , air.columns)\n",
    "\n",
    "\n",
    "# datetime 변환\n",
    "air['날짜'] = pd.to_datetime(air['날짜'], format='%m-%d-%H')\n",
    "\n",
    "# 날짜와 시간 열 분리\n",
    "air['날짜'] = air['날짜'].dt.date\n",
    "air['시간대'] = air['날짜'].dt.hour\n",
    "\n",
    "\n",
    "## 오류"
   ],
   "metadata": {
    "collapsed": false,
    "ExecuteTime": {
     "end_time": "2023-12-16T13:04:28.607074600Z",
     "start_time": "2023-12-16T13:04:28.470692800Z"
    }
   },
   "id": "5912757a80d4e9f3"
  },
  {
   "cell_type": "code",
   "execution_count": 23,
   "outputs": [
    {
     "name": "stdout",
     "output_type": "stream",
     "text": [
      "열 이름:  Index(['날짜', 'PM10', 'PM2.5', '오 존', '이산화질소', '일산화탄소', '아황산가스'], dtype='object')\n",
      "오류가 발생한 데이터:\n",
      "     날짜  PM10  PM2.5    오 존  이산화질소  일산화탄소  아황산가스\n",
      "23  NaT   NaN    NaN    NaN    NaN    NaN    NaN\n",
      "47  NaT   NaN    NaN    NaN    NaN    NaN    NaN\n",
      "71  NaT   NaN    NaN    NaN    NaN    NaN    NaN\n",
      "95  NaT   NaN    NaN    NaN    NaN    NaN    NaN\n",
      "119 NaT   NaN    NaN    NaN    NaN    NaN    NaN\n",
      "143 NaT   NaN    NaN    NaN    NaN    NaN    NaN\n",
      "167 NaT   NaN    NaN    NaN    NaN    NaN    NaN\n",
      "191 NaT  68.0   54.0  0.077  0.008    0.5  0.002\n",
      "215 NaT  29.0   17.0  0.039  0.007    0.5  0.001\n",
      "239 NaT  45.0   30.0  0.040  0.012    0.6  0.002\n",
      "263 NaT  20.0    NaN  0.044  0.005    0.4  0.001\n",
      "287 NaT  11.0    6.0  0.047  0.003    0.2  0.001\n",
      "311 NaT  17.0   12.0  0.027  0.007    0.4  0.001\n",
      "335 NaT  19.0   12.0  0.019  0.010    0.4  0.001\n",
      "359 NaT  30.0   21.0  0.041  0.010    0.3  0.002\n",
      "383 NaT  34.0   24.0  0.004  0.022    0.5  0.002\n",
      "407 NaT  25.0   19.0  0.031  0.007    0.3  0.001\n",
      "431 NaT  27.0   18.0  0.025  0.011    0.3  0.001\n",
      "455 NaT  25.0   20.0  0.056  0.005    0.3  0.002\n",
      "479 NaT  30.0   22.0  0.037  0.012    0.3  0.002\n",
      "503 NaT  32.0   17.0  0.043  0.009    0.2  0.002\n",
      "527 NaT  17.0    9.0  0.036  0.005    0.2  0.001\n",
      "551 NaT  13.0    8.0  0.036  0.005    0.2  0.001\n",
      "575 NaT  21.0   17.0  0.036  0.006    0.1  0.001\n",
      "599 NaT  22.0   13.0  0.031  0.008    0.2  0.002\n",
      "623 NaT  16.0   12.0  0.037  0.006    0.1  0.001\n",
      "647 NaT  33.0   20.0  0.033  0.006    0.1  0.002\n",
      "671 NaT  39.0   22.0  0.012  0.029    0.3  0.002\n",
      "695 NaT  63.0   24.0  0.032  0.016    0.4  0.002\n",
      "719 NaT  25.0   18.0  0.052  0.006    0.2  0.002\n"
     ]
    }
   ],
   "source": [
    "import pandas as pd\n",
    "\n",
    "air = pd.read_excel('./data/airQuality/20년9월.xls', skiprows=[1])\n",
    "print(\"열 이름: \" , air.columns)\n",
    "\n",
    "\n",
    "# datetime 변환\n",
    "air['날짜'] = pd.to_datetime(air['날짜'], format='%m-%d-%H', errors='coerce')\n",
    "\n",
    "error_rows = air[air['날짜'].isna()]\n",
    "if not error_rows.empty:\n",
    "    print(\"오류가 발생한 데이터:\")\n",
    "    print(error_rows)\n",
    "else:\n",
    "    print(\"모든 데이터가 올바른 형식입니다.\")"
   ],
   "metadata": {
    "collapsed": false,
    "ExecuteTime": {
     "end_time": "2023-12-16T13:02:27.798030400Z",
     "start_time": "2023-12-16T13:02:27.741446Z"
    }
   },
   "id": "2e79b1f8dc8db794"
  },
  {
   "cell_type": "code",
   "execution_count": 29,
   "outputs": [
    {
     "name": "stdout",
     "output_type": "stream",
     "text": [
      "날짜 열의 데이터 타입: object\n"
     ]
    }
   ],
   "source": [
    "print(\"날짜 열의 데이터 타입:\", air['날짜'].dtype)"
   ],
   "metadata": {
    "collapsed": false,
    "ExecuteTime": {
     "end_time": "2023-12-16T13:26:08.856609500Z",
     "start_time": "2023-12-16T13:26:08.816920100Z"
    }
   },
   "id": "71d2e43cf4de33db"
  },
  {
   "cell_type": "code",
   "execution_count": 30,
   "outputs": [
    {
     "ename": "ValueError",
     "evalue": "unconverted data remains: 4",
     "output_type": "error",
     "traceback": [
      "\u001B[1;31m---------------------------------------------------------------------------\u001B[0m",
      "\u001B[1;31mValueError\u001B[0m                                Traceback (most recent call last)",
      "Cell \u001B[1;32mIn[30], line 4\u001B[0m\n\u001B[0;32m      2\u001B[0m air \u001B[38;5;241m=\u001B[39m pd\u001B[38;5;241m.\u001B[39mread_excel(\u001B[38;5;124m'\u001B[39m\u001B[38;5;124m./data/airQuality/20년9월.xls\u001B[39m\u001B[38;5;124m'\u001B[39m, skiprows\u001B[38;5;241m=\u001B[39m[\u001B[38;5;241m1\u001B[39m])\n\u001B[0;32m      3\u001B[0m air[\u001B[38;5;124m'\u001B[39m\u001B[38;5;124m날짜\u001B[39m\u001B[38;5;124m'\u001B[39m] \u001B[38;5;241m=\u001B[39m air[\u001B[38;5;124m'\u001B[39m\u001B[38;5;124m날짜\u001B[39m\u001B[38;5;124m'\u001B[39m]\u001B[38;5;241m.\u001B[39mastype(\u001B[38;5;28mstr\u001B[39m)\n\u001B[1;32m----> 4\u001B[0m air[\u001B[38;5;124m'\u001B[39m\u001B[38;5;124m날짜\u001B[39m\u001B[38;5;124m'\u001B[39m] \u001B[38;5;241m=\u001B[39m pd\u001B[38;5;241m.\u001B[39mto_datetime(air[\u001B[38;5;124m'\u001B[39m\u001B[38;5;124m날짜\u001B[39m\u001B[38;5;124m'\u001B[39m], \u001B[38;5;28mformat\u001B[39m\u001B[38;5;241m=\u001B[39m\u001B[38;5;124m'\u001B[39m\u001B[38;5;124m%\u001B[39m\u001B[38;5;124mm-\u001B[39m\u001B[38;5;132;01m%d\u001B[39;00m\u001B[38;5;124m-\u001B[39m\u001B[38;5;124m%\u001B[39m\u001B[38;5;124mH\u001B[39m\u001B[38;5;124m'\u001B[39m)\n\u001B[0;32m      5\u001B[0m \u001B[38;5;66;03m# \u001B[39;00m\n\u001B[0;32m      6\u001B[0m \u001B[38;5;66;03m# # 오류가 발생한 데이터 확인\u001B[39;00m\n\u001B[0;32m      7\u001B[0m \u001B[38;5;66;03m# error_rows = air[air['날짜'].isna()]\u001B[39;00m\n\u001B[1;32m   (...)\u001B[0m\n\u001B[0;32m     17\u001B[0m \n\u001B[0;32m     18\u001B[0m \u001B[38;5;66;03m# 결과 확인\u001B[39;00m\n\u001B[0;32m     19\u001B[0m \u001B[38;5;28mprint\u001B[39m(air\u001B[38;5;241m.\u001B[39mhead())\n",
      "File \u001B[1;32m~\\AppData\\Local\\anaconda3\\Lib\\site-packages\\pandas\\core\\tools\\datetimes.py:1068\u001B[0m, in \u001B[0;36mto_datetime\u001B[1;34m(arg, errors, dayfirst, yearfirst, utc, format, exact, unit, infer_datetime_format, origin, cache)\u001B[0m\n\u001B[0;32m   1066\u001B[0m         result \u001B[38;5;241m=\u001B[39m arg\u001B[38;5;241m.\u001B[39mmap(cache_array)\n\u001B[0;32m   1067\u001B[0m     \u001B[38;5;28;01melse\u001B[39;00m:\n\u001B[1;32m-> 1068\u001B[0m         values \u001B[38;5;241m=\u001B[39m convert_listlike(arg\u001B[38;5;241m.\u001B[39m_values, \u001B[38;5;28mformat\u001B[39m)\n\u001B[0;32m   1069\u001B[0m         result \u001B[38;5;241m=\u001B[39m arg\u001B[38;5;241m.\u001B[39m_constructor(values, index\u001B[38;5;241m=\u001B[39marg\u001B[38;5;241m.\u001B[39mindex, name\u001B[38;5;241m=\u001B[39marg\u001B[38;5;241m.\u001B[39mname)\n\u001B[0;32m   1070\u001B[0m \u001B[38;5;28;01melif\u001B[39;00m \u001B[38;5;28misinstance\u001B[39m(arg, (ABCDataFrame, abc\u001B[38;5;241m.\u001B[39mMutableMapping)):\n",
      "File \u001B[1;32m~\\AppData\\Local\\anaconda3\\Lib\\site-packages\\pandas\\core\\tools\\datetimes.py:430\u001B[0m, in \u001B[0;36m_convert_listlike_datetimes\u001B[1;34m(arg, format, name, tz, unit, errors, infer_datetime_format, dayfirst, yearfirst, exact)\u001B[0m\n\u001B[0;32m    427\u001B[0m         \u001B[38;5;28mformat\u001B[39m \u001B[38;5;241m=\u001B[39m \u001B[38;5;28;01mNone\u001B[39;00m\n\u001B[0;32m    429\u001B[0m \u001B[38;5;28;01mif\u001B[39;00m \u001B[38;5;28mformat\u001B[39m \u001B[38;5;129;01mis\u001B[39;00m \u001B[38;5;129;01mnot\u001B[39;00m \u001B[38;5;28;01mNone\u001B[39;00m:\n\u001B[1;32m--> 430\u001B[0m     res \u001B[38;5;241m=\u001B[39m _to_datetime_with_format(\n\u001B[0;32m    431\u001B[0m         arg, orig_arg, name, tz, \u001B[38;5;28mformat\u001B[39m, exact, errors, infer_datetime_format\n\u001B[0;32m    432\u001B[0m     )\n\u001B[0;32m    433\u001B[0m     \u001B[38;5;28;01mif\u001B[39;00m res \u001B[38;5;129;01mis\u001B[39;00m \u001B[38;5;129;01mnot\u001B[39;00m \u001B[38;5;28;01mNone\u001B[39;00m:\n\u001B[0;32m    434\u001B[0m         \u001B[38;5;28;01mreturn\u001B[39;00m res\n",
      "File \u001B[1;32m~\\AppData\\Local\\anaconda3\\Lib\\site-packages\\pandas\\core\\tools\\datetimes.py:538\u001B[0m, in \u001B[0;36m_to_datetime_with_format\u001B[1;34m(arg, orig_arg, name, tz, fmt, exact, errors, infer_datetime_format)\u001B[0m\n\u001B[0;32m    535\u001B[0m         \u001B[38;5;28;01mreturn\u001B[39;00m _box_as_indexlike(result, utc\u001B[38;5;241m=\u001B[39mutc, name\u001B[38;5;241m=\u001B[39mname)\n\u001B[0;32m    537\u001B[0m \u001B[38;5;66;03m# fallback\u001B[39;00m\n\u001B[1;32m--> 538\u001B[0m res \u001B[38;5;241m=\u001B[39m _array_strptime_with_fallback(\n\u001B[0;32m    539\u001B[0m     arg, name, tz, fmt, exact, errors, infer_datetime_format\n\u001B[0;32m    540\u001B[0m )\n\u001B[0;32m    541\u001B[0m \u001B[38;5;28;01mreturn\u001B[39;00m res\n",
      "File \u001B[1;32m~\\AppData\\Local\\anaconda3\\Lib\\site-packages\\pandas\\core\\tools\\datetimes.py:473\u001B[0m, in \u001B[0;36m_array_strptime_with_fallback\u001B[1;34m(arg, name, tz, fmt, exact, errors, infer_datetime_format)\u001B[0m\n\u001B[0;32m    470\u001B[0m utc \u001B[38;5;241m=\u001B[39m tz \u001B[38;5;241m==\u001B[39m \u001B[38;5;124m\"\u001B[39m\u001B[38;5;124mutc\u001B[39m\u001B[38;5;124m\"\u001B[39m\n\u001B[0;32m    472\u001B[0m \u001B[38;5;28;01mtry\u001B[39;00m:\n\u001B[1;32m--> 473\u001B[0m     result, timezones \u001B[38;5;241m=\u001B[39m array_strptime(arg, fmt, exact\u001B[38;5;241m=\u001B[39mexact, errors\u001B[38;5;241m=\u001B[39merrors)\n\u001B[0;32m    474\u001B[0m \u001B[38;5;28;01mexcept\u001B[39;00m OutOfBoundsDatetime:\n\u001B[0;32m    475\u001B[0m     \u001B[38;5;28;01mif\u001B[39;00m errors \u001B[38;5;241m==\u001B[39m \u001B[38;5;124m\"\u001B[39m\u001B[38;5;124mraise\u001B[39m\u001B[38;5;124m\"\u001B[39m:\n",
      "File \u001B[1;32m~\\AppData\\Local\\anaconda3\\Lib\\site-packages\\pandas\\_libs\\tslibs\\strptime.pyx:156\u001B[0m, in \u001B[0;36mpandas._libs.tslibs.strptime.array_strptime\u001B[1;34m()\u001B[0m\n",
      "\u001B[1;31mValueError\u001B[0m: unconverted data remains: 4"
     ]
    }
   ],
   "source": [
    "import pandas as pd\n",
    "air = pd.read_excel('./data/airQuality/20년9월.xls', skiprows=[1])\n",
    "air['날짜'] = air['날짜'].astype(str)\n",
    "air['날짜'] = pd.to_datetime(air['날짜'], format='%m-%d-%H')\n",
    "\n",
    "\n",
    "# 결과 확인\n",
    "print(air.head())\n",
    "\n",
    "# 오류"
   ],
   "metadata": {
    "collapsed": false,
    "ExecuteTime": {
     "end_time": "2023-12-16T13:27:46.579071200Z",
     "start_time": "2023-12-16T13:27:46.451297400Z"
    }
   },
   "id": "9f4f930c39925184"
  },
  {
   "cell_type": "code",
   "execution_count": 32,
   "outputs": [
    {
     "data": {
      "text/plain": "          날짜  PM10  PM2.5    오 존  이산화질소  일산화탄소  아황산가스\n0   09-01-01  16.0   16.0  0.026  0.004    0.1  0.001\n1   09-01-02  11.0    9.0  0.029  0.003    0.1  0.001\n2   09-01-03  11.0    8.0  0.030  0.004    0.1  0.001\n3   09-01-04  17.0    7.0  0.031  0.004    0.1  0.001\n4   09-01-05  12.0   11.0  0.031  0.004    0.1  0.001\n5   09-01-06  18.0   11.0  0.030  0.005    0.1  0.001\n6   09-01-07  17.0   10.0  0.025  0.009    0.1  0.001\n7   09-01-08  17.0    9.0  0.020  0.014    0.1  0.001\n8   09-01-09  14.0    9.0  0.019  0.015    0.1  0.002\n9   09-01-10  21.0   12.0  0.021  0.014    0.1  0.002\n10  09-01-11  13.0    7.0  0.026  0.012    0.2  0.002\n11  09-01-12  15.0    8.0  0.028  0.014    0.1  0.004\n12  09-01-13   NaN    NaN    NaN    NaN    NaN    NaN\n13  09-01-14   NaN    NaN    NaN    NaN    NaN    NaN\n14  09-01-15   NaN    NaN    NaN    NaN    NaN    NaN\n15  09-01-16   NaN    NaN    NaN    NaN    NaN    NaN\n16  09-01-17   NaN    NaN    NaN    NaN    NaN    NaN\n17  09-01-18   NaN    NaN    NaN    NaN    NaN    NaN\n18  09-01-19   NaN    NaN    NaN    NaN    NaN    NaN\n19  09-01-20   NaN    NaN    NaN    NaN    NaN    NaN\n20  09-01-21   NaN    NaN    NaN    NaN    NaN    NaN\n21  09-01-22   NaN    NaN    NaN    NaN    NaN    NaN\n22  09-01-23   NaN    NaN    NaN    NaN    NaN    NaN\n23  09-01-24   NaN    NaN    NaN    NaN    NaN    NaN",
      "text/html": "<div>\n<style scoped>\n    .dataframe tbody tr th:only-of-type {\n        vertical-align: middle;\n    }\n\n    .dataframe tbody tr th {\n        vertical-align: top;\n    }\n\n    .dataframe thead th {\n        text-align: right;\n    }\n</style>\n<table border=\"1\" class=\"dataframe\">\n  <thead>\n    <tr style=\"text-align: right;\">\n      <th></th>\n      <th>날짜</th>\n      <th>PM10</th>\n      <th>PM2.5</th>\n      <th>오 존</th>\n      <th>이산화질소</th>\n      <th>일산화탄소</th>\n      <th>아황산가스</th>\n    </tr>\n  </thead>\n  <tbody>\n    <tr>\n      <th>0</th>\n      <td>09-01-01</td>\n      <td>16.0</td>\n      <td>16.0</td>\n      <td>0.026</td>\n      <td>0.004</td>\n      <td>0.1</td>\n      <td>0.001</td>\n    </tr>\n    <tr>\n      <th>1</th>\n      <td>09-01-02</td>\n      <td>11.0</td>\n      <td>9.0</td>\n      <td>0.029</td>\n      <td>0.003</td>\n      <td>0.1</td>\n      <td>0.001</td>\n    </tr>\n    <tr>\n      <th>2</th>\n      <td>09-01-03</td>\n      <td>11.0</td>\n      <td>8.0</td>\n      <td>0.030</td>\n      <td>0.004</td>\n      <td>0.1</td>\n      <td>0.001</td>\n    </tr>\n    <tr>\n      <th>3</th>\n      <td>09-01-04</td>\n      <td>17.0</td>\n      <td>7.0</td>\n      <td>0.031</td>\n      <td>0.004</td>\n      <td>0.1</td>\n      <td>0.001</td>\n    </tr>\n    <tr>\n      <th>4</th>\n      <td>09-01-05</td>\n      <td>12.0</td>\n      <td>11.0</td>\n      <td>0.031</td>\n      <td>0.004</td>\n      <td>0.1</td>\n      <td>0.001</td>\n    </tr>\n    <tr>\n      <th>5</th>\n      <td>09-01-06</td>\n      <td>18.0</td>\n      <td>11.0</td>\n      <td>0.030</td>\n      <td>0.005</td>\n      <td>0.1</td>\n      <td>0.001</td>\n    </tr>\n    <tr>\n      <th>6</th>\n      <td>09-01-07</td>\n      <td>17.0</td>\n      <td>10.0</td>\n      <td>0.025</td>\n      <td>0.009</td>\n      <td>0.1</td>\n      <td>0.001</td>\n    </tr>\n    <tr>\n      <th>7</th>\n      <td>09-01-08</td>\n      <td>17.0</td>\n      <td>9.0</td>\n      <td>0.020</td>\n      <td>0.014</td>\n      <td>0.1</td>\n      <td>0.001</td>\n    </tr>\n    <tr>\n      <th>8</th>\n      <td>09-01-09</td>\n      <td>14.0</td>\n      <td>9.0</td>\n      <td>0.019</td>\n      <td>0.015</td>\n      <td>0.1</td>\n      <td>0.002</td>\n    </tr>\n    <tr>\n      <th>9</th>\n      <td>09-01-10</td>\n      <td>21.0</td>\n      <td>12.0</td>\n      <td>0.021</td>\n      <td>0.014</td>\n      <td>0.1</td>\n      <td>0.002</td>\n    </tr>\n    <tr>\n      <th>10</th>\n      <td>09-01-11</td>\n      <td>13.0</td>\n      <td>7.0</td>\n      <td>0.026</td>\n      <td>0.012</td>\n      <td>0.2</td>\n      <td>0.002</td>\n    </tr>\n    <tr>\n      <th>11</th>\n      <td>09-01-12</td>\n      <td>15.0</td>\n      <td>8.0</td>\n      <td>0.028</td>\n      <td>0.014</td>\n      <td>0.1</td>\n      <td>0.004</td>\n    </tr>\n    <tr>\n      <th>12</th>\n      <td>09-01-13</td>\n      <td>NaN</td>\n      <td>NaN</td>\n      <td>NaN</td>\n      <td>NaN</td>\n      <td>NaN</td>\n      <td>NaN</td>\n    </tr>\n    <tr>\n      <th>13</th>\n      <td>09-01-14</td>\n      <td>NaN</td>\n      <td>NaN</td>\n      <td>NaN</td>\n      <td>NaN</td>\n      <td>NaN</td>\n      <td>NaN</td>\n    </tr>\n    <tr>\n      <th>14</th>\n      <td>09-01-15</td>\n      <td>NaN</td>\n      <td>NaN</td>\n      <td>NaN</td>\n      <td>NaN</td>\n      <td>NaN</td>\n      <td>NaN</td>\n    </tr>\n    <tr>\n      <th>15</th>\n      <td>09-01-16</td>\n      <td>NaN</td>\n      <td>NaN</td>\n      <td>NaN</td>\n      <td>NaN</td>\n      <td>NaN</td>\n      <td>NaN</td>\n    </tr>\n    <tr>\n      <th>16</th>\n      <td>09-01-17</td>\n      <td>NaN</td>\n      <td>NaN</td>\n      <td>NaN</td>\n      <td>NaN</td>\n      <td>NaN</td>\n      <td>NaN</td>\n    </tr>\n    <tr>\n      <th>17</th>\n      <td>09-01-18</td>\n      <td>NaN</td>\n      <td>NaN</td>\n      <td>NaN</td>\n      <td>NaN</td>\n      <td>NaN</td>\n      <td>NaN</td>\n    </tr>\n    <tr>\n      <th>18</th>\n      <td>09-01-19</td>\n      <td>NaN</td>\n      <td>NaN</td>\n      <td>NaN</td>\n      <td>NaN</td>\n      <td>NaN</td>\n      <td>NaN</td>\n    </tr>\n    <tr>\n      <th>19</th>\n      <td>09-01-20</td>\n      <td>NaN</td>\n      <td>NaN</td>\n      <td>NaN</td>\n      <td>NaN</td>\n      <td>NaN</td>\n      <td>NaN</td>\n    </tr>\n    <tr>\n      <th>20</th>\n      <td>09-01-21</td>\n      <td>NaN</td>\n      <td>NaN</td>\n      <td>NaN</td>\n      <td>NaN</td>\n      <td>NaN</td>\n      <td>NaN</td>\n    </tr>\n    <tr>\n      <th>21</th>\n      <td>09-01-22</td>\n      <td>NaN</td>\n      <td>NaN</td>\n      <td>NaN</td>\n      <td>NaN</td>\n      <td>NaN</td>\n      <td>NaN</td>\n    </tr>\n    <tr>\n      <th>22</th>\n      <td>09-01-23</td>\n      <td>NaN</td>\n      <td>NaN</td>\n      <td>NaN</td>\n      <td>NaN</td>\n      <td>NaN</td>\n      <td>NaN</td>\n    </tr>\n    <tr>\n      <th>23</th>\n      <td>09-01-24</td>\n      <td>NaN</td>\n      <td>NaN</td>\n      <td>NaN</td>\n      <td>NaN</td>\n      <td>NaN</td>\n      <td>NaN</td>\n    </tr>\n  </tbody>\n</table>\n</div>"
     },
     "execution_count": 32,
     "metadata": {},
     "output_type": "execute_result"
    }
   ],
   "source": [
    "# datetime이 24시를 인식하지 못함\n",
    "# 24시 ---> 00시로 변경 후 날짜 +1\n",
    "\n",
    "air.head(24)\n",
    "\n",
    "# 09-01-24를 09-02-00으로 변경해야함"
   ],
   "metadata": {
    "collapsed": false,
    "ExecuteTime": {
     "end_time": "2023-12-16T13:37:09.316340800Z",
     "start_time": "2023-12-16T13:37:09.280320400Z"
    }
   },
   "id": "368afc7b5f2c5c9c"
  },
  {
   "cell_type": "code",
   "execution_count": 42,
   "outputs": [
    {
     "name": "stdout",
     "output_type": "stream",
     "text": [
      "   PM10  PM2.5    오 존  이산화질소  일산화탄소  아황산가스        공기날짜  시간대\n",
      "0  16.0   16.0  0.026  0.004    0.1  0.001  2020-09-01    1\n",
      "1  11.0    9.0  0.029  0.003    0.1  0.001  2020-09-01    2\n",
      "2  11.0    8.0  0.030  0.004    0.1  0.001  2020-09-01    3\n",
      "3  17.0    7.0  0.031  0.004    0.1  0.001  2020-09-01    4\n",
      "4  12.0   11.0  0.031  0.004    0.1  0.001  2020-09-01    5\n"
     ]
    },
    {
     "name": "stderr",
     "output_type": "stream",
     "text": [
      "C:\\Users\\uijin\\AppData\\Local\\Temp\\ipykernel_26436\\3976644864.py:7: FutureWarning: The default value of regex will change from True to False in a future version.\n",
      "  air['날짜'] =  '2020-' + air['날짜'].str.replace('24$', '00')\n"
     ]
    }
   ],
   "source": [
    "import pandas as pd\n",
    "\n",
    "# 데이터 불러오기\n",
    "air = pd.read_excel('./data/airQuality/20년9월.xls', skiprows=[1])\n",
    "\n",
    "# '24시'를 '00시'로 변경\n",
    "air['날짜'] =  '2020-' + air['날짜'].str.replace('24$', '00')\n",
    "# datetime 변경\n",
    "air['날짜'] = pd.to_datetime(air['날짜'], format='%Y-%m-%d-%H')\n",
    "# '00'시로 변경 -> 하루 더하기\n",
    "air['날짜'] = air['날짜'] + pd.to_timedelta((air['날짜'].dt.hour == 0).astype(int), unit='d')\n",
    "\n",
    "# 날짜와 시간 열 분리\n",
    "air['공기날짜'] = air['날짜'].dt.date\n",
    "air['시간대'] = air['날짜'].dt.hour\n",
    "\n",
    "air.drop('날짜', axis=1, inplace=True)\n",
    "\n",
    "\n",
    "# 결과 확인\n",
    "print(air.head())\n"
   ],
   "metadata": {
    "collapsed": false,
    "ExecuteTime": {
     "end_time": "2023-12-16T13:59:33.231729200Z",
     "start_time": "2023-12-16T13:59:33.185700300Z"
    }
   },
   "id": "93551fbf02c60961"
  },
  {
   "cell_type": "code",
   "execution_count": 43,
   "outputs": [
    {
     "data": {
      "text/plain": "    PM10  PM2.5    오 존  이산화질소  일산화탄소  아황산가스        공기날짜  시간대\n0   16.0   16.0  0.026  0.004    0.1  0.001  2020-09-01    1\n1   11.0    9.0  0.029  0.003    0.1  0.001  2020-09-01    2\n2   11.0    8.0  0.030  0.004    0.1  0.001  2020-09-01    3\n3   17.0    7.0  0.031  0.004    0.1  0.001  2020-09-01    4\n4   12.0   11.0  0.031  0.004    0.1  0.001  2020-09-01    5\n..   ...    ...    ...    ...    ...    ...         ...  ...\n95   NaN    NaN    NaN    NaN    NaN    NaN  2020-09-05    0\n96   NaN    NaN    NaN    NaN    NaN    NaN  2020-09-05    1\n97   NaN    NaN    NaN    NaN    NaN    NaN  2020-09-05    2\n98   NaN    NaN    NaN    NaN    NaN    NaN  2020-09-05    3\n99   NaN    NaN    NaN    NaN    NaN    NaN  2020-09-05    4\n\n[100 rows x 8 columns]",
      "text/html": "<div>\n<style scoped>\n    .dataframe tbody tr th:only-of-type {\n        vertical-align: middle;\n    }\n\n    .dataframe tbody tr th {\n        vertical-align: top;\n    }\n\n    .dataframe thead th {\n        text-align: right;\n    }\n</style>\n<table border=\"1\" class=\"dataframe\">\n  <thead>\n    <tr style=\"text-align: right;\">\n      <th></th>\n      <th>PM10</th>\n      <th>PM2.5</th>\n      <th>오 존</th>\n      <th>이산화질소</th>\n      <th>일산화탄소</th>\n      <th>아황산가스</th>\n      <th>공기날짜</th>\n      <th>시간대</th>\n    </tr>\n  </thead>\n  <tbody>\n    <tr>\n      <th>0</th>\n      <td>16.0</td>\n      <td>16.0</td>\n      <td>0.026</td>\n      <td>0.004</td>\n      <td>0.1</td>\n      <td>0.001</td>\n      <td>2020-09-01</td>\n      <td>1</td>\n    </tr>\n    <tr>\n      <th>1</th>\n      <td>11.0</td>\n      <td>9.0</td>\n      <td>0.029</td>\n      <td>0.003</td>\n      <td>0.1</td>\n      <td>0.001</td>\n      <td>2020-09-01</td>\n      <td>2</td>\n    </tr>\n    <tr>\n      <th>2</th>\n      <td>11.0</td>\n      <td>8.0</td>\n      <td>0.030</td>\n      <td>0.004</td>\n      <td>0.1</td>\n      <td>0.001</td>\n      <td>2020-09-01</td>\n      <td>3</td>\n    </tr>\n    <tr>\n      <th>3</th>\n      <td>17.0</td>\n      <td>7.0</td>\n      <td>0.031</td>\n      <td>0.004</td>\n      <td>0.1</td>\n      <td>0.001</td>\n      <td>2020-09-01</td>\n      <td>4</td>\n    </tr>\n    <tr>\n      <th>4</th>\n      <td>12.0</td>\n      <td>11.0</td>\n      <td>0.031</td>\n      <td>0.004</td>\n      <td>0.1</td>\n      <td>0.001</td>\n      <td>2020-09-01</td>\n      <td>5</td>\n    </tr>\n    <tr>\n      <th>...</th>\n      <td>...</td>\n      <td>...</td>\n      <td>...</td>\n      <td>...</td>\n      <td>...</td>\n      <td>...</td>\n      <td>...</td>\n      <td>...</td>\n    </tr>\n    <tr>\n      <th>95</th>\n      <td>NaN</td>\n      <td>NaN</td>\n      <td>NaN</td>\n      <td>NaN</td>\n      <td>NaN</td>\n      <td>NaN</td>\n      <td>2020-09-05</td>\n      <td>0</td>\n    </tr>\n    <tr>\n      <th>96</th>\n      <td>NaN</td>\n      <td>NaN</td>\n      <td>NaN</td>\n      <td>NaN</td>\n      <td>NaN</td>\n      <td>NaN</td>\n      <td>2020-09-05</td>\n      <td>1</td>\n    </tr>\n    <tr>\n      <th>97</th>\n      <td>NaN</td>\n      <td>NaN</td>\n      <td>NaN</td>\n      <td>NaN</td>\n      <td>NaN</td>\n      <td>NaN</td>\n      <td>2020-09-05</td>\n      <td>2</td>\n    </tr>\n    <tr>\n      <th>98</th>\n      <td>NaN</td>\n      <td>NaN</td>\n      <td>NaN</td>\n      <td>NaN</td>\n      <td>NaN</td>\n      <td>NaN</td>\n      <td>2020-09-05</td>\n      <td>3</td>\n    </tr>\n    <tr>\n      <th>99</th>\n      <td>NaN</td>\n      <td>NaN</td>\n      <td>NaN</td>\n      <td>NaN</td>\n      <td>NaN</td>\n      <td>NaN</td>\n      <td>2020-09-05</td>\n      <td>4</td>\n    </tr>\n  </tbody>\n</table>\n<p>100 rows × 8 columns</p>\n</div>"
     },
     "execution_count": 43,
     "metadata": {},
     "output_type": "execute_result"
    }
   ],
   "source": [
    "air.head(100)"
   ],
   "metadata": {
    "collapsed": false,
    "ExecuteTime": {
     "end_time": "2023-12-16T13:59:35.573971200Z",
     "start_time": "2023-12-16T13:59:35.523732600Z"
    }
   },
   "id": "e88a6baf1a217cdd"
  },
  {
   "cell_type": "markdown",
   "source": [
    "## 데이터 합치기"
   ],
   "metadata": {
    "collapsed": false
   },
   "id": "45e5affc22b7d526"
  },
  {
   "cell_type": "code",
   "execution_count": 50,
   "outputs": [
    {
     "name": "stdout",
     "output_type": "stream",
     "text": [
      "파일 리스트:\n",
      "['./data/airQuality/20년9월.xls', './data/airQuality/20년10월.xls', './data/airQuality/20년11월.xls', './data/airQuality/20년12월.xls', './data/airQuality/21년1월.xls', './data/airQuality/21년2월.xls', './data/airQuality/21년3월.xls', './data/airQuality/21년4월.xls', './data/airQuality/21년5월.xls', './data/airQuality/21년6월.xls']\n"
     ]
    }
   ],
   "source": [
    "from glob import glob\n",
    "\n",
    "# 2020년 9월부터 12월, 2021년 1월부터 6월까지의 파일 리스트 생성\n",
    "file_paths_2020 = glob('./data/airQuality/20년9월.xls') + \\\n",
    "                  glob('./data/airQuality/20년10월.xls') + \\\n",
    "                  glob('./data/airQuality/20년11월.xls') + \\\n",
    "                  glob('./data/airQuality/20년12월.xls')\n",
    "\n",
    "file_paths_2021 = glob('./data/airQuality/21년1월.xls') + \\\n",
    "                  glob('./data/airQuality/21년2월.xls') + \\\n",
    "                  glob('./data/airQuality/21년3월.xls') + \\\n",
    "                  glob('./data/airQuality/21년4월.xls') + \\\n",
    "                  glob('./data/airQuality/21년5월.xls') + \\\n",
    "                  glob('./data/airQuality/21년6월.xls')\n",
    "\n",
    "# 두 리스트를 합침\n",
    "file_paths = file_paths_2020 + file_paths_2021\n",
    "\n",
    "# 파일 리스트 출력\n",
    "print(\"파일 리스트:\")\n",
    "print(file_paths)\n"
   ],
   "metadata": {
    "collapsed": false,
    "ExecuteTime": {
     "end_time": "2023-12-16T14:26:47.095662Z",
     "start_time": "2023-12-16T14:26:47.054289900Z"
    }
   },
   "id": "dc5a02708966082e"
  },
  {
   "cell_type": "code",
   "execution_count": 53,
   "outputs": [
    {
     "name": "stdout",
     "output_type": "stream",
     "text": [
      "불러온 데이터 (20년9월.xls):\n",
      "         날짜  PM10  PM2.5    오 존  이산화질소  일산화탄소  아황산가스\n",
      "0  09-01-01  16.0   16.0  0.026  0.004    0.1  0.001\n",
      "1  09-01-02  11.0    9.0  0.029  0.003    0.1  0.001\n",
      "2  09-01-03  11.0    8.0  0.030  0.004    0.1  0.001\n",
      "3  09-01-04  17.0    7.0  0.031  0.004    0.1  0.001\n",
      "4  09-01-05  12.0   11.0  0.031  0.004    0.1  0.001\n",
      "날짜 형식 변환 후 데이터:\n",
      "                   날짜  PM10  PM2.5    오 존  이산화질소  일산화탄소  아황산가스\n",
      "0 2020-09-01 01:00:00  16.0   16.0  0.026  0.004    0.1  0.001\n",
      "1 2020-09-01 02:00:00  11.0    9.0  0.029  0.003    0.1  0.001\n",
      "2 2020-09-01 03:00:00  11.0    8.0  0.030  0.004    0.1  0.001\n",
      "3 2020-09-01 04:00:00  17.0    7.0  0.031  0.004    0.1  0.001\n",
      "4 2020-09-01 05:00:00  12.0   11.0  0.031  0.004    0.1  0.001\n",
      "변경 후 데이터 - 첫 5행:\n",
      "   PM10  PM2.5    오 존  이산화질소  일산화탄소  아황산가스      공기질 날짜  시간대\n",
      "0  16.0   16.0  0.026  0.004    0.1  0.001  2020-09-01    1\n",
      "1  11.0    9.0  0.029  0.003    0.1  0.001  2020-09-01    2\n",
      "2  11.0    8.0  0.030  0.004    0.1  0.001  2020-09-01    3\n",
      "3  17.0    7.0  0.031  0.004    0.1  0.001  2020-09-01    4\n",
      "4  12.0   11.0  0.031  0.004    0.1  0.001  2020-09-01    5\n",
      "불러온 데이터 (20년10월.xls):\n",
      "         날짜  PM10  PM2.5    오 존  이산화질소  일산화탄소  아황산가스\n",
      "0  10-01-01  29.0   15.0  0.043  0.006    0.2  0.002\n",
      "1  10-01-02  19.0   11.0  0.040  0.006    0.2  0.002\n",
      "2  10-01-03  31.0   17.0  0.045  0.006    0.2  0.002\n",
      "3  10-01-04  29.0   15.0  0.042  0.005    0.2  0.002\n",
      "4  10-01-05  28.0   17.0  0.039  0.005    0.2  0.002\n",
      "날짜 형식 변환 후 데이터:\n",
      "                   날짜  PM10  PM2.5    오 존  이산화질소  일산화탄소  아황산가스\n",
      "0 2020-10-01 01:00:00  29.0   15.0  0.043  0.006    0.2  0.002\n",
      "1 2020-10-01 02:00:00  19.0   11.0  0.040  0.006    0.2  0.002\n",
      "2 2020-10-01 03:00:00  31.0   17.0  0.045  0.006    0.2  0.002\n",
      "3 2020-10-01 04:00:00  29.0   15.0  0.042  0.005    0.2  0.002\n",
      "4 2020-10-01 05:00:00  28.0   17.0  0.039  0.005    0.2  0.002\n",
      "변경 후 데이터 - 첫 5행:\n",
      "   PM10  PM2.5    오 존  이산화질소  일산화탄소  아황산가스      공기질 날짜  시간대\n",
      "0  16.0   16.0  0.026  0.004    0.1  0.001  2020-09-01    1\n",
      "1  11.0    9.0  0.029  0.003    0.1  0.001  2020-09-01    2\n",
      "2  11.0    8.0  0.030  0.004    0.1  0.001  2020-09-01    3\n",
      "3  17.0    7.0  0.031  0.004    0.1  0.001  2020-09-01    4\n",
      "4  12.0   11.0  0.031  0.004    0.1  0.001  2020-09-01    5\n",
      "불러온 데이터 (20년11월.xls):\n",
      "         날짜  PM10  PM2.5    오 존  이산화질소  일산화탄소  아황산가스\n",
      "0  11-01-01  21.0   18.0  0.026  0.011    0.2  0.001\n",
      "1  11-01-02  21.0   14.0  0.028  0.010    0.2  0.001\n",
      "2  11-01-03  18.0   14.0  0.024  0.012    0.2  0.002\n",
      "3  11-01-04  21.0   13.0  0.023  0.011    0.2  0.001\n",
      "4  11-01-05  22.0   17.0  0.017  0.015    0.2  0.002\n",
      "날짜 형식 변환 후 데이터:\n",
      "                   날짜  PM10  PM2.5    오 존  이산화질소  일산화탄소  아황산가스\n",
      "0 2020-11-01 01:00:00  21.0   18.0  0.026  0.011    0.2  0.001\n",
      "1 2020-11-01 02:00:00  21.0   14.0  0.028  0.010    0.2  0.001\n",
      "2 2020-11-01 03:00:00  18.0   14.0  0.024  0.012    0.2  0.002\n",
      "3 2020-11-01 04:00:00  21.0   13.0  0.023  0.011    0.2  0.001\n",
      "4 2020-11-01 05:00:00  22.0   17.0  0.017  0.015    0.2  0.002\n",
      "변경 후 데이터 - 첫 5행:\n",
      "   PM10  PM2.5    오 존  이산화질소  일산화탄소  아황산가스      공기질 날짜  시간대\n",
      "0  16.0   16.0  0.026  0.004    0.1  0.001  2020-09-01    1\n",
      "1  11.0    9.0  0.029  0.003    0.1  0.001  2020-09-01    2\n",
      "2  11.0    8.0  0.030  0.004    0.1  0.001  2020-09-01    3\n",
      "3  17.0    7.0  0.031  0.004    0.1  0.001  2020-09-01    4\n",
      "4  12.0   11.0  0.031  0.004    0.1  0.001  2020-09-01    5\n",
      "불러온 데이터 (20년12월.xls):\n",
      "         날짜  PM10  PM2.5    오 존  이산화질소  일산화탄소  아황산가스\n",
      "0  12-01-01  34.0   24.0  0.030  0.008    0.2  0.002\n",
      "1  12-01-02  33.0   30.0  0.026  0.010    0.2  0.002\n",
      "2  12-01-03  32.0   25.0  0.021  0.011    0.2  0.001\n",
      "3  12-01-04  30.0   28.0  0.017  0.014    0.3  0.001\n",
      "4  12-01-05  29.0   24.0  0.013  0.018    0.2  0.002\n",
      "날짜 형식 변환 후 데이터:\n",
      "                   날짜  PM10  PM2.5    오 존  이산화질소  일산화탄소  아황산가스\n",
      "0 2020-12-01 01:00:00  34.0   24.0  0.030  0.008    0.2  0.002\n",
      "1 2020-12-01 02:00:00  33.0   30.0  0.026  0.010    0.2  0.002\n",
      "2 2020-12-01 03:00:00  32.0   25.0  0.021  0.011    0.2  0.001\n",
      "3 2020-12-01 04:00:00  30.0   28.0  0.017  0.014    0.3  0.001\n",
      "4 2020-12-01 05:00:00  29.0   24.0  0.013  0.018    0.2  0.002\n",
      "변경 후 데이터 - 첫 5행:\n",
      "   PM10  PM2.5    오 존  이산화질소  일산화탄소  아황산가스      공기질 날짜  시간대\n",
      "0  16.0   16.0  0.026  0.004    0.1  0.001  2020-09-01    1\n",
      "1  11.0    9.0  0.029  0.003    0.1  0.001  2020-09-01    2\n",
      "2  11.0    8.0  0.030  0.004    0.1  0.001  2020-09-01    3\n",
      "3  17.0    7.0  0.031  0.004    0.1  0.001  2020-09-01    4\n",
      "4  12.0   11.0  0.031  0.004    0.1  0.001  2020-09-01    5\n",
      "불러온 데이터 (21년1월.xls):\n",
      "         날짜  PM10  PM2.5    오 존  이산화질소  일산화탄소  아황산가스\n",
      "0  01-01-01  21.0   16.0  0.030  0.005    0.2  0.001\n",
      "1  01-01-02  20.0   15.0  0.034  0.004    0.2  0.001\n",
      "2  01-01-03  19.0   17.0  0.032  0.005    0.2  0.001\n",
      "3  01-01-04  18.0   15.0  0.032  0.005    0.2  0.002\n",
      "4  01-01-05  18.0   13.0  0.033  0.005    0.2  0.002\n",
      "날짜 형식 변환 후 데이터:\n",
      "                   날짜  PM10  PM2.5    오 존  이산화질소  일산화탄소  아황산가스\n",
      "0 2021-01-01 01:00:00  21.0   16.0  0.030  0.005    0.2  0.001\n",
      "1 2021-01-01 02:00:00  20.0   15.0  0.034  0.004    0.2  0.001\n",
      "2 2021-01-01 03:00:00  19.0   17.0  0.032  0.005    0.2  0.001\n",
      "3 2021-01-01 04:00:00  18.0   15.0  0.032  0.005    0.2  0.002\n",
      "4 2021-01-01 05:00:00  18.0   13.0  0.033  0.005    0.2  0.002\n",
      "변경 후 데이터 - 첫 5행:\n",
      "   PM10  PM2.5    오 존  이산화질소  일산화탄소  아황산가스      공기질 날짜  시간대\n",
      "0  16.0   16.0  0.026  0.004    0.1  0.001  2020-09-01    1\n",
      "1  11.0    9.0  0.029  0.003    0.1  0.001  2020-09-01    2\n",
      "2  11.0    8.0  0.030  0.004    0.1  0.001  2020-09-01    3\n",
      "3  17.0    7.0  0.031  0.004    0.1  0.001  2020-09-01    4\n",
      "4  12.0   11.0  0.031  0.004    0.1  0.001  2020-09-01    5\n",
      "불러온 데이터 (21년2월.xls):\n",
      "         날짜  PM10  PM2.5    오 존  이산화질소  일산화탄소  아황산가스\n",
      "0  02-01-01  44.0   37.0  0.024  0.020    0.7  0.004\n",
      "1  02-01-02  45.0   32.0  0.025  0.017    0.8  0.005\n",
      "2  02-01-03  40.0   39.0  0.013  0.021    0.7  0.004\n",
      "3  02-01-04  41.0   39.0  0.004  0.032    0.7  0.004\n",
      "4  02-01-05  40.0   30.0  0.008  0.027    0.7  0.003\n",
      "날짜 형식 변환 후 데이터:\n",
      "                   날짜  PM10  PM2.5    오 존  이산화질소  일산화탄소  아황산가스\n",
      "0 2021-02-01 01:00:00  44.0   37.0  0.024  0.020    0.7  0.004\n",
      "1 2021-02-01 02:00:00  45.0   32.0  0.025  0.017    0.8  0.005\n",
      "2 2021-02-01 03:00:00  40.0   39.0  0.013  0.021    0.7  0.004\n",
      "3 2021-02-01 04:00:00  41.0   39.0  0.004  0.032    0.7  0.004\n",
      "4 2021-02-01 05:00:00  40.0   30.0  0.008  0.027    0.7  0.003\n",
      "변경 후 데이터 - 첫 5행:\n",
      "   PM10  PM2.5    오 존  이산화질소  일산화탄소  아황산가스      공기질 날짜  시간대\n",
      "0  16.0   16.0  0.026  0.004    0.1  0.001  2020-09-01    1\n",
      "1  11.0    9.0  0.029  0.003    0.1  0.001  2020-09-01    2\n",
      "2  11.0    8.0  0.030  0.004    0.1  0.001  2020-09-01    3\n",
      "3  17.0    7.0  0.031  0.004    0.1  0.001  2020-09-01    4\n",
      "4  12.0   11.0  0.031  0.004    0.1  0.001  2020-09-01    5\n"
     ]
    },
    {
     "name": "stderr",
     "output_type": "stream",
     "text": [
      "C:\\Users\\uijin\\AppData\\Local\\Temp\\ipykernel_26436\\2239411048.py:10: FutureWarning: The default value of regex will change from True to False in a future version.\n",
      "  air_quality['날짜'] = year_if + air_quality['날짜'].str.replace('24$', '00')\n",
      "C:\\Users\\uijin\\AppData\\Local\\Temp\\ipykernel_26436\\2239411048.py:10: FutureWarning: The default value of regex will change from True to False in a future version.\n",
      "  air_quality['날짜'] = year_if + air_quality['날짜'].str.replace('24$', '00')\n",
      "C:\\Users\\uijin\\AppData\\Local\\Temp\\ipykernel_26436\\2239411048.py:10: FutureWarning: The default value of regex will change from True to False in a future version.\n",
      "  air_quality['날짜'] = year_if + air_quality['날짜'].str.replace('24$', '00')\n",
      "C:\\Users\\uijin\\AppData\\Local\\Temp\\ipykernel_26436\\2239411048.py:10: FutureWarning: The default value of regex will change from True to False in a future version.\n",
      "  air_quality['날짜'] = year_if + air_quality['날짜'].str.replace('24$', '00')\n",
      "C:\\Users\\uijin\\AppData\\Local\\Temp\\ipykernel_26436\\2239411048.py:10: FutureWarning: The default value of regex will change from True to False in a future version.\n",
      "  air_quality['날짜'] = year_if + air_quality['날짜'].str.replace('24$', '00')\n",
      "C:\\Users\\uijin\\AppData\\Local\\Temp\\ipykernel_26436\\2239411048.py:10: FutureWarning: The default value of regex will change from True to False in a future version.\n",
      "  air_quality['날짜'] = year_if + air_quality['날짜'].str.replace('24$', '00')\n"
     ]
    },
    {
     "name": "stdout",
     "output_type": "stream",
     "text": [
      "불러온 데이터 (21년3월.xls):\n",
      "         날짜  PM10  PM2.5    오 존  이산화질소  일산화탄소  아황산가스\n",
      "0  03-01-01  24.0   20.0  0.032  0.007    0.2  0.002\n",
      "1  03-01-02  27.0   17.0  0.031  0.008    0.3  0.002\n",
      "2  03-01-03  36.0   18.0  0.016  0.023    0.4  0.003\n",
      "3  03-01-04  27.0   20.0  0.028  0.004    0.3  0.002\n",
      "4  03-01-05  27.0   17.0  0.024  0.008    0.3  0.002\n",
      "날짜 형식 변환 후 데이터:\n",
      "                   날짜  PM10  PM2.5    오 존  이산화질소  일산화탄소  아황산가스\n",
      "0 2021-03-01 01:00:00  24.0   20.0  0.032  0.007    0.2  0.002\n",
      "1 2021-03-01 02:00:00  27.0   17.0  0.031  0.008    0.3  0.002\n",
      "2 2021-03-01 03:00:00  36.0   18.0  0.016  0.023    0.4  0.003\n",
      "3 2021-03-01 04:00:00  27.0   20.0  0.028  0.004    0.3  0.002\n",
      "4 2021-03-01 05:00:00  27.0   17.0  0.024  0.008    0.3  0.002\n",
      "변경 후 데이터 - 첫 5행:\n",
      "   PM10  PM2.5    오 존  이산화질소  일산화탄소  아황산가스      공기질 날짜  시간대\n",
      "0  16.0   16.0  0.026  0.004    0.1  0.001  2020-09-01    1\n",
      "1  11.0    9.0  0.029  0.003    0.1  0.001  2020-09-01    2\n",
      "2  11.0    8.0  0.030  0.004    0.1  0.001  2020-09-01    3\n",
      "3  17.0    7.0  0.031  0.004    0.1  0.001  2020-09-01    4\n",
      "4  12.0   11.0  0.031  0.004    0.1  0.001  2020-09-01    5\n",
      "불러온 데이터 (21년4월.xls):\n",
      "         날짜  PM10  PM2.5    오 존  이산화질소  일산화탄소  아황산가스\n",
      "0  04-01-01  70.0   27.0  0.048  0.013    0.3  0.003\n",
      "1  04-01-02  69.0   24.0  0.045  0.012    0.3  0.003\n",
      "2  04-01-03  70.0   29.0  0.040  0.014    0.4  0.003\n",
      "3  04-01-04  70.0   24.0  0.040  0.012    0.3  0.003\n",
      "4  04-01-05  67.0   24.0  0.040  0.011    0.3  0.003\n",
      "날짜 형식 변환 후 데이터:\n",
      "                   날짜  PM10  PM2.5    오 존  이산화질소  일산화탄소  아황산가스\n",
      "0 2021-04-01 01:00:00  70.0   27.0  0.048  0.013    0.3  0.003\n",
      "1 2021-04-01 02:00:00  69.0   24.0  0.045  0.012    0.3  0.003\n",
      "2 2021-04-01 03:00:00  70.0   29.0  0.040  0.014    0.4  0.003\n",
      "3 2021-04-01 04:00:00  70.0   24.0  0.040  0.012    0.3  0.003\n",
      "4 2021-04-01 05:00:00  67.0   24.0  0.040  0.011    0.3  0.003\n",
      "변경 후 데이터 - 첫 5행:\n",
      "   PM10  PM2.5    오 존  이산화질소  일산화탄소  아황산가스      공기질 날짜  시간대\n",
      "0  16.0   16.0  0.026  0.004    0.1  0.001  2020-09-01    1\n",
      "1  11.0    9.0  0.029  0.003    0.1  0.001  2020-09-01    2\n",
      "2  11.0    8.0  0.030  0.004    0.1  0.001  2020-09-01    3\n",
      "3  17.0    7.0  0.031  0.004    0.1  0.001  2020-09-01    4\n",
      "4  12.0   11.0  0.031  0.004    0.1  0.001  2020-09-01    5\n",
      "불러온 데이터 (21년5월.xls):\n",
      "         날짜  PM10  PM2.5    오 존  이산화질소  일산화탄소  아황산가스\n",
      "0  05-01-01  22.0   16.0  0.045  0.012    0.1  0.002\n",
      "1  05-01-02  25.0   18.0  0.039  0.013    0.2  0.002\n",
      "2  05-01-03  26.0   21.0  0.040  0.011    0.3  0.003\n",
      "3  05-01-04  18.0   20.0  0.041  0.011    0.3  0.003\n",
      "4  05-01-05  23.0   18.0  0.040  0.011    0.4  0.003\n",
      "날짜 형식 변환 후 데이터:\n",
      "                   날짜  PM10  PM2.5    오 존  이산화질소  일산화탄소  아황산가스\n",
      "0 2021-05-01 01:00:00  22.0   16.0  0.045  0.012    0.1  0.002\n",
      "1 2021-05-01 02:00:00  25.0   18.0  0.039  0.013    0.2  0.002\n",
      "2 2021-05-01 03:00:00  26.0   21.0  0.040  0.011    0.3  0.003\n",
      "3 2021-05-01 04:00:00  18.0   20.0  0.041  0.011    0.3  0.003\n",
      "4 2021-05-01 05:00:00  23.0   18.0  0.040  0.011    0.4  0.003\n",
      "변경 후 데이터 - 첫 5행:\n",
      "   PM10  PM2.5    오 존  이산화질소  일산화탄소  아황산가스      공기질 날짜  시간대\n",
      "0  16.0   16.0  0.026  0.004    0.1  0.001  2020-09-01    1\n",
      "1  11.0    9.0  0.029  0.003    0.1  0.001  2020-09-01    2\n",
      "2  11.0    8.0  0.030  0.004    0.1  0.001  2020-09-01    3\n",
      "3  17.0    7.0  0.031  0.004    0.1  0.001  2020-09-01    4\n",
      "4  12.0   11.0  0.031  0.004    0.1  0.001  2020-09-01    5\n",
      "불러온 데이터 (21년6월.xls):\n",
      "         날짜  PM10  PM2.5    오 존  이산화질소  일산화탄소  아황산가스\n",
      "0  06-01-01  42.0   28.0  0.031  0.026    0.4  0.005\n",
      "1  06-01-02  41.0   24.0  0.038  0.017    0.4  0.004\n",
      "2  06-01-03  38.0   26.0  0.035  0.016    0.4  0.004\n",
      "3  06-01-04  27.0   21.0  0.028  0.019    0.4  0.005\n",
      "4  06-01-05  36.0   21.0  0.025  0.019    0.3  0.005\n",
      "날짜 형식 변환 후 데이터:\n",
      "                   날짜  PM10  PM2.5    오 존  이산화질소  일산화탄소  아황산가스\n",
      "0 2021-06-01 01:00:00  42.0   28.0  0.031  0.026    0.4  0.005\n",
      "1 2021-06-01 02:00:00  41.0   24.0  0.038  0.017    0.4  0.004\n",
      "2 2021-06-01 03:00:00  38.0   26.0  0.035  0.016    0.4  0.004\n",
      "3 2021-06-01 04:00:00  27.0   21.0  0.028  0.019    0.4  0.005\n",
      "4 2021-06-01 05:00:00  36.0   21.0  0.025  0.019    0.3  0.005\n",
      "변경 후 데이터 - 첫 5행:\n",
      "   PM10  PM2.5    오 존  이산화질소  일산화탄소  아황산가스      공기질 날짜  시간대\n",
      "0  16.0   16.0  0.026  0.004    0.1  0.001  2020-09-01    1\n",
      "1  11.0    9.0  0.029  0.003    0.1  0.001  2020-09-01    2\n",
      "2  11.0    8.0  0.030  0.004    0.1  0.001  2020-09-01    3\n",
      "3  17.0    7.0  0.031  0.004    0.1  0.001  2020-09-01    4\n",
      "4  12.0   11.0  0.031  0.004    0.1  0.001  2020-09-01    5\n"
     ]
    },
    {
     "name": "stderr",
     "output_type": "stream",
     "text": [
      "C:\\Users\\uijin\\AppData\\Local\\Temp\\ipykernel_26436\\2239411048.py:10: FutureWarning: The default value of regex will change from True to False in a future version.\n",
      "  air_quality['날짜'] = year_if + air_quality['날짜'].str.replace('24$', '00')\n",
      "C:\\Users\\uijin\\AppData\\Local\\Temp\\ipykernel_26436\\2239411048.py:10: FutureWarning: The default value of regex will change from True to False in a future version.\n",
      "  air_quality['날짜'] = year_if + air_quality['날짜'].str.replace('24$', '00')\n",
      "C:\\Users\\uijin\\AppData\\Local\\Temp\\ipykernel_26436\\2239411048.py:10: FutureWarning: The default value of regex will change from True to False in a future version.\n",
      "  air_quality['날짜'] = year_if + air_quality['날짜'].str.replace('24$', '00')\n",
      "C:\\Users\\uijin\\AppData\\Local\\Temp\\ipykernel_26436\\2239411048.py:10: FutureWarning: The default value of regex will change from True to False in a future version.\n",
      "  air_quality['날짜'] = year_if + air_quality['날짜'].str.replace('24$', '00')\n"
     ]
    }
   ],
   "source": [
    "all_data = pd.DataFrame()\n",
    "\n",
    "for file_path in file_paths:\n",
    "    air_quality = pd.read_excel(file_path, skiprows=[1])\n",
    "    print(f\"불러온 데이터 ({file_path.split('/')[-1]}):\")\n",
    "    print(air_quality.head())\n",
    "\n",
    "    # 파일 경로에 따라 년도 추가\n",
    "    year_if = '2020-' if '20' in file_path else '2021-'\n",
    "    air_quality['날짜'] = year_if + air_quality['날짜'].str.replace('24$', '00')\n",
    "    \n",
    "    # datetime 변환\n",
    "    air_quality['날짜'] = pd.to_datetime(air_quality['날짜'], format='%Y-%m-%d-%H')\n",
    "    print(f\"날짜 형식 변환 후 데이터:\")\n",
    "    print(air_quality.head())\n",
    "\n",
    "    # '00시'로 변경된 행에 하루 더함\n",
    "    air_quality['날짜'] = air_quality['날짜'] + pd.to_timedelta((air_quality['날짜'].dt.hour == 0).astype(int), unit='d')\n",
    "\n",
    "    # 날짜와 시간 열 분리\n",
    "    air_quality['공기질 날짜'] = air_quality['날짜'].dt.date\n",
    "    air_quality['시간대'] = air_quality['날짜'].dt.hour\n",
    "\n",
    "    # 기존 '날짜' 열 제거\n",
    "    air_quality.drop('날짜', axis=1, inplace=True)\n",
    "\n",
    "    # 모든 데이터를 하나의 데이터프레임에 추가\n",
    "    all_data = pd.concat([all_data, air_quality], ignore_index=True)\n",
    "    print(f\"변경 후 데이터 - 첫 5행:\")\n",
    "    print(all_data.head())\n"
   ],
   "metadata": {
    "collapsed": false,
    "ExecuteTime": {
     "end_time": "2023-12-16T14:28:57.250935500Z",
     "start_time": "2023-12-16T14:28:56.790890900Z"
    }
   },
   "id": "3b1ee8eeb50105a4"
  },
  {
   "cell_type": "code",
   "execution_count": 54,
   "outputs": [
    {
     "name": "stdout",
     "output_type": "stream",
     "text": [
      "   PM10  PM2.5    오 존  이산화질소  일산화탄소  아황산가스      공기질 날짜  시간대\n",
      "0  16.0   16.0  0.026  0.004    0.1  0.001  2020-09-01    1\n",
      "1  11.0    9.0  0.029  0.003    0.1  0.001  2020-09-01    2\n",
      "2  11.0    8.0  0.030  0.004    0.1  0.001  2020-09-01    3\n",
      "3  17.0    7.0  0.031  0.004    0.1  0.001  2020-09-01    4\n",
      "4  12.0   11.0  0.031  0.004    0.1  0.001  2020-09-01    5\n"
     ]
    }
   ],
   "source": [
    "# 결과 확인\n",
    "print(all_data.head())"
   ],
   "metadata": {
    "collapsed": false,
    "ExecuteTime": {
     "end_time": "2023-12-16T14:29:00.053767Z",
     "start_time": "2023-12-16T14:28:59.996723Z"
    }
   },
   "id": "77d80a366cf0da82"
  },
  {
   "cell_type": "code",
   "execution_count": 55,
   "outputs": [
    {
     "data": {
      "text/plain": "      PM10  PM2.5    오 존  이산화질소  일산화탄소  아황산가스      공기질 날짜  시간대\n7267  34.0   26.0  0.048  0.025    0.3  0.007  2021-06-30   20\n7268  32.0   21.0  0.042  0.020    0.3  0.005  2021-06-30   21\n7269  27.0   24.0  0.038  0.018    0.3  0.003  2021-06-30   22\n7270  27.0   23.0  0.037  0.014    0.3  0.003  2021-06-30   23\n7271  31.0   23.0  0.034  0.014    0.3  0.004  2021-07-01    0",
      "text/html": "<div>\n<style scoped>\n    .dataframe tbody tr th:only-of-type {\n        vertical-align: middle;\n    }\n\n    .dataframe tbody tr th {\n        vertical-align: top;\n    }\n\n    .dataframe thead th {\n        text-align: right;\n    }\n</style>\n<table border=\"1\" class=\"dataframe\">\n  <thead>\n    <tr style=\"text-align: right;\">\n      <th></th>\n      <th>PM10</th>\n      <th>PM2.5</th>\n      <th>오 존</th>\n      <th>이산화질소</th>\n      <th>일산화탄소</th>\n      <th>아황산가스</th>\n      <th>공기질 날짜</th>\n      <th>시간대</th>\n    </tr>\n  </thead>\n  <tbody>\n    <tr>\n      <th>7267</th>\n      <td>34.0</td>\n      <td>26.0</td>\n      <td>0.048</td>\n      <td>0.025</td>\n      <td>0.3</td>\n      <td>0.007</td>\n      <td>2021-06-30</td>\n      <td>20</td>\n    </tr>\n    <tr>\n      <th>7268</th>\n      <td>32.0</td>\n      <td>21.0</td>\n      <td>0.042</td>\n      <td>0.020</td>\n      <td>0.3</td>\n      <td>0.005</td>\n      <td>2021-06-30</td>\n      <td>21</td>\n    </tr>\n    <tr>\n      <th>7269</th>\n      <td>27.0</td>\n      <td>24.0</td>\n      <td>0.038</td>\n      <td>0.018</td>\n      <td>0.3</td>\n      <td>0.003</td>\n      <td>2021-06-30</td>\n      <td>22</td>\n    </tr>\n    <tr>\n      <th>7270</th>\n      <td>27.0</td>\n      <td>23.0</td>\n      <td>0.037</td>\n      <td>0.014</td>\n      <td>0.3</td>\n      <td>0.003</td>\n      <td>2021-06-30</td>\n      <td>23</td>\n    </tr>\n    <tr>\n      <th>7271</th>\n      <td>31.0</td>\n      <td>23.0</td>\n      <td>0.034</td>\n      <td>0.014</td>\n      <td>0.3</td>\n      <td>0.004</td>\n      <td>2021-07-01</td>\n      <td>0</td>\n    </tr>\n  </tbody>\n</table>\n</div>"
     },
     "execution_count": 55,
     "metadata": {},
     "output_type": "execute_result"
    }
   ],
   "source": [
    "all_data.tail()"
   ],
   "metadata": {
    "collapsed": false,
    "ExecuteTime": {
     "end_time": "2023-12-16T14:29:13.037132900Z",
     "start_time": "2023-12-16T14:29:12.986081300Z"
    }
   },
   "id": "57efd16cac7c5657"
  },
  {
   "cell_type": "code",
   "execution_count": 56,
   "outputs": [
    {
     "name": "stdout",
     "output_type": "stream",
     "text": [
      "saved air_quality.csv\n"
     ]
    }
   ],
   "source": [
    "# 병합된 데이터를 CSV 파일로 저장\n",
    "all_data.to_csv('./filtered_data/air_quality.csv', index=False)\n",
    "\n",
    "print('saved air_quality.csv')"
   ],
   "metadata": {
    "collapsed": false,
    "ExecuteTime": {
     "end_time": "2023-12-16T14:30:33.305750900Z",
     "start_time": "2023-12-16T14:30:33.217033800Z"
    }
   },
   "id": "51271a08b1922eaa"
  },
  {
   "cell_type": "code",
   "execution_count": 57,
   "outputs": [
    {
     "data": {
      "text/plain": "      PM10  PM2.5    오 존  이산화질소  일산화탄소  아황산가스      공기질 날짜  시간대\n0     16.0   16.0  0.026  0.004    0.1  0.001  2020-09-01    1\n1     11.0    9.0  0.029  0.003    0.1  0.001  2020-09-01    2\n2     11.0    8.0  0.030  0.004    0.1  0.001  2020-09-01    3\n3     17.0    7.0  0.031  0.004    0.1  0.001  2020-09-01    4\n4     12.0   11.0  0.031  0.004    0.1  0.001  2020-09-01    5\n...    ...    ...    ...    ...    ...    ...         ...  ...\n7267  34.0   26.0  0.048  0.025    0.3  0.007  2021-06-30   20\n7268  32.0   21.0  0.042  0.020    0.3  0.005  2021-06-30   21\n7269  27.0   24.0  0.038  0.018    0.3  0.003  2021-06-30   22\n7270  27.0   23.0  0.037  0.014    0.3  0.003  2021-06-30   23\n7271  31.0   23.0  0.034  0.014    0.3  0.004  2021-07-01    0\n\n[7272 rows x 8 columns]",
      "text/html": "<div>\n<style scoped>\n    .dataframe tbody tr th:only-of-type {\n        vertical-align: middle;\n    }\n\n    .dataframe tbody tr th {\n        vertical-align: top;\n    }\n\n    .dataframe thead th {\n        text-align: right;\n    }\n</style>\n<table border=\"1\" class=\"dataframe\">\n  <thead>\n    <tr style=\"text-align: right;\">\n      <th></th>\n      <th>PM10</th>\n      <th>PM2.5</th>\n      <th>오 존</th>\n      <th>이산화질소</th>\n      <th>일산화탄소</th>\n      <th>아황산가스</th>\n      <th>공기질 날짜</th>\n      <th>시간대</th>\n    </tr>\n  </thead>\n  <tbody>\n    <tr>\n      <th>0</th>\n      <td>16.0</td>\n      <td>16.0</td>\n      <td>0.026</td>\n      <td>0.004</td>\n      <td>0.1</td>\n      <td>0.001</td>\n      <td>2020-09-01</td>\n      <td>1</td>\n    </tr>\n    <tr>\n      <th>1</th>\n      <td>11.0</td>\n      <td>9.0</td>\n      <td>0.029</td>\n      <td>0.003</td>\n      <td>0.1</td>\n      <td>0.001</td>\n      <td>2020-09-01</td>\n      <td>2</td>\n    </tr>\n    <tr>\n      <th>2</th>\n      <td>11.0</td>\n      <td>8.0</td>\n      <td>0.030</td>\n      <td>0.004</td>\n      <td>0.1</td>\n      <td>0.001</td>\n      <td>2020-09-01</td>\n      <td>3</td>\n    </tr>\n    <tr>\n      <th>3</th>\n      <td>17.0</td>\n      <td>7.0</td>\n      <td>0.031</td>\n      <td>0.004</td>\n      <td>0.1</td>\n      <td>0.001</td>\n      <td>2020-09-01</td>\n      <td>4</td>\n    </tr>\n    <tr>\n      <th>4</th>\n      <td>12.0</td>\n      <td>11.0</td>\n      <td>0.031</td>\n      <td>0.004</td>\n      <td>0.1</td>\n      <td>0.001</td>\n      <td>2020-09-01</td>\n      <td>5</td>\n    </tr>\n    <tr>\n      <th>...</th>\n      <td>...</td>\n      <td>...</td>\n      <td>...</td>\n      <td>...</td>\n      <td>...</td>\n      <td>...</td>\n      <td>...</td>\n      <td>...</td>\n    </tr>\n    <tr>\n      <th>7267</th>\n      <td>34.0</td>\n      <td>26.0</td>\n      <td>0.048</td>\n      <td>0.025</td>\n      <td>0.3</td>\n      <td>0.007</td>\n      <td>2021-06-30</td>\n      <td>20</td>\n    </tr>\n    <tr>\n      <th>7268</th>\n      <td>32.0</td>\n      <td>21.0</td>\n      <td>0.042</td>\n      <td>0.020</td>\n      <td>0.3</td>\n      <td>0.005</td>\n      <td>2021-06-30</td>\n      <td>21</td>\n    </tr>\n    <tr>\n      <th>7269</th>\n      <td>27.0</td>\n      <td>24.0</td>\n      <td>0.038</td>\n      <td>0.018</td>\n      <td>0.3</td>\n      <td>0.003</td>\n      <td>2021-06-30</td>\n      <td>22</td>\n    </tr>\n    <tr>\n      <th>7270</th>\n      <td>27.0</td>\n      <td>23.0</td>\n      <td>0.037</td>\n      <td>0.014</td>\n      <td>0.3</td>\n      <td>0.003</td>\n      <td>2021-06-30</td>\n      <td>23</td>\n    </tr>\n    <tr>\n      <th>7271</th>\n      <td>31.0</td>\n      <td>23.0</td>\n      <td>0.034</td>\n      <td>0.014</td>\n      <td>0.3</td>\n      <td>0.004</td>\n      <td>2021-07-01</td>\n      <td>0</td>\n    </tr>\n  </tbody>\n</table>\n<p>7272 rows × 8 columns</p>\n</div>"
     },
     "execution_count": 57,
     "metadata": {},
     "output_type": "execute_result"
    }
   ],
   "source": [
    "df = pd.read_csv('./filtered_data/air_quality.csv')\n",
    "df"
   ],
   "metadata": {
    "collapsed": false,
    "ExecuteTime": {
     "end_time": "2023-12-16T14:31:00.219755600Z",
     "start_time": "2023-12-16T14:31:00.156817900Z"
    }
   },
   "id": "803611547808bf23"
  },
  {
   "cell_type": "code",
   "execution_count": null,
   "outputs": [],
   "source": [
    "# 23:31 공기질 데이터 마무리"
   ],
   "metadata": {
    "collapsed": false
   },
   "id": "f19a034b1f8dd810"
  }
 ],
 "metadata": {
  "kernelspec": {
   "display_name": "Python 3",
   "language": "python",
   "name": "python3"
  },
  "language_info": {
   "codemirror_mode": {
    "name": "ipython",
    "version": 2
   },
   "file_extension": ".py",
   "mimetype": "text/x-python",
   "name": "python",
   "nbconvert_exporter": "python",
   "pygments_lexer": "ipython2",
   "version": "2.7.6"
  }
 },
 "nbformat": 4,
 "nbformat_minor": 5
}
