{
 "cells": [
  {
   "cell_type": "markdown",
   "source": [
    "# 모든 데이터 merged_data.csv로 병합"
   ],
   "metadata": {
    "collapsed": false
   },
   "id": "6d1ab78db053a26"
  },
  {
   "cell_type": "code",
   "execution_count": 41,
   "outputs": [],
   "source": [
    "import pandas as pd\n",
    "\n",
    "df1 = pd.read_csv('./filtered_data/air_quality.csv')\n",
    "df2 = pd.read_csv('./filtered_data/truck.csv')\n",
    "df3 = pd.read_csv('./filtered_data/weather.csv')\n",
    "df4 = pd.read_csv('./filtered_data/vessel.csv')"
   ],
   "metadata": {
    "collapsed": false,
    "ExecuteTime": {
     "end_time": "2023-12-17T06:26:02.086064900Z",
     "start_time": "2023-12-17T06:26:02.045525500Z"
    }
   },
   "id": "88b3c086e90deec6"
  },
  {
   "cell_type": "code",
   "execution_count": 42,
   "outputs": [
    {
     "name": "stdout",
     "output_type": "stream",
     "text": [
      "공기질 데이터: \n",
      "    PM10  PM2.5    오 존  이산화질소  일산화탄소  아황산가스          날짜  시간대\n",
      "0  16.0   16.0  0.026  0.004    0.1  0.001  2020-09-01    1\n",
      "1  11.0    9.0  0.029  0.003    0.1  0.001  2020-09-01    2\n",
      "2  11.0    8.0  0.030  0.004    0.1  0.001  2020-09-01    3\n",
      "3  17.0    7.0  0.031  0.004    0.1  0.001  2020-09-01    4\n",
      "4  12.0   11.0  0.031  0.004    0.1  0.001  2020-09-01    5\n",
      "\n",
      "\n",
      " 차량 데이터: \n",
      "            날짜  시간대  차량진입횟수                       체류시간\n",
      "0  2020-09-01    7       8            0 days 00:21:00\n",
      "1  2020-09-01    8     520  0 days 00:30:33.230769230\n",
      "2  2020-09-01    9     754  0 days 00:29:29.761273209\n",
      "3  2020-09-01   10     900  0 days 00:29:26.533333333\n",
      "4  2020-09-01   11     898  0 days 00:58:36.881959910\n",
      "\n",
      "\n",
      "  기상 데이터: \n",
      "            날짜       시간대  기온(°C)  풍속(m/s)  강수량(mm)  습도(%)\n",
      "0  2020-09-01  00:00:00    21.8      1.1      NaN   90.3\n",
      "1  2020-09-01  01:00:00    22.1      2.1      0.0   84.1\n",
      "2  2020-09-01  02:00:00    22.2      1.7      0.0   82.4\n",
      "3  2020-09-01  03:00:00    22.4      2.8      0.0   81.7\n",
      "4  2020-09-01  04:00:00    22.5      2.8      0.0   83.5\n",
      "\n",
      "\n",
      " 선박 데이터: \n",
      "            날짜       시간대  anchored_count  TotalTonnage\n",
      "0  2020-09-01  00:00:00               0           0.0\n",
      "1  2020-09-01  01:00:00               1        9751.0\n",
      "2  2020-09-01  02:00:00               2        9929.0\n",
      "3  2020-09-01  03:00:00               4       21044.0\n",
      "4  2020-09-01  04:00:00               3       20866.0\n"
     ]
    }
   ],
   "source": [
    "print(\"공기질 데이터: \\n\",  df1.head())\n",
    "print(\"\\n\\n 차량 데이터: \\n\", df2.head())\n",
    "print(\"\\n\\n  기상 데이터: \\n\",  df3.head())\n",
    "print(\"\\n\\n 선박 데이터: \\n\", df4.head())"
   ],
   "metadata": {
    "collapsed": false,
    "ExecuteTime": {
     "end_time": "2023-12-17T06:26:02.388378500Z",
     "start_time": "2023-12-17T06:26:02.366109500Z"
    }
   },
   "id": "8d492a1d06e52cd4"
  },
  {
   "cell_type": "code",
   "execution_count": 43,
   "outputs": [
    {
     "data": {
      "text/plain": "PM10     float64\nPM2.5    float64\n오 존      float64\n이산화질소    float64\n일산화탄소    float64\n아황산가스    float64\n날짜        object\n시간대        int64\ndtype: object"
     },
     "execution_count": 43,
     "metadata": {},
     "output_type": "execute_result"
    }
   ],
   "source": [
    "df1.dtypes\n",
    "\n",
    "# 날짜 열명 바꾸기"
   ],
   "metadata": {
    "collapsed": false,
    "ExecuteTime": {
     "end_time": "2023-12-17T06:26:16.602602100Z",
     "start_time": "2023-12-17T06:26:16.585635300Z"
    }
   },
   "id": "55ace821ca6036ee"
  },
  {
   "cell_type": "code",
   "execution_count": 44,
   "outputs": [
    {
     "data": {
      "text/plain": "날짜        object\n시간대        int64\n차량진입횟수     int64\n체류시간      object\ndtype: object"
     },
     "execution_count": 44,
     "metadata": {},
     "output_type": "execute_result"
    }
   ],
   "source": [
    "df2.dtypes"
   ],
   "metadata": {
    "collapsed": false,
    "ExecuteTime": {
     "end_time": "2023-12-17T06:26:21.340544700Z",
     "start_time": "2023-12-17T06:26:21.320531Z"
    }
   },
   "id": "84d0678dc93a41d9"
  },
  {
   "cell_type": "code",
   "execution_count": 45,
   "outputs": [
    {
     "data": {
      "text/plain": "날짜          object\n시간대         object\n기온(°C)     float64\n풍속(m/s)    float64\n강수량(mm)    float64\n습도(%)      float64\ndtype: object"
     },
     "execution_count": 45,
     "metadata": {},
     "output_type": "execute_result"
    }
   ],
   "source": [
    "df3.dtypes"
   ],
   "metadata": {
    "collapsed": false,
    "ExecuteTime": {
     "end_time": "2023-12-17T06:26:21.863808600Z",
     "start_time": "2023-12-17T06:26:21.840788Z"
    }
   },
   "id": "18a2d9cb33bf8d8e"
  },
  {
   "cell_type": "code",
   "execution_count": 46,
   "outputs": [
    {
     "data": {
      "text/plain": "날짜                 object\n시간대                object\nanchored_count      int64\nTotalTonnage      float64\ndtype: object"
     },
     "execution_count": 46,
     "metadata": {},
     "output_type": "execute_result"
    }
   ],
   "source": [
    "df4.dtypes"
   ],
   "metadata": {
    "collapsed": false,
    "ExecuteTime": {
     "end_time": "2023-12-17T06:26:22.100759Z",
     "start_time": "2023-12-17T06:26:22.096364200Z"
    }
   },
   "id": "67001189009f061c"
  },
  {
   "cell_type": "code",
   "execution_count": 49,
   "outputs": [],
   "source": [
    "# object 형식을 datetime형식으로 변환\n",
    "df1['날짜'] = pd.to_datetime(df1['날짜'], format='%Y-%m-%d')\n",
    "df2['날짜'] = pd.to_datetime(df2['날짜'], format='%Y-%m-%d')\n",
    "df3['날짜'] = pd.to_datetime(df3['날짜'], format='%Y-%m-%d')\n",
    "df4['날짜'] = pd.to_datetime(df4['날짜'], format='%Y-%m-%d')\n"
   ],
   "metadata": {
    "collapsed": false,
    "ExecuteTime": {
     "end_time": "2023-12-17T06:27:16.913888700Z",
     "start_time": "2023-12-17T06:27:16.886385500Z"
    }
   },
   "id": "3ec06a5b24834e05"
  },
  {
   "cell_type": "code",
   "execution_count": 51,
   "outputs": [],
   "source": [
    "# int 형식 시간 - datetime 형식 변환\n",
    "\n",
    "from datetime import time\n",
    "\n",
    "def int_to_time(hour_int):\n",
    "    return time(hour=hour_int)\n",
    "\n",
    "# 데이터프레임의 '시간대' 열에 int_to_time 함수 적용\n",
    "df1['시간대'] = df1['시간대'].apply(int_to_time)\n",
    "df2['시간대'] = df2['시간대'].apply(int_to_time)"
   ],
   "metadata": {
    "collapsed": false,
    "ExecuteTime": {
     "end_time": "2023-12-17T06:27:38.714397700Z",
     "start_time": "2023-12-17T06:27:38.690741100Z"
    }
   },
   "id": "d19fb584609f6a10"
  },
  {
   "cell_type": "code",
   "execution_count": 59,
   "outputs": [
    {
     "name": "stdout",
     "output_type": "stream",
     "text": [
      "PM10            float64\n",
      "PM2.5           float64\n",
      "오 존             float64\n",
      "이산화질소           float64\n",
      "일산화탄소           float64\n",
      "아황산가스           float64\n",
      "날짜       datetime64[ns]\n",
      "시간대              object\n",
      "dtype: object\n",
      "\n",
      "\n",
      " 날짜        datetime64[ns]\n",
      "시간대               object\n",
      "차량진입횟수             int64\n",
      "체류시간              object\n",
      "dtype: object\n"
     ]
    }
   ],
   "source": [
    "print(df1.dtypes)\n",
    "print(\"\\n\\n\" ,df2.dtypes)"
   ],
   "metadata": {
    "collapsed": false,
    "ExecuteTime": {
     "end_time": "2023-12-17T06:30:21.073523200Z",
     "start_time": "2023-12-17T06:30:21.045851200Z"
    }
   },
   "id": "eed6106f83d188ef"
  },
  {
   "cell_type": "code",
   "execution_count": 52,
   "outputs": [
    {
     "name": "stdout",
     "output_type": "stream",
     "text": [
      "<class 'datetime.time'>\n"
     ]
    }
   ],
   "source": [
    "print(type(df2['시간대'].iloc[0]))\n"
   ],
   "metadata": {
    "collapsed": false,
    "ExecuteTime": {
     "end_time": "2023-12-17T06:27:42.571988900Z",
     "start_time": "2023-12-17T06:27:42.568482800Z"
    }
   },
   "id": "72ea9542930b20dd"
  },
  {
   "cell_type": "code",
   "execution_count": 53,
   "outputs": [],
   "source": [
    "# '시간대' object -> datetime 변환\n",
    "\n",
    "from datetime import datetime\n",
    "\n",
    "def str_to_time(time_str):\n",
    "    return datetime.strptime(time_str, '%H:%M:%S').time()\n",
    "\n",
    "# 각 데이터프레임에 대해 변환 적용\n",
    "df3['시간대'] = df3['시간대'].apply(str_to_time)\n",
    "df4['시간대'] = df4['시간대'].apply(str_to_time)"
   ],
   "metadata": {
    "collapsed": false,
    "ExecuteTime": {
     "end_time": "2023-12-17T06:28:08.696742600Z",
     "start_time": "2023-12-17T06:28:08.604864900Z"
    }
   },
   "id": "89c42ecccd2b8d8f"
  },
  {
   "cell_type": "code",
   "execution_count": 58,
   "outputs": [
    {
     "data": {
      "text/plain": "날짜         datetime64[ns]\n시간대                object\n기온(°C)            float64\n풍속(m/s)           float64\n강수량(mm)           float64\n습도(%)             float64\ndtype: object"
     },
     "execution_count": 58,
     "metadata": {},
     "output_type": "execute_result"
    }
   ],
   "source": [
    "df3.dtypes"
   ],
   "metadata": {
    "collapsed": false,
    "ExecuteTime": {
     "end_time": "2023-12-17T06:28:47.406735600Z",
     "start_time": "2023-12-17T06:28:47.386793200Z"
    }
   },
   "id": "cf6cd67cc68cc75"
  },
  {
   "cell_type": "code",
   "execution_count": 55,
   "outputs": [
    {
     "data": {
      "text/plain": "날짜                datetime64[ns]\n시간대                       object\nanchored_count             int64\nTotalTonnage             float64\ndtype: object"
     },
     "execution_count": 55,
     "metadata": {},
     "output_type": "execute_result"
    }
   ],
   "source": [
    "df4.dtypes"
   ],
   "metadata": {
    "collapsed": false,
    "ExecuteTime": {
     "end_time": "2023-12-17T06:28:15.630370500Z",
     "start_time": "2023-12-17T06:28:15.610708700Z"
    }
   },
   "id": "24675f55caa460cb"
  },
  {
   "cell_type": "code",
   "execution_count": 57,
   "outputs": [
    {
     "name": "stdout",
     "output_type": "stream",
     "text": [
      "<class 'datetime.time'>\n"
     ]
    }
   ],
   "source": [
    "print(type(df3['시간대'].iloc[0]))"
   ],
   "metadata": {
    "collapsed": false,
    "ExecuteTime": {
     "end_time": "2023-12-17T06:28:38.682524700Z",
     "start_time": "2023-12-17T06:28:38.621006300Z"
    }
   },
   "id": "29fcfd72c0cff280"
  },
  {
   "cell_type": "markdown",
   "source": [
    "#### 데이터프레임 합치기"
   ],
   "metadata": {
    "collapsed": false
   },
   "id": "39f4b2d073f9a9a5"
  },
  {
   "cell_type": "code",
   "execution_count": 60,
   "outputs": [
    {
     "name": "stdout",
     "output_type": "stream",
     "text": [
      "   PM10  PM2.5    오 존  이산화질소  일산화탄소  아황산가스         날짜       시간대  차량진입횟수 체류시간  \\\n",
      "0  16.0   16.0  0.026  0.004    0.1  0.001 2020-09-01  01:00:00     NaN  NaN   \n",
      "1  11.0    9.0  0.029  0.003    0.1  0.001 2020-09-01  02:00:00     NaN  NaN   \n",
      "2  11.0    8.0  0.030  0.004    0.1  0.001 2020-09-01  03:00:00     NaN  NaN   \n",
      "3  17.0    7.0  0.031  0.004    0.1  0.001 2020-09-01  04:00:00     NaN  NaN   \n",
      "4  12.0   11.0  0.031  0.004    0.1  0.001 2020-09-01  05:00:00     NaN  NaN   \n",
      "\n",
      "   기온(°C)  풍속(m/s)  강수량(mm)  습도(%)  anchored_count  TotalTonnage  \n",
      "0    22.1      2.1      0.0   84.1             1.0        9751.0  \n",
      "1    22.2      1.7      0.0   82.4             2.0        9929.0  \n",
      "2    22.4      2.8      0.0   81.7             4.0       21044.0  \n",
      "3    22.5      2.8      0.0   83.5             3.0       20866.0  \n",
      "4    22.1      2.1      0.0   84.2             3.0       20866.0  \n"
     ]
    }
   ],
   "source": [
    "# 데이터프레임 합치기\n",
    "merged_df = df1.merge(df2, on=['날짜', '시간대'], how='outer')\n",
    "merged_df = merged_df.merge(df3, on=['날짜', '시간대'], how='outer')\n",
    "merged_df = merged_df.merge(df4, on=['날짜', '시간대'], how='outer')\n",
    "\n",
    "# 결과 확인\n",
    "print(merged_df.head())"
   ],
   "metadata": {
    "collapsed": false,
    "ExecuteTime": {
     "end_time": "2023-12-17T06:32:40.544269900Z",
     "start_time": "2023-12-17T06:32:40.508077300Z"
    }
   },
   "id": "22230836e6beb838"
  },
  {
   "cell_type": "code",
   "execution_count": 68,
   "outputs": [
    {
     "data": {
      "text/plain": "      PM10  PM2.5    오 존  이산화질소  일산화탄소  아황산가스         날짜       시간대  차량진입횟수  \\\n0     16.0   16.0  0.026  0.004    0.1  0.001 2020-09-01  01:00:00     NaN   \n1     11.0    9.0  0.029  0.003    0.1  0.001 2020-09-01  02:00:00     NaN   \n2     11.0    8.0  0.030  0.004    0.1  0.001 2020-09-01  03:00:00     NaN   \n3     17.0    7.0  0.031  0.004    0.1  0.001 2020-09-01  04:00:00     NaN   \n4     12.0   11.0  0.031  0.004    0.1  0.001 2020-09-01  05:00:00     NaN   \n...    ...    ...    ...    ...    ...    ...        ...       ...     ...   \n7268  32.0   21.0  0.042  0.020    0.3  0.005 2021-06-30  21:00:00    49.0   \n7269  27.0   24.0  0.038  0.018    0.3  0.003 2021-06-30  22:00:00    16.0   \n7270  27.0   23.0  0.037  0.014    0.3  0.003 2021-06-30  23:00:00     4.0   \n7271  31.0   23.0  0.034  0.014    0.3  0.004 2021-07-01  00:00:00     NaN   \n7272   NaN    NaN    NaN    NaN    NaN    NaN 2020-09-01  00:00:00     NaN   \n\n                           체류시간  기온(°C)  풍속(m/s)  강수량(mm)  습도(%)  \\\n0                           NaN    22.1      2.1      0.0   84.1   \n1                           NaN    22.2      1.7      0.0   82.4   \n2                           NaN    22.4      2.8      0.0   81.7   \n3                           NaN    22.5      2.8      0.0   83.5   \n4                           NaN    22.1      2.1      0.0   84.2   \n...                         ...     ...      ...      ...    ...   \n7268  0 days 00:35:33.816326530     NaN      NaN      NaN    NaN   \n7269     0 days 00:16:34.875000     NaN      NaN      NaN    NaN   \n7270     0 days 00:20:26.500000     NaN      NaN      NaN    NaN   \n7271                        NaN     NaN      NaN      NaN    NaN   \n7272                        NaN    21.8      1.1      NaN   90.3   \n\n      anchored_count  TotalTonnage  \n0                1.0        9751.0  \n1                2.0        9929.0  \n2                4.0       21044.0  \n3                3.0       20866.0  \n4                3.0       20866.0  \n...              ...           ...  \n7268            81.0           NaN  \n7269            80.0           NaN  \n7270            79.0           NaN  \n7271             NaN           NaN  \n7272             0.0           0.0  \n\n[7273 rows x 16 columns]",
      "text/html": "<div>\n<style scoped>\n    .dataframe tbody tr th:only-of-type {\n        vertical-align: middle;\n    }\n\n    .dataframe tbody tr th {\n        vertical-align: top;\n    }\n\n    .dataframe thead th {\n        text-align: right;\n    }\n</style>\n<table border=\"1\" class=\"dataframe\">\n  <thead>\n    <tr style=\"text-align: right;\">\n      <th></th>\n      <th>PM10</th>\n      <th>PM2.5</th>\n      <th>오 존</th>\n      <th>이산화질소</th>\n      <th>일산화탄소</th>\n      <th>아황산가스</th>\n      <th>날짜</th>\n      <th>시간대</th>\n      <th>차량진입횟수</th>\n      <th>체류시간</th>\n      <th>기온(°C)</th>\n      <th>풍속(m/s)</th>\n      <th>강수량(mm)</th>\n      <th>습도(%)</th>\n      <th>anchored_count</th>\n      <th>TotalTonnage</th>\n    </tr>\n  </thead>\n  <tbody>\n    <tr>\n      <th>0</th>\n      <td>16.0</td>\n      <td>16.0</td>\n      <td>0.026</td>\n      <td>0.004</td>\n      <td>0.1</td>\n      <td>0.001</td>\n      <td>2020-09-01</td>\n      <td>01:00:00</td>\n      <td>NaN</td>\n      <td>NaN</td>\n      <td>22.1</td>\n      <td>2.1</td>\n      <td>0.0</td>\n      <td>84.1</td>\n      <td>1.0</td>\n      <td>9751.0</td>\n    </tr>\n    <tr>\n      <th>1</th>\n      <td>11.0</td>\n      <td>9.0</td>\n      <td>0.029</td>\n      <td>0.003</td>\n      <td>0.1</td>\n      <td>0.001</td>\n      <td>2020-09-01</td>\n      <td>02:00:00</td>\n      <td>NaN</td>\n      <td>NaN</td>\n      <td>22.2</td>\n      <td>1.7</td>\n      <td>0.0</td>\n      <td>82.4</td>\n      <td>2.0</td>\n      <td>9929.0</td>\n    </tr>\n    <tr>\n      <th>2</th>\n      <td>11.0</td>\n      <td>8.0</td>\n      <td>0.030</td>\n      <td>0.004</td>\n      <td>0.1</td>\n      <td>0.001</td>\n      <td>2020-09-01</td>\n      <td>03:00:00</td>\n      <td>NaN</td>\n      <td>NaN</td>\n      <td>22.4</td>\n      <td>2.8</td>\n      <td>0.0</td>\n      <td>81.7</td>\n      <td>4.0</td>\n      <td>21044.0</td>\n    </tr>\n    <tr>\n      <th>3</th>\n      <td>17.0</td>\n      <td>7.0</td>\n      <td>0.031</td>\n      <td>0.004</td>\n      <td>0.1</td>\n      <td>0.001</td>\n      <td>2020-09-01</td>\n      <td>04:00:00</td>\n      <td>NaN</td>\n      <td>NaN</td>\n      <td>22.5</td>\n      <td>2.8</td>\n      <td>0.0</td>\n      <td>83.5</td>\n      <td>3.0</td>\n      <td>20866.0</td>\n    </tr>\n    <tr>\n      <th>4</th>\n      <td>12.0</td>\n      <td>11.0</td>\n      <td>0.031</td>\n      <td>0.004</td>\n      <td>0.1</td>\n      <td>0.001</td>\n      <td>2020-09-01</td>\n      <td>05:00:00</td>\n      <td>NaN</td>\n      <td>NaN</td>\n      <td>22.1</td>\n      <td>2.1</td>\n      <td>0.0</td>\n      <td>84.2</td>\n      <td>3.0</td>\n      <td>20866.0</td>\n    </tr>\n    <tr>\n      <th>...</th>\n      <td>...</td>\n      <td>...</td>\n      <td>...</td>\n      <td>...</td>\n      <td>...</td>\n      <td>...</td>\n      <td>...</td>\n      <td>...</td>\n      <td>...</td>\n      <td>...</td>\n      <td>...</td>\n      <td>...</td>\n      <td>...</td>\n      <td>...</td>\n      <td>...</td>\n      <td>...</td>\n    </tr>\n    <tr>\n      <th>7268</th>\n      <td>32.0</td>\n      <td>21.0</td>\n      <td>0.042</td>\n      <td>0.020</td>\n      <td>0.3</td>\n      <td>0.005</td>\n      <td>2021-06-30</td>\n      <td>21:00:00</td>\n      <td>49.0</td>\n      <td>0 days 00:35:33.816326530</td>\n      <td>NaN</td>\n      <td>NaN</td>\n      <td>NaN</td>\n      <td>NaN</td>\n      <td>81.0</td>\n      <td>NaN</td>\n    </tr>\n    <tr>\n      <th>7269</th>\n      <td>27.0</td>\n      <td>24.0</td>\n      <td>0.038</td>\n      <td>0.018</td>\n      <td>0.3</td>\n      <td>0.003</td>\n      <td>2021-06-30</td>\n      <td>22:00:00</td>\n      <td>16.0</td>\n      <td>0 days 00:16:34.875000</td>\n      <td>NaN</td>\n      <td>NaN</td>\n      <td>NaN</td>\n      <td>NaN</td>\n      <td>80.0</td>\n      <td>NaN</td>\n    </tr>\n    <tr>\n      <th>7270</th>\n      <td>27.0</td>\n      <td>23.0</td>\n      <td>0.037</td>\n      <td>0.014</td>\n      <td>0.3</td>\n      <td>0.003</td>\n      <td>2021-06-30</td>\n      <td>23:00:00</td>\n      <td>4.0</td>\n      <td>0 days 00:20:26.500000</td>\n      <td>NaN</td>\n      <td>NaN</td>\n      <td>NaN</td>\n      <td>NaN</td>\n      <td>79.0</td>\n      <td>NaN</td>\n    </tr>\n    <tr>\n      <th>7271</th>\n      <td>31.0</td>\n      <td>23.0</td>\n      <td>0.034</td>\n      <td>0.014</td>\n      <td>0.3</td>\n      <td>0.004</td>\n      <td>2021-07-01</td>\n      <td>00:00:00</td>\n      <td>NaN</td>\n      <td>NaN</td>\n      <td>NaN</td>\n      <td>NaN</td>\n      <td>NaN</td>\n      <td>NaN</td>\n      <td>NaN</td>\n      <td>NaN</td>\n    </tr>\n    <tr>\n      <th>7272</th>\n      <td>NaN</td>\n      <td>NaN</td>\n      <td>NaN</td>\n      <td>NaN</td>\n      <td>NaN</td>\n      <td>NaN</td>\n      <td>2020-09-01</td>\n      <td>00:00:00</td>\n      <td>NaN</td>\n      <td>NaN</td>\n      <td>21.8</td>\n      <td>1.1</td>\n      <td>NaN</td>\n      <td>90.3</td>\n      <td>0.0</td>\n      <td>0.0</td>\n    </tr>\n  </tbody>\n</table>\n<p>7273 rows × 16 columns</p>\n</div>"
     },
     "execution_count": 68,
     "metadata": {},
     "output_type": "execute_result"
    }
   ],
   "source": [
    "merged_df"
   ],
   "metadata": {
    "collapsed": false,
    "ExecuteTime": {
     "end_time": "2023-12-17T06:53:14.284578700Z",
     "start_time": "2023-12-17T06:53:14.246920400Z"
    }
   },
   "id": "796a04a03856a3d5"
  },
  {
   "cell_type": "code",
   "execution_count": 70,
   "outputs": [
    {
     "name": "stdout",
     "output_type": "stream",
     "text": [
      "          날짜       시간대  차량진입횟수 체류시간  anchored_count  TotalTonnage  PM10  \\\n",
      "0 2020-09-01  01:00:00     NaN  NaN             1.0        9751.0  16.0   \n",
      "1 2020-09-01  02:00:00     NaN  NaN             2.0        9929.0  11.0   \n",
      "2 2020-09-01  03:00:00     NaN  NaN             4.0       21044.0  11.0   \n",
      "3 2020-09-01  04:00:00     NaN  NaN             3.0       20866.0  17.0   \n",
      "4 2020-09-01  05:00:00     NaN  NaN             3.0       20866.0  12.0   \n",
      "\n",
      "   PM2.5    오 존  이산화질소  일산화탄소  아황산가스  기온(°C)  풍속(m/s)  강수량(mm)  습도(%)  \n",
      "0   16.0  0.026  0.004    0.1  0.001    22.1      2.1      0.0   84.1  \n",
      "1    9.0  0.029  0.003    0.1  0.001    22.2      1.7      0.0   82.4  \n",
      "2    8.0  0.030  0.004    0.1  0.001    22.4      2.8      0.0   81.7  \n",
      "3    7.0  0.031  0.004    0.1  0.001    22.5      2.8      0.0   83.5  \n",
      "4   11.0  0.031  0.004    0.1  0.001    22.1      2.1      0.0   84.2  \n"
     ]
    }
   ],
   "source": [
    "# '날짜'와 '시간대' 열을 맨 앞으로 이동\n",
    "cols = ['날짜', '시간대','차량진입횟수','체류시간','anchored_count','TotalTonnage']  # 맨 앞으로 이동시킬 열 이름\n",
    "other_cols = [col for col in merged_df.columns if col not in cols]  # 나머지 열\n",
    "other_cols\n",
    "merged_data = merged_df[cols + other_cols]\n",
    "\n",
    "# 결과 확인\n",
    "print(merged_data.head())\n"
   ],
   "metadata": {
    "collapsed": false,
    "ExecuteTime": {
     "end_time": "2023-12-17T06:53:50.222232200Z",
     "start_time": "2023-12-17T06:53:50.192673600Z"
    }
   },
   "id": "631339813e7de822"
  },
  {
   "cell_type": "code",
   "execution_count": 71,
   "outputs": [
    {
     "data": {
      "text/plain": "             날짜       시간대  차량진입횟수                       체류시간  anchored_count  \\\n0    2020-09-01  01:00:00     NaN                        NaN             1.0   \n1    2020-09-01  02:00:00     NaN                        NaN             2.0   \n2    2020-09-01  03:00:00     NaN                        NaN             4.0   \n3    2020-09-01  04:00:00     NaN                        NaN             3.0   \n4    2020-09-01  05:00:00     NaN                        NaN             3.0   \n...         ...       ...     ...                        ...             ...   \n7268 2021-06-30  21:00:00    49.0  0 days 00:35:33.816326530            81.0   \n7269 2021-06-30  22:00:00    16.0     0 days 00:16:34.875000            80.0   \n7270 2021-06-30  23:00:00     4.0     0 days 00:20:26.500000            79.0   \n7271 2021-07-01  00:00:00     NaN                        NaN             NaN   \n7272 2020-09-01  00:00:00     NaN                        NaN             0.0   \n\n      TotalTonnage  PM10  PM2.5    오 존  이산화질소  일산화탄소  아황산가스  기온(°C)  풍속(m/s)  \\\n0           9751.0  16.0   16.0  0.026  0.004    0.1  0.001    22.1      2.1   \n1           9929.0  11.0    9.0  0.029  0.003    0.1  0.001    22.2      1.7   \n2          21044.0  11.0    8.0  0.030  0.004    0.1  0.001    22.4      2.8   \n3          20866.0  17.0    7.0  0.031  0.004    0.1  0.001    22.5      2.8   \n4          20866.0  12.0   11.0  0.031  0.004    0.1  0.001    22.1      2.1   \n...            ...   ...    ...    ...    ...    ...    ...     ...      ...   \n7268           NaN  32.0   21.0  0.042  0.020    0.3  0.005     NaN      NaN   \n7269           NaN  27.0   24.0  0.038  0.018    0.3  0.003     NaN      NaN   \n7270           NaN  27.0   23.0  0.037  0.014    0.3  0.003     NaN      NaN   \n7271           NaN  31.0   23.0  0.034  0.014    0.3  0.004     NaN      NaN   \n7272           0.0   NaN    NaN    NaN    NaN    NaN    NaN    21.8      1.1   \n\n      강수량(mm)  습도(%)  \n0         0.0   84.1  \n1         0.0   82.4  \n2         0.0   81.7  \n3         0.0   83.5  \n4         0.0   84.2  \n...       ...    ...  \n7268      NaN    NaN  \n7269      NaN    NaN  \n7270      NaN    NaN  \n7271      NaN    NaN  \n7272      NaN   90.3  \n\n[7273 rows x 16 columns]",
      "text/html": "<div>\n<style scoped>\n    .dataframe tbody tr th:only-of-type {\n        vertical-align: middle;\n    }\n\n    .dataframe tbody tr th {\n        vertical-align: top;\n    }\n\n    .dataframe thead th {\n        text-align: right;\n    }\n</style>\n<table border=\"1\" class=\"dataframe\">\n  <thead>\n    <tr style=\"text-align: right;\">\n      <th></th>\n      <th>날짜</th>\n      <th>시간대</th>\n      <th>차량진입횟수</th>\n      <th>체류시간</th>\n      <th>anchored_count</th>\n      <th>TotalTonnage</th>\n      <th>PM10</th>\n      <th>PM2.5</th>\n      <th>오 존</th>\n      <th>이산화질소</th>\n      <th>일산화탄소</th>\n      <th>아황산가스</th>\n      <th>기온(°C)</th>\n      <th>풍속(m/s)</th>\n      <th>강수량(mm)</th>\n      <th>습도(%)</th>\n    </tr>\n  </thead>\n  <tbody>\n    <tr>\n      <th>0</th>\n      <td>2020-09-01</td>\n      <td>01:00:00</td>\n      <td>NaN</td>\n      <td>NaN</td>\n      <td>1.0</td>\n      <td>9751.0</td>\n      <td>16.0</td>\n      <td>16.0</td>\n      <td>0.026</td>\n      <td>0.004</td>\n      <td>0.1</td>\n      <td>0.001</td>\n      <td>22.1</td>\n      <td>2.1</td>\n      <td>0.0</td>\n      <td>84.1</td>\n    </tr>\n    <tr>\n      <th>1</th>\n      <td>2020-09-01</td>\n      <td>02:00:00</td>\n      <td>NaN</td>\n      <td>NaN</td>\n      <td>2.0</td>\n      <td>9929.0</td>\n      <td>11.0</td>\n      <td>9.0</td>\n      <td>0.029</td>\n      <td>0.003</td>\n      <td>0.1</td>\n      <td>0.001</td>\n      <td>22.2</td>\n      <td>1.7</td>\n      <td>0.0</td>\n      <td>82.4</td>\n    </tr>\n    <tr>\n      <th>2</th>\n      <td>2020-09-01</td>\n      <td>03:00:00</td>\n      <td>NaN</td>\n      <td>NaN</td>\n      <td>4.0</td>\n      <td>21044.0</td>\n      <td>11.0</td>\n      <td>8.0</td>\n      <td>0.030</td>\n      <td>0.004</td>\n      <td>0.1</td>\n      <td>0.001</td>\n      <td>22.4</td>\n      <td>2.8</td>\n      <td>0.0</td>\n      <td>81.7</td>\n    </tr>\n    <tr>\n      <th>3</th>\n      <td>2020-09-01</td>\n      <td>04:00:00</td>\n      <td>NaN</td>\n      <td>NaN</td>\n      <td>3.0</td>\n      <td>20866.0</td>\n      <td>17.0</td>\n      <td>7.0</td>\n      <td>0.031</td>\n      <td>0.004</td>\n      <td>0.1</td>\n      <td>0.001</td>\n      <td>22.5</td>\n      <td>2.8</td>\n      <td>0.0</td>\n      <td>83.5</td>\n    </tr>\n    <tr>\n      <th>4</th>\n      <td>2020-09-01</td>\n      <td>05:00:00</td>\n      <td>NaN</td>\n      <td>NaN</td>\n      <td>3.0</td>\n      <td>20866.0</td>\n      <td>12.0</td>\n      <td>11.0</td>\n      <td>0.031</td>\n      <td>0.004</td>\n      <td>0.1</td>\n      <td>0.001</td>\n      <td>22.1</td>\n      <td>2.1</td>\n      <td>0.0</td>\n      <td>84.2</td>\n    </tr>\n    <tr>\n      <th>...</th>\n      <td>...</td>\n      <td>...</td>\n      <td>...</td>\n      <td>...</td>\n      <td>...</td>\n      <td>...</td>\n      <td>...</td>\n      <td>...</td>\n      <td>...</td>\n      <td>...</td>\n      <td>...</td>\n      <td>...</td>\n      <td>...</td>\n      <td>...</td>\n      <td>...</td>\n      <td>...</td>\n    </tr>\n    <tr>\n      <th>7268</th>\n      <td>2021-06-30</td>\n      <td>21:00:00</td>\n      <td>49.0</td>\n      <td>0 days 00:35:33.816326530</td>\n      <td>81.0</td>\n      <td>NaN</td>\n      <td>32.0</td>\n      <td>21.0</td>\n      <td>0.042</td>\n      <td>0.020</td>\n      <td>0.3</td>\n      <td>0.005</td>\n      <td>NaN</td>\n      <td>NaN</td>\n      <td>NaN</td>\n      <td>NaN</td>\n    </tr>\n    <tr>\n      <th>7269</th>\n      <td>2021-06-30</td>\n      <td>22:00:00</td>\n      <td>16.0</td>\n      <td>0 days 00:16:34.875000</td>\n      <td>80.0</td>\n      <td>NaN</td>\n      <td>27.0</td>\n      <td>24.0</td>\n      <td>0.038</td>\n      <td>0.018</td>\n      <td>0.3</td>\n      <td>0.003</td>\n      <td>NaN</td>\n      <td>NaN</td>\n      <td>NaN</td>\n      <td>NaN</td>\n    </tr>\n    <tr>\n      <th>7270</th>\n      <td>2021-06-30</td>\n      <td>23:00:00</td>\n      <td>4.0</td>\n      <td>0 days 00:20:26.500000</td>\n      <td>79.0</td>\n      <td>NaN</td>\n      <td>27.0</td>\n      <td>23.0</td>\n      <td>0.037</td>\n      <td>0.014</td>\n      <td>0.3</td>\n      <td>0.003</td>\n      <td>NaN</td>\n      <td>NaN</td>\n      <td>NaN</td>\n      <td>NaN</td>\n    </tr>\n    <tr>\n      <th>7271</th>\n      <td>2021-07-01</td>\n      <td>00:00:00</td>\n      <td>NaN</td>\n      <td>NaN</td>\n      <td>NaN</td>\n      <td>NaN</td>\n      <td>31.0</td>\n      <td>23.0</td>\n      <td>0.034</td>\n      <td>0.014</td>\n      <td>0.3</td>\n      <td>0.004</td>\n      <td>NaN</td>\n      <td>NaN</td>\n      <td>NaN</td>\n      <td>NaN</td>\n    </tr>\n    <tr>\n      <th>7272</th>\n      <td>2020-09-01</td>\n      <td>00:00:00</td>\n      <td>NaN</td>\n      <td>NaN</td>\n      <td>0.0</td>\n      <td>0.0</td>\n      <td>NaN</td>\n      <td>NaN</td>\n      <td>NaN</td>\n      <td>NaN</td>\n      <td>NaN</td>\n      <td>NaN</td>\n      <td>21.8</td>\n      <td>1.1</td>\n      <td>NaN</td>\n      <td>90.3</td>\n    </tr>\n  </tbody>\n</table>\n<p>7273 rows × 16 columns</p>\n</div>"
     },
     "execution_count": 71,
     "metadata": {},
     "output_type": "execute_result"
    }
   ],
   "source": [
    "merged_data"
   ],
   "metadata": {
    "collapsed": false,
    "ExecuteTime": {
     "end_time": "2023-12-17T06:54:12.298720Z",
     "start_time": "2023-12-17T06:54:12.241105600Z"
    }
   },
   "id": "1a4429c974214262"
  },
  {
   "cell_type": "code",
   "execution_count": 72,
   "outputs": [
    {
     "name": "stdout",
     "output_type": "stream",
     "text": [
      "Index(['PM10', 'PM2.5', '오 존', '이산화질소', '일산화탄소', '아황산가스', '날짜', '시간대',\n",
      "       '차량진입횟수', '체류시간', '기온(°C)', '풍속(m/s)', '강수량(mm)', '습도(%)',\n",
      "       'anchored_count', 'TotalTonnage'],\n",
      "      dtype='object')\n",
      "Index(['날짜', '시간대', '차량진입횟수', '체류시간', 'anchored_count', 'TotalTonnage', 'PM10',\n",
      "       'PM2.5', '오 존', '이산화질소', '일산화탄소', '아황산가스', '기온(°C)', '풍속(m/s)',\n",
      "       '강수량(mm)', '습도(%)'],\n",
      "      dtype='object')\n"
     ]
    }
   ],
   "source": [
    "print(merged_df.columns)\n",
    "print(merged_data.columns)"
   ],
   "metadata": {
    "collapsed": false,
    "ExecuteTime": {
     "end_time": "2023-12-17T06:54:59.272492100Z",
     "start_time": "2023-12-17T06:54:59.226183600Z"
    }
   },
   "id": "8c8e2e897caa5c42"
  },
  {
   "cell_type": "code",
   "execution_count": 73,
   "outputs": [
    {
     "name": "stdout",
     "output_type": "stream",
     "text": [
      "saved merged_data.csv\n"
     ]
    }
   ],
   "source": [
    "# csv 파일로 저장\n",
    "merged_data.to_csv('./filtered_data/merged_data.csv', index=False)\n",
    "\n",
    "print('saved merged_data.csv')"
   ],
   "metadata": {
    "collapsed": false,
    "ExecuteTime": {
     "end_time": "2023-12-17T06:55:51.364076200Z",
     "start_time": "2023-12-17T06:55:51.296320400Z"
    }
   },
   "id": "78af57709fbbbc8f"
  },
  {
   "cell_type": "code",
   "execution_count": null,
   "outputs": [],
   "source": [],
   "metadata": {
    "collapsed": false
   },
   "id": "fa08c857c56a23b3"
  }
 ],
 "metadata": {
  "kernelspec": {
   "display_name": "Python 3",
   "language": "python",
   "name": "python3"
  },
  "language_info": {
   "codemirror_mode": {
    "name": "ipython",
    "version": 2
   },
   "file_extension": ".py",
   "mimetype": "text/x-python",
   "name": "python",
   "nbconvert_exporter": "python",
   "pygments_lexer": "ipython2",
   "version": "2.7.6"
  }
 },
 "nbformat": 4,
 "nbformat_minor": 5
}
