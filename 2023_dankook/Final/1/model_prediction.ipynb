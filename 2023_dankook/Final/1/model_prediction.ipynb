{
 "cells": [
  {
   "cell_type": "markdown",
   "source": [
    "## 필요한 라이브러리 임포트"
   ],
   "metadata": {
    "collapsed": false
   },
   "id": "3c67b766be6b4d5a"
  },
  {
   "cell_type": "code",
   "execution_count": 87,
   "outputs": [],
   "source": [
    "import pandas as pd\n",
    "from sklearn.preprocessing import MinMaxScaler\n",
    "from sklearn.model_selection import train_test_split\n",
    "from keras.preprocessing.sequence import TimeseriesGenerator\n",
    "from keras.layers import Conv1D, MaxPooling1D, Flatten, Dense\n",
    "from keras.models import Sequential\n",
    "from keras.layers import LSTM, Dense, SimpleRNN\n",
    "from keras.callbacks import EarlyStopping\n",
    "import tensorflow as tf\n",
    "import numpy as np\n",
    "from sklearn.metrics import mean_squared_error, mean_absolute_error, r2_score\n",
    "from scipy.stats import pearsonr"
   ],
   "metadata": {
    "collapsed": false,
    "ExecuteTime": {
     "end_time": "2023-12-17T12:14:26.010289500Z",
     "start_time": "2023-12-17T12:14:25.992354700Z"
    }
   },
   "id": "e2d22793e7b7ea8b"
  },
  {
   "cell_type": "markdown",
   "source": [
    "## 데이터 전처리"
   ],
   "metadata": {
    "collapsed": false
   },
   "id": "f761eb60437b9eb7"
  },
  {
   "cell_type": "code",
   "execution_count": 70,
   "id": "initial_id",
   "metadata": {
    "collapsed": true,
    "ExecuteTime": {
     "end_time": "2023-12-17T11:56:57.914780400Z",
     "start_time": "2023-12-17T11:56:57.865575300Z"
    }
   },
   "outputs": [
    {
     "name": "stdout",
     "output_type": "stream",
     "text": [
      "데이터 타입: float64\n",
      "0             NaN\n",
      "1             NaN\n",
      "2             NaN\n",
      "3             NaN\n",
      "4             NaN\n",
      "5             NaN\n",
      "6     1260.000000\n",
      "7     1833.230769\n",
      "8     1769.761273\n",
      "9     1766.533333\n",
      "10    3516.881960\n",
      "11    1606.153846\n",
      "12    1915.721739\n",
      "13    2052.310536\n",
      "14    2577.720207\n",
      "15    2369.219331\n",
      "16    3373.529412\n",
      "17    2461.250000\n",
      "18    2751.818182\n",
      "19    2734.857143\n",
      "Name: 체류시간_초, dtype: float64\n"
     ]
    }
   ],
   "source": [
    "df = pd.read_csv('./filtered_data/merged_data.csv')\n",
    "\n",
    "# timedelta 형식 변환\n",
    "df['체류시간'] = pd.to_timedelta(df['체류시간'])\n",
    "\n",
    "# 총 초로 변환\n",
    "df['체류시간_초'] = df['체류시간'].dt.total_seconds()\n",
    "\n",
    "print(\"데이터 타입:\", df['체류시간_초'].dtype)\n",
    "\n",
    "print(df['체류시간_초'].head(20))"
   ]
  },
  {
   "cell_type": "code",
   "execution_count": 71,
   "outputs": [
    {
     "name": "stdout",
     "output_type": "stream",
     "text": [
      "날짜                         object\n",
      "시간대                        object\n",
      "차량진입횟수                    float64\n",
      "체류시간              timedelta64[ns]\n",
      "anchored_count            float64\n",
      "TotalTonnage              float64\n",
      "PM10                      float64\n",
      "PM2.5                     float64\n",
      "오 존                       float64\n",
      "이산화질소                     float64\n",
      "일산화탄소                     float64\n",
      "아황산가스                     float64\n",
      "기온(C)                     float64\n",
      "풍속(m/s)                   float64\n",
      "강수량(mm)                   float64\n",
      "습도(%)                     float64\n",
      "체류시간_초                    float64\n",
      "dtype: object\n"
     ]
    }
   ],
   "source": [
    "print(df.dtypes)"
   ],
   "metadata": {
    "collapsed": false,
    "ExecuteTime": {
     "end_time": "2023-12-17T11:56:58.372266500Z",
     "start_time": "2023-12-17T11:56:58.357065600Z"
    }
   },
   "id": "80c8b523e0af8212"
  },
  {
   "cell_type": "code",
   "execution_count": 72,
   "outputs": [
    {
     "data": {
      "text/plain": "              날짜       시간대  차량진입횟수  anchored_count  TotalTonnage  PM10  PM2.5  \\\n0     2020-09-01  01:00:00     NaN             1.0        9751.0  16.0   16.0   \n1     2020-09-01  02:00:00     NaN             2.0        9929.0  11.0    9.0   \n2     2020-09-01  03:00:00     NaN             4.0       21044.0  11.0    8.0   \n3     2020-09-01  04:00:00     NaN             3.0       20866.0  17.0    7.0   \n4     2020-09-01  05:00:00     NaN             3.0       20866.0  12.0   11.0   \n...          ...       ...     ...             ...           ...   ...    ...   \n7268  2021-06-30  21:00:00    49.0            81.0           NaN  32.0   21.0   \n7269  2021-06-30  22:00:00    16.0            80.0           NaN  27.0   24.0   \n7270  2021-06-30  23:00:00     4.0            79.0           NaN  27.0   23.0   \n7271  2021-07-01  00:00:00     NaN             NaN           NaN  31.0   23.0   \n7272  2020-09-01  00:00:00     NaN             0.0           0.0   NaN    NaN   \n\n        오 존  이산화질소  일산화탄소  아황산가스  기온(C)  풍속(m/s)  강수량(mm)  습도(%)       체류시간_초  \n0     0.026  0.004    0.1  0.001   22.1      2.1      0.0   84.1          NaN  \n1     0.029  0.003    0.1  0.001   22.2      1.7      0.0   82.4          NaN  \n2     0.030  0.004    0.1  0.001   22.4      2.8      0.0   81.7          NaN  \n3     0.031  0.004    0.1  0.001   22.5      2.8      0.0   83.5          NaN  \n4     0.031  0.004    0.1  0.001   22.1      2.1      0.0   84.2          NaN  \n...     ...    ...    ...    ...    ...      ...      ...    ...          ...  \n7268  0.042  0.020    0.3  0.005    NaN      NaN      NaN    NaN  2133.816327  \n7269  0.038  0.018    0.3  0.003    NaN      NaN      NaN    NaN   994.875000  \n7270  0.037  0.014    0.3  0.003    NaN      NaN      NaN    NaN  1226.500000  \n7271  0.034  0.014    0.3  0.004    NaN      NaN      NaN    NaN          NaN  \n7272    NaN    NaN    NaN    NaN   21.8      1.1      NaN   90.3          NaN  \n\n[7273 rows x 16 columns]",
      "text/html": "<div>\n<style scoped>\n    .dataframe tbody tr th:only-of-type {\n        vertical-align: middle;\n    }\n\n    .dataframe tbody tr th {\n        vertical-align: top;\n    }\n\n    .dataframe thead th {\n        text-align: right;\n    }\n</style>\n<table border=\"1\" class=\"dataframe\">\n  <thead>\n    <tr style=\"text-align: right;\">\n      <th></th>\n      <th>날짜</th>\n      <th>시간대</th>\n      <th>차량진입횟수</th>\n      <th>anchored_count</th>\n      <th>TotalTonnage</th>\n      <th>PM10</th>\n      <th>PM2.5</th>\n      <th>오 존</th>\n      <th>이산화질소</th>\n      <th>일산화탄소</th>\n      <th>아황산가스</th>\n      <th>기온(C)</th>\n      <th>풍속(m/s)</th>\n      <th>강수량(mm)</th>\n      <th>습도(%)</th>\n      <th>체류시간_초</th>\n    </tr>\n  </thead>\n  <tbody>\n    <tr>\n      <th>0</th>\n      <td>2020-09-01</td>\n      <td>01:00:00</td>\n      <td>NaN</td>\n      <td>1.0</td>\n      <td>9751.0</td>\n      <td>16.0</td>\n      <td>16.0</td>\n      <td>0.026</td>\n      <td>0.004</td>\n      <td>0.1</td>\n      <td>0.001</td>\n      <td>22.1</td>\n      <td>2.1</td>\n      <td>0.0</td>\n      <td>84.1</td>\n      <td>NaN</td>\n    </tr>\n    <tr>\n      <th>1</th>\n      <td>2020-09-01</td>\n      <td>02:00:00</td>\n      <td>NaN</td>\n      <td>2.0</td>\n      <td>9929.0</td>\n      <td>11.0</td>\n      <td>9.0</td>\n      <td>0.029</td>\n      <td>0.003</td>\n      <td>0.1</td>\n      <td>0.001</td>\n      <td>22.2</td>\n      <td>1.7</td>\n      <td>0.0</td>\n      <td>82.4</td>\n      <td>NaN</td>\n    </tr>\n    <tr>\n      <th>2</th>\n      <td>2020-09-01</td>\n      <td>03:00:00</td>\n      <td>NaN</td>\n      <td>4.0</td>\n      <td>21044.0</td>\n      <td>11.0</td>\n      <td>8.0</td>\n      <td>0.030</td>\n      <td>0.004</td>\n      <td>0.1</td>\n      <td>0.001</td>\n      <td>22.4</td>\n      <td>2.8</td>\n      <td>0.0</td>\n      <td>81.7</td>\n      <td>NaN</td>\n    </tr>\n    <tr>\n      <th>3</th>\n      <td>2020-09-01</td>\n      <td>04:00:00</td>\n      <td>NaN</td>\n      <td>3.0</td>\n      <td>20866.0</td>\n      <td>17.0</td>\n      <td>7.0</td>\n      <td>0.031</td>\n      <td>0.004</td>\n      <td>0.1</td>\n      <td>0.001</td>\n      <td>22.5</td>\n      <td>2.8</td>\n      <td>0.0</td>\n      <td>83.5</td>\n      <td>NaN</td>\n    </tr>\n    <tr>\n      <th>4</th>\n      <td>2020-09-01</td>\n      <td>05:00:00</td>\n      <td>NaN</td>\n      <td>3.0</td>\n      <td>20866.0</td>\n      <td>12.0</td>\n      <td>11.0</td>\n      <td>0.031</td>\n      <td>0.004</td>\n      <td>0.1</td>\n      <td>0.001</td>\n      <td>22.1</td>\n      <td>2.1</td>\n      <td>0.0</td>\n      <td>84.2</td>\n      <td>NaN</td>\n    </tr>\n    <tr>\n      <th>...</th>\n      <td>...</td>\n      <td>...</td>\n      <td>...</td>\n      <td>...</td>\n      <td>...</td>\n      <td>...</td>\n      <td>...</td>\n      <td>...</td>\n      <td>...</td>\n      <td>...</td>\n      <td>...</td>\n      <td>...</td>\n      <td>...</td>\n      <td>...</td>\n      <td>...</td>\n      <td>...</td>\n    </tr>\n    <tr>\n      <th>7268</th>\n      <td>2021-06-30</td>\n      <td>21:00:00</td>\n      <td>49.0</td>\n      <td>81.0</td>\n      <td>NaN</td>\n      <td>32.0</td>\n      <td>21.0</td>\n      <td>0.042</td>\n      <td>0.020</td>\n      <td>0.3</td>\n      <td>0.005</td>\n      <td>NaN</td>\n      <td>NaN</td>\n      <td>NaN</td>\n      <td>NaN</td>\n      <td>2133.816327</td>\n    </tr>\n    <tr>\n      <th>7269</th>\n      <td>2021-06-30</td>\n      <td>22:00:00</td>\n      <td>16.0</td>\n      <td>80.0</td>\n      <td>NaN</td>\n      <td>27.0</td>\n      <td>24.0</td>\n      <td>0.038</td>\n      <td>0.018</td>\n      <td>0.3</td>\n      <td>0.003</td>\n      <td>NaN</td>\n      <td>NaN</td>\n      <td>NaN</td>\n      <td>NaN</td>\n      <td>994.875000</td>\n    </tr>\n    <tr>\n      <th>7270</th>\n      <td>2021-06-30</td>\n      <td>23:00:00</td>\n      <td>4.0</td>\n      <td>79.0</td>\n      <td>NaN</td>\n      <td>27.0</td>\n      <td>23.0</td>\n      <td>0.037</td>\n      <td>0.014</td>\n      <td>0.3</td>\n      <td>0.003</td>\n      <td>NaN</td>\n      <td>NaN</td>\n      <td>NaN</td>\n      <td>NaN</td>\n      <td>1226.500000</td>\n    </tr>\n    <tr>\n      <th>7271</th>\n      <td>2021-07-01</td>\n      <td>00:00:00</td>\n      <td>NaN</td>\n      <td>NaN</td>\n      <td>NaN</td>\n      <td>31.0</td>\n      <td>23.0</td>\n      <td>0.034</td>\n      <td>0.014</td>\n      <td>0.3</td>\n      <td>0.004</td>\n      <td>NaN</td>\n      <td>NaN</td>\n      <td>NaN</td>\n      <td>NaN</td>\n      <td>NaN</td>\n    </tr>\n    <tr>\n      <th>7272</th>\n      <td>2020-09-01</td>\n      <td>00:00:00</td>\n      <td>NaN</td>\n      <td>0.0</td>\n      <td>0.0</td>\n      <td>NaN</td>\n      <td>NaN</td>\n      <td>NaN</td>\n      <td>NaN</td>\n      <td>NaN</td>\n      <td>NaN</td>\n      <td>21.8</td>\n      <td>1.1</td>\n      <td>NaN</td>\n      <td>90.3</td>\n      <td>NaN</td>\n    </tr>\n  </tbody>\n</table>\n<p>7273 rows × 16 columns</p>\n</div>"
     },
     "execution_count": 72,
     "metadata": {},
     "output_type": "execute_result"
    }
   ],
   "source": [
    "df = df.drop('체류시간', axis=1)\n",
    "df"
   ],
   "metadata": {
    "collapsed": false,
    "ExecuteTime": {
     "end_time": "2023-12-17T11:57:00.797254400Z",
     "start_time": "2023-12-17T11:57:00.767240400Z"
    }
   },
   "id": "ade305e80c1994df"
  },
  {
   "cell_type": "code",
   "execution_count": 73,
   "outputs": [],
   "source": [
    "df.fillna(0, inplace=True)\n"
   ],
   "metadata": {
    "collapsed": false,
    "ExecuteTime": {
     "end_time": "2023-12-17T11:57:02.488478200Z",
     "start_time": "2023-12-17T11:57:02.471392100Z"
    }
   },
   "id": "58e12d29edd5f3f2"
  },
  {
   "cell_type": "code",
   "execution_count": 74,
   "outputs": [],
   "source": [
    "X = df[['차량진입횟수', '체류시간_초', 'anchored_count', 'TotalTonnage', '오 존', '이산화질소', '일산화탄소', '아황산가스', '기온(C)', '풍속(m/s)', '강수량(mm)', '습도(%)']]\n",
    "y = df['PM10']  # PM10 농도"
   ],
   "metadata": {
    "collapsed": false,
    "ExecuteTime": {
     "end_time": "2023-12-17T11:57:02.870329200Z",
     "start_time": "2023-12-17T11:57:02.843887600Z"
    }
   },
   "id": "a341ba2e55e00cfa"
  },
  {
   "cell_type": "code",
   "execution_count": 75,
   "outputs": [],
   "source": [
    "scaler_X = MinMaxScaler()\n",
    "X_scaled = scaler_X.fit_transform(X)\n",
    "\n",
    "scaler_y = MinMaxScaler()\n",
    "y_scaled = scaler_y.fit_transform(y.values.reshape(-1, 1))"
   ],
   "metadata": {
    "collapsed": false,
    "ExecuteTime": {
     "end_time": "2023-12-17T11:57:04.761084200Z",
     "start_time": "2023-12-17T11:57:04.734784400Z"
    }
   },
   "id": "2e7391592aebdfd1"
  },
  {
   "cell_type": "code",
   "execution_count": 76,
   "outputs": [],
   "source": [
    "train_X, test_X, train_y, test_y = train_test_split(X_scaled, y_scaled, test_size=0.2, shuffle=False)"
   ],
   "metadata": {
    "collapsed": false,
    "ExecuteTime": {
     "end_time": "2023-12-17T11:57:07.985331800Z",
     "start_time": "2023-12-17T11:57:07.980783500Z"
    }
   },
   "id": "6ff0dfa4b2aed771"
  },
  {
   "cell_type": "code",
   "execution_count": 77,
   "outputs": [],
   "source": [
    "look_back = 24  # 과거 몇 타임스텝을 볼 것인지 정의\n",
    "\n",
    "train_generator = TimeseriesGenerator(train_X, train_y, length=look_back, batch_size=30)\n",
    "test_generator = TimeseriesGenerator(test_X, test_y, length=look_back, batch_size=1)"
   ],
   "metadata": {
    "collapsed": false,
    "ExecuteTime": {
     "end_time": "2023-12-17T11:57:12.851811400Z",
     "start_time": "2023-12-17T11:57:12.823218500Z"
    }
   },
   "id": "a3a08613ec6fa208"
  },
  {
   "cell_type": "markdown",
   "source": [
    "## LSTM"
   ],
   "metadata": {
    "collapsed": false
   },
   "id": "b778cb62bf66c88d"
  },
  {
   "cell_type": "markdown",
   "source": [
    "### 모델 설정, 훈련"
   ],
   "metadata": {
    "collapsed": false
   },
   "id": "aca08d1346591daa"
  },
  {
   "cell_type": "code",
   "execution_count": 78,
   "outputs": [
    {
     "name": "stdout",
     "output_type": "stream",
     "text": [
      "Epoch 1/100\n",
      "194/194 [==============================] - 7s 22ms/step - loss: 0.0016 - val_loss: 0.0014\n",
      "Epoch 2/100\n",
      "194/194 [==============================] - 4s 20ms/step - loss: 0.0012 - val_loss: 0.0017\n",
      "Epoch 3/100\n",
      "194/194 [==============================] - 4s 19ms/step - loss: 0.0011 - val_loss: 0.0014\n",
      "Epoch 4/100\n",
      "194/194 [==============================] - 4s 19ms/step - loss: 0.0011 - val_loss: 0.0014\n",
      "Epoch 5/100\n",
      "194/194 [==============================] - 4s 19ms/step - loss: 0.0011 - val_loss: 0.0014\n",
      "Epoch 6/100\n",
      "194/194 [==============================] - 4s 21ms/step - loss: 0.0011 - val_loss: 0.0015\n",
      "Epoch 7/100\n",
      "194/194 [==============================] - 4s 22ms/step - loss: 0.0011 - val_loss: 0.0014\n",
      "Epoch 8/100\n",
      "194/194 [==============================] - 4s 21ms/step - loss: 0.0011 - val_loss: 0.0014\n",
      "Epoch 9/100\n",
      "194/194 [==============================] - 4s 19ms/step - loss: 0.0011 - val_loss: 0.0015\n",
      "Epoch 10/100\n",
      "194/194 [==============================] - 4s 20ms/step - loss: 0.0011 - val_loss: 0.0014\n",
      "Epoch 11/100\n",
      "194/194 [==============================] - 4s 20ms/step - loss: 0.0011 - val_loss: 0.0014\n",
      "Epoch 12/100\n",
      "194/194 [==============================] - 4s 22ms/step - loss: 0.0010 - val_loss: 0.0014\n",
      "Epoch 13/100\n",
      "194/194 [==============================] - 4s 21ms/step - loss: 0.0010 - val_loss: 0.0014\n",
      "Epoch 14/100\n",
      "194/194 [==============================] - 4s 20ms/step - loss: 0.0010 - val_loss: 0.0014\n",
      "Epoch 15/100\n",
      "194/194 [==============================] - 4s 19ms/step - loss: 0.0010 - val_loss: 0.0014\n",
      "Epoch 16/100\n",
      "194/194 [==============================] - 4s 19ms/step - loss: 0.0010 - val_loss: 0.0013\n",
      "Epoch 17/100\n",
      "194/194 [==============================] - 4s 21ms/step - loss: 0.0010 - val_loss: 0.0013\n",
      "Epoch 18/100\n",
      "194/194 [==============================] - 4s 20ms/step - loss: 0.0010 - val_loss: 0.0014\n",
      "Epoch 19/100\n",
      "194/194 [==============================] - 5s 24ms/step - loss: 0.0010 - val_loss: 0.0013\n",
      "Epoch 20/100\n",
      "194/194 [==============================] - 4s 22ms/step - loss: 0.0010 - val_loss: 0.0014\n",
      "Epoch 21/100\n",
      "194/194 [==============================] - 4s 20ms/step - loss: 0.0010 - val_loss: 0.0015\n",
      "Epoch 22/100\n",
      "194/194 [==============================] - 4s 20ms/step - loss: 9.9752e-04 - val_loss: 0.0014\n",
      "Epoch 23/100\n",
      "194/194 [==============================] - 4s 20ms/step - loss: 9.6255e-04 - val_loss: 0.0016\n",
      "Epoch 24/100\n",
      "194/194 [==============================] - 4s 20ms/step - loss: 0.0010 - val_loss: 0.0014\n",
      "Epoch 25/100\n",
      "194/194 [==============================] - 4s 19ms/step - loss: 0.0010 - val_loss: 0.0014\n",
      "Epoch 26/100\n",
      "194/194 [==============================] - 4s 19ms/step - loss: 0.0010 - val_loss: 0.0014\n"
     ]
    },
    {
     "data": {
      "text/plain": "<keras.src.callbacks.History at 0x1b731bbc510>"
     },
     "execution_count": 78,
     "metadata": {},
     "output_type": "execute_result"
    }
   ],
   "source": [
    "model = Sequential()\n",
    "model.add(LSTM(32, return_sequences=True, input_shape=(look_back, train_X.shape[1])))  \n",
    "model.add(LSTM(32))\n",
    "model.add(Dense(1))  \n",
    "\n",
    "# 모델 컴파일\n",
    "model.compile(optimizer=tf.keras.optimizers.Adam(learning_rate=0.001), loss='mean_squared_error')\n",
    "\n",
    "# 조기 종료 설정\n",
    "early_stopping = EarlyStopping(monitor='val_loss', patience=10)\n",
    "\n",
    "# 모델 훈련\n",
    "model.fit(train_generator, epochs=100, validation_data=test_generator, callbacks=[early_stopping])\n"
   ],
   "metadata": {
    "collapsed": false,
    "ExecuteTime": {
     "end_time": "2023-12-17T11:58:58.735722100Z",
     "start_time": "2023-12-17T11:57:13.289907200Z"
    }
   },
   "id": "ceb1fdfa3bf91575"
  },
  {
   "cell_type": "markdown",
   "source": [
    "### 모델 예측"
   ],
   "metadata": {
    "collapsed": false
   },
   "id": "cc1a3c7d5671588c"
  },
  {
   "cell_type": "code",
   "execution_count": 79,
   "outputs": [
    {
     "name": "stdout",
     "output_type": "stream",
     "text": [
      "1431/1431 [==============================] - 3s 2ms/step\n"
     ]
    }
   ],
   "source": [
    "test_predictions = model.predict(test_generator)\n",
    "test_actuals = np.array([data[1][0] for data in test_generator])"
   ],
   "metadata": {
    "collapsed": false,
    "ExecuteTime": {
     "end_time": "2023-12-17T11:59:06.063403300Z",
     "start_time": "2023-12-17T11:59:02.215215400Z"
    }
   },
   "id": "468dfe0e09f5e34"
  },
  {
   "cell_type": "code",
   "execution_count": 80,
   "outputs": [],
   "source": [
    "# 1차원 배열로 변환\n",
    "test_predictions = test_predictions.ravel()\n",
    "test_actuals = test_actuals.ravel()\n",
    "\n",
    "# 역스케일링\n",
    "test_predictions = scaler_y.inverse_transform(test_predictions.reshape(-1, 1)).ravel()\n",
    "test_actuals = scaler_y.inverse_transform(test_actuals.reshape(-1, 1)).ravel()"
   ],
   "metadata": {
    "collapsed": false,
    "ExecuteTime": {
     "end_time": "2023-12-17T11:59:08.940025100Z",
     "start_time": "2023-12-17T11:59:08.925948Z"
    }
   },
   "id": "b47072808c2fc9ee"
  },
  {
   "cell_type": "markdown",
   "source": [
    "### 모델 성능 평가"
   ],
   "metadata": {
    "collapsed": false
   },
   "id": "a5b7a900282704c5"
  },
  {
   "cell_type": "code",
   "execution_count": 81,
   "outputs": [
    {
     "name": "stdout",
     "output_type": "stream",
     "text": [
      "Mean Absolute Error (MAE): 24.149060701507526\n",
      "Mean Squared Error (MSE): 3380.507981198109\n",
      "Root Mean Squared Error (RMSE): 58.14213602197729\n",
      "Correlation Coefficient: 0.2480137171650007\n",
      "Coefficient of Determination (R^2): 0.06138759083701073\n"
     ]
    }
   ],
   "source": [
    "# MAE\n",
    "mae = mean_absolute_error(test_actuals, test_predictions)\n",
    "print(\"Mean Absolute Error (MAE):\", mae)\n",
    "\n",
    "# MSE \n",
    "mse = mean_squared_error(test_actuals, test_predictions)\n",
    "print(\"Mean Squared Error (MSE):\", mse)\n",
    "\n",
    "# RMSE \n",
    "rmse = np.sqrt(mse)\n",
    "print(\"Root Mean Squared Error (RMSE):\", rmse)\n",
    "\n",
    "# 상관 계수\n",
    "correlation, _ = pearsonr(test_actuals, test_predictions)\n",
    "print(\"Correlation Coefficient:\", correlation)\n",
    "\n",
    "# 결정 계수 \n",
    "r2 = r2_score(test_actuals, test_predictions)\n",
    "print(\"Coefficient of Determination (R^2):\", r2)"
   ],
   "metadata": {
    "collapsed": false,
    "ExecuteTime": {
     "end_time": "2023-12-17T11:59:09.906520300Z",
     "start_time": "2023-12-17T11:59:09.900317100Z"
    }
   },
   "id": "565548886de72a7"
  },
  {
   "cell_type": "code",
   "execution_count": 62,
   "outputs": [
    {
     "name": "stdout",
     "output_type": "stream",
     "text": [
      "Index(['날짜', '시간대', '차량진입횟수', 'anchored_count', 'TotalTonnage', 'PM10',\n",
      "       'PM2.5', '오 존', '이산화질소', '일산화탄소', '아황산가스', '기온(C)', '풍속(m/s)',\n",
      "       '강수량(mm)', '습도(%)', '체류시간_초'],\n",
      "      dtype='object')\n"
     ]
    }
   ],
   "source": [
    "print(df.columns)"
   ],
   "metadata": {
    "collapsed": false,
    "ExecuteTime": {
     "end_time": "2023-12-17T11:46:44.385184Z",
     "start_time": "2023-12-17T11:46:44.364499600Z"
    }
   },
   "id": "429dabf0e9a9cee5"
  },
  {
   "cell_type": "code",
   "execution_count": 63,
   "outputs": [
    {
     "name": "stdout",
     "output_type": "stream",
     "text": [
      "(1, 1)\n"
     ]
    }
   ],
   "source": [
    "# test_generator의 첫 번째 배치 추출\n",
    "first_batch = test_generator[0]\n",
    "input_data, actual_output = first_batch\n",
    "\n",
    "print(actual_output.shape)\n"
   ],
   "metadata": {
    "collapsed": false,
    "ExecuteTime": {
     "end_time": "2023-12-17T11:47:45.142660300Z",
     "start_time": "2023-12-17T11:47:45.119764Z"
    }
   },
   "id": "8f098be668d8f012"
  },
  {
   "cell_type": "code",
   "execution_count": 64,
   "outputs": [
    {
     "name": "stdout",
     "output_type": "stream",
     "text": [
      "[0.00760456]\n"
     ]
    }
   ],
   "source": [
    "print( actual_output[0])"
   ],
   "metadata": {
    "collapsed": false,
    "ExecuteTime": {
     "end_time": "2023-12-17T11:48:18.988442900Z",
     "start_time": "2023-12-17T11:48:18.969103400Z"
    }
   },
   "id": "97ff1f0659575ef0"
  },
  {
   "cell_type": "code",
   "execution_count": 65,
   "outputs": [
    {
     "name": "stdout",
     "output_type": "stream",
     "text": [
      "원래 PM10 값: [[12.]]\n"
     ]
    }
   ],
   "source": [
    "pm10_original = scaler_y.inverse_transform(actual_output)\n",
    "print(\"원래 PM10 값:\", pm10_original)\n"
   ],
   "metadata": {
    "collapsed": false,
    "ExecuteTime": {
     "end_time": "2023-12-17T11:51:46.119983400Z",
     "start_time": "2023-12-17T11:51:46.099498700Z"
    }
   },
   "id": "b1f8547ced3c6601"
  },
  {
   "cell_type": "code",
   "execution_count": 66,
   "outputs": [
    {
     "name": "stdout",
     "output_type": "stream",
     "text": [
      "원본 데이터의 PM10 샘플 값: 0    16.0\n",
      "1    11.0\n",
      "2    11.0\n",
      "3    17.0\n",
      "4    12.0\n",
      "Name: PM10, dtype: float64\n"
     ]
    }
   ],
   "source": [
    "print(\"원본 PM10 샘플 값:\", df['PM10'].head())"
   ],
   "metadata": {
    "collapsed": false,
    "ExecuteTime": {
     "end_time": "2023-12-17T11:51:53.977405400Z",
     "start_time": "2023-12-17T11:51:53.957529400Z"
    }
   },
   "id": "cba70eb7594d39b"
  },
  {
   "cell_type": "markdown",
   "source": [
    "### 파라미터 조정"
   ],
   "metadata": {
    "collapsed": false
   },
   "id": "5839aa8b337f0633"
  },
  {
   "cell_type": "code",
   "execution_count": 91,
   "outputs": [
    {
     "name": "stdout",
     "output_type": "stream",
     "text": [
      "Epoch 1/100\n",
      "194/194 [==============================] - 10s 34ms/step - loss: 0.0012 - val_loss: 0.0015\n",
      "Epoch 2/100\n",
      "194/194 [==============================] - 6s 30ms/step - loss: 0.0012 - val_loss: 0.0014\n",
      "Epoch 3/100\n",
      "194/194 [==============================] - 6s 31ms/step - loss: 0.0012 - val_loss: 0.0025\n",
      "Epoch 4/100\n",
      "194/194 [==============================] - 6s 31ms/step - loss: 0.0012 - val_loss: 0.0016\n",
      "Epoch 5/100\n",
      "194/194 [==============================] - 6s 30ms/step - loss: 0.0011 - val_loss: 0.0014\n",
      "Epoch 6/100\n",
      "194/194 [==============================] - 6s 30ms/step - loss: 0.0011 - val_loss: 0.0014\n",
      "Epoch 7/100\n",
      "194/194 [==============================] - 6s 32ms/step - loss: 0.0011 - val_loss: 0.0015\n",
      "Epoch 8/100\n",
      "194/194 [==============================] - 6s 32ms/step - loss: 0.0011 - val_loss: 0.0014\n",
      "Epoch 9/100\n",
      "194/194 [==============================] - 6s 30ms/step - loss: 0.0011 - val_loss: 0.0014\n",
      "Epoch 10/100\n",
      "194/194 [==============================] - 6s 31ms/step - loss: 0.0011 - val_loss: 0.0015\n",
      "Epoch 11/100\n",
      "194/194 [==============================] - 6s 31ms/step - loss: 0.0011 - val_loss: 0.0014\n",
      "Epoch 12/100\n",
      "194/194 [==============================] - 6s 31ms/step - loss: 0.0010 - val_loss: 0.0014\n",
      "Epoch 13/100\n",
      "194/194 [==============================] - 6s 31ms/step - loss: 0.0011 - val_loss: 0.0015\n",
      "Epoch 14/100\n",
      "194/194 [==============================] - 6s 31ms/step - loss: 0.0011 - val_loss: 0.0033\n",
      "Epoch 15/100\n",
      "194/194 [==============================] - 6s 31ms/step - loss: 0.0011 - val_loss: 0.0014\n"
     ]
    },
    {
     "data": {
      "text/plain": "<keras.src.callbacks.History at 0x1b73b119ed0>"
     },
     "execution_count": 91,
     "metadata": {},
     "output_type": "execute_result"
    }
   ],
   "source": [
    "model = Sequential()\n",
    "model.add(LSTM(64, return_sequences=True, input_shape=(look_back, train_X.shape[1])))\n",
    "model.add(LSTM(64, return_sequences=True))\n",
    "model.add(LSTM(32))\n",
    "model.add(Dense(32, activation='relu'))\n",
    "model.add(Dense(1))\n",
    "# 모델 컴파일\n",
    "model.compile(optimizer=tf.keras.optimizers.Adam(learning_rate=0.001), loss='mean_squared_error')\n",
    "\n",
    "# 조기 종료 설정\n",
    "early_stopping = EarlyStopping(monitor='val_loss', patience=10)\n",
    "\n",
    "# 모델 훈련\n",
    "model.fit(train_generator, epochs=100, validation_data=test_generator, callbacks=[early_stopping])\n"
   ],
   "metadata": {
    "collapsed": false,
    "ExecuteTime": {
     "end_time": "2023-12-17T12:32:32.264900900Z",
     "start_time": "2023-12-17T12:30:57.842600200Z"
    }
   },
   "id": "d2689ac15b328bca"
  },
  {
   "cell_type": "code",
   "execution_count": 92,
   "outputs": [
    {
     "name": "stdout",
     "output_type": "stream",
     "text": [
      "1431/1431 [==============================] - 4s 3ms/step\n"
     ]
    }
   ],
   "source": [
    "test_predictions = model.predict(test_generator)\n",
    "test_actuals = np.array([data[1][0] for data in test_generator])\n",
    "# 1차원 배열로 변환\n",
    "test_predictions = test_predictions.ravel()\n",
    "test_actuals = test_actuals.ravel()\n",
    "\n",
    "# 역스케일링\n",
    "test_predictions = scaler_y.inverse_transform(test_predictions.reshape(-1, 1)).ravel()\n",
    "test_actuals = scaler_y.inverse_transform(test_actuals.reshape(-1, 1)).ravel()"
   ],
   "metadata": {
    "collapsed": false,
    "ExecuteTime": {
     "end_time": "2023-12-17T12:33:03.796399400Z",
     "start_time": "2023-12-17T12:32:59.137026300Z"
    }
   },
   "id": "fd9794a5b463f059"
  },
  {
   "cell_type": "code",
   "execution_count": 93,
   "outputs": [
    {
     "name": "stdout",
     "output_type": "stream",
     "text": [
      "Mean Absolute Error (MAE): 26.0219454801974\n",
      "Mean Squared Error (MSE): 3541.837930861355\n",
      "Root Mean Squared Error (RMSE): 59.51334246084112\n",
      "Correlation Coefficient: 0.1417702123432309\n",
      "Coefficient of Determination (R^2): 0.016593644611835767\n"
     ]
    }
   ],
   "source": [
    "# MAE\n",
    "mae = mean_absolute_error(test_actuals, test_predictions)\n",
    "print(\"Mean Absolute Error (MAE):\", mae)\n",
    "\n",
    "# MSE \n",
    "mse = mean_squared_error(test_actuals, test_predictions)\n",
    "print(\"Mean Squared Error (MSE):\", mse)\n",
    "\n",
    "# RMSE \n",
    "rmse = np.sqrt(mse)\n",
    "print(\"Root Mean Squared Error (RMSE):\", rmse)\n",
    "\n",
    "# 상관 계수\n",
    "correlation, _ = pearsonr(test_actuals, test_predictions)\n",
    "print(\"Correlation Coefficient:\", correlation)\n",
    "\n",
    "# 결정 계수 \n",
    "r2 = r2_score(test_actuals, test_predictions)\n",
    "print(\"Coefficient of Determination (R^2):\", r2)"
   ],
   "metadata": {
    "collapsed": false,
    "ExecuteTime": {
     "end_time": "2023-12-17T12:33:04.752421500Z",
     "start_time": "2023-12-17T12:33:04.713496100Z"
    }
   },
   "id": "324e8f835770d729"
  },
  {
   "cell_type": "markdown",
   "source": [
    "## RNN"
   ],
   "metadata": {
    "collapsed": false
   },
   "id": "648ffca371373ff9"
  },
  {
   "cell_type": "code",
   "execution_count": 82,
   "outputs": [
    {
     "name": "stdout",
     "output_type": "stream",
     "text": [
      "Epoch 1/100\n",
      "194/194 [==============================] - 4s 13ms/step - loss: 0.0108 - val_loss: 0.0023\n",
      "Epoch 2/100\n",
      "194/194 [==============================] - 2s 12ms/step - loss: 0.0029 - val_loss: 0.0022\n",
      "Epoch 3/100\n",
      "194/194 [==============================] - 2s 12ms/step - loss: 0.0029 - val_loss: 0.0021\n",
      "Epoch 4/100\n",
      "194/194 [==============================] - 2s 12ms/step - loss: 0.0019 - val_loss: 0.0075\n",
      "Epoch 5/100\n",
      "194/194 [==============================] - 2s 12ms/step - loss: 0.0020 - val_loss: 0.0016\n",
      "Epoch 6/100\n",
      "194/194 [==============================] - 2s 12ms/step - loss: 0.0015 - val_loss: 0.0015\n",
      "Epoch 7/100\n",
      "194/194 [==============================] - 2s 12ms/step - loss: 0.0017 - val_loss: 0.0015\n",
      "Epoch 8/100\n",
      "194/194 [==============================] - 2s 12ms/step - loss: 0.0018 - val_loss: 0.0015\n",
      "Epoch 9/100\n",
      "194/194 [==============================] - 2s 13ms/step - loss: 0.0018 - val_loss: 0.0015\n",
      "Epoch 10/100\n",
      "194/194 [==============================] - 3s 13ms/step - loss: 0.0015 - val_loss: 0.0015\n",
      "Epoch 11/100\n",
      "194/194 [==============================] - 2s 13ms/step - loss: 0.0016 - val_loss: 0.0015\n",
      "Epoch 12/100\n",
      "194/194 [==============================] - 3s 13ms/step - loss: 0.0016 - val_loss: 0.0017\n",
      "Epoch 13/100\n",
      "194/194 [==============================] - 2s 13ms/step - loss: 0.0015 - val_loss: 0.0018\n",
      "Epoch 14/100\n",
      "194/194 [==============================] - 2s 13ms/step - loss: 0.0015 - val_loss: 0.0016\n",
      "Epoch 15/100\n",
      "194/194 [==============================] - 2s 13ms/step - loss: 0.0016 - val_loss: 0.0015\n",
      "Epoch 16/100\n",
      "194/194 [==============================] - 3s 13ms/step - loss: 0.0014 - val_loss: 0.0014\n",
      "Epoch 17/100\n",
      "194/194 [==============================] - 3s 13ms/step - loss: 0.0014 - val_loss: 0.0015\n",
      "Epoch 18/100\n",
      "194/194 [==============================] - 2s 13ms/step - loss: 0.0014 - val_loss: 0.0026\n",
      "Epoch 19/100\n",
      "194/194 [==============================] - 3s 13ms/step - loss: 0.0014 - val_loss: 0.0014\n",
      "Epoch 20/100\n",
      "194/194 [==============================] - 3s 13ms/step - loss: 0.0013 - val_loss: 0.0014\n",
      "Epoch 21/100\n",
      "194/194 [==============================] - 2s 13ms/step - loss: 0.0013 - val_loss: 0.0018\n",
      "Epoch 22/100\n",
      "194/194 [==============================] - 2s 13ms/step - loss: 0.0014 - val_loss: 0.0014\n",
      "Epoch 23/100\n",
      "194/194 [==============================] - 2s 13ms/step - loss: 0.0015 - val_loss: 0.0038\n",
      "Epoch 24/100\n",
      "194/194 [==============================] - 2s 13ms/step - loss: 0.0015 - val_loss: 0.0014\n",
      "Epoch 25/100\n",
      "194/194 [==============================] - 2s 13ms/step - loss: 0.0014 - val_loss: 0.0015\n",
      "Epoch 26/100\n",
      "194/194 [==============================] - 2s 13ms/step - loss: 0.0013 - val_loss: 0.0015\n",
      "Epoch 27/100\n",
      "194/194 [==============================] - 2s 13ms/step - loss: 0.0012 - val_loss: 0.0015\n",
      "Epoch 28/100\n",
      "194/194 [==============================] - 2s 13ms/step - loss: 0.0014 - val_loss: 0.0016\n",
      "Epoch 29/100\n",
      "194/194 [==============================] - 3s 13ms/step - loss: 0.0014 - val_loss: 0.0031\n"
     ]
    },
    {
     "data": {
      "text/plain": "<keras.src.callbacks.History at 0x1b724328a50>"
     },
     "execution_count": 82,
     "metadata": {},
     "output_type": "execute_result"
    }
   ],
   "source": [
    "# RNN 모델 정의\n",
    "model = Sequential()\n",
    "model.add(SimpleRNN(32, return_sequences=True, input_shape=(look_back, train_X.shape[1])))\n",
    "model.add(SimpleRNN(32))\n",
    "model.add(Dense(1)) \n",
    "\n",
    "# 모델 컴파일\n",
    "model.compile(optimizer=tf.keras.optimizers.Adam(learning_rate=0.001), loss='mean_squared_error')\n",
    "\n",
    "# 조기 종료 설정\n",
    "early_stopping = EarlyStopping(monitor='val_loss', patience=10)\n",
    "\n",
    "# 모델 훈련\n",
    "model.fit(train_generator, epochs=100, validation_data=test_generator, callbacks=[early_stopping])"
   ],
   "metadata": {
    "collapsed": false,
    "ExecuteTime": {
     "end_time": "2023-12-17T12:05:20.629925900Z",
     "start_time": "2023-12-17T12:04:07.632226600Z"
    }
   },
   "id": "fd1aee00b9d492de"
  },
  {
   "cell_type": "code",
   "execution_count": 84,
   "outputs": [
    {
     "name": "stdout",
     "output_type": "stream",
     "text": [
      "1431/1431 [==============================] - 2s 1ms/step\n"
     ]
    }
   ],
   "source": [
    "# 예측값 생성\n",
    "test_predictions = model.predict(test_generator)\n",
    "test_actuals = np.array([data[1][0] for data in test_generator])\n",
    "\n",
    "# 1차원 배열로 변환\n",
    "test_predictions = test_predictions.ravel()\n",
    "test_actuals = test_actuals.ravel()\n",
    "\n",
    "# 역스케일링\n",
    "test_predictions = scaler_y.inverse_transform(test_predictions.reshape(-1, 1)).ravel()\n",
    "test_actuals = scaler_y.inverse_transform(test_actuals.reshape(-1, 1)).ravel()"
   ],
   "metadata": {
    "collapsed": false,
    "ExecuteTime": {
     "end_time": "2023-12-17T12:06:59.274054900Z",
     "start_time": "2023-12-17T12:06:56.804897100Z"
    }
   },
   "id": "f3bf010ef4543a36"
  },
  {
   "cell_type": "code",
   "execution_count": 85,
   "outputs": [
    {
     "name": "stdout",
     "output_type": "stream",
     "text": [
      "Mean Absolute Error (MAE): 78.74762543492348\n",
      "Mean Squared Error (MSE): 7701.128902126091\n",
      "Root Mean Squared Error (RMSE): 87.7560761550224\n",
      "Correlation Coefficient: 0.17588681301081044\n",
      "Coefficient of Determination (R^2): -1.1382511718068593\n"
     ]
    }
   ],
   "source": [
    "# MAE\n",
    "mae = mean_absolute_error(test_actuals, test_predictions)\n",
    "print(\"Mean Absolute Error (MAE):\", mae)\n",
    "\n",
    "# MSE\n",
    "mse = mean_squared_error(test_actuals, test_predictions)\n",
    "print(\"Mean Squared Error (MSE):\", mse)\n",
    "\n",
    "# RMSE\n",
    "rmse = np.sqrt(mse)\n",
    "print(\"Root Mean Squared Error (RMSE):\", rmse)\n",
    "\n",
    "# 상관 계수\n",
    "correlation, _ = pearsonr(test_actuals, test_predictions)\n",
    "print(\"Correlation Coefficient:\", correlation)\n",
    "\n",
    "# 결정 계수\n",
    "r2 = r2_score(test_actuals, test_predictions)\n",
    "print(\"Coefficient of Determination (R^2):\", r2)"
   ],
   "metadata": {
    "collapsed": false,
    "ExecuteTime": {
     "end_time": "2023-12-17T12:07:00.995322900Z",
     "start_time": "2023-12-17T12:07:00.981005100Z"
    }
   },
   "id": "8b13a916367d0d76"
  },
  {
   "cell_type": "markdown",
   "source": [
    "### 파라미터, 모델층 수 조정"
   ],
   "metadata": {
    "collapsed": false
   },
   "id": "7f9cbb3fc6f537ef"
  },
  {
   "cell_type": "code",
   "execution_count": 94,
   "outputs": [
    {
     "name": "stdout",
     "output_type": "stream",
     "text": [
      "Epoch 1/100\n",
      "194/194 [==============================] - 6s 20ms/step - loss: 0.0038 - val_loss: 0.0018\n",
      "Epoch 2/100\n",
      "194/194 [==============================] - 4s 19ms/step - loss: 0.0015 - val_loss: 0.0016\n",
      "Epoch 3/100\n",
      "194/194 [==============================] - 3s 18ms/step - loss: 0.0017 - val_loss: 0.0016\n",
      "Epoch 4/100\n",
      "194/194 [==============================] - 3s 17ms/step - loss: 0.0014 - val_loss: 0.0016\n",
      "Epoch 5/100\n",
      "194/194 [==============================] - 3s 17ms/step - loss: 0.0015 - val_loss: 0.0014\n",
      "Epoch 6/100\n",
      "194/194 [==============================] - 4s 18ms/step - loss: 0.0014 - val_loss: 0.0015\n",
      "Epoch 7/100\n",
      "194/194 [==============================] - 3s 18ms/step - loss: 0.0013 - val_loss: 0.0080\n",
      "Epoch 8/100\n",
      "194/194 [==============================] - 3s 18ms/step - loss: 0.0015 - val_loss: 0.0015\n",
      "Epoch 9/100\n",
      "194/194 [==============================] - 3s 17ms/step - loss: 0.0014 - val_loss: 0.0016\n",
      "Epoch 10/100\n",
      "194/194 [==============================] - 3s 17ms/step - loss: 0.0013 - val_loss: 0.0014\n",
      "Epoch 11/100\n",
      "194/194 [==============================] - 3s 17ms/step - loss: 0.0012 - val_loss: 0.0014\n",
      "Epoch 12/100\n",
      "194/194 [==============================] - 3s 18ms/step - loss: 0.0012 - val_loss: 0.0021\n",
      "Epoch 13/100\n",
      "194/194 [==============================] - 4s 18ms/step - loss: 0.0014 - val_loss: 0.0018\n",
      "Epoch 14/100\n",
      "194/194 [==============================] - 3s 17ms/step - loss: 0.0014 - val_loss: 0.0014\n",
      "Epoch 15/100\n",
      "194/194 [==============================] - 3s 17ms/step - loss: 0.0013 - val_loss: 0.0014\n",
      "1431/1431 [==============================] - 3s 2ms/step\n",
      "Mean Absolute Error (MAE): 22.40032747190037\n",
      "Mean Squared Error (MSE): 3593.4471117393045\n",
      "Root Mean Squared Error (RMSE): 59.94536772544902\n",
      "Correlation Coefficient: 0.11364815704631082\n",
      "Coefficient of Determination (R^2): 0.0022641361864148557\n"
     ]
    }
   ],
   "source": [
    "# RNN 모델\n",
    "model = Sequential()\n",
    "model.add(SimpleRNN(64, return_sequences=True, input_shape=(look_back, train_X.shape[1])))\n",
    "model.add(SimpleRNN(64, return_sequences=True))\n",
    "model.add(SimpleRNN(32))\n",
    "model.add(Dense(32, activation='relu'))\n",
    "model.add(Dense(1))\n",
    "\n",
    "# 모델 컴파일\n",
    "model.compile(optimizer=tf.keras.optimizers.Adam(learning_rate=0.001), loss='mean_squared_error')\n",
    "\n",
    "# 조기 종료 설정\n",
    "early_stopping = EarlyStopping(monitor='val_loss', patience=10)\n",
    "\n",
    "# 모델 훈련\n",
    "model.fit(train_generator, epochs=100, validation_data=test_generator, callbacks=[early_stopping])\n",
    "\n",
    "\n",
    "# 예측값 생성\n",
    "test_predictions = model.predict(test_generator)\n",
    "test_actuals = np.array([data[1][0] for data in test_generator])\n",
    "\n",
    "# 1차원 배열로 변환\n",
    "test_predictions = test_predictions.ravel()\n",
    "test_actuals = test_actuals.ravel()\n",
    "\n",
    "# 역스케일링\n",
    "test_predictions = scaler_y.inverse_transform(test_predictions.reshape(-1, 1)).ravel()\n",
    "test_actuals = scaler_y.inverse_transform(test_actuals.reshape(-1, 1)).ravel()\n",
    "\n",
    "# MAE\n",
    "mae = mean_absolute_error(test_actuals, test_predictions)\n",
    "print(\"Mean Absolute Error (MAE):\", mae)\n",
    "\n",
    "# MSE\n",
    "mse = mean_squared_error(test_actuals, test_predictions)\n",
    "print(\"Mean Squared Error (MSE):\", mse)\n",
    "\n",
    "# RMSE\n",
    "rmse = np.sqrt(mse)\n",
    "print(\"Root Mean Squared Error (RMSE):\", rmse)\n",
    "\n",
    "# 상관 계수\n",
    "correlation, _ = pearsonr(test_actuals, test_predictions)\n",
    "print(\"Correlation Coefficient:\", correlation)\n",
    "\n",
    "# 결정 계수\n",
    "r2 = r2_score(test_actuals, test_predictions)\n",
    "print(\"Coefficient of Determination (R^2):\", r2)"
   ],
   "metadata": {
    "collapsed": false,
    "ExecuteTime": {
     "end_time": "2023-12-17T12:37:30.209015800Z",
     "start_time": "2023-12-17T12:36:33.435422700Z"
    }
   },
   "id": "a32920a6a4cd093"
  },
  {
   "cell_type": "markdown",
   "source": [
    "## CNN 모델"
   ],
   "metadata": {
    "collapsed": false
   },
   "id": "da73802e72cd7b55"
  },
  {
   "cell_type": "code",
   "execution_count": 88,
   "outputs": [
    {
     "name": "stdout",
     "output_type": "stream",
     "text": [
      "Epoch 1/100\n",
      "194/194 [==============================] - 2s 7ms/step - loss: 0.0022 - val_loss: 0.0016\n",
      "Epoch 2/100\n",
      "194/194 [==============================] - 1s 6ms/step - loss: 0.0013 - val_loss: 0.0015\n",
      "Epoch 3/100\n",
      "194/194 [==============================] - 1s 7ms/step - loss: 0.0012 - val_loss: 0.0016\n",
      "Epoch 4/100\n",
      "194/194 [==============================] - 1s 7ms/step - loss: 0.0011 - val_loss: 0.0015\n",
      "Epoch 5/100\n",
      "194/194 [==============================] - 1s 6ms/step - loss: 0.0011 - val_loss: 0.0015\n",
      "Epoch 6/100\n",
      "194/194 [==============================] - 1s 7ms/step - loss: 0.0011 - val_loss: 0.0014\n",
      "Epoch 7/100\n",
      "194/194 [==============================] - 1s 7ms/step - loss: 0.0011 - val_loss: 0.0014\n",
      "Epoch 8/100\n",
      "194/194 [==============================] - 1s 6ms/step - loss: 0.0011 - val_loss: 0.0015\n",
      "Epoch 9/100\n",
      "194/194 [==============================] - 1s 6ms/step - loss: 0.0010 - val_loss: 0.0014\n",
      "Epoch 10/100\n",
      "194/194 [==============================] - 1s 6ms/step - loss: 0.0010 - val_loss: 0.0016\n",
      "Epoch 11/100\n",
      "194/194 [==============================] - 1s 7ms/step - loss: 0.0010 - val_loss: 0.0016\n",
      "Epoch 12/100\n",
      "194/194 [==============================] - 1s 7ms/step - loss: 0.0010 - val_loss: 0.0017\n",
      "Epoch 13/100\n",
      "194/194 [==============================] - 1s 7ms/step - loss: 0.0010 - val_loss: 0.0023\n",
      "Epoch 14/100\n",
      "194/194 [==============================] - 1s 6ms/step - loss: 0.0010 - val_loss: 0.0014\n",
      "Epoch 15/100\n",
      "194/194 [==============================] - 1s 7ms/step - loss: 0.0011 - val_loss: 0.0014\n",
      "Epoch 16/100\n",
      "194/194 [==============================] - 1s 7ms/step - loss: 9.9385e-04 - val_loss: 0.0015\n",
      "Epoch 17/100\n",
      "194/194 [==============================] - 1s 7ms/step - loss: 9.7973e-04 - val_loss: 0.0014\n",
      "Epoch 18/100\n",
      "194/194 [==============================] - 1s 6ms/step - loss: 0.0010 - val_loss: 0.0015\n",
      "Epoch 19/100\n",
      "194/194 [==============================] - 1s 7ms/step - loss: 0.0011 - val_loss: 0.0014\n",
      "Epoch 20/100\n",
      "194/194 [==============================] - 1s 6ms/step - loss: 0.0010 - val_loss: 0.0014\n",
      "Epoch 21/100\n",
      "194/194 [==============================] - 1s 6ms/step - loss: 9.7558e-04 - val_loss: 0.0014\n",
      "Epoch 22/100\n",
      "194/194 [==============================] - 1s 7ms/step - loss: 9.6683e-04 - val_loss: 0.0014\n",
      "Epoch 23/100\n",
      "194/194 [==============================] - 1s 7ms/step - loss: 0.0011 - val_loss: 0.0014\n",
      "Epoch 24/100\n",
      "194/194 [==============================] - 2s 8ms/step - loss: 0.0010 - val_loss: 0.0014\n",
      "Epoch 25/100\n",
      "194/194 [==============================] - 1s 7ms/step - loss: 9.9447e-04 - val_loss: 0.0018\n",
      "Epoch 26/100\n",
      "194/194 [==============================] - 1s 7ms/step - loss: 9.4185e-04 - val_loss: 0.0014\n",
      "Epoch 27/100\n",
      "194/194 [==============================] - 1s 7ms/step - loss: 7.5728e-04 - val_loss: 0.0018\n",
      "Epoch 28/100\n",
      "194/194 [==============================] - 1s 7ms/step - loss: 9.2863e-04 - val_loss: 0.0015\n",
      "Epoch 29/100\n",
      "194/194 [==============================] - 1s 7ms/step - loss: 0.0010 - val_loss: 0.0014\n",
      "Epoch 30/100\n",
      "194/194 [==============================] - 1s 7ms/step - loss: 0.0010 - val_loss: 0.0014\n",
      "Epoch 31/100\n",
      "194/194 [==============================] - 1s 7ms/step - loss: 0.0010 - val_loss: 0.0014\n",
      "Epoch 32/100\n",
      "194/194 [==============================] - 1s 7ms/step - loss: 0.0010 - val_loss: 0.0014\n",
      "Epoch 33/100\n",
      "194/194 [==============================] - 1s 7ms/step - loss: 9.9549e-04 - val_loss: 0.0014\n",
      "Epoch 34/100\n",
      "194/194 [==============================] - 1s 7ms/step - loss: 9.1024e-04 - val_loss: 0.0015\n",
      "Epoch 35/100\n",
      "194/194 [==============================] - 1s 7ms/step - loss: 8.1942e-04 - val_loss: 0.0014\n",
      "Epoch 36/100\n",
      "194/194 [==============================] - 1s 7ms/step - loss: 9.9270e-04 - val_loss: 0.0014\n",
      "Epoch 37/100\n",
      "194/194 [==============================] - 1s 7ms/step - loss: 6.1320e-04 - val_loss: 0.0014\n",
      "Epoch 38/100\n",
      "194/194 [==============================] - 1s 7ms/step - loss: 6.4439e-04 - val_loss: 0.0014\n",
      "Epoch 39/100\n",
      "194/194 [==============================] - 1s 7ms/step - loss: 8.1650e-04 - val_loss: 0.0015\n",
      "Epoch 40/100\n",
      "194/194 [==============================] - 1s 7ms/step - loss: 6.8635e-04 - val_loss: 0.0014\n",
      "Epoch 41/100\n",
      "194/194 [==============================] - 1s 7ms/step - loss: 4.9617e-04 - val_loss: 0.0017\n",
      "Epoch 42/100\n",
      "194/194 [==============================] - 1s 6ms/step - loss: 5.2240e-04 - val_loss: 0.0014\n",
      "Epoch 43/100\n",
      "194/194 [==============================] - 1s 7ms/step - loss: 4.7875e-04 - val_loss: 0.0015\n",
      "Epoch 44/100\n",
      "194/194 [==============================] - 1s 7ms/step - loss: 3.6059e-04 - val_loss: 0.0014\n",
      "Epoch 45/100\n",
      "194/194 [==============================] - 1s 7ms/step - loss: 3.9384e-04 - val_loss: 0.0014\n"
     ]
    },
    {
     "data": {
      "text/plain": "<keras.src.callbacks.History at 0x1b73a3db5d0>"
     },
     "execution_count": 88,
     "metadata": {},
     "output_type": "execute_result"
    }
   ],
   "source": [
    "model = Sequential()\n",
    "model.add(Conv1D(filters=64, kernel_size=2, activation='relu', input_shape=(look_back, train_X.shape[1])))\n",
    "model.add(MaxPooling1D(pool_size=2))\n",
    "model.add(Flatten())\n",
    "model.add(Dense(50, activation='relu'))\n",
    "model.add(Dense(1))\n",
    "\n",
    "# 모델 컴파일\n",
    "model.compile(optimizer=tf.keras.optimizers.Adam(learning_rate=0.001), loss='mean_squared_error')\n",
    "\n",
    "# 조기 종료 설정\n",
    "early_stopping = EarlyStopping(monitor='val_loss', patience=10)\n",
    "\n",
    "# 모델 훈련\n",
    "model.fit(train_generator, epochs=100, validation_data=test_generator, callbacks=[early_stopping])\n"
   ],
   "metadata": {
    "collapsed": false,
    "ExecuteTime": {
     "end_time": "2023-12-17T12:15:35.041430Z",
     "start_time": "2023-12-17T12:14:35.471141Z"
    }
   },
   "id": "2654590d9b6f375"
  },
  {
   "cell_type": "code",
   "execution_count": 89,
   "outputs": [
    {
     "name": "stdout",
     "output_type": "stream",
     "text": [
      "1431/1431 [==============================] - 1s 748us/step\n"
     ]
    }
   ],
   "source": [
    "# 예측값 생성\n",
    "test_predictions = model.predict(test_generator)\n",
    "test_actuals = np.array([data[1][0] for data in test_generator])\n",
    "\n",
    "# 1차원 배열로 변환\n",
    "test_predictions = test_predictions.ravel()\n",
    "test_actuals = test_actuals.ravel()\n",
    "\n",
    "# 역스케일링\n",
    "test_predictions = scaler_y.inverse_transform(test_predictions.reshape(-1, 1)).ravel()\n",
    "test_actuals = scaler_y.inverse_transform(test_actuals.reshape(-1, 1)).ravel()"
   ],
   "metadata": {
    "collapsed": false,
    "ExecuteTime": {
     "end_time": "2023-12-17T12:20:43.903815400Z",
     "start_time": "2023-12-17T12:20:42.377576700Z"
    }
   },
   "id": "68679d3e702cc0f4"
  },
  {
   "cell_type": "code",
   "execution_count": 90,
   "outputs": [
    {
     "name": "stdout",
     "output_type": "stream",
     "text": [
      "Mean Absolute Error (MAE): 25.95836875472637\n",
      "Mean Squared Error (MSE): 3482.745023615658\n",
      "Root Mean Squared Error (RMSE): 59.014786482843924\n",
      "Correlation Coefficient: 0.19861347635197288\n",
      "Coefficient of Determination (R^2): 0.03300104147136662\n"
     ]
    }
   ],
   "source": [
    "# MAE\n",
    "mae = mean_absolute_error(test_actuals, test_predictions)\n",
    "print(\"Mean Absolute Error (MAE):\", mae)\n",
    "\n",
    "# MSE\n",
    "mse = mean_squared_error(test_actuals, test_predictions)\n",
    "print(\"Mean Squared Error (MSE):\", mse)\n",
    "\n",
    "# RMSE\n",
    "rmse = np.sqrt(mse)\n",
    "print(\"Root Mean Squared Error (RMSE):\", rmse)\n",
    "\n",
    "# 상관 계수\n",
    "correlation, _ = pearsonr(test_actuals, test_predictions)\n",
    "print(\"Correlation Coefficient:\", correlation)\n",
    "\n",
    "# 결정 계수 \n",
    "r2 = r2_score(test_actuals, test_predictions)\n",
    "print(\"Coefficient of Determination (R^2):\", r2)"
   ],
   "metadata": {
    "collapsed": false,
    "ExecuteTime": {
     "end_time": "2023-12-17T12:20:59.116659100Z",
     "start_time": "2023-12-17T12:20:59.093681500Z"
    }
   },
   "id": "c6c93f5fddecf7ed"
  },
  {
   "cell_type": "markdown",
   "source": [
    "### 파라미터 조정 - 필터 추가, 층 추가"
   ],
   "metadata": {
    "collapsed": false
   },
   "id": "9f1a6b507ec58318"
  },
  {
   "cell_type": "code",
   "execution_count": 95,
   "outputs": [
    {
     "name": "stdout",
     "output_type": "stream",
     "text": [
      "Epoch 1/100\n",
      "194/194 [==============================] - 2s 8ms/step - loss: 0.0015 - val_loss: 0.0014\n",
      "Epoch 2/100\n",
      "194/194 [==============================] - 2s 8ms/step - loss: 0.0012 - val_loss: 0.0014\n",
      "Epoch 3/100\n",
      "194/194 [==============================] - 2s 8ms/step - loss: 0.0012 - val_loss: 0.0014\n",
      "Epoch 4/100\n",
      "194/194 [==============================] - 1s 8ms/step - loss: 0.0012 - val_loss: 0.0014\n",
      "Epoch 5/100\n",
      "194/194 [==============================] - 2s 8ms/step - loss: 0.0011 - val_loss: 0.0015\n",
      "Epoch 6/100\n",
      "194/194 [==============================] - 1s 8ms/step - loss: 0.0011 - val_loss: 0.0014\n",
      "Epoch 7/100\n",
      "194/194 [==============================] - 2s 8ms/step - loss: 0.0011 - val_loss: 0.0014\n",
      "Epoch 8/100\n",
      "194/194 [==============================] - 1s 8ms/step - loss: 0.0011 - val_loss: 0.0015\n",
      "Epoch 9/100\n",
      "194/194 [==============================] - 2s 8ms/step - loss: 0.0011 - val_loss: 0.0015\n",
      "Epoch 10/100\n",
      "194/194 [==============================] - 2s 8ms/step - loss: 0.0011 - val_loss: 0.0014\n",
      "Epoch 11/100\n",
      "194/194 [==============================] - 1s 8ms/step - loss: 0.0011 - val_loss: 0.0015\n",
      "Epoch 12/100\n",
      "194/194 [==============================] - 1s 8ms/step - loss: 0.0011 - val_loss: 0.0014\n",
      "Epoch 13/100\n",
      "194/194 [==============================] - 2s 8ms/step - loss: 0.0011 - val_loss: 0.0014\n",
      "Epoch 14/100\n",
      "194/194 [==============================] - 2s 8ms/step - loss: 0.0011 - val_loss: 0.0015\n",
      "Epoch 15/100\n",
      "194/194 [==============================] - 2s 8ms/step - loss: 0.0011 - val_loss: 0.0014\n",
      "Epoch 16/100\n",
      "194/194 [==============================] - 1s 8ms/step - loss: 0.0011 - val_loss: 0.0014\n",
      "1431/1431 [==============================] - 1s 801us/step\n"
     ]
    }
   ],
   "source": [
    "model = Sequential()\n",
    "model.add(Conv1D(filters=128, kernel_size=3, activation='relu', input_shape=(look_back, train_X.shape[1])))\n",
    "model.add(MaxPooling1D(pool_size=2))\n",
    "model.add(Conv1D(filters=64, kernel_size=3, activation='relu'))\n",
    "model.add(MaxPooling1D(pool_size=2))\n",
    "model.add(Flatten())\n",
    "model.add(Dense(64, activation='relu'))\n",
    "model.add(Dense(32, activation='relu'))\n",
    "model.add(Dense(1))\n",
    "\n",
    "\n",
    "# 모델 컴파일\n",
    "model.compile(optimizer=tf.keras.optimizers.Adam(learning_rate=0.001), loss='mean_squared_error')\n",
    "\n",
    "# 조기 종료 설정\n",
    "early_stopping = EarlyStopping(monitor='val_loss', patience=10)\n",
    "\n",
    "# 모델 훈련\n",
    "model.fit(train_generator, epochs=100, validation_data=test_generator, callbacks=[early_stopping])\n",
    "\n",
    "\n",
    "# 예측값 생성\n",
    "test_predictions = model.predict(test_generator)\n",
    "test_actuals = np.array([data[1][0] for data in test_generator])\n",
    "\n",
    "# 1차원 배열로 변환\n",
    "test_predictions = test_predictions.ravel()\n",
    "test_actuals = test_actuals.ravel()\n",
    "\n",
    "# 역스케일링\n",
    "test_predictions = scaler_y.inverse_transform(test_predictions.reshape(-1, 1)).ravel()\n",
    "test_actuals = scaler_y.inverse_transform(test_actuals.reshape(-1, 1)).ravel()"
   ],
   "metadata": {
    "collapsed": false,
    "ExecuteTime": {
     "end_time": "2023-12-17T12:40:41.839373500Z",
     "start_time": "2023-12-17T12:40:14.915625800Z"
    }
   },
   "id": "8270d1d8433939b1"
  },
  {
   "cell_type": "code",
   "execution_count": 96,
   "outputs": [
    {
     "name": "stdout",
     "output_type": "stream",
     "text": [
      "Mean Absolute Error (MAE): 29.56441683339373\n",
      "Mean Squared Error (MSE): 3579.3152163693644\n",
      "Root Mean Squared Error (RMSE): 59.82737848484893\n",
      "Correlation Coefficient: 0.17151449589865764\n",
      "Coefficient of Determination (R^2): 0.006187917000716414\n"
     ]
    }
   ],
   "source": [
    "# MAE\n",
    "mae = mean_absolute_error(test_actuals, test_predictions)\n",
    "print(\"Mean Absolute Error (MAE):\", mae)\n",
    "\n",
    "# MSE\n",
    "mse = mean_squared_error(test_actuals, test_predictions)\n",
    "print(\"Mean Squared Error (MSE):\", mse)\n",
    "\n",
    "# RMSE\n",
    "rmse = np.sqrt(mse)\n",
    "print(\"Root Mean Squared Error (RMSE):\", rmse)\n",
    "\n",
    "# 상관 계수\n",
    "correlation, _ = pearsonr(test_actuals, test_predictions)\n",
    "print(\"Correlation Coefficient:\", correlation)\n",
    "\n",
    "# 결정 계수 \n",
    "r2 = r2_score(test_actuals, test_predictions)\n",
    "print(\"Coefficient of Determination (R^2):\", r2)"
   ],
   "metadata": {
    "collapsed": false,
    "ExecuteTime": {
     "end_time": "2023-12-17T12:41:02.407553100Z",
     "start_time": "2023-12-17T12:41:02.326121100Z"
    }
   },
   "id": "6af74f800f25a93a"
  },
  {
   "cell_type": "markdown",
   "source": [
    "# 결론"
   ],
   "metadata": {
    "collapsed": false
   },
   "id": "ffde8dd8be715886"
  },
  {
   "cell_type": "markdown",
   "source": [
    "기본적인 RNN에서 파라미터를 조정해서 뉴런을 추가하고, 층을 추가한 모델의 평가 지수가  \n",
    "```\n",
    "Mean Absolute Error (MAE): 22.40032747190037\n",
    "Mean Squared Error (MSE): 3593.4471117393045\n",
    "Root Mean Squared Error (RMSE): 59.94536772544902\n",
    "Correlation Coefficient: 0.11364815704631082\n",
    "Coefficient of Determination (R^2): 0.0022641361864148557\n",
    "```\n",
    "으로 가장 성능이 좋았다. 하지만 전체적으로 성능이 그렇게 좋지는 않았기 때문에, 추후 중요 변수를 선택 하고 모델 예측을 해보는 것이 좋겠다. "
   ],
   "metadata": {
    "collapsed": false
   },
   "id": "d82f6c25e99af1d2"
  },
  {
   "cell_type": "code",
   "execution_count": null,
   "outputs": [],
   "source": [],
   "metadata": {
    "collapsed": false
   },
   "id": "82d3fe3777496f60"
  }
 ],
 "metadata": {
  "kernelspec": {
   "display_name": "Python 3",
   "language": "python",
   "name": "python3"
  },
  "language_info": {
   "codemirror_mode": {
    "name": "ipython",
    "version": 2
   },
   "file_extension": ".py",
   "mimetype": "text/x-python",
   "name": "python",
   "nbconvert_exporter": "python",
   "pygments_lexer": "ipython2",
   "version": "2.7.6"
  }
 },
 "nbformat": 4,
 "nbformat_minor": 5
}
