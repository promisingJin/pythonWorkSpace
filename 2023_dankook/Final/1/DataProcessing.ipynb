{
 "cells": [
  {
   "cell_type": "markdown",
   "source": [
    "# 데이터 구조\n",
    "- ## 기상 데이터\n",
    "- ## 공기질 데이터\n",
    "- ## 운영 데이터\n",
    "    - ### 국제 터미널\n",
    "    - ### 서부 터미널(GWCT)\n",
    "    - ### 선박 입출항현황"
   ],
   "metadata": {
    "collapsed": false
   },
   "id": "3970989dc8a64e43"
  },
  {
   "cell_type": "markdown",
   "source": [
    "# 기상 데이터 구조\n",
    "## 파일 이름 : \n",
    "*'SURFACE_AWS_856_HR_2020.csv', 'SURFACE_AWS_856_HR_2021.csv'* "
   ],
   "metadata": {
    "collapsed": false
   },
   "id": "279b88a99de10a9"
  },
  {
   "cell_type": "code",
   "execution_count": 33,
   "outputs": [
    {
     "name": "stdout",
     "output_type": "stream",
     "text": [
      "현재 디렉토리: C:\\Users\\uijin\\pythonWorkSpace\\pythonWorkSpace\\2023_dankook\\Final\\1\n"
     ]
    }
   ],
   "source": [
    "import os\n",
    "\n",
    "# 현재 작업 중인 디렉토리의 절대 경로를 얻습니다.\n",
    "current_directory = os.getcwd()\n",
    "\n",
    "print(\"현재 디렉토리:\", current_directory)\n"
   ],
   "metadata": {
    "collapsed": false,
    "ExecuteTime": {
     "end_time": "2023-12-16T14:32:34.754220900Z",
     "start_time": "2023-12-16T14:32:34.744945300Z"
    }
   },
   "id": "edae29c0d9b4b0e2"
  },
  {
   "cell_type": "code",
   "execution_count": 10,
   "outputs": [],
   "source": [
    "import pandas as pd"
   ],
   "metadata": {
    "collapsed": false,
    "ExecuteTime": {
     "end_time": "2023-12-16T07:37:05.135833Z",
     "start_time": "2023-12-16T07:37:05.104607Z"
    }
   },
   "id": "2064d0165bdcb62"
  },
  {
   "cell_type": "code",
   "execution_count": 12,
   "outputs": [
    {
     "data": {
      "text/plain": "       지점                일시  기온(°C)  풍향(deg)  풍속(m/s)  강수량(mm)  현지기압(hPa)  \\\n0     856  2020-01-01 00:00    -7.2    315.1      6.5      0.0        NaN   \n1     856  2020-01-01 01:00    -7.4    304.2      5.8      0.0        NaN   \n2     856  2020-01-01 02:00    -6.3    333.4      3.7      0.0        NaN   \n3     856  2020-01-01 03:00    -7.2    322.7      1.4      0.0        NaN   \n4     856  2020-01-01 04:00    -5.8    321.6      2.6      0.0        NaN   \n...   ...               ...     ...      ...      ...      ...        ...   \n8779  856  2020-12-31 19:00    -4.0     15.1      1.9      0.0        NaN   \n8780  856  2020-12-31 20:00    -4.0     11.4      2.5      0.0        NaN   \n8781  856  2020-12-31 21:00    -4.0      5.3      2.9      0.0        NaN   \n8782  856  2020-12-31 22:00    -3.7      1.9      4.3      0.0        NaN   \n8783  856  2020-12-31 23:00    -4.0    358.9      4.5      0.0        NaN   \n\n      해면기압(hPa)  습도(%)  일사(MJ/m^2)  일조(hr)  \n0           NaN   46.5           0       0  \n1           NaN   42.7           0       0  \n2           NaN   30.2           0       0  \n3           NaN   41.2           0       0  \n4           NaN   48.2           0       0  \n...         ...    ...         ...     ...  \n8779        NaN   79.3           0       0  \n8780        NaN   80.5           0       0  \n8781        NaN   83.5           0       0  \n8782        NaN   80.3           0       0  \n8783        NaN   83.5           0       0  \n\n[8784 rows x 11 columns]",
      "text/html": "<div>\n<style scoped>\n    .dataframe tbody tr th:only-of-type {\n        vertical-align: middle;\n    }\n\n    .dataframe tbody tr th {\n        vertical-align: top;\n    }\n\n    .dataframe thead th {\n        text-align: right;\n    }\n</style>\n<table border=\"1\" class=\"dataframe\">\n  <thead>\n    <tr style=\"text-align: right;\">\n      <th></th>\n      <th>지점</th>\n      <th>일시</th>\n      <th>기온(°C)</th>\n      <th>풍향(deg)</th>\n      <th>풍속(m/s)</th>\n      <th>강수량(mm)</th>\n      <th>현지기압(hPa)</th>\n      <th>해면기압(hPa)</th>\n      <th>습도(%)</th>\n      <th>일사(MJ/m^2)</th>\n      <th>일조(hr)</th>\n    </tr>\n  </thead>\n  <tbody>\n    <tr>\n      <th>0</th>\n      <td>856</td>\n      <td>2020-01-01 00:00</td>\n      <td>-7.2</td>\n      <td>315.1</td>\n      <td>6.5</td>\n      <td>0.0</td>\n      <td>NaN</td>\n      <td>NaN</td>\n      <td>46.5</td>\n      <td>0</td>\n      <td>0</td>\n    </tr>\n    <tr>\n      <th>1</th>\n      <td>856</td>\n      <td>2020-01-01 01:00</td>\n      <td>-7.4</td>\n      <td>304.2</td>\n      <td>5.8</td>\n      <td>0.0</td>\n      <td>NaN</td>\n      <td>NaN</td>\n      <td>42.7</td>\n      <td>0</td>\n      <td>0</td>\n    </tr>\n    <tr>\n      <th>2</th>\n      <td>856</td>\n      <td>2020-01-01 02:00</td>\n      <td>-6.3</td>\n      <td>333.4</td>\n      <td>3.7</td>\n      <td>0.0</td>\n      <td>NaN</td>\n      <td>NaN</td>\n      <td>30.2</td>\n      <td>0</td>\n      <td>0</td>\n    </tr>\n    <tr>\n      <th>3</th>\n      <td>856</td>\n      <td>2020-01-01 03:00</td>\n      <td>-7.2</td>\n      <td>322.7</td>\n      <td>1.4</td>\n      <td>0.0</td>\n      <td>NaN</td>\n      <td>NaN</td>\n      <td>41.2</td>\n      <td>0</td>\n      <td>0</td>\n    </tr>\n    <tr>\n      <th>4</th>\n      <td>856</td>\n      <td>2020-01-01 04:00</td>\n      <td>-5.8</td>\n      <td>321.6</td>\n      <td>2.6</td>\n      <td>0.0</td>\n      <td>NaN</td>\n      <td>NaN</td>\n      <td>48.2</td>\n      <td>0</td>\n      <td>0</td>\n    </tr>\n    <tr>\n      <th>...</th>\n      <td>...</td>\n      <td>...</td>\n      <td>...</td>\n      <td>...</td>\n      <td>...</td>\n      <td>...</td>\n      <td>...</td>\n      <td>...</td>\n      <td>...</td>\n      <td>...</td>\n      <td>...</td>\n    </tr>\n    <tr>\n      <th>8779</th>\n      <td>856</td>\n      <td>2020-12-31 19:00</td>\n      <td>-4.0</td>\n      <td>15.1</td>\n      <td>1.9</td>\n      <td>0.0</td>\n      <td>NaN</td>\n      <td>NaN</td>\n      <td>79.3</td>\n      <td>0</td>\n      <td>0</td>\n    </tr>\n    <tr>\n      <th>8780</th>\n      <td>856</td>\n      <td>2020-12-31 20:00</td>\n      <td>-4.0</td>\n      <td>11.4</td>\n      <td>2.5</td>\n      <td>0.0</td>\n      <td>NaN</td>\n      <td>NaN</td>\n      <td>80.5</td>\n      <td>0</td>\n      <td>0</td>\n    </tr>\n    <tr>\n      <th>8781</th>\n      <td>856</td>\n      <td>2020-12-31 21:00</td>\n      <td>-4.0</td>\n      <td>5.3</td>\n      <td>2.9</td>\n      <td>0.0</td>\n      <td>NaN</td>\n      <td>NaN</td>\n      <td>83.5</td>\n      <td>0</td>\n      <td>0</td>\n    </tr>\n    <tr>\n      <th>8782</th>\n      <td>856</td>\n      <td>2020-12-31 22:00</td>\n      <td>-3.7</td>\n      <td>1.9</td>\n      <td>4.3</td>\n      <td>0.0</td>\n      <td>NaN</td>\n      <td>NaN</td>\n      <td>80.3</td>\n      <td>0</td>\n      <td>0</td>\n    </tr>\n    <tr>\n      <th>8783</th>\n      <td>856</td>\n      <td>2020-12-31 23:00</td>\n      <td>-4.0</td>\n      <td>358.9</td>\n      <td>4.5</td>\n      <td>0.0</td>\n      <td>NaN</td>\n      <td>NaN</td>\n      <td>83.5</td>\n      <td>0</td>\n      <td>0</td>\n    </tr>\n  </tbody>\n</table>\n<p>8784 rows × 11 columns</p>\n</div>"
     },
     "execution_count": 12,
     "metadata": {},
     "output_type": "execute_result"
    }
   ],
   "source": [
    "import pandas as pd\n",
    "df1 = pd.read_csv('./data/meteo/SURFACE_AWS_856_HR_2020.csv', encoding=\"cp949\")\n",
    "df1"
   ],
   "metadata": {
    "collapsed": false,
    "ExecuteTime": {
     "end_time": "2023-12-16T07:37:50.796882600Z",
     "start_time": "2023-12-16T07:37:50.702690500Z"
    }
   },
   "id": "d0a339a33b383569"
  },
  {
   "cell_type": "code",
   "execution_count": 16,
   "outputs": [
    {
     "name": "stdout",
     "output_type": "stream",
     "text": [
      "Index(['지점', '일시', '기온(°C)', '풍향(deg)', '풍속(m/s)', '강수량(mm)', '현지기압(hPa)',\n",
      "       '해면기압(hPa)', '습도(%)', '일사(MJ/m^2)', '일조(hr)'],\n",
      "      dtype='object')\n"
     ]
    }
   ],
   "source": [
    "print(df1.columns)"
   ],
   "metadata": {
    "collapsed": false,
    "ExecuteTime": {
     "end_time": "2023-12-16T07:38:28.979419900Z",
     "start_time": "2023-12-16T07:38:28.937179800Z"
    }
   },
   "id": "89faa7ce14059de0"
  },
  {
   "cell_type": "code",
   "execution_count": 13,
   "outputs": [
    {
     "name": "stdout",
     "output_type": "stream",
     "text": [
      "       지점                일시  기온(°C)  풍향(deg)  풍속(m/s)  강수량(mm)  현지기압(hPa)  \\\n",
      "0     856  2020-01-01 00:00    -7.2    315.1      6.5      0.0        NaN   \n",
      "1     856  2020-01-01 01:00    -7.4    304.2      5.8      0.0        NaN   \n",
      "2     856  2020-01-01 02:00    -6.3    333.4      3.7      0.0        NaN   \n",
      "3     856  2020-01-01 03:00    -7.2    322.7      1.4      0.0        NaN   \n",
      "4     856  2020-01-01 04:00    -5.8    321.6      2.6      0.0        NaN   \n",
      "...   ...               ...     ...      ...      ...      ...        ...   \n",
      "8779  856  2020-12-31 19:00    -4.0     15.1      1.9      0.0        NaN   \n",
      "8780  856  2020-12-31 20:00    -4.0     11.4      2.5      0.0        NaN   \n",
      "8781  856  2020-12-31 21:00    -4.0      5.3      2.9      0.0        NaN   \n",
      "8782  856  2020-12-31 22:00    -3.7      1.9      4.3      0.0        NaN   \n",
      "8783  856  2020-12-31 23:00    -4.0    358.9      4.5      0.0        NaN   \n",
      "\n",
      "      해면기압(hPa)  습도(%)  일사(MJ/m^2)  일조(hr)  \n",
      "0           NaN   46.5           0       0  \n",
      "1           NaN   42.7           0       0  \n",
      "2           NaN   30.2           0       0  \n",
      "3           NaN   41.2           0       0  \n",
      "4           NaN   48.2           0       0  \n",
      "...         ...    ...         ...     ...  \n",
      "8779        NaN   79.3           0       0  \n",
      "8780        NaN   80.5           0       0  \n",
      "8781        NaN   83.5           0       0  \n",
      "8782        NaN   80.3           0       0  \n",
      "8783        NaN   83.5           0       0  \n",
      "\n",
      "[8784 rows x 11 columns]\n"
     ]
    }
   ],
   "source": [
    "import pandas as pd\n",
    "\n",
    "pd.set_option('display.max_rows', 200)\n",
    "\n",
    "print(df1)"
   ],
   "metadata": {
    "collapsed": false,
    "ExecuteTime": {
     "end_time": "2023-12-16T07:37:56.346805100Z",
     "start_time": "2023-12-16T07:37:56.311788700Z"
    }
   },
   "id": "dfce3a4883203106"
  },
  {
   "cell_type": "code",
   "execution_count": 14,
   "outputs": [
    {
     "data": {
      "text/plain": "       지점                일시  기온(°C)  풍향(deg)  풍속(m/s)  강수량(mm)  현지기압(hPa)  \\\n8764  856  2020-12-31 04:00    -9.5    358.7      5.4      0.0        NaN   \n8765  856  2020-12-31 05:00    -9.3    351.7      5.9      0.0        NaN   \n8766  856  2020-12-31 06:00    -9.0    348.5      6.1      0.0        NaN   \n8767  856  2020-12-31 07:00    -8.6    355.5      5.5      0.0        NaN   \n8768  856  2020-12-31 08:00    -8.1    345.0      5.2      0.0        NaN   \n8769  856  2020-12-31 09:00    -6.5    358.6      4.9      0.0        NaN   \n8770  856  2020-12-31 10:00    -5.4    344.0      3.6      0.0        NaN   \n8771  856  2020-12-31 11:00    -4.4    346.8      3.7      0.0        NaN   \n8772  856  2020-12-31 12:00    -4.0    352.6      4.6      0.0        NaN   \n8773  856  2020-12-31 13:00    -3.3    351.1      4.3      0.0        NaN   \n8774  856  2020-12-31 14:00    -2.8      2.0      3.0      0.0        NaN   \n8775  856  2020-12-31 15:00    -3.6    356.4      2.6      0.0        NaN   \n8776  856  2020-12-31 16:00    -3.8      8.8      2.3      0.0        NaN   \n8777  856  2020-12-31 17:00    -4.1    355.6      3.1      0.0        NaN   \n8778  856  2020-12-31 18:00    -4.1      1.1      1.8      0.0        NaN   \n8779  856  2020-12-31 19:00    -4.0     15.1      1.9      0.0        NaN   \n8780  856  2020-12-31 20:00    -4.0     11.4      2.5      0.0        NaN   \n8781  856  2020-12-31 21:00    -4.0      5.3      2.9      0.0        NaN   \n8782  856  2020-12-31 22:00    -3.7      1.9      4.3      0.0        NaN   \n8783  856  2020-12-31 23:00    -4.0    358.9      4.5      0.0        NaN   \n\n      해면기압(hPa)  습도(%)  일사(MJ/m^2)  일조(hr)  \n8764        NaN   66.7           0       0  \n8765        NaN   65.4           0       0  \n8766        NaN   65.7           0       0  \n8767        NaN   65.6           0       0  \n8768        NaN   63.9           0       0  \n8769        NaN   62.1           0       0  \n8770        NaN   61.3           0       0  \n8771        NaN   58.3           0       0  \n8772        NaN   59.8           0       0  \n8773        NaN   61.1           0       0  \n8774        NaN   60.2           0       0  \n8775        NaN   67.8           0       0  \n8776        NaN   71.2           0       0  \n8777        NaN   75.9           0       0  \n8778        NaN   75.7           0       0  \n8779        NaN   79.3           0       0  \n8780        NaN   80.5           0       0  \n8781        NaN   83.5           0       0  \n8782        NaN   80.3           0       0  \n8783        NaN   83.5           0       0  ",
      "text/html": "<div>\n<style scoped>\n    .dataframe tbody tr th:only-of-type {\n        vertical-align: middle;\n    }\n\n    .dataframe tbody tr th {\n        vertical-align: top;\n    }\n\n    .dataframe thead th {\n        text-align: right;\n    }\n</style>\n<table border=\"1\" class=\"dataframe\">\n  <thead>\n    <tr style=\"text-align: right;\">\n      <th></th>\n      <th>지점</th>\n      <th>일시</th>\n      <th>기온(°C)</th>\n      <th>풍향(deg)</th>\n      <th>풍속(m/s)</th>\n      <th>강수량(mm)</th>\n      <th>현지기압(hPa)</th>\n      <th>해면기압(hPa)</th>\n      <th>습도(%)</th>\n      <th>일사(MJ/m^2)</th>\n      <th>일조(hr)</th>\n    </tr>\n  </thead>\n  <tbody>\n    <tr>\n      <th>8764</th>\n      <td>856</td>\n      <td>2020-12-31 04:00</td>\n      <td>-9.5</td>\n      <td>358.7</td>\n      <td>5.4</td>\n      <td>0.0</td>\n      <td>NaN</td>\n      <td>NaN</td>\n      <td>66.7</td>\n      <td>0</td>\n      <td>0</td>\n    </tr>\n    <tr>\n      <th>8765</th>\n      <td>856</td>\n      <td>2020-12-31 05:00</td>\n      <td>-9.3</td>\n      <td>351.7</td>\n      <td>5.9</td>\n      <td>0.0</td>\n      <td>NaN</td>\n      <td>NaN</td>\n      <td>65.4</td>\n      <td>0</td>\n      <td>0</td>\n    </tr>\n    <tr>\n      <th>8766</th>\n      <td>856</td>\n      <td>2020-12-31 06:00</td>\n      <td>-9.0</td>\n      <td>348.5</td>\n      <td>6.1</td>\n      <td>0.0</td>\n      <td>NaN</td>\n      <td>NaN</td>\n      <td>65.7</td>\n      <td>0</td>\n      <td>0</td>\n    </tr>\n    <tr>\n      <th>8767</th>\n      <td>856</td>\n      <td>2020-12-31 07:00</td>\n      <td>-8.6</td>\n      <td>355.5</td>\n      <td>5.5</td>\n      <td>0.0</td>\n      <td>NaN</td>\n      <td>NaN</td>\n      <td>65.6</td>\n      <td>0</td>\n      <td>0</td>\n    </tr>\n    <tr>\n      <th>8768</th>\n      <td>856</td>\n      <td>2020-12-31 08:00</td>\n      <td>-8.1</td>\n      <td>345.0</td>\n      <td>5.2</td>\n      <td>0.0</td>\n      <td>NaN</td>\n      <td>NaN</td>\n      <td>63.9</td>\n      <td>0</td>\n      <td>0</td>\n    </tr>\n    <tr>\n      <th>8769</th>\n      <td>856</td>\n      <td>2020-12-31 09:00</td>\n      <td>-6.5</td>\n      <td>358.6</td>\n      <td>4.9</td>\n      <td>0.0</td>\n      <td>NaN</td>\n      <td>NaN</td>\n      <td>62.1</td>\n      <td>0</td>\n      <td>0</td>\n    </tr>\n    <tr>\n      <th>8770</th>\n      <td>856</td>\n      <td>2020-12-31 10:00</td>\n      <td>-5.4</td>\n      <td>344.0</td>\n      <td>3.6</td>\n      <td>0.0</td>\n      <td>NaN</td>\n      <td>NaN</td>\n      <td>61.3</td>\n      <td>0</td>\n      <td>0</td>\n    </tr>\n    <tr>\n      <th>8771</th>\n      <td>856</td>\n      <td>2020-12-31 11:00</td>\n      <td>-4.4</td>\n      <td>346.8</td>\n      <td>3.7</td>\n      <td>0.0</td>\n      <td>NaN</td>\n      <td>NaN</td>\n      <td>58.3</td>\n      <td>0</td>\n      <td>0</td>\n    </tr>\n    <tr>\n      <th>8772</th>\n      <td>856</td>\n      <td>2020-12-31 12:00</td>\n      <td>-4.0</td>\n      <td>352.6</td>\n      <td>4.6</td>\n      <td>0.0</td>\n      <td>NaN</td>\n      <td>NaN</td>\n      <td>59.8</td>\n      <td>0</td>\n      <td>0</td>\n    </tr>\n    <tr>\n      <th>8773</th>\n      <td>856</td>\n      <td>2020-12-31 13:00</td>\n      <td>-3.3</td>\n      <td>351.1</td>\n      <td>4.3</td>\n      <td>0.0</td>\n      <td>NaN</td>\n      <td>NaN</td>\n      <td>61.1</td>\n      <td>0</td>\n      <td>0</td>\n    </tr>\n    <tr>\n      <th>8774</th>\n      <td>856</td>\n      <td>2020-12-31 14:00</td>\n      <td>-2.8</td>\n      <td>2.0</td>\n      <td>3.0</td>\n      <td>0.0</td>\n      <td>NaN</td>\n      <td>NaN</td>\n      <td>60.2</td>\n      <td>0</td>\n      <td>0</td>\n    </tr>\n    <tr>\n      <th>8775</th>\n      <td>856</td>\n      <td>2020-12-31 15:00</td>\n      <td>-3.6</td>\n      <td>356.4</td>\n      <td>2.6</td>\n      <td>0.0</td>\n      <td>NaN</td>\n      <td>NaN</td>\n      <td>67.8</td>\n      <td>0</td>\n      <td>0</td>\n    </tr>\n    <tr>\n      <th>8776</th>\n      <td>856</td>\n      <td>2020-12-31 16:00</td>\n      <td>-3.8</td>\n      <td>8.8</td>\n      <td>2.3</td>\n      <td>0.0</td>\n      <td>NaN</td>\n      <td>NaN</td>\n      <td>71.2</td>\n      <td>0</td>\n      <td>0</td>\n    </tr>\n    <tr>\n      <th>8777</th>\n      <td>856</td>\n      <td>2020-12-31 17:00</td>\n      <td>-4.1</td>\n      <td>355.6</td>\n      <td>3.1</td>\n      <td>0.0</td>\n      <td>NaN</td>\n      <td>NaN</td>\n      <td>75.9</td>\n      <td>0</td>\n      <td>0</td>\n    </tr>\n    <tr>\n      <th>8778</th>\n      <td>856</td>\n      <td>2020-12-31 18:00</td>\n      <td>-4.1</td>\n      <td>1.1</td>\n      <td>1.8</td>\n      <td>0.0</td>\n      <td>NaN</td>\n      <td>NaN</td>\n      <td>75.7</td>\n      <td>0</td>\n      <td>0</td>\n    </tr>\n    <tr>\n      <th>8779</th>\n      <td>856</td>\n      <td>2020-12-31 19:00</td>\n      <td>-4.0</td>\n      <td>15.1</td>\n      <td>1.9</td>\n      <td>0.0</td>\n      <td>NaN</td>\n      <td>NaN</td>\n      <td>79.3</td>\n      <td>0</td>\n      <td>0</td>\n    </tr>\n    <tr>\n      <th>8780</th>\n      <td>856</td>\n      <td>2020-12-31 20:00</td>\n      <td>-4.0</td>\n      <td>11.4</td>\n      <td>2.5</td>\n      <td>0.0</td>\n      <td>NaN</td>\n      <td>NaN</td>\n      <td>80.5</td>\n      <td>0</td>\n      <td>0</td>\n    </tr>\n    <tr>\n      <th>8781</th>\n      <td>856</td>\n      <td>2020-12-31 21:00</td>\n      <td>-4.0</td>\n      <td>5.3</td>\n      <td>2.9</td>\n      <td>0.0</td>\n      <td>NaN</td>\n      <td>NaN</td>\n      <td>83.5</td>\n      <td>0</td>\n      <td>0</td>\n    </tr>\n    <tr>\n      <th>8782</th>\n      <td>856</td>\n      <td>2020-12-31 22:00</td>\n      <td>-3.7</td>\n      <td>1.9</td>\n      <td>4.3</td>\n      <td>0.0</td>\n      <td>NaN</td>\n      <td>NaN</td>\n      <td>80.3</td>\n      <td>0</td>\n      <td>0</td>\n    </tr>\n    <tr>\n      <th>8783</th>\n      <td>856</td>\n      <td>2020-12-31 23:00</td>\n      <td>-4.0</td>\n      <td>358.9</td>\n      <td>4.5</td>\n      <td>0.0</td>\n      <td>NaN</td>\n      <td>NaN</td>\n      <td>83.5</td>\n      <td>0</td>\n      <td>0</td>\n    </tr>\n  </tbody>\n</table>\n</div>"
     },
     "execution_count": 14,
     "metadata": {},
     "output_type": "execute_result"
    }
   ],
   "source": [
    "df1.tail(20)"
   ],
   "metadata": {
    "collapsed": false,
    "ExecuteTime": {
     "end_time": "2023-12-16T07:37:58.063302900Z",
     "start_time": "2023-12-16T07:37:58.018142100Z"
    }
   },
   "id": "d1e88152d721079a"
  },
  {
   "cell_type": "code",
   "execution_count": 18,
   "outputs": [
    {
     "data": {
      "text/plain": "       지점                일시  기온(°C)  풍향(deg)  풍속(m/s)  강수량(mm)  현지기압(hPa)  \\\n0     856  2021-01-01 00:00    -4.6    349.4      5.0      0.0        NaN   \n1     856  2021-01-01 01:00    -5.8    359.1      5.7      0.0        NaN   \n2     856  2021-01-01 02:00    -5.5    353.4      4.7      0.0        NaN   \n3     856  2021-01-01 03:00    -5.2    356.9      4.8      0.0        NaN   \n4     856  2021-01-01 04:00    -5.3      1.3      4.7      0.0        NaN   \n...   ...               ...     ...      ...      ...      ...        ...   \n8755  856  2021-12-31 19:00    -5.5    343.1      4.7      0.0        NaN   \n8756  856  2021-12-31 20:00    -6.1    329.0      3.1      0.0        NaN   \n8757  856  2021-12-31 21:00    -6.5    341.9      3.7      0.0        NaN   \n8758  856  2021-12-31 22:00    -6.7    330.2      3.8      0.0        NaN   \n8759  856  2021-12-31 23:00    -7.1    310.4      5.5      0.0        NaN   \n\n      해면기압(hPa)  습도(%)  일사(MJ/m^2)  일조(hr)  \n0           NaN   72.6           0       0  \n1           NaN   70.6           0       0  \n2           NaN   71.8           0       0  \n3           NaN   75.3           0       0  \n4           NaN   74.8           0       0  \n...         ...    ...         ...     ...  \n8755        NaN   57.4           0       0  \n8756        NaN   60.4           0       0  \n8757        NaN   60.7           0       0  \n8758        NaN   58.9           0       0  \n8759        NaN   56.5           0       0  \n\n[8760 rows x 11 columns]",
      "text/html": "<div>\n<style scoped>\n    .dataframe tbody tr th:only-of-type {\n        vertical-align: middle;\n    }\n\n    .dataframe tbody tr th {\n        vertical-align: top;\n    }\n\n    .dataframe thead th {\n        text-align: right;\n    }\n</style>\n<table border=\"1\" class=\"dataframe\">\n  <thead>\n    <tr style=\"text-align: right;\">\n      <th></th>\n      <th>지점</th>\n      <th>일시</th>\n      <th>기온(°C)</th>\n      <th>풍향(deg)</th>\n      <th>풍속(m/s)</th>\n      <th>강수량(mm)</th>\n      <th>현지기압(hPa)</th>\n      <th>해면기압(hPa)</th>\n      <th>습도(%)</th>\n      <th>일사(MJ/m^2)</th>\n      <th>일조(hr)</th>\n    </tr>\n  </thead>\n  <tbody>\n    <tr>\n      <th>0</th>\n      <td>856</td>\n      <td>2021-01-01 00:00</td>\n      <td>-4.6</td>\n      <td>349.4</td>\n      <td>5.0</td>\n      <td>0.0</td>\n      <td>NaN</td>\n      <td>NaN</td>\n      <td>72.6</td>\n      <td>0</td>\n      <td>0</td>\n    </tr>\n    <tr>\n      <th>1</th>\n      <td>856</td>\n      <td>2021-01-01 01:00</td>\n      <td>-5.8</td>\n      <td>359.1</td>\n      <td>5.7</td>\n      <td>0.0</td>\n      <td>NaN</td>\n      <td>NaN</td>\n      <td>70.6</td>\n      <td>0</td>\n      <td>0</td>\n    </tr>\n    <tr>\n      <th>2</th>\n      <td>856</td>\n      <td>2021-01-01 02:00</td>\n      <td>-5.5</td>\n      <td>353.4</td>\n      <td>4.7</td>\n      <td>0.0</td>\n      <td>NaN</td>\n      <td>NaN</td>\n      <td>71.8</td>\n      <td>0</td>\n      <td>0</td>\n    </tr>\n    <tr>\n      <th>3</th>\n      <td>856</td>\n      <td>2021-01-01 03:00</td>\n      <td>-5.2</td>\n      <td>356.9</td>\n      <td>4.8</td>\n      <td>0.0</td>\n      <td>NaN</td>\n      <td>NaN</td>\n      <td>75.3</td>\n      <td>0</td>\n      <td>0</td>\n    </tr>\n    <tr>\n      <th>4</th>\n      <td>856</td>\n      <td>2021-01-01 04:00</td>\n      <td>-5.3</td>\n      <td>1.3</td>\n      <td>4.7</td>\n      <td>0.0</td>\n      <td>NaN</td>\n      <td>NaN</td>\n      <td>74.8</td>\n      <td>0</td>\n      <td>0</td>\n    </tr>\n    <tr>\n      <th>...</th>\n      <td>...</td>\n      <td>...</td>\n      <td>...</td>\n      <td>...</td>\n      <td>...</td>\n      <td>...</td>\n      <td>...</td>\n      <td>...</td>\n      <td>...</td>\n      <td>...</td>\n      <td>...</td>\n    </tr>\n    <tr>\n      <th>8755</th>\n      <td>856</td>\n      <td>2021-12-31 19:00</td>\n      <td>-5.5</td>\n      <td>343.1</td>\n      <td>4.7</td>\n      <td>0.0</td>\n      <td>NaN</td>\n      <td>NaN</td>\n      <td>57.4</td>\n      <td>0</td>\n      <td>0</td>\n    </tr>\n    <tr>\n      <th>8756</th>\n      <td>856</td>\n      <td>2021-12-31 20:00</td>\n      <td>-6.1</td>\n      <td>329.0</td>\n      <td>3.1</td>\n      <td>0.0</td>\n      <td>NaN</td>\n      <td>NaN</td>\n      <td>60.4</td>\n      <td>0</td>\n      <td>0</td>\n    </tr>\n    <tr>\n      <th>8757</th>\n      <td>856</td>\n      <td>2021-12-31 21:00</td>\n      <td>-6.5</td>\n      <td>341.9</td>\n      <td>3.7</td>\n      <td>0.0</td>\n      <td>NaN</td>\n      <td>NaN</td>\n      <td>60.7</td>\n      <td>0</td>\n      <td>0</td>\n    </tr>\n    <tr>\n      <th>8758</th>\n      <td>856</td>\n      <td>2021-12-31 22:00</td>\n      <td>-6.7</td>\n      <td>330.2</td>\n      <td>3.8</td>\n      <td>0.0</td>\n      <td>NaN</td>\n      <td>NaN</td>\n      <td>58.9</td>\n      <td>0</td>\n      <td>0</td>\n    </tr>\n    <tr>\n      <th>8759</th>\n      <td>856</td>\n      <td>2021-12-31 23:00</td>\n      <td>-7.1</td>\n      <td>310.4</td>\n      <td>5.5</td>\n      <td>0.0</td>\n      <td>NaN</td>\n      <td>NaN</td>\n      <td>56.5</td>\n      <td>0</td>\n      <td>0</td>\n    </tr>\n  </tbody>\n</table>\n<p>8760 rows × 11 columns</p>\n</div>"
     },
     "execution_count": 18,
     "metadata": {},
     "output_type": "execute_result"
    }
   ],
   "source": [
    "df2 = pd.read_csv('./data/meteo/SURFACE_AWS_856_HR_2021.csv', encoding=\"cp949\")\n",
    "df2"
   ],
   "metadata": {
    "collapsed": false,
    "ExecuteTime": {
     "end_time": "2023-12-16T07:38:47.545222300Z",
     "start_time": "2023-12-16T07:38:47.483339600Z"
    }
   },
   "id": "3c52ba22f0e7ddb9"
  },
  {
   "cell_type": "code",
   "execution_count": 19,
   "outputs": [
    {
     "name": "stdout",
     "output_type": "stream",
     "text": [
      "Index(['지점', '일시', '기온(°C)', '풍향(deg)', '풍속(m/s)', '강수량(mm)', '현지기압(hPa)',\n",
      "       '해면기압(hPa)', '습도(%)', '일사(MJ/m^2)', '일조(hr)'],\n",
      "      dtype='object')\n"
     ]
    }
   ],
   "source": [
    "print(df2.columns)"
   ],
   "metadata": {
    "collapsed": false,
    "ExecuteTime": {
     "end_time": "2023-12-16T07:38:57.581140700Z",
     "start_time": "2023-12-16T07:38:57.517616600Z"
    }
   },
   "id": "190b0909bca2bb5e"
  },
  {
   "cell_type": "code",
   "execution_count": 20,
   "outputs": [
    {
     "name": "stdout",
     "output_type": "stream",
     "text": [
      "       지점                일시  기온(°C)  풍향(deg)  풍속(m/s)  강수량(mm)  현지기압(hPa)  \\\n",
      "0     856  2021-01-01 00:00    -4.6    349.4      5.0      0.0        NaN   \n",
      "1     856  2021-01-01 01:00    -5.8    359.1      5.7      0.0        NaN   \n",
      "2     856  2021-01-01 02:00    -5.5    353.4      4.7      0.0        NaN   \n",
      "3     856  2021-01-01 03:00    -5.2    356.9      4.8      0.0        NaN   \n",
      "4     856  2021-01-01 04:00    -5.3      1.3      4.7      0.0        NaN   \n",
      "...   ...               ...     ...      ...      ...      ...        ...   \n",
      "8755  856  2021-12-31 19:00    -5.5    343.1      4.7      0.0        NaN   \n",
      "8756  856  2021-12-31 20:00    -6.1    329.0      3.1      0.0        NaN   \n",
      "8757  856  2021-12-31 21:00    -6.5    341.9      3.7      0.0        NaN   \n",
      "8758  856  2021-12-31 22:00    -6.7    330.2      3.8      0.0        NaN   \n",
      "8759  856  2021-12-31 23:00    -7.1    310.4      5.5      0.0        NaN   \n",
      "\n",
      "      해면기압(hPa)  습도(%)  일사(MJ/m^2)  일조(hr)  \n",
      "0           NaN   72.6           0       0  \n",
      "1           NaN   70.6           0       0  \n",
      "2           NaN   71.8           0       0  \n",
      "3           NaN   75.3           0       0  \n",
      "4           NaN   74.8           0       0  \n",
      "...         ...    ...         ...     ...  \n",
      "8755        NaN   57.4           0       0  \n",
      "8756        NaN   60.4           0       0  \n",
      "8757        NaN   60.7           0       0  \n",
      "8758        NaN   58.9           0       0  \n",
      "8759        NaN   56.5           0       0  \n",
      "\n",
      "[8760 rows x 11 columns]\n"
     ]
    }
   ],
   "source": [
    "import pandas as pd\n",
    "\n",
    "pd.set_option('display.max_rows', 200)\n",
    "\n",
    "print(df2)"
   ],
   "metadata": {
    "collapsed": false,
    "ExecuteTime": {
     "end_time": "2023-12-16T07:38:59.176017900Z",
     "start_time": "2023-12-16T07:38:59.140525300Z"
    }
   },
   "id": "1527e4d5279bca31"
  },
  {
   "cell_type": "code",
   "execution_count": 21,
   "outputs": [
    {
     "data": {
      "text/plain": "       지점                일시  기온(°C)  풍향(deg)  풍속(m/s)  강수량(mm)  현지기압(hPa)  \\\n8740  856  2021-12-31 04:00    -5.9    344.1      5.3      0.0        NaN   \n8741  856  2021-12-31 05:00    -5.9    343.8      4.3      0.0        NaN   \n8742  856  2021-12-31 06:00    -6.0    342.8      4.9      0.0        NaN   \n8743  856  2021-12-31 07:00    -5.8    344.2      4.6      0.0        NaN   \n8744  856  2021-12-31 08:00    -5.7    345.7      4.7      0.0        NaN   \n8745  856  2021-12-31 09:00    -4.7    346.7      4.6      0.0        NaN   \n8746  856  2021-12-31 10:00    -4.1    341.8      4.9      0.0        NaN   \n8747  856  2021-12-31 11:00    -3.4    352.1      5.3      0.0        NaN   \n8748  856  2021-12-31 12:00    -2.8    354.7      3.9      0.0        NaN   \n8749  856  2021-12-31 13:00    -2.3    356.6      5.9      0.0        NaN   \n8750  856  2021-12-31 14:00    -1.7    352.6      5.3      0.0        NaN   \n8751  856  2021-12-31 15:00    -2.0      8.0      4.6      0.0        NaN   \n8752  856  2021-12-31 16:00    -2.7      2.9      5.6      0.0        NaN   \n8753  856  2021-12-31 17:00    -4.2      2.9      4.2      0.0        NaN   \n8754  856  2021-12-31 18:00    -5.0    354.2      3.8      0.0        NaN   \n8755  856  2021-12-31 19:00    -5.5    343.1      4.7      0.0        NaN   \n8756  856  2021-12-31 20:00    -6.1    329.0      3.1      0.0        NaN   \n8757  856  2021-12-31 21:00    -6.5    341.9      3.7      0.0        NaN   \n8758  856  2021-12-31 22:00    -6.7    330.2      3.8      0.0        NaN   \n8759  856  2021-12-31 23:00    -7.1    310.4      5.5      0.0        NaN   \n\n      해면기압(hPa)  습도(%)  일사(MJ/m^2)  일조(hr)  \n8740        NaN   64.3           0       0  \n8741        NaN   62.0           0       0  \n8742        NaN   61.3           0       0  \n8743        NaN   61.9           0       0  \n8744        NaN   62.3           0       0  \n8745        NaN   60.9           0       0  \n8746        NaN   60.6           0       0  \n8747        NaN   56.0           0       0  \n8748        NaN   51.2           0       0  \n8749        NaN   51.2           0       0  \n8750        NaN   46.0           0       0  \n8751        NaN   43.4           0       0  \n8752        NaN   47.2           0       0  \n8753        NaN   52.0           0       0  \n8754        NaN   54.0           0       0  \n8755        NaN   57.4           0       0  \n8756        NaN   60.4           0       0  \n8757        NaN   60.7           0       0  \n8758        NaN   58.9           0       0  \n8759        NaN   56.5           0       0  ",
      "text/html": "<div>\n<style scoped>\n    .dataframe tbody tr th:only-of-type {\n        vertical-align: middle;\n    }\n\n    .dataframe tbody tr th {\n        vertical-align: top;\n    }\n\n    .dataframe thead th {\n        text-align: right;\n    }\n</style>\n<table border=\"1\" class=\"dataframe\">\n  <thead>\n    <tr style=\"text-align: right;\">\n      <th></th>\n      <th>지점</th>\n      <th>일시</th>\n      <th>기온(°C)</th>\n      <th>풍향(deg)</th>\n      <th>풍속(m/s)</th>\n      <th>강수량(mm)</th>\n      <th>현지기압(hPa)</th>\n      <th>해면기압(hPa)</th>\n      <th>습도(%)</th>\n      <th>일사(MJ/m^2)</th>\n      <th>일조(hr)</th>\n    </tr>\n  </thead>\n  <tbody>\n    <tr>\n      <th>8740</th>\n      <td>856</td>\n      <td>2021-12-31 04:00</td>\n      <td>-5.9</td>\n      <td>344.1</td>\n      <td>5.3</td>\n      <td>0.0</td>\n      <td>NaN</td>\n      <td>NaN</td>\n      <td>64.3</td>\n      <td>0</td>\n      <td>0</td>\n    </tr>\n    <tr>\n      <th>8741</th>\n      <td>856</td>\n      <td>2021-12-31 05:00</td>\n      <td>-5.9</td>\n      <td>343.8</td>\n      <td>4.3</td>\n      <td>0.0</td>\n      <td>NaN</td>\n      <td>NaN</td>\n      <td>62.0</td>\n      <td>0</td>\n      <td>0</td>\n    </tr>\n    <tr>\n      <th>8742</th>\n      <td>856</td>\n      <td>2021-12-31 06:00</td>\n      <td>-6.0</td>\n      <td>342.8</td>\n      <td>4.9</td>\n      <td>0.0</td>\n      <td>NaN</td>\n      <td>NaN</td>\n      <td>61.3</td>\n      <td>0</td>\n      <td>0</td>\n    </tr>\n    <tr>\n      <th>8743</th>\n      <td>856</td>\n      <td>2021-12-31 07:00</td>\n      <td>-5.8</td>\n      <td>344.2</td>\n      <td>4.6</td>\n      <td>0.0</td>\n      <td>NaN</td>\n      <td>NaN</td>\n      <td>61.9</td>\n      <td>0</td>\n      <td>0</td>\n    </tr>\n    <tr>\n      <th>8744</th>\n      <td>856</td>\n      <td>2021-12-31 08:00</td>\n      <td>-5.7</td>\n      <td>345.7</td>\n      <td>4.7</td>\n      <td>0.0</td>\n      <td>NaN</td>\n      <td>NaN</td>\n      <td>62.3</td>\n      <td>0</td>\n      <td>0</td>\n    </tr>\n    <tr>\n      <th>8745</th>\n      <td>856</td>\n      <td>2021-12-31 09:00</td>\n      <td>-4.7</td>\n      <td>346.7</td>\n      <td>4.6</td>\n      <td>0.0</td>\n      <td>NaN</td>\n      <td>NaN</td>\n      <td>60.9</td>\n      <td>0</td>\n      <td>0</td>\n    </tr>\n    <tr>\n      <th>8746</th>\n      <td>856</td>\n      <td>2021-12-31 10:00</td>\n      <td>-4.1</td>\n      <td>341.8</td>\n      <td>4.9</td>\n      <td>0.0</td>\n      <td>NaN</td>\n      <td>NaN</td>\n      <td>60.6</td>\n      <td>0</td>\n      <td>0</td>\n    </tr>\n    <tr>\n      <th>8747</th>\n      <td>856</td>\n      <td>2021-12-31 11:00</td>\n      <td>-3.4</td>\n      <td>352.1</td>\n      <td>5.3</td>\n      <td>0.0</td>\n      <td>NaN</td>\n      <td>NaN</td>\n      <td>56.0</td>\n      <td>0</td>\n      <td>0</td>\n    </tr>\n    <tr>\n      <th>8748</th>\n      <td>856</td>\n      <td>2021-12-31 12:00</td>\n      <td>-2.8</td>\n      <td>354.7</td>\n      <td>3.9</td>\n      <td>0.0</td>\n      <td>NaN</td>\n      <td>NaN</td>\n      <td>51.2</td>\n      <td>0</td>\n      <td>0</td>\n    </tr>\n    <tr>\n      <th>8749</th>\n      <td>856</td>\n      <td>2021-12-31 13:00</td>\n      <td>-2.3</td>\n      <td>356.6</td>\n      <td>5.9</td>\n      <td>0.0</td>\n      <td>NaN</td>\n      <td>NaN</td>\n      <td>51.2</td>\n      <td>0</td>\n      <td>0</td>\n    </tr>\n    <tr>\n      <th>8750</th>\n      <td>856</td>\n      <td>2021-12-31 14:00</td>\n      <td>-1.7</td>\n      <td>352.6</td>\n      <td>5.3</td>\n      <td>0.0</td>\n      <td>NaN</td>\n      <td>NaN</td>\n      <td>46.0</td>\n      <td>0</td>\n      <td>0</td>\n    </tr>\n    <tr>\n      <th>8751</th>\n      <td>856</td>\n      <td>2021-12-31 15:00</td>\n      <td>-2.0</td>\n      <td>8.0</td>\n      <td>4.6</td>\n      <td>0.0</td>\n      <td>NaN</td>\n      <td>NaN</td>\n      <td>43.4</td>\n      <td>0</td>\n      <td>0</td>\n    </tr>\n    <tr>\n      <th>8752</th>\n      <td>856</td>\n      <td>2021-12-31 16:00</td>\n      <td>-2.7</td>\n      <td>2.9</td>\n      <td>5.6</td>\n      <td>0.0</td>\n      <td>NaN</td>\n      <td>NaN</td>\n      <td>47.2</td>\n      <td>0</td>\n      <td>0</td>\n    </tr>\n    <tr>\n      <th>8753</th>\n      <td>856</td>\n      <td>2021-12-31 17:00</td>\n      <td>-4.2</td>\n      <td>2.9</td>\n      <td>4.2</td>\n      <td>0.0</td>\n      <td>NaN</td>\n      <td>NaN</td>\n      <td>52.0</td>\n      <td>0</td>\n      <td>0</td>\n    </tr>\n    <tr>\n      <th>8754</th>\n      <td>856</td>\n      <td>2021-12-31 18:00</td>\n      <td>-5.0</td>\n      <td>354.2</td>\n      <td>3.8</td>\n      <td>0.0</td>\n      <td>NaN</td>\n      <td>NaN</td>\n      <td>54.0</td>\n      <td>0</td>\n      <td>0</td>\n    </tr>\n    <tr>\n      <th>8755</th>\n      <td>856</td>\n      <td>2021-12-31 19:00</td>\n      <td>-5.5</td>\n      <td>343.1</td>\n      <td>4.7</td>\n      <td>0.0</td>\n      <td>NaN</td>\n      <td>NaN</td>\n      <td>57.4</td>\n      <td>0</td>\n      <td>0</td>\n    </tr>\n    <tr>\n      <th>8756</th>\n      <td>856</td>\n      <td>2021-12-31 20:00</td>\n      <td>-6.1</td>\n      <td>329.0</td>\n      <td>3.1</td>\n      <td>0.0</td>\n      <td>NaN</td>\n      <td>NaN</td>\n      <td>60.4</td>\n      <td>0</td>\n      <td>0</td>\n    </tr>\n    <tr>\n      <th>8757</th>\n      <td>856</td>\n      <td>2021-12-31 21:00</td>\n      <td>-6.5</td>\n      <td>341.9</td>\n      <td>3.7</td>\n      <td>0.0</td>\n      <td>NaN</td>\n      <td>NaN</td>\n      <td>60.7</td>\n      <td>0</td>\n      <td>0</td>\n    </tr>\n    <tr>\n      <th>8758</th>\n      <td>856</td>\n      <td>2021-12-31 22:00</td>\n      <td>-6.7</td>\n      <td>330.2</td>\n      <td>3.8</td>\n      <td>0.0</td>\n      <td>NaN</td>\n      <td>NaN</td>\n      <td>58.9</td>\n      <td>0</td>\n      <td>0</td>\n    </tr>\n    <tr>\n      <th>8759</th>\n      <td>856</td>\n      <td>2021-12-31 23:00</td>\n      <td>-7.1</td>\n      <td>310.4</td>\n      <td>5.5</td>\n      <td>0.0</td>\n      <td>NaN</td>\n      <td>NaN</td>\n      <td>56.5</td>\n      <td>0</td>\n      <td>0</td>\n    </tr>\n  </tbody>\n</table>\n</div>"
     },
     "execution_count": 21,
     "metadata": {},
     "output_type": "execute_result"
    }
   ],
   "source": [
    "df2.tail(20)"
   ],
   "metadata": {
    "collapsed": false,
    "ExecuteTime": {
     "end_time": "2023-12-16T07:38:59.884602400Z",
     "start_time": "2023-12-16T07:38:59.825727300Z"
    }
   },
   "id": "9876d74a24116937"
  },
  {
   "cell_type": "markdown",
   "source": [
    "# 기상 데이터 구조\n",
    "\n",
    "### 2020년 1월 ~ 12월 - 기온, 풍향, 풍속, 강수량, 현지기압, 해면기압, 습도, 일사, 일조 데이터가 들어가있음\n",
    "### 2021년 1월 ~ 12월 - 기온, 풍향, 풍속, 강수량, 현지기압, 해면기압, 습도, 일사, 일조 데이터가 들어가있음"
   ],
   "metadata": {
    "collapsed": false
   },
   "id": "550d8fb6c8cca848"
  },
  {
   "cell_type": "markdown",
   "source": [
    "# 공기질 데이터 구조\n",
    "- ## airQuality 파일 안\n",
    "    - ### 20년 9월.xls\n",
    "    - ### 20년 10월.xls\n",
    "    - ### 20년 11월.xls\n",
    "    - ### 20년 12월.xls\n",
    "    - ### 21년 1월.xls\n",
    "    - ### 21년 2월.xls\n",
    "    - ### 21년 3월.xls\n",
    "    - ### 21년 4월.xls\n",
    "    - ### 21년 5월.xls\n",
    "    - ### 21년 6월.xls"
   ],
   "metadata": {
    "collapsed": false
   },
   "id": "4754752b4261e2c8"
  },
  {
   "cell_type": "code",
   "execution_count": 46,
   "outputs": [
    {
     "name": "stdout",
     "output_type": "stream",
     "text": [
      "Collecting xlrd\n",
      "  Downloading xlrd-2.0.1-py2.py3-none-any.whl (96 kB)\n",
      "     ---------------------------------------- 0.0/96.5 kB ? eta -:--:--\n",
      "     ---------------- --------------------- 41.0/96.5 kB 653.6 kB/s eta 0:00:01\n",
      "     ---------------------------------------- 96.5/96.5 kB 1.4 MB/s eta 0:00:00\n",
      "Installing collected packages: xlrd\n",
      "Successfully installed xlrd-2.0.1\n"
     ]
    }
   ],
   "source": [
    "!pip install xlrd"
   ],
   "metadata": {
    "collapsed": false,
    "ExecuteTime": {
     "end_time": "2023-12-15T15:03:12.245860900Z",
     "start_time": "2023-12-15T15:03:06.208199800Z"
    }
   },
   "id": "74ff2fcd7859c001"
  },
  {
   "cell_type": "code",
   "execution_count": 22,
   "outputs": [
    {
     "data": {
      "text/plain": "           날짜   PM10  PM2.5    오 존  이산화질소  일산화탄소  아황산가스\n0     (월-일-시)  (㎍/㎥)  (㎍/㎥)  (ppm)  (ppm)  (ppm)  (ppm)\n1    09-01-01     16     16  0.026  0.004    0.1  0.001\n2    09-01-02     11      9  0.029  0.003    0.1  0.001\n3    09-01-03     11      8  0.030  0.004    0.1  0.001\n4    09-01-04     17      7  0.031  0.004    0.1  0.001\n..        ...    ...    ...    ...    ...    ...    ...\n716  09-30-20     41     34  0.061  0.015    0.5  0.004\n717  09-30-21     52     41  0.053  0.015    0.3  0.002\n718  09-30-22     31     18  0.054  0.011    0.2  0.002\n719  09-30-23     28     19  0.057  0.006    0.2  0.002\n720  09-30-24     25     18  0.052  0.006    0.2  0.002\n\n[721 rows x 7 columns]",
      "text/html": "<div>\n<style scoped>\n    .dataframe tbody tr th:only-of-type {\n        vertical-align: middle;\n    }\n\n    .dataframe tbody tr th {\n        vertical-align: top;\n    }\n\n    .dataframe thead th {\n        text-align: right;\n    }\n</style>\n<table border=\"1\" class=\"dataframe\">\n  <thead>\n    <tr style=\"text-align: right;\">\n      <th></th>\n      <th>날짜</th>\n      <th>PM10</th>\n      <th>PM2.5</th>\n      <th>오 존</th>\n      <th>이산화질소</th>\n      <th>일산화탄소</th>\n      <th>아황산가스</th>\n    </tr>\n  </thead>\n  <tbody>\n    <tr>\n      <th>0</th>\n      <td>(월-일-시)</td>\n      <td>(㎍/㎥)</td>\n      <td>(㎍/㎥)</td>\n      <td>(ppm)</td>\n      <td>(ppm)</td>\n      <td>(ppm)</td>\n      <td>(ppm)</td>\n    </tr>\n    <tr>\n      <th>1</th>\n      <td>09-01-01</td>\n      <td>16</td>\n      <td>16</td>\n      <td>0.026</td>\n      <td>0.004</td>\n      <td>0.1</td>\n      <td>0.001</td>\n    </tr>\n    <tr>\n      <th>2</th>\n      <td>09-01-02</td>\n      <td>11</td>\n      <td>9</td>\n      <td>0.029</td>\n      <td>0.003</td>\n      <td>0.1</td>\n      <td>0.001</td>\n    </tr>\n    <tr>\n      <th>3</th>\n      <td>09-01-03</td>\n      <td>11</td>\n      <td>8</td>\n      <td>0.030</td>\n      <td>0.004</td>\n      <td>0.1</td>\n      <td>0.001</td>\n    </tr>\n    <tr>\n      <th>4</th>\n      <td>09-01-04</td>\n      <td>17</td>\n      <td>7</td>\n      <td>0.031</td>\n      <td>0.004</td>\n      <td>0.1</td>\n      <td>0.001</td>\n    </tr>\n    <tr>\n      <th>...</th>\n      <td>...</td>\n      <td>...</td>\n      <td>...</td>\n      <td>...</td>\n      <td>...</td>\n      <td>...</td>\n      <td>...</td>\n    </tr>\n    <tr>\n      <th>716</th>\n      <td>09-30-20</td>\n      <td>41</td>\n      <td>34</td>\n      <td>0.061</td>\n      <td>0.015</td>\n      <td>0.5</td>\n      <td>0.004</td>\n    </tr>\n    <tr>\n      <th>717</th>\n      <td>09-30-21</td>\n      <td>52</td>\n      <td>41</td>\n      <td>0.053</td>\n      <td>0.015</td>\n      <td>0.3</td>\n      <td>0.002</td>\n    </tr>\n    <tr>\n      <th>718</th>\n      <td>09-30-22</td>\n      <td>31</td>\n      <td>18</td>\n      <td>0.054</td>\n      <td>0.011</td>\n      <td>0.2</td>\n      <td>0.002</td>\n    </tr>\n    <tr>\n      <th>719</th>\n      <td>09-30-23</td>\n      <td>28</td>\n      <td>19</td>\n      <td>0.057</td>\n      <td>0.006</td>\n      <td>0.2</td>\n      <td>0.002</td>\n    </tr>\n    <tr>\n      <th>720</th>\n      <td>09-30-24</td>\n      <td>25</td>\n      <td>18</td>\n      <td>0.052</td>\n      <td>0.006</td>\n      <td>0.2</td>\n      <td>0.002</td>\n    </tr>\n  </tbody>\n</table>\n<p>721 rows × 7 columns</p>\n</div>"
     },
     "execution_count": 22,
     "metadata": {},
     "output_type": "execute_result"
    }
   ],
   "source": [
    "# 예시\n",
    "import pandas as pd\n",
    "df = pd.read_excel('./data/airQuality/20년9월.xls')\n",
    "df"
   ],
   "metadata": {
    "collapsed": false,
    "ExecuteTime": {
     "end_time": "2023-12-16T07:39:16.483890300Z",
     "start_time": "2023-12-16T07:39:16.404330600Z"
    }
   },
   "id": "7e74894667e49b36"
  },
  {
   "cell_type": "code",
   "execution_count": 23,
   "outputs": [
    {
     "data": {
      "text/plain": "             날짜 PM10 PM2.5    오 존  이산화질소 일산화탄소  아황산가스\ncount       721  536   528    535    535   535    535\nunique      721   61    44     76     40    11     13\ntop     (월-일-시)   25    17  0.034  0.005   0.3  0.002\nfreq          1   34    45     31     41   150    230",
      "text/html": "<div>\n<style scoped>\n    .dataframe tbody tr th:only-of-type {\n        vertical-align: middle;\n    }\n\n    .dataframe tbody tr th {\n        vertical-align: top;\n    }\n\n    .dataframe thead th {\n        text-align: right;\n    }\n</style>\n<table border=\"1\" class=\"dataframe\">\n  <thead>\n    <tr style=\"text-align: right;\">\n      <th></th>\n      <th>날짜</th>\n      <th>PM10</th>\n      <th>PM2.5</th>\n      <th>오 존</th>\n      <th>이산화질소</th>\n      <th>일산화탄소</th>\n      <th>아황산가스</th>\n    </tr>\n  </thead>\n  <tbody>\n    <tr>\n      <th>count</th>\n      <td>721</td>\n      <td>536</td>\n      <td>528</td>\n      <td>535</td>\n      <td>535</td>\n      <td>535</td>\n      <td>535</td>\n    </tr>\n    <tr>\n      <th>unique</th>\n      <td>721</td>\n      <td>61</td>\n      <td>44</td>\n      <td>76</td>\n      <td>40</td>\n      <td>11</td>\n      <td>13</td>\n    </tr>\n    <tr>\n      <th>top</th>\n      <td>(월-일-시)</td>\n      <td>25</td>\n      <td>17</td>\n      <td>0.034</td>\n      <td>0.005</td>\n      <td>0.3</td>\n      <td>0.002</td>\n    </tr>\n    <tr>\n      <th>freq</th>\n      <td>1</td>\n      <td>34</td>\n      <td>45</td>\n      <td>31</td>\n      <td>41</td>\n      <td>150</td>\n      <td>230</td>\n    </tr>\n  </tbody>\n</table>\n</div>"
     },
     "execution_count": 23,
     "metadata": {},
     "output_type": "execute_result"
    }
   ],
   "source": [
    "df.describe()"
   ],
   "metadata": {
    "collapsed": false,
    "ExecuteTime": {
     "end_time": "2023-12-16T07:39:19.768586Z",
     "start_time": "2023-12-16T07:39:19.717867600Z"
    }
   },
   "id": "e88da6e4735817d2"
  },
  {
   "cell_type": "code",
   "execution_count": 24,
   "outputs": [
    {
     "data": {
      "text/plain": "(721, 7)"
     },
     "execution_count": 24,
     "metadata": {},
     "output_type": "execute_result"
    }
   ],
   "source": [
    "df.shape"
   ],
   "metadata": {
    "collapsed": false,
    "ExecuteTime": {
     "end_time": "2023-12-16T07:39:21.296715400Z",
     "start_time": "2023-12-16T07:39:21.265547100Z"
    }
   },
   "id": "119b4ab00bcf0d8c"
  },
  {
   "cell_type": "code",
   "execution_count": 25,
   "outputs": [
    {
     "data": {
      "text/plain": "Index(['날짜', 'PM10', 'PM2.5', '오 존', '이산화질소', '일산화탄소', '아황산가스'], dtype='object')"
     },
     "execution_count": 25,
     "metadata": {},
     "output_type": "execute_result"
    }
   ],
   "source": [
    "df.columns\n",
    "\n",
    "# O3: 오존, NO2 : 이산화질소 CO: 일산화탄소 SO2 : 아황산가스"
   ],
   "metadata": {
    "collapsed": false,
    "ExecuteTime": {
     "end_time": "2023-12-16T07:39:29.087186700Z",
     "start_time": "2023-12-16T07:39:29.046591100Z"
    }
   },
   "id": "34f399102d65016f"
  },
  {
   "cell_type": "code",
   "execution_count": 52,
   "outputs": [
    {
     "data": {
      "text/plain": "           날짜   PM10  PM2.5    오 존  이산화질소  일산화탄소  아황산가스\n0     (월-일-시)  (㎍/㎥)  (㎍/㎥)  (ppm)  (ppm)  (ppm)  (ppm)\n1    10-01-01     29     15  0.043  0.006    0.2  0.002\n2    10-01-02     19     11  0.040  0.006    0.2  0.002\n3    10-01-03     31     17  0.045  0.006    0.2  0.002\n4    10-01-04     29     15  0.042  0.005    0.2  0.002\n..        ...    ...    ...    ...    ...    ...    ...\n740  10-31-20     33     28  0.039  0.016    0.3  0.002\n741  10-31-21     33     21  0.031  0.015    0.3  0.002\n742  10-31-22     29     16  0.032  0.012    0.2  0.002\n743  10-31-23     22     19  0.031  0.011    0.2  0.001\n744  10-31-24     19     14  0.027  0.013    0.2  0.002\n\n[745 rows x 7 columns]",
      "text/html": "<div>\n<style scoped>\n    .dataframe tbody tr th:only-of-type {\n        vertical-align: middle;\n    }\n\n    .dataframe tbody tr th {\n        vertical-align: top;\n    }\n\n    .dataframe thead th {\n        text-align: right;\n    }\n</style>\n<table border=\"1\" class=\"dataframe\">\n  <thead>\n    <tr style=\"text-align: right;\">\n      <th></th>\n      <th>날짜</th>\n      <th>PM10</th>\n      <th>PM2.5</th>\n      <th>오 존</th>\n      <th>이산화질소</th>\n      <th>일산화탄소</th>\n      <th>아황산가스</th>\n    </tr>\n  </thead>\n  <tbody>\n    <tr>\n      <th>0</th>\n      <td>(월-일-시)</td>\n      <td>(㎍/㎥)</td>\n      <td>(㎍/㎥)</td>\n      <td>(ppm)</td>\n      <td>(ppm)</td>\n      <td>(ppm)</td>\n      <td>(ppm)</td>\n    </tr>\n    <tr>\n      <th>1</th>\n      <td>10-01-01</td>\n      <td>29</td>\n      <td>15</td>\n      <td>0.043</td>\n      <td>0.006</td>\n      <td>0.2</td>\n      <td>0.002</td>\n    </tr>\n    <tr>\n      <th>2</th>\n      <td>10-01-02</td>\n      <td>19</td>\n      <td>11</td>\n      <td>0.040</td>\n      <td>0.006</td>\n      <td>0.2</td>\n      <td>0.002</td>\n    </tr>\n    <tr>\n      <th>3</th>\n      <td>10-01-03</td>\n      <td>31</td>\n      <td>17</td>\n      <td>0.045</td>\n      <td>0.006</td>\n      <td>0.2</td>\n      <td>0.002</td>\n    </tr>\n    <tr>\n      <th>4</th>\n      <td>10-01-04</td>\n      <td>29</td>\n      <td>15</td>\n      <td>0.042</td>\n      <td>0.005</td>\n      <td>0.2</td>\n      <td>0.002</td>\n    </tr>\n    <tr>\n      <th>...</th>\n      <td>...</td>\n      <td>...</td>\n      <td>...</td>\n      <td>...</td>\n      <td>...</td>\n      <td>...</td>\n      <td>...</td>\n    </tr>\n    <tr>\n      <th>740</th>\n      <td>10-31-20</td>\n      <td>33</td>\n      <td>28</td>\n      <td>0.039</td>\n      <td>0.016</td>\n      <td>0.3</td>\n      <td>0.002</td>\n    </tr>\n    <tr>\n      <th>741</th>\n      <td>10-31-21</td>\n      <td>33</td>\n      <td>21</td>\n      <td>0.031</td>\n      <td>0.015</td>\n      <td>0.3</td>\n      <td>0.002</td>\n    </tr>\n    <tr>\n      <th>742</th>\n      <td>10-31-22</td>\n      <td>29</td>\n      <td>16</td>\n      <td>0.032</td>\n      <td>0.012</td>\n      <td>0.2</td>\n      <td>0.002</td>\n    </tr>\n    <tr>\n      <th>743</th>\n      <td>10-31-23</td>\n      <td>22</td>\n      <td>19</td>\n      <td>0.031</td>\n      <td>0.011</td>\n      <td>0.2</td>\n      <td>0.001</td>\n    </tr>\n    <tr>\n      <th>744</th>\n      <td>10-31-24</td>\n      <td>19</td>\n      <td>14</td>\n      <td>0.027</td>\n      <td>0.013</td>\n      <td>0.2</td>\n      <td>0.002</td>\n    </tr>\n  </tbody>\n</table>\n<p>745 rows × 7 columns</p>\n</div>"
     },
     "execution_count": 52,
     "metadata": {},
     "output_type": "execute_result"
    }
   ],
   "source": [
    "# 예시\n",
    "\n",
    "df = pd.read_excel('./data/airQuality/20년10월.xls')\n",
    "df"
   ],
   "metadata": {
    "collapsed": false,
    "ExecuteTime": {
     "end_time": "2023-12-15T15:07:46.868211600Z",
     "start_time": "2023-12-15T15:07:46.825871100Z"
    }
   },
   "id": "754cb8c7a79d87f9"
  },
  {
   "cell_type": "code",
   "execution_count": 53,
   "outputs": [
    {
     "data": {
      "text/plain": "(745, 7)"
     },
     "execution_count": 53,
     "metadata": {},
     "output_type": "execute_result"
    }
   ],
   "source": [
    "df.shape"
   ],
   "metadata": {
    "collapsed": false,
    "ExecuteTime": {
     "end_time": "2023-12-15T15:07:50.914109400Z",
     "start_time": "2023-12-15T15:07:50.902211500Z"
    }
   },
   "id": "1ea6533eef1849a"
  },
  {
   "cell_type": "code",
   "execution_count": null,
   "outputs": [],
   "source": [
    "# 예시\n",
    "\n",
    "df = pd.read_excel('./data/airQuality/21년6월.xls')\n",
    "df"
   ],
   "metadata": {
    "collapsed": false
   },
   "id": "e582f74da687e474"
  },
  {
   "cell_type": "markdown",
   "source": [
    "# terminal_operation 데이터 구조\n",
    "- GWCT\n",
    "    - GWCT_202009.csv\n",
    "    - GWCT_202010.csv\n",
    "    - GWCT_202011.csv\n",
    "    - GWCT_202012.csv\n",
    "    - GWCT_2021_first_half.csv\n",
    "- KIT\n",
    "    - KIT_202009.csv\n",
    "    - KIT_202010.csv \n",
    "    - KIT_202011.csv\n",
    "    - KIT_202012.csv\n",
    "    - KIT_2021_first_half.csv\n",
    "- totalTons.xlsx"
   ],
   "metadata": {
    "collapsed": false
   },
   "id": "5709a1cb4ae5bc8b"
  },
  {
   "cell_type": "code",
   "execution_count": 26,
   "outputs": [
    {
     "data": {
      "text/plain": "            차량번호    진입게이트              진입일시     진출게이트              진출일시  \\\n0      경남99바****  4번 GATE  2020-09-01 07:58  10번 GATE  2020-09-01 08:06   \n1      경남99바****  2번 GATE  2020-09-01 07:59   8번 GATE  2020-09-01 08:24   \n2      울산99바****  5번 GATE  2020-09-01 08:00  10번 GATE  2020-09-01 08:28   \n3      광주99바****  2번 GATE  2020-09-01 08:00   8번 GATE  2020-09-01 08:44   \n4      광주99사****  4번 GATE  2020-09-01 08:00  10번 GATE  2020-09-01 08:11   \n...          ...      ...               ...       ...               ...   \n98676  부산99사****  5번 GATE  2020-09-30 19:00   9번 GATE  2020-09-30 19:12   \n98677  전남80바****  4번 GATE  2020-09-30 19:02   9번 GATE  2020-09-30 19:13   \n98678  전남98바****  5번 GATE  2020-09-30 19:21   8번 GATE  2020-09-30 20:48   \n98679  전남98바****  4번 GATE  2020-09-30 19:55   9번 GATE  2020-09-30 20:55   \n98680  전남98바****  4번 GATE  2020-09-30 22:34  10번 GATE  2020-09-30 22:53   \n\n           작업시간   터미널  \n0      00:07:02  GWCT  \n1      00:24:19  GWCT  \n2      00:28:16  GWCT  \n3      00:44:36  GWCT  \n4      00:10:46  GWCT  \n...         ...   ...  \n98676  00:11:55   KIT  \n98677  00:11:03   KIT  \n98678  01:26:30   KIT  \n98679  00:59:57   KIT  \n98680  00:19:12   KIT  \n\n[98681 rows x 7 columns]",
      "text/html": "<div>\n<style scoped>\n    .dataframe tbody tr th:only-of-type {\n        vertical-align: middle;\n    }\n\n    .dataframe tbody tr th {\n        vertical-align: top;\n    }\n\n    .dataframe thead th {\n        text-align: right;\n    }\n</style>\n<table border=\"1\" class=\"dataframe\">\n  <thead>\n    <tr style=\"text-align: right;\">\n      <th></th>\n      <th>차량번호</th>\n      <th>진입게이트</th>\n      <th>진입일시</th>\n      <th>진출게이트</th>\n      <th>진출일시</th>\n      <th>작업시간</th>\n      <th>터미널</th>\n    </tr>\n  </thead>\n  <tbody>\n    <tr>\n      <th>0</th>\n      <td>경남99바****</td>\n      <td>4번 GATE</td>\n      <td>2020-09-01 07:58</td>\n      <td>10번 GATE</td>\n      <td>2020-09-01 08:06</td>\n      <td>00:07:02</td>\n      <td>GWCT</td>\n    </tr>\n    <tr>\n      <th>1</th>\n      <td>경남99바****</td>\n      <td>2번 GATE</td>\n      <td>2020-09-01 07:59</td>\n      <td>8번 GATE</td>\n      <td>2020-09-01 08:24</td>\n      <td>00:24:19</td>\n      <td>GWCT</td>\n    </tr>\n    <tr>\n      <th>2</th>\n      <td>울산99바****</td>\n      <td>5번 GATE</td>\n      <td>2020-09-01 08:00</td>\n      <td>10번 GATE</td>\n      <td>2020-09-01 08:28</td>\n      <td>00:28:16</td>\n      <td>GWCT</td>\n    </tr>\n    <tr>\n      <th>3</th>\n      <td>광주99바****</td>\n      <td>2번 GATE</td>\n      <td>2020-09-01 08:00</td>\n      <td>8번 GATE</td>\n      <td>2020-09-01 08:44</td>\n      <td>00:44:36</td>\n      <td>GWCT</td>\n    </tr>\n    <tr>\n      <th>4</th>\n      <td>광주99사****</td>\n      <td>4번 GATE</td>\n      <td>2020-09-01 08:00</td>\n      <td>10번 GATE</td>\n      <td>2020-09-01 08:11</td>\n      <td>00:10:46</td>\n      <td>GWCT</td>\n    </tr>\n    <tr>\n      <th>...</th>\n      <td>...</td>\n      <td>...</td>\n      <td>...</td>\n      <td>...</td>\n      <td>...</td>\n      <td>...</td>\n      <td>...</td>\n    </tr>\n    <tr>\n      <th>98676</th>\n      <td>부산99사****</td>\n      <td>5번 GATE</td>\n      <td>2020-09-30 19:00</td>\n      <td>9번 GATE</td>\n      <td>2020-09-30 19:12</td>\n      <td>00:11:55</td>\n      <td>KIT</td>\n    </tr>\n    <tr>\n      <th>98677</th>\n      <td>전남80바****</td>\n      <td>4번 GATE</td>\n      <td>2020-09-30 19:02</td>\n      <td>9번 GATE</td>\n      <td>2020-09-30 19:13</td>\n      <td>00:11:03</td>\n      <td>KIT</td>\n    </tr>\n    <tr>\n      <th>98678</th>\n      <td>전남98바****</td>\n      <td>5번 GATE</td>\n      <td>2020-09-30 19:21</td>\n      <td>8번 GATE</td>\n      <td>2020-09-30 20:48</td>\n      <td>01:26:30</td>\n      <td>KIT</td>\n    </tr>\n    <tr>\n      <th>98679</th>\n      <td>전남98바****</td>\n      <td>4번 GATE</td>\n      <td>2020-09-30 19:55</td>\n      <td>9번 GATE</td>\n      <td>2020-09-30 20:55</td>\n      <td>00:59:57</td>\n      <td>KIT</td>\n    </tr>\n    <tr>\n      <th>98680</th>\n      <td>전남98바****</td>\n      <td>4번 GATE</td>\n      <td>2020-09-30 22:34</td>\n      <td>10번 GATE</td>\n      <td>2020-09-30 22:53</td>\n      <td>00:19:12</td>\n      <td>KIT</td>\n    </tr>\n  </tbody>\n</table>\n<p>98681 rows × 7 columns</p>\n</div>"
     },
     "execution_count": 26,
     "metadata": {},
     "output_type": "execute_result"
    }
   ],
   "source": [
    "# 예)\n",
    "\n",
    "df = pd.read_csv('./daTruck_data_processing.ipynbta/terminal_operation/GWCT/GWCT_202009.csv', encoding=\"cp949\")\n",
    "df"
   ],
   "metadata": {
    "collapsed": false,
    "ExecuteTime": {
     "end_time": "2023-12-16T08:00:31.400940200Z",
     "start_time": "2023-12-16T08:00:31.059815Z"
    }
   },
   "id": "d641de4342cb698a"
  },
  {
   "cell_type": "code",
   "execution_count": 32,
   "outputs": [
    {
     "name": "stdout",
     "output_type": "stream",
     "text": [
      "            차량번호    진입게이트              진입일시     진출게이트              진출일시  \\\n",
      "0      경남99바****  4번 GATE  2020-09-01 07:58  10번 GATE  2020-09-01 08:06   \n",
      "1      경남99바****  2번 GATE  2020-09-01 07:59   8번 GATE  2020-09-01 08:24   \n",
      "2      울산99바****  5번 GATE  2020-09-01 08:00  10번 GATE  2020-09-01 08:28   \n",
      "3      광주99바****  2번 GATE  2020-09-01 08:00   8번 GATE  2020-09-01 08:44   \n",
      "4      광주99사****  4번 GATE  2020-09-01 08:00  10번 GATE  2020-09-01 08:11   \n",
      "...          ...      ...               ...       ...               ...   \n",
      "98676  부산99사****  5번 GATE  2020-09-30 19:00   9번 GATE  2020-09-30 19:12   \n",
      "98677  전남80바****  4번 GATE  2020-09-30 19:02   9번 GATE  2020-09-30 19:13   \n",
      "98678  전남98바****  5번 GATE  2020-09-30 19:21   8번 GATE  2020-09-30 20:48   \n",
      "98679  전남98바****  4번 GATE  2020-09-30 19:55   9번 GATE  2020-09-30 20:55   \n",
      "98680  전남98바****  4번 GATE  2020-09-30 22:34  10번 GATE  2020-09-30 22:53   \n",
      "\n",
      "           작업시간   터미널  \n",
      "0      00:07:02  GWCT  \n",
      "1      00:24:19  GWCT  \n",
      "2      00:28:16  GWCT  \n",
      "3      00:44:36  GWCT  \n",
      "4      00:10:46  GWCT  \n",
      "...         ...   ...  \n",
      "98676  00:11:55   KIT  \n",
      "98677  00:11:03   KIT  \n",
      "98678  01:26:30   KIT  \n",
      "98679  00:59:57   KIT  \n",
      "98680  00:19:12   KIT  \n",
      "\n",
      "[98681 rows x 7 columns]\n"
     ]
    }
   ],
   "source": [
    "import pandas as pd\n",
    "\n",
    "pd.set_option('display.max_rows', 20)\n",
    "\n",
    "print(df)"
   ],
   "metadata": {
    "collapsed": false,
    "ExecuteTime": {
     "end_time": "2023-12-16T08:02:22.610205600Z",
     "start_time": "2023-12-16T08:02:22.544791900Z"
    }
   },
   "id": "d5f33e67e0d9a822"
  },
  {
   "cell_type": "code",
   "execution_count": null,
   "outputs": [],
   "source": [],
   "metadata": {
    "collapsed": false
   },
   "id": "220c09d9f623b259"
  },
  {
   "cell_type": "code",
   "execution_count": 57,
   "outputs": [
    {
     "data": {
      "text/plain": "            차량번호    진입게이트              진입일시     진출게이트              진출일시  \\\n98661  전남98바****  5번 GATE  2020-09-30 15:43   9번 GATE  2020-09-30 16:35   \n98662  전남98사****  1번 GATE  2020-09-30 15:48   8번 GATE  2020-09-30 16:13   \n98663  경남99사****  4번 GATE  2020-09-30 15:55  10번 GATE  2020-09-30 16:27   \n98664  전북99사****  4번 GATE  2020-09-30 16:10  10번 GATE  2020-09-30 16:31   \n98665  광주99사****  4번 GATE  2020-09-30 16:14   8번 GATE  2020-09-30 16:54   \n98666  광주98아****  5번 GATE  2020-09-30 16:20   8번 GATE  2020-09-30 16:21   \n98667  광주98자****  4번 GATE  2020-09-30 16:20   8번 GATE  2020-09-30 16:21   \n98668  광주98사****  4번 GATE  2020-09-30 16:21   9번 GATE  2020-09-30 16:22   \n98669  전북98사****  1번 GATE  2020-09-30 16:43  10번 GATE  2020-09-30 17:07   \n98670  광주99사****  4번 GATE  2020-09-30 17:02   8번 GATE  2020-09-30 17:35   \n98671  전남98사****  5번 GATE  2020-09-30 17:07   8번 GATE  2020-09-30 17:18   \n98672  부산99바****  1번 GATE  2020-09-30 17:34  10번 GATE  2020-09-30 18:12   \n98673  부산99사****  1번 GATE  2020-09-30 17:35  10번 GATE  2020-09-30 18:14   \n98674  광주99사****  4번 GATE  2020-09-30 17:37   8번 GATE  2020-09-30 18:26   \n98675  부산99바****  5번 GATE  2020-09-30 19:00  10번 GATE  2020-09-30 19:08   \n98676  부산99사****  5번 GATE  2020-09-30 19:00   9번 GATE  2020-09-30 19:12   \n98677  전남80바****  4번 GATE  2020-09-30 19:02   9번 GATE  2020-09-30 19:13   \n98678  전남98바****  5번 GATE  2020-09-30 19:21   8번 GATE  2020-09-30 20:48   \n98679  전남98바****  4번 GATE  2020-09-30 19:55   9번 GATE  2020-09-30 20:55   \n98680  전남98바****  4번 GATE  2020-09-30 22:34  10번 GATE  2020-09-30 22:53   \n\n           작업시간  터미널  \n98661  00:51:40  KIT  \n98662  00:24:55  KIT  \n98663  00:31:47  KIT  \n98664  00:20:33  KIT  \n98665  00:40:10  KIT  \n98666  00:00:28  KIT  \n98667  00:00:31  KIT  \n98668  00:01:13  KIT  \n98669  00:23:31  KIT  \n98670  00:33:14  KIT  \n98671  00:10:31  KIT  \n98672  00:37:47  KIT  \n98673  00:38:57  KIT  \n98674  00:48:55  KIT  \n98675  00:08:02  KIT  \n98676  00:11:55  KIT  \n98677  00:11:03  KIT  \n98678  01:26:30  KIT  \n98679  00:59:57  KIT  \n98680  00:19:12  KIT  ",
      "text/html": "<div>\n<style scoped>\n    .dataframe tbody tr th:only-of-type {\n        vertical-align: middle;\n    }\n\n    .dataframe tbody tr th {\n        vertical-align: top;\n    }\n\n    .dataframe thead th {\n        text-align: right;\n    }\n</style>\n<table border=\"1\" class=\"dataframe\">\n  <thead>\n    <tr style=\"text-align: right;\">\n      <th></th>\n      <th>차량번호</th>\n      <th>진입게이트</th>\n      <th>진입일시</th>\n      <th>진출게이트</th>\n      <th>진출일시</th>\n      <th>작업시간</th>\n      <th>터미널</th>\n    </tr>\n  </thead>\n  <tbody>\n    <tr>\n      <th>98661</th>\n      <td>전남98바****</td>\n      <td>5번 GATE</td>\n      <td>2020-09-30 15:43</td>\n      <td>9번 GATE</td>\n      <td>2020-09-30 16:35</td>\n      <td>00:51:40</td>\n      <td>KIT</td>\n    </tr>\n    <tr>\n      <th>98662</th>\n      <td>전남98사****</td>\n      <td>1번 GATE</td>\n      <td>2020-09-30 15:48</td>\n      <td>8번 GATE</td>\n      <td>2020-09-30 16:13</td>\n      <td>00:24:55</td>\n      <td>KIT</td>\n    </tr>\n    <tr>\n      <th>98663</th>\n      <td>경남99사****</td>\n      <td>4번 GATE</td>\n      <td>2020-09-30 15:55</td>\n      <td>10번 GATE</td>\n      <td>2020-09-30 16:27</td>\n      <td>00:31:47</td>\n      <td>KIT</td>\n    </tr>\n    <tr>\n      <th>98664</th>\n      <td>전북99사****</td>\n      <td>4번 GATE</td>\n      <td>2020-09-30 16:10</td>\n      <td>10번 GATE</td>\n      <td>2020-09-30 16:31</td>\n      <td>00:20:33</td>\n      <td>KIT</td>\n    </tr>\n    <tr>\n      <th>98665</th>\n      <td>광주99사****</td>\n      <td>4번 GATE</td>\n      <td>2020-09-30 16:14</td>\n      <td>8번 GATE</td>\n      <td>2020-09-30 16:54</td>\n      <td>00:40:10</td>\n      <td>KIT</td>\n    </tr>\n    <tr>\n      <th>98666</th>\n      <td>광주98아****</td>\n      <td>5번 GATE</td>\n      <td>2020-09-30 16:20</td>\n      <td>8번 GATE</td>\n      <td>2020-09-30 16:21</td>\n      <td>00:00:28</td>\n      <td>KIT</td>\n    </tr>\n    <tr>\n      <th>98667</th>\n      <td>광주98자****</td>\n      <td>4번 GATE</td>\n      <td>2020-09-30 16:20</td>\n      <td>8번 GATE</td>\n      <td>2020-09-30 16:21</td>\n      <td>00:00:31</td>\n      <td>KIT</td>\n    </tr>\n    <tr>\n      <th>98668</th>\n      <td>광주98사****</td>\n      <td>4번 GATE</td>\n      <td>2020-09-30 16:21</td>\n      <td>9번 GATE</td>\n      <td>2020-09-30 16:22</td>\n      <td>00:01:13</td>\n      <td>KIT</td>\n    </tr>\n    <tr>\n      <th>98669</th>\n      <td>전북98사****</td>\n      <td>1번 GATE</td>\n      <td>2020-09-30 16:43</td>\n      <td>10번 GATE</td>\n      <td>2020-09-30 17:07</td>\n      <td>00:23:31</td>\n      <td>KIT</td>\n    </tr>\n    <tr>\n      <th>98670</th>\n      <td>광주99사****</td>\n      <td>4번 GATE</td>\n      <td>2020-09-30 17:02</td>\n      <td>8번 GATE</td>\n      <td>2020-09-30 17:35</td>\n      <td>00:33:14</td>\n      <td>KIT</td>\n    </tr>\n    <tr>\n      <th>98671</th>\n      <td>전남98사****</td>\n      <td>5번 GATE</td>\n      <td>2020-09-30 17:07</td>\n      <td>8번 GATE</td>\n      <td>2020-09-30 17:18</td>\n      <td>00:10:31</td>\n      <td>KIT</td>\n    </tr>\n    <tr>\n      <th>98672</th>\n      <td>부산99바****</td>\n      <td>1번 GATE</td>\n      <td>2020-09-30 17:34</td>\n      <td>10번 GATE</td>\n      <td>2020-09-30 18:12</td>\n      <td>00:37:47</td>\n      <td>KIT</td>\n    </tr>\n    <tr>\n      <th>98673</th>\n      <td>부산99사****</td>\n      <td>1번 GATE</td>\n      <td>2020-09-30 17:35</td>\n      <td>10번 GATE</td>\n      <td>2020-09-30 18:14</td>\n      <td>00:38:57</td>\n      <td>KIT</td>\n    </tr>\n    <tr>\n      <th>98674</th>\n      <td>광주99사****</td>\n      <td>4번 GATE</td>\n      <td>2020-09-30 17:37</td>\n      <td>8번 GATE</td>\n      <td>2020-09-30 18:26</td>\n      <td>00:48:55</td>\n      <td>KIT</td>\n    </tr>\n    <tr>\n      <th>98675</th>\n      <td>부산99바****</td>\n      <td>5번 GATE</td>\n      <td>2020-09-30 19:00</td>\n      <td>10번 GATE</td>\n      <td>2020-09-30 19:08</td>\n      <td>00:08:02</td>\n      <td>KIT</td>\n    </tr>\n    <tr>\n      <th>98676</th>\n      <td>부산99사****</td>\n      <td>5번 GATE</td>\n      <td>2020-09-30 19:00</td>\n      <td>9번 GATE</td>\n      <td>2020-09-30 19:12</td>\n      <td>00:11:55</td>\n      <td>KIT</td>\n    </tr>\n    <tr>\n      <th>98677</th>\n      <td>전남80바****</td>\n      <td>4번 GATE</td>\n      <td>2020-09-30 19:02</td>\n      <td>9번 GATE</td>\n      <td>2020-09-30 19:13</td>\n      <td>00:11:03</td>\n      <td>KIT</td>\n    </tr>\n    <tr>\n      <th>98678</th>\n      <td>전남98바****</td>\n      <td>5번 GATE</td>\n      <td>2020-09-30 19:21</td>\n      <td>8번 GATE</td>\n      <td>2020-09-30 20:48</td>\n      <td>01:26:30</td>\n      <td>KIT</td>\n    </tr>\n    <tr>\n      <th>98679</th>\n      <td>전남98바****</td>\n      <td>4번 GATE</td>\n      <td>2020-09-30 19:55</td>\n      <td>9번 GATE</td>\n      <td>2020-09-30 20:55</td>\n      <td>00:59:57</td>\n      <td>KIT</td>\n    </tr>\n    <tr>\n      <th>98680</th>\n      <td>전남98바****</td>\n      <td>4번 GATE</td>\n      <td>2020-09-30 22:34</td>\n      <td>10번 GATE</td>\n      <td>2020-09-30 22:53</td>\n      <td>00:19:12</td>\n      <td>KIT</td>\n    </tr>\n  </tbody>\n</table>\n</div>"
     },
     "execution_count": 57,
     "metadata": {},
     "output_type": "execute_result"
    }
   ],
   "source": [
    "df.tail(20)"
   ],
   "metadata": {
    "collapsed": false,
    "ExecuteTime": {
     "end_time": "2023-12-15T15:26:23.130935400Z",
     "start_time": "2023-12-15T15:26:23.053323400Z"
    }
   },
   "id": "50152436fb531c29"
  },
  {
   "cell_type": "code",
   "execution_count": 4,
   "outputs": [
    {
     "data": {
      "text/plain": "             차량번호    진입게이트                 진입일시     진출게이트  \\\n0       전남98사****  5번 GATE  2021-01-05 13:15:18   9번 GATE   \n1       부산98바****  4번 GATE  2021-01-05 13:15:20  10번 GATE   \n2       경남99바****  5번 GATE  2021-01-05 13:15:38   9번 GATE   \n3       전남98사****  3번 GATE  2021-01-05 13:15:55  10번 GATE   \n4       경북98아****  4번 GATE  2021-01-05 13:15:56  10번 GATE   \n...           ...      ...                  ...       ...   \n203648  전북98사****  4번 GATE  2021-06-30 21:54:09  10번 GATE   \n203649  전남98아****  4번 GATE  2021-06-30 22:24:48  10번 GATE   \n203650  광주99바****  4번 GATE  2021-06-30 22:27:05  10번 GATE   \n203651  전북98사****  4번 GATE  2021-06-30 23:01:38  10번 GATE   \n203652  경기98아****  4번 GATE  2021-06-30 23:11:19  10번 GATE   \n\n                       진출일시   작업시간  \n0       2021-01-05 13:46:21  31:03  \n1       2021-01-05 13:36:41  21:21  \n2       2021-01-05 13:32:13  16:35  \n3       2021-01-05 13:40:27  24:32  \n4       2021-01-05 13:50:16  34:20  \n...                     ...    ...  \n203648  2021-06-30 22:20:24  26:15  \n203649  2021-06-30 22:40:10  15:22  \n203650  2021-06-30 22:48:49  21:44  \n203651  2021-06-30 23:19:12  17:34  \n203652  2021-06-30 23:31:42  20:23  \n\n[203653 rows x 6 columns]",
      "text/html": "<div>\n<style scoped>\n    .dataframe tbody tr th:only-of-type {\n        vertical-align: middle;\n    }\n\n    .dataframe tbody tr th {\n        vertical-align: top;\n    }\n\n    .dataframe thead th {\n        text-align: right;\n    }\n</style>\n<table border=\"1\" class=\"dataframe\">\n  <thead>\n    <tr style=\"text-align: right;\">\n      <th></th>\n      <th>차량번호</th>\n      <th>진입게이트</th>\n      <th>진입일시</th>\n      <th>진출게이트</th>\n      <th>진출일시</th>\n      <th>작업시간</th>\n    </tr>\n  </thead>\n  <tbody>\n    <tr>\n      <th>0</th>\n      <td>전남98사****</td>\n      <td>5번 GATE</td>\n      <td>2021-01-05 13:15:18</td>\n      <td>9번 GATE</td>\n      <td>2021-01-05 13:46:21</td>\n      <td>31:03</td>\n    </tr>\n    <tr>\n      <th>1</th>\n      <td>부산98바****</td>\n      <td>4번 GATE</td>\n      <td>2021-01-05 13:15:20</td>\n      <td>10번 GATE</td>\n      <td>2021-01-05 13:36:41</td>\n      <td>21:21</td>\n    </tr>\n    <tr>\n      <th>2</th>\n      <td>경남99바****</td>\n      <td>5번 GATE</td>\n      <td>2021-01-05 13:15:38</td>\n      <td>9번 GATE</td>\n      <td>2021-01-05 13:32:13</td>\n      <td>16:35</td>\n    </tr>\n    <tr>\n      <th>3</th>\n      <td>전남98사****</td>\n      <td>3번 GATE</td>\n      <td>2021-01-05 13:15:55</td>\n      <td>10번 GATE</td>\n      <td>2021-01-05 13:40:27</td>\n      <td>24:32</td>\n    </tr>\n    <tr>\n      <th>4</th>\n      <td>경북98아****</td>\n      <td>4번 GATE</td>\n      <td>2021-01-05 13:15:56</td>\n      <td>10번 GATE</td>\n      <td>2021-01-05 13:50:16</td>\n      <td>34:20</td>\n    </tr>\n    <tr>\n      <th>...</th>\n      <td>...</td>\n      <td>...</td>\n      <td>...</td>\n      <td>...</td>\n      <td>...</td>\n      <td>...</td>\n    </tr>\n    <tr>\n      <th>203648</th>\n      <td>전북98사****</td>\n      <td>4번 GATE</td>\n      <td>2021-06-30 21:54:09</td>\n      <td>10번 GATE</td>\n      <td>2021-06-30 22:20:24</td>\n      <td>26:15</td>\n    </tr>\n    <tr>\n      <th>203649</th>\n      <td>전남98아****</td>\n      <td>4번 GATE</td>\n      <td>2021-06-30 22:24:48</td>\n      <td>10번 GATE</td>\n      <td>2021-06-30 22:40:10</td>\n      <td>15:22</td>\n    </tr>\n    <tr>\n      <th>203650</th>\n      <td>광주99바****</td>\n      <td>4번 GATE</td>\n      <td>2021-06-30 22:27:05</td>\n      <td>10번 GATE</td>\n      <td>2021-06-30 22:48:49</td>\n      <td>21:44</td>\n    </tr>\n    <tr>\n      <th>203651</th>\n      <td>전북98사****</td>\n      <td>4번 GATE</td>\n      <td>2021-06-30 23:01:38</td>\n      <td>10번 GATE</td>\n      <td>2021-06-30 23:19:12</td>\n      <td>17:34</td>\n    </tr>\n    <tr>\n      <th>203652</th>\n      <td>경기98아****</td>\n      <td>4번 GATE</td>\n      <td>2021-06-30 23:11:19</td>\n      <td>10번 GATE</td>\n      <td>2021-06-30 23:31:42</td>\n      <td>20:23</td>\n    </tr>\n  </tbody>\n</table>\n<p>203653 rows × 6 columns</p>\n</div>"
     },
     "execution_count": 4,
     "metadata": {},
     "output_type": "execute_result"
    }
   ],
   "source": [
    "# 예)\n",
    "import pandas as pd\n",
    "df = pd.read_csv('./data/terminal_operation/KIT/KIT_2021_first_half.csv', encoding=\"utf-8\")\n",
    "df"
   ],
   "metadata": {
    "collapsed": false,
    "ExecuteTime": {
     "end_time": "2023-12-16T06:56:56.958618600Z",
     "start_time": "2023-12-16T06:56:55.406554200Z"
    }
   },
   "id": "513da1caf3e12ea8"
  },
  {
   "cell_type": "code",
   "execution_count": 60,
   "outputs": [
    {
     "data": {
      "text/plain": "             차량번호    진입게이트                 진입일시     진출게이트  \\\n203633  광주99바****  4번 GATE  2021-06-30 21:09:06  10번 GATE   \n203634  전남98바****  1번 GATE  2021-06-30 21:09:41  10번 GATE   \n203635  인천99바****  4번 GATE  2021-06-30 21:10:00  10번 GATE   \n203636  충남98사****  5번 GATE  2021-06-30 21:10:16   9번 GATE   \n203637  광주98자****  4번 GATE  2021-06-30 21:11:23   8번 GATE   \n203638  전북98사****  5번 GATE  2021-06-30 21:12:22   8번 GATE   \n203639  경기99사****  4번 GATE  2021-06-30 21:12:35   8번 GATE   \n203640  전남98사****  4번 GATE  2021-06-30 21:15:17   9번 GATE   \n203641  전남98바****  5번 GATE  2021-06-30 21:15:31  10번 GATE   \n203642  전남98사****  4번 GATE  2021-06-30 21:16:23  10번 GATE   \n203643  경기98아****  5번 GATE  2021-06-30 21:16:27  10번 GATE   \n203644  광주98자****  4번 GATE  2021-06-30 21:16:53   9번 GATE   \n203645  전남98바****  4번 GATE  2021-06-30 21:25:45  10번 GATE   \n203646  전남98바****  4번 GATE  2021-06-30 21:35:56   8번 GATE   \n203647  경기98자****  5번 GATE  2021-06-30 21:37:51   8번 GATE   \n203648  전북98사****  4번 GATE  2021-06-30 21:54:09  10번 GATE   \n203649  전남98아****  4번 GATE  2021-06-30 22:24:48  10번 GATE   \n203650  광주99바****  4번 GATE  2021-06-30 22:27:05  10번 GATE   \n203651  전북98사****  4번 GATE  2021-06-30 23:01:38  10번 GATE   \n203652  경기98아****  4번 GATE  2021-06-30 23:11:19  10번 GATE   \n\n                       진출일시      작업시간  \n203633  2021-06-30 21:43:02     33:56  \n203634  2021-06-30 22:23:00  01:13:19  \n203635  2021-06-30 21:19:27     09:27  \n203636  2021-06-30 21:18:38     08:22  \n203637  2021-06-30 21:14:18     02:55  \n203638  2021-06-30 22:07:24     55:02  \n203639  2021-06-30 21:53:35     41:00  \n203640  2021-06-30 21:25:45     10:28  \n203641  2021-06-30 21:48:21     32:50  \n203642  2021-06-30 21:46:38     30:15  \n203643  2021-06-30 22:13:42     57:15  \n203644  2021-06-30 21:31:47     14:54  \n203645  2021-06-30 21:37:55     12:10  \n203646  2021-06-30 21:58:52     22:56  \n203647  2021-06-30 22:39:06  01:01:15  \n203648  2021-06-30 22:20:24     26:15  \n203649  2021-06-30 22:40:10     15:22  \n203650  2021-06-30 22:48:49     21:44  \n203651  2021-06-30 23:19:12     17:34  \n203652  2021-06-30 23:31:42     20:23  ",
      "text/html": "<div>\n<style scoped>\n    .dataframe tbody tr th:only-of-type {\n        vertical-align: middle;\n    }\n\n    .dataframe tbody tr th {\n        vertical-align: top;\n    }\n\n    .dataframe thead th {\n        text-align: right;\n    }\n</style>\n<table border=\"1\" class=\"dataframe\">\n  <thead>\n    <tr style=\"text-align: right;\">\n      <th></th>\n      <th>차량번호</th>\n      <th>진입게이트</th>\n      <th>진입일시</th>\n      <th>진출게이트</th>\n      <th>진출일시</th>\n      <th>작업시간</th>\n    </tr>\n  </thead>\n  <tbody>\n    <tr>\n      <th>203633</th>\n      <td>광주99바****</td>\n      <td>4번 GATE</td>\n      <td>2021-06-30 21:09:06</td>\n      <td>10번 GATE</td>\n      <td>2021-06-30 21:43:02</td>\n      <td>33:56</td>\n    </tr>\n    <tr>\n      <th>203634</th>\n      <td>전남98바****</td>\n      <td>1번 GATE</td>\n      <td>2021-06-30 21:09:41</td>\n      <td>10번 GATE</td>\n      <td>2021-06-30 22:23:00</td>\n      <td>01:13:19</td>\n    </tr>\n    <tr>\n      <th>203635</th>\n      <td>인천99바****</td>\n      <td>4번 GATE</td>\n      <td>2021-06-30 21:10:00</td>\n      <td>10번 GATE</td>\n      <td>2021-06-30 21:19:27</td>\n      <td>09:27</td>\n    </tr>\n    <tr>\n      <th>203636</th>\n      <td>충남98사****</td>\n      <td>5번 GATE</td>\n      <td>2021-06-30 21:10:16</td>\n      <td>9번 GATE</td>\n      <td>2021-06-30 21:18:38</td>\n      <td>08:22</td>\n    </tr>\n    <tr>\n      <th>203637</th>\n      <td>광주98자****</td>\n      <td>4번 GATE</td>\n      <td>2021-06-30 21:11:23</td>\n      <td>8번 GATE</td>\n      <td>2021-06-30 21:14:18</td>\n      <td>02:55</td>\n    </tr>\n    <tr>\n      <th>203638</th>\n      <td>전북98사****</td>\n      <td>5번 GATE</td>\n      <td>2021-06-30 21:12:22</td>\n      <td>8번 GATE</td>\n      <td>2021-06-30 22:07:24</td>\n      <td>55:02</td>\n    </tr>\n    <tr>\n      <th>203639</th>\n      <td>경기99사****</td>\n      <td>4번 GATE</td>\n      <td>2021-06-30 21:12:35</td>\n      <td>8번 GATE</td>\n      <td>2021-06-30 21:53:35</td>\n      <td>41:00</td>\n    </tr>\n    <tr>\n      <th>203640</th>\n      <td>전남98사****</td>\n      <td>4번 GATE</td>\n      <td>2021-06-30 21:15:17</td>\n      <td>9번 GATE</td>\n      <td>2021-06-30 21:25:45</td>\n      <td>10:28</td>\n    </tr>\n    <tr>\n      <th>203641</th>\n      <td>전남98바****</td>\n      <td>5번 GATE</td>\n      <td>2021-06-30 21:15:31</td>\n      <td>10번 GATE</td>\n      <td>2021-06-30 21:48:21</td>\n      <td>32:50</td>\n    </tr>\n    <tr>\n      <th>203642</th>\n      <td>전남98사****</td>\n      <td>4번 GATE</td>\n      <td>2021-06-30 21:16:23</td>\n      <td>10번 GATE</td>\n      <td>2021-06-30 21:46:38</td>\n      <td>30:15</td>\n    </tr>\n    <tr>\n      <th>203643</th>\n      <td>경기98아****</td>\n      <td>5번 GATE</td>\n      <td>2021-06-30 21:16:27</td>\n      <td>10번 GATE</td>\n      <td>2021-06-30 22:13:42</td>\n      <td>57:15</td>\n    </tr>\n    <tr>\n      <th>203644</th>\n      <td>광주98자****</td>\n      <td>4번 GATE</td>\n      <td>2021-06-30 21:16:53</td>\n      <td>9번 GATE</td>\n      <td>2021-06-30 21:31:47</td>\n      <td>14:54</td>\n    </tr>\n    <tr>\n      <th>203645</th>\n      <td>전남98바****</td>\n      <td>4번 GATE</td>\n      <td>2021-06-30 21:25:45</td>\n      <td>10번 GATE</td>\n      <td>2021-06-30 21:37:55</td>\n      <td>12:10</td>\n    </tr>\n    <tr>\n      <th>203646</th>\n      <td>전남98바****</td>\n      <td>4번 GATE</td>\n      <td>2021-06-30 21:35:56</td>\n      <td>8번 GATE</td>\n      <td>2021-06-30 21:58:52</td>\n      <td>22:56</td>\n    </tr>\n    <tr>\n      <th>203647</th>\n      <td>경기98자****</td>\n      <td>5번 GATE</td>\n      <td>2021-06-30 21:37:51</td>\n      <td>8번 GATE</td>\n      <td>2021-06-30 22:39:06</td>\n      <td>01:01:15</td>\n    </tr>\n    <tr>\n      <th>203648</th>\n      <td>전북98사****</td>\n      <td>4번 GATE</td>\n      <td>2021-06-30 21:54:09</td>\n      <td>10번 GATE</td>\n      <td>2021-06-30 22:20:24</td>\n      <td>26:15</td>\n    </tr>\n    <tr>\n      <th>203649</th>\n      <td>전남98아****</td>\n      <td>4번 GATE</td>\n      <td>2021-06-30 22:24:48</td>\n      <td>10번 GATE</td>\n      <td>2021-06-30 22:40:10</td>\n      <td>15:22</td>\n    </tr>\n    <tr>\n      <th>203650</th>\n      <td>광주99바****</td>\n      <td>4번 GATE</td>\n      <td>2021-06-30 22:27:05</td>\n      <td>10번 GATE</td>\n      <td>2021-06-30 22:48:49</td>\n      <td>21:44</td>\n    </tr>\n    <tr>\n      <th>203651</th>\n      <td>전북98사****</td>\n      <td>4번 GATE</td>\n      <td>2021-06-30 23:01:38</td>\n      <td>10번 GATE</td>\n      <td>2021-06-30 23:19:12</td>\n      <td>17:34</td>\n    </tr>\n    <tr>\n      <th>203652</th>\n      <td>경기98아****</td>\n      <td>4번 GATE</td>\n      <td>2021-06-30 23:11:19</td>\n      <td>10번 GATE</td>\n      <td>2021-06-30 23:31:42</td>\n      <td>20:23</td>\n    </tr>\n  </tbody>\n</table>\n</div>"
     },
     "execution_count": 60,
     "metadata": {},
     "output_type": "execute_result"
    }
   ],
   "source": [
    "df.tail(20)"
   ],
   "metadata": {
    "collapsed": false,
    "ExecuteTime": {
     "end_time": "2023-12-15T15:27:33.484701900Z",
     "start_time": "2023-12-15T15:27:33.419435200Z"
    }
   },
   "id": "2ddfb454642f3e03"
  },
  {
   "cell_type": "code",
   "execution_count": 6,
   "outputs": [
    {
     "name": "stderr",
     "output_type": "stream",
     "text": [
      "C:\\Users\\uijin\\AppData\\Local\\anaconda3\\Lib\\site-packages\\openpyxl\\styles\\stylesheet.py:226: UserWarning: Workbook contains no default style, apply openpyxl's default\n",
      "  warn(\"Workbook contains no default style, apply openpyxl's default\")\n"
     ]
    },
    {
     "data": {
      "text/plain": "       항명       호출부호            선명  입항횟수  입항횟수.1  구분  외내  입출     총톤수  \\\n0      광양     100148        티에스해피호  2019      32  최종  내항  출항   3,407   \n1      광양     203402    더블유에스-2701  2020       2  최종  내항  출항      64   \n2      광양      3EVV6  SPINNAKER SW  2020       1  최종  외항  출항  19,836   \n3      광양  500HANJIN         한진그린호  2020       9  최종  내항  출항   9,571   \n4      광양       D9KX           적봉호  2020       8  최종  내항  출항     511   \n...    ..        ...           ...   ...     ...  ..  ..  ..     ...   \n19198  광양       D7WG         HECAN  2021       1  최종  외항  출항   9,858   \n19199  광양      3FRF8   SONG YUN HE  2021      20  최종  외항  입항  16,737   \n19200  광양     050601    HALLA NO.2  2021       7  최종  내항  입항   4,881   \n19201  광양      D5RD6        HUI DA  2021       9  최종  외항  입항   9,553   \n19202  광양     150073           아라호  2021      26  최종  내항  입항     190   \n\n                   입항일시  ...           차항지        전출항지      선박용도  \\\n0      2019-11-30 11:20  ...           기타항         기타항  산물선(벌크선)   \n1      2020-08-03 09:00  ...            군산          군산       기타선   \n2      2020-08-19 03:24  ...  LAEM CHABANG  NANTONG PT  산물선(벌크선)   \n3      2020-08-20 06:50  ...           기타항         기타항     석탄운반선   \n4      2020-08-21 04:30  ...           기타항         기타항     견인용예선   \n...                 ...  ...           ...         ...       ...   \n19198  2021-06-30 19:26  ...            인천          부산    풀컨테이너선   \n19199  2021-06-30 20:10  ...            부산    SHANGHAI    풀컨테이너선   \n19200  2021-06-30 21:30  ...            인천         옥계항    시멘트운반선   \n19201  2021-06-30 22:10  ...  ZHANGJIAGANG  JINZHOU PT  산물선(벌크선)   \n19202  2021-06-30 22:40  ...            여수          여수    기타 유조선   \n\n      외항:한국인선원수\\n내항:해기사선원수 외항:외국인선원수\\n내항:보통선원수   승객 예선 도선   부선호출부호1 부선호출부호2  \n0                      5.0                 0.0  0.0  Y  Y       NaN     NaN  \n1                      3.0                 0.0  0.0  N  N       NaN     NaN  \n2                      NaN                19.0  NaN  Y  Y       NaN     NaN  \n3                      5.0                 6.0  0.0  Y  Y       NaN     NaN  \n4                      5.0                 7.0  0.0  Y  N  848705.0     NaN  \n...                    ...                 ...  ... .. ..       ...     ...  \n19198                  2.0                13.0  NaN  Y  Y       NaN     NaN  \n19199                  NaN                23.0  NaN  Y  Y       NaN     NaN  \n19200                  8.0                 8.0  0.0  Y  N       NaN     NaN  \n19201                  NaN                19.0  NaN  Y  Y       NaN     NaN  \n19202                  2.0                 2.0  0.0  N  N       NaN     NaN  \n\n[19203 rows x 28 columns]",
      "text/html": "<div>\n<style scoped>\n    .dataframe tbody tr th:only-of-type {\n        vertical-align: middle;\n    }\n\n    .dataframe tbody tr th {\n        vertical-align: top;\n    }\n\n    .dataframe thead th {\n        text-align: right;\n    }\n</style>\n<table border=\"1\" class=\"dataframe\">\n  <thead>\n    <tr style=\"text-align: right;\">\n      <th></th>\n      <th>항명</th>\n      <th>호출부호</th>\n      <th>선명</th>\n      <th>입항횟수</th>\n      <th>입항횟수.1</th>\n      <th>구분</th>\n      <th>외내</th>\n      <th>입출</th>\n      <th>총톤수</th>\n      <th>입항일시</th>\n      <th>...</th>\n      <th>차항지</th>\n      <th>전출항지</th>\n      <th>선박용도</th>\n      <th>외항:한국인선원수\\n내항:해기사선원수</th>\n      <th>외항:외국인선원수\\n내항:보통선원수</th>\n      <th>승객</th>\n      <th>예선</th>\n      <th>도선</th>\n      <th>부선호출부호1</th>\n      <th>부선호출부호2</th>\n    </tr>\n  </thead>\n  <tbody>\n    <tr>\n      <th>0</th>\n      <td>광양</td>\n      <td>100148</td>\n      <td>티에스해피호</td>\n      <td>2019</td>\n      <td>32</td>\n      <td>최종</td>\n      <td>내항</td>\n      <td>출항</td>\n      <td>3,407</td>\n      <td>2019-11-30 11:20</td>\n      <td>...</td>\n      <td>기타항</td>\n      <td>기타항</td>\n      <td>산물선(벌크선)</td>\n      <td>5.0</td>\n      <td>0.0</td>\n      <td>0.0</td>\n      <td>Y</td>\n      <td>Y</td>\n      <td>NaN</td>\n      <td>NaN</td>\n    </tr>\n    <tr>\n      <th>1</th>\n      <td>광양</td>\n      <td>203402</td>\n      <td>더블유에스-2701</td>\n      <td>2020</td>\n      <td>2</td>\n      <td>최종</td>\n      <td>내항</td>\n      <td>출항</td>\n      <td>64</td>\n      <td>2020-08-03 09:00</td>\n      <td>...</td>\n      <td>군산</td>\n      <td>군산</td>\n      <td>기타선</td>\n      <td>3.0</td>\n      <td>0.0</td>\n      <td>0.0</td>\n      <td>N</td>\n      <td>N</td>\n      <td>NaN</td>\n      <td>NaN</td>\n    </tr>\n    <tr>\n      <th>2</th>\n      <td>광양</td>\n      <td>3EVV6</td>\n      <td>SPINNAKER SW</td>\n      <td>2020</td>\n      <td>1</td>\n      <td>최종</td>\n      <td>외항</td>\n      <td>출항</td>\n      <td>19,836</td>\n      <td>2020-08-19 03:24</td>\n      <td>...</td>\n      <td>LAEM CHABANG</td>\n      <td>NANTONG PT</td>\n      <td>산물선(벌크선)</td>\n      <td>NaN</td>\n      <td>19.0</td>\n      <td>NaN</td>\n      <td>Y</td>\n      <td>Y</td>\n      <td>NaN</td>\n      <td>NaN</td>\n    </tr>\n    <tr>\n      <th>3</th>\n      <td>광양</td>\n      <td>500HANJIN</td>\n      <td>한진그린호</td>\n      <td>2020</td>\n      <td>9</td>\n      <td>최종</td>\n      <td>내항</td>\n      <td>출항</td>\n      <td>9,571</td>\n      <td>2020-08-20 06:50</td>\n      <td>...</td>\n      <td>기타항</td>\n      <td>기타항</td>\n      <td>석탄운반선</td>\n      <td>5.0</td>\n      <td>6.0</td>\n      <td>0.0</td>\n      <td>Y</td>\n      <td>Y</td>\n      <td>NaN</td>\n      <td>NaN</td>\n    </tr>\n    <tr>\n      <th>4</th>\n      <td>광양</td>\n      <td>D9KX</td>\n      <td>적봉호</td>\n      <td>2020</td>\n      <td>8</td>\n      <td>최종</td>\n      <td>내항</td>\n      <td>출항</td>\n      <td>511</td>\n      <td>2020-08-21 04:30</td>\n      <td>...</td>\n      <td>기타항</td>\n      <td>기타항</td>\n      <td>견인용예선</td>\n      <td>5.0</td>\n      <td>7.0</td>\n      <td>0.0</td>\n      <td>Y</td>\n      <td>N</td>\n      <td>848705.0</td>\n      <td>NaN</td>\n    </tr>\n    <tr>\n      <th>...</th>\n      <td>...</td>\n      <td>...</td>\n      <td>...</td>\n      <td>...</td>\n      <td>...</td>\n      <td>...</td>\n      <td>...</td>\n      <td>...</td>\n      <td>...</td>\n      <td>...</td>\n      <td>...</td>\n      <td>...</td>\n      <td>...</td>\n      <td>...</td>\n      <td>...</td>\n      <td>...</td>\n      <td>...</td>\n      <td>...</td>\n      <td>...</td>\n      <td>...</td>\n      <td>...</td>\n    </tr>\n    <tr>\n      <th>19198</th>\n      <td>광양</td>\n      <td>D7WG</td>\n      <td>HECAN</td>\n      <td>2021</td>\n      <td>1</td>\n      <td>최종</td>\n      <td>외항</td>\n      <td>출항</td>\n      <td>9,858</td>\n      <td>2021-06-30 19:26</td>\n      <td>...</td>\n      <td>인천</td>\n      <td>부산</td>\n      <td>풀컨테이너선</td>\n      <td>2.0</td>\n      <td>13.0</td>\n      <td>NaN</td>\n      <td>Y</td>\n      <td>Y</td>\n      <td>NaN</td>\n      <td>NaN</td>\n    </tr>\n    <tr>\n      <th>19199</th>\n      <td>광양</td>\n      <td>3FRF8</td>\n      <td>SONG YUN HE</td>\n      <td>2021</td>\n      <td>20</td>\n      <td>최종</td>\n      <td>외항</td>\n      <td>입항</td>\n      <td>16,737</td>\n      <td>2021-06-30 20:10</td>\n      <td>...</td>\n      <td>부산</td>\n      <td>SHANGHAI</td>\n      <td>풀컨테이너선</td>\n      <td>NaN</td>\n      <td>23.0</td>\n      <td>NaN</td>\n      <td>Y</td>\n      <td>Y</td>\n      <td>NaN</td>\n      <td>NaN</td>\n    </tr>\n    <tr>\n      <th>19200</th>\n      <td>광양</td>\n      <td>050601</td>\n      <td>HALLA NO.2</td>\n      <td>2021</td>\n      <td>7</td>\n      <td>최종</td>\n      <td>내항</td>\n      <td>입항</td>\n      <td>4,881</td>\n      <td>2021-06-30 21:30</td>\n      <td>...</td>\n      <td>인천</td>\n      <td>옥계항</td>\n      <td>시멘트운반선</td>\n      <td>8.0</td>\n      <td>8.0</td>\n      <td>0.0</td>\n      <td>Y</td>\n      <td>N</td>\n      <td>NaN</td>\n      <td>NaN</td>\n    </tr>\n    <tr>\n      <th>19201</th>\n      <td>광양</td>\n      <td>D5RD6</td>\n      <td>HUI DA</td>\n      <td>2021</td>\n      <td>9</td>\n      <td>최종</td>\n      <td>외항</td>\n      <td>입항</td>\n      <td>9,553</td>\n      <td>2021-06-30 22:10</td>\n      <td>...</td>\n      <td>ZHANGJIAGANG</td>\n      <td>JINZHOU PT</td>\n      <td>산물선(벌크선)</td>\n      <td>NaN</td>\n      <td>19.0</td>\n      <td>NaN</td>\n      <td>Y</td>\n      <td>Y</td>\n      <td>NaN</td>\n      <td>NaN</td>\n    </tr>\n    <tr>\n      <th>19202</th>\n      <td>광양</td>\n      <td>150073</td>\n      <td>아라호</td>\n      <td>2021</td>\n      <td>26</td>\n      <td>최종</td>\n      <td>내항</td>\n      <td>입항</td>\n      <td>190</td>\n      <td>2021-06-30 22:40</td>\n      <td>...</td>\n      <td>여수</td>\n      <td>여수</td>\n      <td>기타 유조선</td>\n      <td>2.0</td>\n      <td>2.0</td>\n      <td>0.0</td>\n      <td>N</td>\n      <td>N</td>\n      <td>NaN</td>\n      <td>NaN</td>\n    </tr>\n  </tbody>\n</table>\n<p>19203 rows × 28 columns</p>\n</div>"
     },
     "execution_count": 6,
     "metadata": {},
     "output_type": "execute_result"
    }
   ],
   "source": [
    "# 예)\n",
    "\n",
    "import pandas as pd\n",
    "df = pd.read_excel('./data/terminal_operation/선박입출항현황.xlsx', header=11)\n",
    "df"
   ],
   "metadata": {
    "collapsed": false,
    "ExecuteTime": {
     "end_time": "2023-12-16T06:57:50.316098700Z",
     "start_time": "2023-12-16T06:57:37.877119800Z"
    }
   },
   "id": "27fc030660f56102"
  },
  {
   "cell_type": "code",
   "execution_count": 7,
   "outputs": [
    {
     "data": {
      "text/plain": "(19203, 28)"
     },
     "execution_count": 7,
     "metadata": {},
     "output_type": "execute_result"
    }
   ],
   "source": [
    "df.shape"
   ],
   "metadata": {
    "collapsed": false,
    "ExecuteTime": {
     "end_time": "2023-12-16T06:57:58.320201600Z",
     "start_time": "2023-12-16T06:57:58.273636800Z"
    }
   },
   "id": "6941dd75f6b83f5d"
  },
  {
   "cell_type": "code",
   "execution_count": 8,
   "outputs": [
    {
     "data": {
      "text/plain": "Index(['항명', '호출부호', '선명', '입항횟수', '입항횟수.1', '구분', '외내', '입출', '총톤수', '입항일시',\n       '출항일시', 'CIQ수속일자', '수리일시', '항해구분', 'MRN 번호', '계선장소', '계선장소.1', '계선장소.2',\n       '차항지', '전출항지', '선박용도', '외항:한국인선원수\\n내항:해기사선원수', '외항:외국인선원수\\n내항:보통선원수',\n       '승객', '예선', '도선', '부선호출부호1', '부선호출부호2'],\n      dtype='object')"
     },
     "execution_count": 8,
     "metadata": {},
     "output_type": "execute_result"
    }
   ],
   "source": [
    "df.columns"
   ],
   "metadata": {
    "collapsed": false,
    "ExecuteTime": {
     "end_time": "2023-12-16T06:58:00.065589400Z",
     "start_time": "2023-12-16T06:58:00.043707700Z"
    }
   },
   "id": "bb42be70ba26c694"
  },
  {
   "cell_type": "code",
   "execution_count": null,
   "outputs": [],
   "source": [],
   "metadata": {
    "collapsed": false
   },
   "id": "b058d1ef9aa9a2ae"
  }
 ],
 "metadata": {
  "kernelspec": {
   "display_name": "Python 3",
   "language": "python",
   "name": "python3"
  },
  "language_info": {
   "codemirror_mode": {
    "name": "ipython",
    "version": 2
   },
   "file_extension": ".py",
   "mimetype": "text/x-python",
   "name": "python",
   "nbconvert_exporter": "python",
   "pygments_lexer": "ipython2",
   "version": "2.7.6"
  }
 },
 "nbformat": 4,
 "nbformat_minor": 5
}
