{
 "cells": [
  {
   "cell_type": "code",
   "execution_count": 5,
   "id": "initial_id",
   "metadata": {
    "collapsed": true,
    "ExecuteTime": {
     "end_time": "2023-12-16T21:10:24.739311100Z",
     "start_time": "2023-12-16T21:10:16.694894400Z"
    }
   },
   "outputs": [
    {
     "name": "stderr",
     "output_type": "stream",
     "text": [
      "C:\\Users\\uijin\\AppData\\Local\\anaconda3\\Lib\\site-packages\\openpyxl\\styles\\stylesheet.py:226: UserWarning: Workbook contains no default style, apply openpyxl's default\n",
      "  warn(\"Workbook contains no default style, apply openpyxl's default\")\n"
     ]
    },
    {
     "data": {
      "text/plain": "       항명       호출부호            선명  입항횟수  입항횟수.1  구분  외내  입출     총톤수  \\\n0      광양     100148        티에스해피호  2019      32  최종  내항  출항   3,407   \n1      광양     203402    더블유에스-2701  2020       2  최종  내항  출항      64   \n2      광양      3EVV6  SPINNAKER SW  2020       1  최종  외항  출항  19,836   \n3      광양  500HANJIN         한진그린호  2020       9  최종  내항  출항   9,571   \n4      광양       D9KX           적봉호  2020       8  최종  내항  출항     511   \n...    ..        ...           ...   ...     ...  ..  ..  ..     ...   \n19198  광양       D7WG         HECAN  2021       1  최종  외항  출항   9,858   \n19199  광양      3FRF8   SONG YUN HE  2021      20  최종  외항  입항  16,737   \n19200  광양     050601    HALLA NO.2  2021       7  최종  내항  입항   4,881   \n19201  광양      D5RD6        HUI DA  2021       9  최종  외항  입항   9,553   \n19202  광양     150073           아라호  2021      26  최종  내항  입항     190   \n\n                   입항일시  ...           차항지        전출항지      선박용도  \\\n0      2019-11-30 11:20  ...           기타항         기타항  산물선(벌크선)   \n1      2020-08-03 09:00  ...            군산          군산       기타선   \n2      2020-08-19 03:24  ...  LAEM CHABANG  NANTONG PT  산물선(벌크선)   \n3      2020-08-20 06:50  ...           기타항         기타항     석탄운반선   \n4      2020-08-21 04:30  ...           기타항         기타항     견인용예선   \n...                 ...  ...           ...         ...       ...   \n19198  2021-06-30 19:26  ...            인천          부산    풀컨테이너선   \n19199  2021-06-30 20:10  ...            부산    SHANGHAI    풀컨테이너선   \n19200  2021-06-30 21:30  ...            인천         옥계항    시멘트운반선   \n19201  2021-06-30 22:10  ...  ZHANGJIAGANG  JINZHOU PT  산물선(벌크선)   \n19202  2021-06-30 22:40  ...            여수          여수    기타 유조선   \n\n      외항:한국인선원수\\n내항:해기사선원수 외항:외국인선원수\\n내항:보통선원수   승객 예선 도선   부선호출부호1 부선호출부호2  \n0                      5.0                 0.0  0.0  Y  Y       NaN     NaN  \n1                      3.0                 0.0  0.0  N  N       NaN     NaN  \n2                      NaN                19.0  NaN  Y  Y       NaN     NaN  \n3                      5.0                 6.0  0.0  Y  Y       NaN     NaN  \n4                      5.0                 7.0  0.0  Y  N  848705.0     NaN  \n...                    ...                 ...  ... .. ..       ...     ...  \n19198                  2.0                13.0  NaN  Y  Y       NaN     NaN  \n19199                  NaN                23.0  NaN  Y  Y       NaN     NaN  \n19200                  8.0                 8.0  0.0  Y  N       NaN     NaN  \n19201                  NaN                19.0  NaN  Y  Y       NaN     NaN  \n19202                  2.0                 2.0  0.0  N  N       NaN     NaN  \n\n[19203 rows x 28 columns]",
      "text/html": "<div>\n<style scoped>\n    .dataframe tbody tr th:only-of-type {\n        vertical-align: middle;\n    }\n\n    .dataframe tbody tr th {\n        vertical-align: top;\n    }\n\n    .dataframe thead th {\n        text-align: right;\n    }\n</style>\n<table border=\"1\" class=\"dataframe\">\n  <thead>\n    <tr style=\"text-align: right;\">\n      <th></th>\n      <th>항명</th>\n      <th>호출부호</th>\n      <th>선명</th>\n      <th>입항횟수</th>\n      <th>입항횟수.1</th>\n      <th>구분</th>\n      <th>외내</th>\n      <th>입출</th>\n      <th>총톤수</th>\n      <th>입항일시</th>\n      <th>...</th>\n      <th>차항지</th>\n      <th>전출항지</th>\n      <th>선박용도</th>\n      <th>외항:한국인선원수\\n내항:해기사선원수</th>\n      <th>외항:외국인선원수\\n내항:보통선원수</th>\n      <th>승객</th>\n      <th>예선</th>\n      <th>도선</th>\n      <th>부선호출부호1</th>\n      <th>부선호출부호2</th>\n    </tr>\n  </thead>\n  <tbody>\n    <tr>\n      <th>0</th>\n      <td>광양</td>\n      <td>100148</td>\n      <td>티에스해피호</td>\n      <td>2019</td>\n      <td>32</td>\n      <td>최종</td>\n      <td>내항</td>\n      <td>출항</td>\n      <td>3,407</td>\n      <td>2019-11-30 11:20</td>\n      <td>...</td>\n      <td>기타항</td>\n      <td>기타항</td>\n      <td>산물선(벌크선)</td>\n      <td>5.0</td>\n      <td>0.0</td>\n      <td>0.0</td>\n      <td>Y</td>\n      <td>Y</td>\n      <td>NaN</td>\n      <td>NaN</td>\n    </tr>\n    <tr>\n      <th>1</th>\n      <td>광양</td>\n      <td>203402</td>\n      <td>더블유에스-2701</td>\n      <td>2020</td>\n      <td>2</td>\n      <td>최종</td>\n      <td>내항</td>\n      <td>출항</td>\n      <td>64</td>\n      <td>2020-08-03 09:00</td>\n      <td>...</td>\n      <td>군산</td>\n      <td>군산</td>\n      <td>기타선</td>\n      <td>3.0</td>\n      <td>0.0</td>\n      <td>0.0</td>\n      <td>N</td>\n      <td>N</td>\n      <td>NaN</td>\n      <td>NaN</td>\n    </tr>\n    <tr>\n      <th>2</th>\n      <td>광양</td>\n      <td>3EVV6</td>\n      <td>SPINNAKER SW</td>\n      <td>2020</td>\n      <td>1</td>\n      <td>최종</td>\n      <td>외항</td>\n      <td>출항</td>\n      <td>19,836</td>\n      <td>2020-08-19 03:24</td>\n      <td>...</td>\n      <td>LAEM CHABANG</td>\n      <td>NANTONG PT</td>\n      <td>산물선(벌크선)</td>\n      <td>NaN</td>\n      <td>19.0</td>\n      <td>NaN</td>\n      <td>Y</td>\n      <td>Y</td>\n      <td>NaN</td>\n      <td>NaN</td>\n    </tr>\n    <tr>\n      <th>3</th>\n      <td>광양</td>\n      <td>500HANJIN</td>\n      <td>한진그린호</td>\n      <td>2020</td>\n      <td>9</td>\n      <td>최종</td>\n      <td>내항</td>\n      <td>출항</td>\n      <td>9,571</td>\n      <td>2020-08-20 06:50</td>\n      <td>...</td>\n      <td>기타항</td>\n      <td>기타항</td>\n      <td>석탄운반선</td>\n      <td>5.0</td>\n      <td>6.0</td>\n      <td>0.0</td>\n      <td>Y</td>\n      <td>Y</td>\n      <td>NaN</td>\n      <td>NaN</td>\n    </tr>\n    <tr>\n      <th>4</th>\n      <td>광양</td>\n      <td>D9KX</td>\n      <td>적봉호</td>\n      <td>2020</td>\n      <td>8</td>\n      <td>최종</td>\n      <td>내항</td>\n      <td>출항</td>\n      <td>511</td>\n      <td>2020-08-21 04:30</td>\n      <td>...</td>\n      <td>기타항</td>\n      <td>기타항</td>\n      <td>견인용예선</td>\n      <td>5.0</td>\n      <td>7.0</td>\n      <td>0.0</td>\n      <td>Y</td>\n      <td>N</td>\n      <td>848705.0</td>\n      <td>NaN</td>\n    </tr>\n    <tr>\n      <th>...</th>\n      <td>...</td>\n      <td>...</td>\n      <td>...</td>\n      <td>...</td>\n      <td>...</td>\n      <td>...</td>\n      <td>...</td>\n      <td>...</td>\n      <td>...</td>\n      <td>...</td>\n      <td>...</td>\n      <td>...</td>\n      <td>...</td>\n      <td>...</td>\n      <td>...</td>\n      <td>...</td>\n      <td>...</td>\n      <td>...</td>\n      <td>...</td>\n      <td>...</td>\n      <td>...</td>\n    </tr>\n    <tr>\n      <th>19198</th>\n      <td>광양</td>\n      <td>D7WG</td>\n      <td>HECAN</td>\n      <td>2021</td>\n      <td>1</td>\n      <td>최종</td>\n      <td>외항</td>\n      <td>출항</td>\n      <td>9,858</td>\n      <td>2021-06-30 19:26</td>\n      <td>...</td>\n      <td>인천</td>\n      <td>부산</td>\n      <td>풀컨테이너선</td>\n      <td>2.0</td>\n      <td>13.0</td>\n      <td>NaN</td>\n      <td>Y</td>\n      <td>Y</td>\n      <td>NaN</td>\n      <td>NaN</td>\n    </tr>\n    <tr>\n      <th>19199</th>\n      <td>광양</td>\n      <td>3FRF8</td>\n      <td>SONG YUN HE</td>\n      <td>2021</td>\n      <td>20</td>\n      <td>최종</td>\n      <td>외항</td>\n      <td>입항</td>\n      <td>16,737</td>\n      <td>2021-06-30 20:10</td>\n      <td>...</td>\n      <td>부산</td>\n      <td>SHANGHAI</td>\n      <td>풀컨테이너선</td>\n      <td>NaN</td>\n      <td>23.0</td>\n      <td>NaN</td>\n      <td>Y</td>\n      <td>Y</td>\n      <td>NaN</td>\n      <td>NaN</td>\n    </tr>\n    <tr>\n      <th>19200</th>\n      <td>광양</td>\n      <td>050601</td>\n      <td>HALLA NO.2</td>\n      <td>2021</td>\n      <td>7</td>\n      <td>최종</td>\n      <td>내항</td>\n      <td>입항</td>\n      <td>4,881</td>\n      <td>2021-06-30 21:30</td>\n      <td>...</td>\n      <td>인천</td>\n      <td>옥계항</td>\n      <td>시멘트운반선</td>\n      <td>8.0</td>\n      <td>8.0</td>\n      <td>0.0</td>\n      <td>Y</td>\n      <td>N</td>\n      <td>NaN</td>\n      <td>NaN</td>\n    </tr>\n    <tr>\n      <th>19201</th>\n      <td>광양</td>\n      <td>D5RD6</td>\n      <td>HUI DA</td>\n      <td>2021</td>\n      <td>9</td>\n      <td>최종</td>\n      <td>외항</td>\n      <td>입항</td>\n      <td>9,553</td>\n      <td>2021-06-30 22:10</td>\n      <td>...</td>\n      <td>ZHANGJIAGANG</td>\n      <td>JINZHOU PT</td>\n      <td>산물선(벌크선)</td>\n      <td>NaN</td>\n      <td>19.0</td>\n      <td>NaN</td>\n      <td>Y</td>\n      <td>Y</td>\n      <td>NaN</td>\n      <td>NaN</td>\n    </tr>\n    <tr>\n      <th>19202</th>\n      <td>광양</td>\n      <td>150073</td>\n      <td>아라호</td>\n      <td>2021</td>\n      <td>26</td>\n      <td>최종</td>\n      <td>내항</td>\n      <td>입항</td>\n      <td>190</td>\n      <td>2021-06-30 22:40</td>\n      <td>...</td>\n      <td>여수</td>\n      <td>여수</td>\n      <td>기타 유조선</td>\n      <td>2.0</td>\n      <td>2.0</td>\n      <td>0.0</td>\n      <td>N</td>\n      <td>N</td>\n      <td>NaN</td>\n      <td>NaN</td>\n    </tr>\n  </tbody>\n</table>\n<p>19203 rows × 28 columns</p>\n</div>"
     },
     "execution_count": 5,
     "metadata": {},
     "output_type": "execute_result"
    }
   ],
   "source": [
    "# 예)\n",
    "\n",
    "import pandas as pd\n",
    "ship = pd.read_excel('./data/terminal_operation/선박입출항현황.xlsx', header=11)\n",
    "ship"
   ]
  },
  {
   "cell_type": "code",
   "execution_count": 6,
   "outputs": [
    {
     "name": "stdout",
     "output_type": "stream",
     "text": [
      "       항명       호출부호            선명  입항횟수  입항횟수.1  구분  외내  입출     총톤수  \\\n",
      "0      광양     100148        티에스해피호  2019      32  최종  내항  출항   3,407   \n",
      "1      광양     203402    더블유에스-2701  2020       2  최종  내항  출항      64   \n",
      "2      광양      3EVV6  SPINNAKER SW  2020       1  최종  외항  출항  19,836   \n",
      "3      광양  500HANJIN         한진그린호  2020       9  최종  내항  출항   9,571   \n",
      "4      광양       D9KX           적봉호  2020       8  최종  내항  출항     511   \n",
      "...    ..        ...           ...   ...     ...  ..  ..  ..     ...   \n",
      "19198  광양       D7WG         HECAN  2021       1  최종  외항  출항   9,858   \n",
      "19199  광양      3FRF8   SONG YUN HE  2021      20  최종  외항  입항  16,737   \n",
      "19200  광양     050601    HALLA NO.2  2021       7  최종  내항  입항   4,881   \n",
      "19201  광양      D5RD6        HUI DA  2021       9  최종  외항  입항   9,553   \n",
      "19202  광양     150073           아라호  2021      26  최종  내항  입항     190   \n",
      "\n",
      "                   입항일시  ...           차항지        전출항지      선박용도  \\\n",
      "0      2019-11-30 11:20  ...           기타항         기타항  산물선(벌크선)   \n",
      "1      2020-08-03 09:00  ...            군산          군산       기타선   \n",
      "2      2020-08-19 03:24  ...  LAEM CHABANG  NANTONG PT  산물선(벌크선)   \n",
      "3      2020-08-20 06:50  ...           기타항         기타항     석탄운반선   \n",
      "4      2020-08-21 04:30  ...           기타항         기타항     견인용예선   \n",
      "...                 ...  ...           ...         ...       ...   \n",
      "19198  2021-06-30 19:26  ...            인천          부산    풀컨테이너선   \n",
      "19199  2021-06-30 20:10  ...            부산    SHANGHAI    풀컨테이너선   \n",
      "19200  2021-06-30 21:30  ...            인천         옥계항    시멘트운반선   \n",
      "19201  2021-06-30 22:10  ...  ZHANGJIAGANG  JINZHOU PT  산물선(벌크선)   \n",
      "19202  2021-06-30 22:40  ...            여수          여수    기타 유조선   \n",
      "\n",
      "      외항:한국인선원수\\n내항:해기사선원수 외항:외국인선원수\\n내항:보통선원수   승객 예선 도선   부선호출부호1 부선호출부호2  \n",
      "0                      5.0                 0.0  0.0  Y  Y       NaN     NaN  \n",
      "1                      3.0                 0.0  0.0  N  N       NaN     NaN  \n",
      "2                      NaN                19.0  NaN  Y  Y       NaN     NaN  \n",
      "3                      5.0                 6.0  0.0  Y  Y       NaN     NaN  \n",
      "4                      5.0                 7.0  0.0  Y  N  848705.0     NaN  \n",
      "...                    ...                 ...  ... .. ..       ...     ...  \n",
      "19198                  2.0                13.0  NaN  Y  Y       NaN     NaN  \n",
      "19199                  NaN                23.0  NaN  Y  Y       NaN     NaN  \n",
      "19200                  8.0                 8.0  0.0  Y  N       NaN     NaN  \n",
      "19201                  NaN                19.0  NaN  Y  Y       NaN     NaN  \n",
      "19202                  2.0                 2.0  0.0  N  N       NaN     NaN  \n",
      "\n",
      "[19203 rows x 28 columns]\n"
     ]
    }
   ],
   "source": [
    "print(ship)"
   ],
   "metadata": {
    "collapsed": false,
    "ExecuteTime": {
     "end_time": "2023-12-16T21:10:28.386509Z",
     "start_time": "2023-12-16T21:10:28.361487600Z"
    }
   },
   "id": "4b9e0f4d1cd8a243"
  },
  {
   "cell_type": "code",
   "execution_count": 7,
   "outputs": [
    {
     "data": {
      "text/plain": "(19203, 28)"
     },
     "execution_count": 7,
     "metadata": {},
     "output_type": "execute_result"
    }
   ],
   "source": [
    "ship.shape"
   ],
   "metadata": {
    "collapsed": false,
    "ExecuteTime": {
     "end_time": "2023-12-16T21:10:32.803764300Z",
     "start_time": "2023-12-16T21:10:32.800032400Z"
    }
   },
   "id": "34eea1f0e35e4352"
  },
  {
   "cell_type": "code",
   "execution_count": 8,
   "outputs": [
    {
     "data": {
      "text/plain": "Index(['항명', '호출부호', '선명', '입항횟수', '입항횟수.1', '구분', '외내', '입출', '총톤수', '입항일시',\n       '출항일시', 'CIQ수속일자', '수리일시', '항해구분', 'MRN 번호', '계선장소', '계선장소.1', '계선장소.2',\n       '차항지', '전출항지', '선박용도', '외항:한국인선원수\\n내항:해기사선원수', '외항:외국인선원수\\n내항:보통선원수',\n       '승객', '예선', '도선', '부선호출부호1', '부선호출부호2'],\n      dtype='object')"
     },
     "execution_count": 8,
     "metadata": {},
     "output_type": "execute_result"
    }
   ],
   "source": [
    "ship.columns"
   ],
   "metadata": {
    "collapsed": false,
    "ExecuteTime": {
     "end_time": "2023-12-16T21:10:33.818999500Z",
     "start_time": "2023-12-16T21:10:33.805932100Z"
    }
   },
   "id": "526dfca968aa3679"
  },
  {
   "cell_type": "code",
   "execution_count": 9,
   "outputs": [
    {
     "name": "stdout",
     "output_type": "stream",
     "text": [
      "['출항' '입항']\n"
     ]
    }
   ],
   "source": [
    "unique_values = ship['입출'].unique()\n",
    "\n",
    "print(unique_values)"
   ],
   "metadata": {
    "collapsed": false,
    "ExecuteTime": {
     "end_time": "2023-12-16T21:10:34.598561800Z",
     "start_time": "2023-12-16T21:10:34.576523Z"
    }
   },
   "id": "ce4670c29139bed4"
  },
  {
   "cell_type": "code",
   "execution_count": 10,
   "outputs": [
    {
     "name": "stdout",
     "output_type": "stream",
     "text": [
      "['최종' '최초']\n"
     ]
    }
   ],
   "source": [
    "unique_values = ship['구분'].unique()\n",
    "\n",
    "print(unique_values)"
   ],
   "metadata": {
    "collapsed": false,
    "ExecuteTime": {
     "end_time": "2023-12-16T21:10:53.138129400Z",
     "start_time": "2023-12-16T21:10:53.107835400Z"
    }
   },
   "id": "bdac4ceb5f0ee84a"
  },
  {
   "cell_type": "code",
   "execution_count": 12,
   "outputs": [
    {
     "data": {
      "text/plain": "       항명    호출부호                       선명  입항횟수  입항횟수.1  구분  외내  입출     총톤수  \\\n69     광양   3FAT5                   광양프론티어  2020      26  최종  내항  입항   9,751   \n71     광양  055762                    제2세윤호  2020     150  최종  내항  입항     178   \n73     광양  068821                      진안호  2020       2  최종  내항  입항   1,528   \n76     광양   BOBO6  ZHONG WAI YUN SHEN ZHEN  2020      25  최종  외항  입항   9,587   \n77     광양   3EJH7                   FUYUAN  2020       2  최종  외항  입항  24,533   \n...    ..     ...                      ...   ...     ...  ..  ..  ..     ...   \n19197  광양    D7WG                    HECAN  2021       1  최종  외항  입항   9,858   \n19199  광양   3FRF8              SONG YUN HE  2021      20  최종  외항  입항  16,737   \n19200  광양  050601               HALLA NO.2  2021       7  최종  내항  입항   4,881   \n19201  광양   D5RD6                   HUI DA  2021       9  최종  외항  입항   9,553   \n19202  광양  150073                      아라호  2021      26  최종  내항  입항     190   \n\n                     입항일시  ...           차항지        전출항지      선박용도  \\\n69    2020-09-01 00:15:00  ...            포항          인천     일반화물선   \n71    2020-09-01 01:20:00  ...           기타항          여수  석유제품 운반선   \n73    2020-09-01 02:36:00  ...            제주          삼척    핫코일운반선   \n76    2020-09-01 02:48:00  ...       NANJING          부산    풀컨테이너선   \n77    2020-09-01 05:30:00  ...      NAKHODKA    NAKHODKA     일반화물선   \n...                   ...  ...           ...         ...       ...   \n19197 2021-06-30 19:26:00  ...     HONG KONG          부산    풀컨테이너선   \n19199 2021-06-30 20:10:00  ...            부산    SHANGHAI    풀컨테이너선   \n19200 2021-06-30 21:30:00  ...            인천         옥계항    시멘트운반선   \n19201 2021-06-30 22:10:00  ...  ZHANGJIAGANG  JINZHOU PT  산물선(벌크선)   \n19202 2021-06-30 22:40:00  ...            여수          여수    기타 유조선   \n\n      외항:한국인선원수\\n내항:해기사선원수 외항:외국인선원수\\n내항:보통선원수   승객 예선 도선 부선호출부호1 부선호출부호2  \n69                     8.0                 7.0  0.0  N  N     NaN     NaN  \n71                     3.0                 1.0  0.0  N  N     NaN     NaN  \n73                     8.0                 6.0  0.0  Y  Y     NaN     NaN  \n76                     NaN                21.0  NaN  Y  Y     NaN     NaN  \n77                     NaN                23.0  NaN  Y  Y     NaN     NaN  \n...                    ...                 ...  ... .. ..     ...     ...  \n19197                  2.0                13.0  NaN  Y  Y     NaN     NaN  \n19199                  NaN                23.0  NaN  Y  Y     NaN     NaN  \n19200                  8.0                 8.0  0.0  Y  N     NaN     NaN  \n19201                  NaN                19.0  NaN  Y  Y     NaN     NaN  \n19202                  2.0                 2.0  0.0  N  N     NaN     NaN  \n\n[9606 rows x 28 columns]",
      "text/html": "<div>\n<style scoped>\n    .dataframe tbody tr th:only-of-type {\n        vertical-align: middle;\n    }\n\n    .dataframe tbody tr th {\n        vertical-align: top;\n    }\n\n    .dataframe thead th {\n        text-align: right;\n    }\n</style>\n<table border=\"1\" class=\"dataframe\">\n  <thead>\n    <tr style=\"text-align: right;\">\n      <th></th>\n      <th>항명</th>\n      <th>호출부호</th>\n      <th>선명</th>\n      <th>입항횟수</th>\n      <th>입항횟수.1</th>\n      <th>구분</th>\n      <th>외내</th>\n      <th>입출</th>\n      <th>총톤수</th>\n      <th>입항일시</th>\n      <th>...</th>\n      <th>차항지</th>\n      <th>전출항지</th>\n      <th>선박용도</th>\n      <th>외항:한국인선원수\\n내항:해기사선원수</th>\n      <th>외항:외국인선원수\\n내항:보통선원수</th>\n      <th>승객</th>\n      <th>예선</th>\n      <th>도선</th>\n      <th>부선호출부호1</th>\n      <th>부선호출부호2</th>\n    </tr>\n  </thead>\n  <tbody>\n    <tr>\n      <th>69</th>\n      <td>광양</td>\n      <td>3FAT5</td>\n      <td>광양프론티어</td>\n      <td>2020</td>\n      <td>26</td>\n      <td>최종</td>\n      <td>내항</td>\n      <td>입항</td>\n      <td>9,751</td>\n      <td>2020-09-01 00:15:00</td>\n      <td>...</td>\n      <td>포항</td>\n      <td>인천</td>\n      <td>일반화물선</td>\n      <td>8.0</td>\n      <td>7.0</td>\n      <td>0.0</td>\n      <td>N</td>\n      <td>N</td>\n      <td>NaN</td>\n      <td>NaN</td>\n    </tr>\n    <tr>\n      <th>71</th>\n      <td>광양</td>\n      <td>055762</td>\n      <td>제2세윤호</td>\n      <td>2020</td>\n      <td>150</td>\n      <td>최종</td>\n      <td>내항</td>\n      <td>입항</td>\n      <td>178</td>\n      <td>2020-09-01 01:20:00</td>\n      <td>...</td>\n      <td>기타항</td>\n      <td>여수</td>\n      <td>석유제품 운반선</td>\n      <td>3.0</td>\n      <td>1.0</td>\n      <td>0.0</td>\n      <td>N</td>\n      <td>N</td>\n      <td>NaN</td>\n      <td>NaN</td>\n    </tr>\n    <tr>\n      <th>73</th>\n      <td>광양</td>\n      <td>068821</td>\n      <td>진안호</td>\n      <td>2020</td>\n      <td>2</td>\n      <td>최종</td>\n      <td>내항</td>\n      <td>입항</td>\n      <td>1,528</td>\n      <td>2020-09-01 02:36:00</td>\n      <td>...</td>\n      <td>제주</td>\n      <td>삼척</td>\n      <td>핫코일운반선</td>\n      <td>8.0</td>\n      <td>6.0</td>\n      <td>0.0</td>\n      <td>Y</td>\n      <td>Y</td>\n      <td>NaN</td>\n      <td>NaN</td>\n    </tr>\n    <tr>\n      <th>76</th>\n      <td>광양</td>\n      <td>BOBO6</td>\n      <td>ZHONG WAI YUN SHEN ZHEN</td>\n      <td>2020</td>\n      <td>25</td>\n      <td>최종</td>\n      <td>외항</td>\n      <td>입항</td>\n      <td>9,587</td>\n      <td>2020-09-01 02:48:00</td>\n      <td>...</td>\n      <td>NANJING</td>\n      <td>부산</td>\n      <td>풀컨테이너선</td>\n      <td>NaN</td>\n      <td>21.0</td>\n      <td>NaN</td>\n      <td>Y</td>\n      <td>Y</td>\n      <td>NaN</td>\n      <td>NaN</td>\n    </tr>\n    <tr>\n      <th>77</th>\n      <td>광양</td>\n      <td>3EJH7</td>\n      <td>FUYUAN</td>\n      <td>2020</td>\n      <td>2</td>\n      <td>최종</td>\n      <td>외항</td>\n      <td>입항</td>\n      <td>24,533</td>\n      <td>2020-09-01 05:30:00</td>\n      <td>...</td>\n      <td>NAKHODKA</td>\n      <td>NAKHODKA</td>\n      <td>일반화물선</td>\n      <td>NaN</td>\n      <td>23.0</td>\n      <td>NaN</td>\n      <td>Y</td>\n      <td>Y</td>\n      <td>NaN</td>\n      <td>NaN</td>\n    </tr>\n    <tr>\n      <th>...</th>\n      <td>...</td>\n      <td>...</td>\n      <td>...</td>\n      <td>...</td>\n      <td>...</td>\n      <td>...</td>\n      <td>...</td>\n      <td>...</td>\n      <td>...</td>\n      <td>...</td>\n      <td>...</td>\n      <td>...</td>\n      <td>...</td>\n      <td>...</td>\n      <td>...</td>\n      <td>...</td>\n      <td>...</td>\n      <td>...</td>\n      <td>...</td>\n      <td>...</td>\n      <td>...</td>\n    </tr>\n    <tr>\n      <th>19197</th>\n      <td>광양</td>\n      <td>D7WG</td>\n      <td>HECAN</td>\n      <td>2021</td>\n      <td>1</td>\n      <td>최종</td>\n      <td>외항</td>\n      <td>입항</td>\n      <td>9,858</td>\n      <td>2021-06-30 19:26:00</td>\n      <td>...</td>\n      <td>HONG KONG</td>\n      <td>부산</td>\n      <td>풀컨테이너선</td>\n      <td>2.0</td>\n      <td>13.0</td>\n      <td>NaN</td>\n      <td>Y</td>\n      <td>Y</td>\n      <td>NaN</td>\n      <td>NaN</td>\n    </tr>\n    <tr>\n      <th>19199</th>\n      <td>광양</td>\n      <td>3FRF8</td>\n      <td>SONG YUN HE</td>\n      <td>2021</td>\n      <td>20</td>\n      <td>최종</td>\n      <td>외항</td>\n      <td>입항</td>\n      <td>16,737</td>\n      <td>2021-06-30 20:10:00</td>\n      <td>...</td>\n      <td>부산</td>\n      <td>SHANGHAI</td>\n      <td>풀컨테이너선</td>\n      <td>NaN</td>\n      <td>23.0</td>\n      <td>NaN</td>\n      <td>Y</td>\n      <td>Y</td>\n      <td>NaN</td>\n      <td>NaN</td>\n    </tr>\n    <tr>\n      <th>19200</th>\n      <td>광양</td>\n      <td>050601</td>\n      <td>HALLA NO.2</td>\n      <td>2021</td>\n      <td>7</td>\n      <td>최종</td>\n      <td>내항</td>\n      <td>입항</td>\n      <td>4,881</td>\n      <td>2021-06-30 21:30:00</td>\n      <td>...</td>\n      <td>인천</td>\n      <td>옥계항</td>\n      <td>시멘트운반선</td>\n      <td>8.0</td>\n      <td>8.0</td>\n      <td>0.0</td>\n      <td>Y</td>\n      <td>N</td>\n      <td>NaN</td>\n      <td>NaN</td>\n    </tr>\n    <tr>\n      <th>19201</th>\n      <td>광양</td>\n      <td>D5RD6</td>\n      <td>HUI DA</td>\n      <td>2021</td>\n      <td>9</td>\n      <td>최종</td>\n      <td>외항</td>\n      <td>입항</td>\n      <td>9,553</td>\n      <td>2021-06-30 22:10:00</td>\n      <td>...</td>\n      <td>ZHANGJIAGANG</td>\n      <td>JINZHOU PT</td>\n      <td>산물선(벌크선)</td>\n      <td>NaN</td>\n      <td>19.0</td>\n      <td>NaN</td>\n      <td>Y</td>\n      <td>Y</td>\n      <td>NaN</td>\n      <td>NaN</td>\n    </tr>\n    <tr>\n      <th>19202</th>\n      <td>광양</td>\n      <td>150073</td>\n      <td>아라호</td>\n      <td>2021</td>\n      <td>26</td>\n      <td>최종</td>\n      <td>내항</td>\n      <td>입항</td>\n      <td>190</td>\n      <td>2021-06-30 22:40:00</td>\n      <td>...</td>\n      <td>여수</td>\n      <td>여수</td>\n      <td>기타 유조선</td>\n      <td>2.0</td>\n      <td>2.0</td>\n      <td>0.0</td>\n      <td>N</td>\n      <td>N</td>\n      <td>NaN</td>\n      <td>NaN</td>\n    </tr>\n  </tbody>\n</table>\n<p>9606 rows × 28 columns</p>\n</div>"
     },
     "execution_count": 12,
     "metadata": {},
     "output_type": "execute_result"
    }
   ],
   "source": [
    "import pandas as pd\n",
    "\n",
    "# 날짜 형식으로 변환\n",
    "ship['입항일시'] = pd.to_datetime(ship['입항일시'])\n",
    "ship['출항일시'] = pd.to_datetime(ship['출항일시'])\n",
    "\n",
    "# '입항'이면서 '최종'인 데이터 필터링\n",
    "anchored_ships = ship[(ship['입출'] == '입항') & (ship['구분'] == '최종')]\n",
    "anchored_ships"
   ],
   "metadata": {
    "collapsed": false,
    "ExecuteTime": {
     "end_time": "2023-12-16T21:32:47.533554900Z",
     "start_time": "2023-12-16T21:32:47.437041Z"
    }
   },
   "id": "e468d8dc6073c8d"
  },
  {
   "cell_type": "code",
   "execution_count": 33,
   "outputs": [
    {
     "name": "stdout",
     "output_type": "stream",
     "text": [
      "2020-09-01 00:00:00\n",
      "2021-06-30 23:59:59\n",
      "시간 범위:\n",
      "DatetimeIndex(['2020-09-01 00:00:00', '2020-09-01 01:00:00',\n",
      "               '2020-09-01 02:00:00', '2020-09-01 03:00:00',\n",
      "               '2020-09-01 04:00:00', '2020-09-01 05:00:00',\n",
      "               '2020-09-01 06:00:00', '2020-09-01 07:00:00',\n",
      "               '2020-09-01 08:00:00', '2020-09-01 09:00:00',\n",
      "               ...\n",
      "               '2021-06-30 14:00:00', '2021-06-30 15:00:00',\n",
      "               '2021-06-30 16:00:00', '2021-06-30 17:00:00',\n",
      "               '2021-06-30 18:00:00', '2021-06-30 19:00:00',\n",
      "               '2021-06-30 20:00:00', '2021-06-30 21:00:00',\n",
      "               '2021-06-30 22:00:00', '2021-06-30 23:00:00'],\n",
      "              dtype='datetime64[ns]', length=7272, freq='H')\n"
     ]
    }
   ],
   "source": [
    "import pandas as pd\n",
    "\n",
    "# 입항일시의 최솟값에서 출항일시의 최솟값에서 최대값 사이의 범위를 시간 단위로 생성(분과 초를 0으로 조정)\n",
    "start_time = anchored_ships['입항일시'].min().replace(minute=0, second=0)\n",
    "end_time = pd.Timestamp('2021-06-30 23:59:59') \n",
    "print(start_time)\n",
    "print(end_time)\n",
    "time_range = pd.date_range(start=start_time, end=end_time, freq='H')\n",
    "print(\"시간 범위:\")\n",
    "print(time_range)\n"
   ],
   "metadata": {
    "collapsed": false,
    "ExecuteTime": {
     "end_time": "2023-12-16T22:34:07.409089400Z",
     "start_time": "2023-12-16T22:34:07.390857900Z"
    }
   },
   "id": "4dcc2cc71dae7c7c"
  },
  {
   "cell_type": "code",
   "execution_count": 34,
   "outputs": [
    {
     "name": "stdout",
     "output_type": "stream",
     "text": [
      "시간별 정박 선박 수 초기화:\n",
      "2020-09-01 00:00:00    0\n",
      "2020-09-01 01:00:00    0\n",
      "2020-09-01 02:00:00    0\n",
      "2020-09-01 03:00:00    0\n",
      "2020-09-01 04:00:00    0\n",
      "2020-09-01 05:00:00    0\n",
      "2020-09-01 06:00:00    0\n",
      "2020-09-01 07:00:00    0\n",
      "2020-09-01 08:00:00    0\n",
      "2020-09-01 09:00:00    0\n",
      "Freq: H, dtype: int64\n"
     ]
    }
   ],
   "source": [
    "# 시간별 정박 선박 수 초기화\n",
    "anchored_count_per_hour = pd.Series(0, index=time_range)\n",
    "print(\"시간별 정박 선박 수 초기화:\")\n",
    "print(anchored_count_per_hour.head(10))"
   ],
   "metadata": {
    "collapsed": false,
    "ExecuteTime": {
     "end_time": "2023-12-16T22:34:21.924305100Z",
     "start_time": "2023-12-16T22:34:21.921265Z"
    }
   },
   "id": "d371cbcf394eb637"
  },
  {
   "cell_type": "markdown",
   "source": [],
   "metadata": {
    "collapsed": false
   },
   "id": "83adad3d304479ba"
  },
  {
   "cell_type": "code",
   "execution_count": 55,
   "outputs": [
    {
     "name": "stderr",
     "output_type": "stream",
     "text": [
      "C:\\Users\\uijin\\AppData\\Local\\Temp\\ipykernel_17608\\1585145299.py:1: SettingWithCopyWarning: \n",
      "A value is trying to be set on a copy of a slice from a DataFrame.\n",
      "Try using .loc[row_indexer,col_indexer] = value instead\n",
      "\n",
      "See the caveats in the documentation: https://pandas.pydata.org/pandas-docs/stable/user_guide/indexing.html#returning-a-view-versus-a-copy\n",
      "  anchored_ships['총톤수'] = anchored_ships['총톤수'].astype(str).str.replace(',', '').astype(float)\n"
     ]
    },
    {
     "name": "stdout",
     "output_type": "stream",
     "text": [
      "2020-09-01 00:00:00         0.0\n",
      "2020-09-01 01:00:00      9751.0\n",
      "2020-09-01 02:00:00      9929.0\n",
      "2020-09-01 03:00:00     21044.0\n",
      "2020-09-01 04:00:00     20866.0\n",
      "2020-09-01 05:00:00     20866.0\n",
      "2020-09-01 06:00:00     45399.0\n",
      "2020-09-01 07:00:00    104616.0\n",
      "2020-09-01 08:00:00    108479.0\n",
      "2020-09-01 09:00:00    121794.0\n",
      "2020-09-01 10:00:00    194723.0\n",
      "2020-09-01 11:00:00    199317.0\n",
      "2020-09-01 12:00:00    200582.0\n",
      "2020-09-01 13:00:00    203578.0\n",
      "2020-09-01 14:00:00    188477.0\n",
      "2020-09-01 15:00:00    188477.0\n",
      "2020-09-01 16:00:00    188667.0\n",
      "2020-09-01 17:00:00    188477.0\n",
      "2020-09-01 18:00:00    205596.0\n",
      "2020-09-01 19:00:00    215195.0\n",
      "2020-09-01 20:00:00    215195.0\n",
      "2020-09-01 21:00:00    216008.0\n",
      "2020-09-01 22:00:00    134018.0\n",
      "2020-09-01 23:00:00     44215.0\n",
      "2020-09-02 00:00:00     44215.0\n",
      "2020-09-02 01:00:00     44215.0\n",
      "2020-09-02 02:00:00     44215.0\n",
      "2020-09-02 03:00:00     44301.0\n",
      "2020-09-02 04:00:00     44301.0\n",
      "2020-09-02 05:00:00     46741.0\n",
      "Freq: H, dtype: float64\n",
      "2020-09-01 00:00:00     0\n",
      "2020-09-01 01:00:00     1\n",
      "2020-09-01 02:00:00     2\n",
      "2020-09-01 03:00:00     4\n",
      "2020-09-01 04:00:00     3\n",
      "2020-09-01 05:00:00     3\n",
      "2020-09-01 06:00:00     4\n",
      "2020-09-01 07:00:00     5\n",
      "2020-09-01 08:00:00     6\n",
      "2020-09-01 09:00:00     8\n",
      "2020-09-01 10:00:00    10\n",
      "2020-09-01 11:00:00    11\n",
      "2020-09-01 12:00:00    10\n",
      "2020-09-01 13:00:00    11\n",
      "2020-09-01 14:00:00     8\n",
      "2020-09-01 15:00:00     8\n",
      "2020-09-01 16:00:00     9\n",
      "2020-09-01 17:00:00     8\n",
      "2020-09-01 18:00:00     9\n",
      "2020-09-01 19:00:00    10\n",
      "2020-09-01 20:00:00    10\n",
      "2020-09-01 21:00:00    10\n",
      "2020-09-01 22:00:00     7\n",
      "2020-09-01 23:00:00     5\n",
      "2020-09-02 00:00:00     5\n",
      "2020-09-02 01:00:00     5\n",
      "2020-09-02 02:00:00     5\n",
      "2020-09-02 03:00:00     6\n",
      "2020-09-02 04:00:00     6\n",
      "2020-09-02 05:00:00     7\n",
      "Freq: H, dtype: int64\n"
     ]
    }
   ],
   "source": [
    "anchored_ships['총톤수'] = anchored_ships['총톤수'].astype(str).str.replace(',', '').astype(float)\n",
    "\n",
    "\n",
    "# 생성된 시간 범위를 인덱스로 하는 \n",
    "anchored_count_per_hour = pd.Series(0, index=time_range)\n",
    "total_tonnage_per_hour = pd.Series(0.0, index=time_range)\n",
    "\n",
    "for _, row in anchored_ships.iterrows():\n",
    "    anchored_count_per_hour[row['입항일시']:row['출항일시']] += 1\n",
    "    total_tonnage_per_hour[row['입항일시']:row['출항일시']] += row['총톤수']\n",
    "\n",
    "print(total_tonnage_per_hour.head(30))\n",
    "print(anchored_count_per_hour.head(30))"
   ],
   "metadata": {
    "collapsed": false,
    "ExecuteTime": {
     "end_time": "2023-12-16T23:28:31.187146700Z",
     "start_time": "2023-12-16T23:28:26.471189100Z"
    }
   },
   "id": "dc5afaea85f64f25"
  },
  {
   "cell_type": "code",
   "execution_count": 47,
   "outputs": [
    {
     "data": {
      "text/plain": "dtype('float64')"
     },
     "execution_count": 47,
     "metadata": {},
     "output_type": "execute_result"
    }
   ],
   "source": [
    "total_tonnage_per_hour"
   ],
   "metadata": {
    "collapsed": false,
    "ExecuteTime": {
     "end_time": "2023-12-16T23:15:22.256814Z",
     "start_time": "2023-12-16T23:15:22.246078600Z"
    }
   },
   "id": "f758d46a99025c86"
  },
  {
   "cell_type": "code",
   "execution_count": 49,
   "outputs": [
    {
     "name": "stdout",
     "output_type": "stream",
     "text": [
      "           날짜       시간대  TotalTonnage\n",
      "0  2020-09-01  00:00:00           0.0\n",
      "1  2020-09-01  01:00:00        9751.0\n",
      "2  2020-09-01  02:00:00        9929.0\n",
      "3  2020-09-01  03:00:00       21044.0\n",
      "4  2020-09-01  04:00:00       20866.0\n"
     ]
    }
   ],
   "source": [
    "# 시리즈를 데이터프레임으로 변환\n",
    "total_tonnage_df = total_tonnage_per_hour.reset_index()\n",
    "total_tonnage_df.columns = ['DateTime', 'TotalTonnage']\n",
    "\n",
    "# 날짜와 시간으로 분리\n",
    "total_tonnage_df['날짜'] = total_tonnage_df['DateTime'].dt.date\n",
    "total_tonnage_df['시간대'] = total_tonnage_df['DateTime'].dt.time\n",
    "\n",
    "# 필요한 열 선택\n",
    "total_tonnage_df = total_tonnage_df[['날짜', '시간대', 'TotalTonnage']]\n",
    "\n",
    "# 결과 확인\n",
    "print(total_tonnage_df.head())\n"
   ],
   "metadata": {
    "collapsed": false,
    "ExecuteTime": {
     "end_time": "2023-12-16T23:21:01.009618600Z",
     "start_time": "2023-12-16T23:21:00.984800400Z"
    }
   },
   "id": "24b9fa614104bdab"
  },
  {
   "cell_type": "code",
   "execution_count": 60,
   "outputs": [
    {
     "name": "stdout",
     "output_type": "stream",
     "text": [
      "           날짜       시간대  anchored_count\n",
      "0  2020-09-01  00:00:00               0\n",
      "1  2020-09-01  01:00:00               1\n",
      "2  2020-09-01  02:00:00               2\n",
      "3  2020-09-01  03:00:00               4\n",
      "4  2020-09-01  04:00:00               3\n"
     ]
    }
   ],
   "source": [
    "# 시리즈를 데이터프레임으로 변환\n",
    "anchored_count_df = anchored_count_per_hour.reset_index()\n",
    "anchored_count_df.columns = ['DateTime', 'anchored_count']\n",
    "\n",
    "# 날짜와 시간으로 분리\n",
    "anchored_count_df['날짜'] = anchored_count_df['DateTime'].dt.date\n",
    "anchored_count_df['시간대'] = anchored_count_df['DateTime'].dt.time\n",
    "\n",
    "# 필요한 열 선택\n",
    "anchored_count_df = anchored_count_df[['날짜', '시간대', 'anchored_count']]\n",
    "\n",
    "# 결과 확인\n",
    "print(anchored_count_df.head())\n"
   ],
   "metadata": {
    "collapsed": false,
    "ExecuteTime": {
     "end_time": "2023-12-16T23:31:33.399931400Z",
     "start_time": "2023-12-16T23:31:33.363676Z"
    }
   },
   "id": "8ee31099ea909d57"
  },
  {
   "cell_type": "code",
   "execution_count": 61,
   "outputs": [
    {
     "data": {
      "text/plain": "              날짜       시간대  anchored_count\n0     2020-09-01  00:00:00               0\n1     2020-09-01  01:00:00               1\n2     2020-09-01  02:00:00               2\n3     2020-09-01  03:00:00               4\n4     2020-09-01  04:00:00               3\n...          ...       ...             ...\n7267  2021-06-30  19:00:00              79\n7268  2021-06-30  20:00:00              80\n7269  2021-06-30  21:00:00              81\n7270  2021-06-30  22:00:00              80\n7271  2021-06-30  23:00:00              79\n\n[7272 rows x 3 columns]",
      "text/html": "<div>\n<style scoped>\n    .dataframe tbody tr th:only-of-type {\n        vertical-align: middle;\n    }\n\n    .dataframe tbody tr th {\n        vertical-align: top;\n    }\n\n    .dataframe thead th {\n        text-align: right;\n    }\n</style>\n<table border=\"1\" class=\"dataframe\">\n  <thead>\n    <tr style=\"text-align: right;\">\n      <th></th>\n      <th>날짜</th>\n      <th>시간대</th>\n      <th>anchored_count</th>\n    </tr>\n  </thead>\n  <tbody>\n    <tr>\n      <th>0</th>\n      <td>2020-09-01</td>\n      <td>00:00:00</td>\n      <td>0</td>\n    </tr>\n    <tr>\n      <th>1</th>\n      <td>2020-09-01</td>\n      <td>01:00:00</td>\n      <td>1</td>\n    </tr>\n    <tr>\n      <th>2</th>\n      <td>2020-09-01</td>\n      <td>02:00:00</td>\n      <td>2</td>\n    </tr>\n    <tr>\n      <th>3</th>\n      <td>2020-09-01</td>\n      <td>03:00:00</td>\n      <td>4</td>\n    </tr>\n    <tr>\n      <th>4</th>\n      <td>2020-09-01</td>\n      <td>04:00:00</td>\n      <td>3</td>\n    </tr>\n    <tr>\n      <th>...</th>\n      <td>...</td>\n      <td>...</td>\n      <td>...</td>\n    </tr>\n    <tr>\n      <th>7267</th>\n      <td>2021-06-30</td>\n      <td>19:00:00</td>\n      <td>79</td>\n    </tr>\n    <tr>\n      <th>7268</th>\n      <td>2021-06-30</td>\n      <td>20:00:00</td>\n      <td>80</td>\n    </tr>\n    <tr>\n      <th>7269</th>\n      <td>2021-06-30</td>\n      <td>21:00:00</td>\n      <td>81</td>\n    </tr>\n    <tr>\n      <th>7270</th>\n      <td>2021-06-30</td>\n      <td>22:00:00</td>\n      <td>80</td>\n    </tr>\n    <tr>\n      <th>7271</th>\n      <td>2021-06-30</td>\n      <td>23:00:00</td>\n      <td>79</td>\n    </tr>\n  </tbody>\n</table>\n<p>7272 rows × 3 columns</p>\n</div>"
     },
     "execution_count": 61,
     "metadata": {},
     "output_type": "execute_result"
    }
   ],
   "source": [
    "anchored_count_df"
   ],
   "metadata": {
    "collapsed": false,
    "ExecuteTime": {
     "end_time": "2023-12-16T23:31:37.688659900Z",
     "start_time": "2023-12-16T23:31:37.669171400Z"
    }
   },
   "id": "8d91f3586795b9e1"
  },
  {
   "cell_type": "code",
   "execution_count": 62,
   "outputs": [
    {
     "name": "stdout",
     "output_type": "stream",
     "text": [
      "anchored_count_df 데이터 타입:\n",
      "날짜                object\n",
      "시간대               object\n",
      "anchored_count     int64\n",
      "dtype: object\n",
      "anchored_count_df 상위 5개 샘플:\n",
      "           날짜       시간대\n",
      "0  2020-09-01  00:00:00\n",
      "1  2020-09-01  01:00:00\n",
      "2  2020-09-01  02:00:00\n",
      "3  2020-09-01  03:00:00\n",
      "4  2020-09-01  04:00:00\n",
      "\n",
      "total_tonnage_df 데이터 타입:\n",
      "날짜               object\n",
      "시간대              object\n",
      "TotalTonnage    float64\n",
      "dtype: object\n",
      "total_tonnage_df 상위 5개 샘플:\n",
      "           날짜       시간대\n",
      "0  2020-09-01  00:00:00\n",
      "1  2020-09-01  01:00:00\n",
      "2  2020-09-01  02:00:00\n",
      "3  2020-09-01  03:00:00\n",
      "4  2020-09-01  04:00:00\n"
     ]
    }
   ],
   "source": [
    "print(\"anchored_count_df 데이터 타입:\")\n",
    "print(anchored_count_df.dtypes)\n",
    "print(\"anchored_count_df 상위 5개 샘플:\")\n",
    "print(anchored_count_df[['날짜', '시간대']].head())\n",
    "\n",
    "print(\"\\ntotal_tonnage_df 데이터 타입:\")\n",
    "print(total_tonnage_df.dtypes)\n",
    "print(\"total_tonnage_df 상위 5개 샘플:\")\n",
    "print(total_tonnage_df[['날짜', '시간대']].head())\n"
   ],
   "metadata": {
    "collapsed": false,
    "ExecuteTime": {
     "end_time": "2023-12-16T23:34:47.318044600Z",
     "start_time": "2023-12-16T23:34:47.250410400Z"
    }
   },
   "id": "e6fc4ea80f0056a7"
  },
  {
   "cell_type": "code",
   "execution_count": 65,
   "outputs": [
    {
     "ename": "TypeError",
     "evalue": "<class 'datetime.time'> is not convertible to datetime",
     "output_type": "error",
     "traceback": [
      "\u001B[1;31m---------------------------------------------------------------------------\u001B[0m",
      "\u001B[1;31mTypeError\u001B[0m                                 Traceback (most recent call last)",
      "Cell \u001B[1;32mIn[65], line 5\u001B[0m\n\u001B[0;32m      2\u001B[0m anchored_count_df[\u001B[38;5;124m'\u001B[39m\u001B[38;5;124m날짜\u001B[39m\u001B[38;5;124m'\u001B[39m] \u001B[38;5;241m=\u001B[39m pd\u001B[38;5;241m.\u001B[39mto_datetime(anchored_count_df[\u001B[38;5;124m'\u001B[39m\u001B[38;5;124m날짜\u001B[39m\u001B[38;5;124m'\u001B[39m])\n\u001B[0;32m      4\u001B[0m \u001B[38;5;66;03m# '시간대' 열을 datetime.time 타입으로 변환\u001B[39;00m\n\u001B[1;32m----> 5\u001B[0m anchored_count_df[\u001B[38;5;124m'\u001B[39m\u001B[38;5;124m시간대\u001B[39m\u001B[38;5;124m'\u001B[39m] \u001B[38;5;241m=\u001B[39m pd\u001B[38;5;241m.\u001B[39mto_datetime(anchored_count_df[\u001B[38;5;124m'\u001B[39m\u001B[38;5;124m시간대\u001B[39m\u001B[38;5;124m'\u001B[39m])\u001B[38;5;241m.\u001B[39mdt\u001B[38;5;241m.\u001B[39mtime\n\u001B[0;32m      7\u001B[0m \u001B[38;5;66;03m# anchored_count_df['시간대'] = pd.to_datetime(anchored_count_df['시간대'], format='%H:%M:%S').dt.time\u001B[39;00m\n\u001B[0;32m      8\u001B[0m \u001B[38;5;66;03m# total_tonnage_df datetime 변환\u001B[39;00m\n\u001B[0;32m      9\u001B[0m \u001B[38;5;66;03m# total_tonnage_df['날짜'] = pd.to_datetime(total_tonnage_df['날짜'])\u001B[39;00m\n\u001B[0;32m     10\u001B[0m \u001B[38;5;66;03m# total_tonnage_df['시간대'] = pd.to_datetime(total_tonnage_df['시간대'], format='%H:%M:%S').dt.time\u001B[39;00m\n\u001B[0;32m     11\u001B[0m \u001B[38;5;66;03m# \u001B[39;00m\n\u001B[0;32m     12\u001B[0m \u001B[38;5;66;03m# # 결과 확인\u001B[39;00m\n\u001B[0;32m     13\u001B[0m \u001B[38;5;28mprint\u001B[39m(\u001B[38;5;124m\"\u001B[39m\u001B[38;5;124manchored_count_df 변환 후 데이터 타입:\u001B[39m\u001B[38;5;124m\"\u001B[39m)\n",
      "File \u001B[1;32m~\\AppData\\Local\\anaconda3\\Lib\\site-packages\\pandas\\core\\tools\\datetimes.py:1064\u001B[0m, in \u001B[0;36mto_datetime\u001B[1;34m(arg, errors, dayfirst, yearfirst, utc, format, exact, unit, infer_datetime_format, origin, cache)\u001B[0m\n\u001B[0;32m   1062\u001B[0m             result \u001B[38;5;241m=\u001B[39m arg\u001B[38;5;241m.\u001B[39mtz_localize(tz)\n\u001B[0;32m   1063\u001B[0m \u001B[38;5;28;01melif\u001B[39;00m \u001B[38;5;28misinstance\u001B[39m(arg, ABCSeries):\n\u001B[1;32m-> 1064\u001B[0m     cache_array \u001B[38;5;241m=\u001B[39m _maybe_cache(arg, \u001B[38;5;28mformat\u001B[39m, cache, convert_listlike)\n\u001B[0;32m   1065\u001B[0m     \u001B[38;5;28;01mif\u001B[39;00m \u001B[38;5;129;01mnot\u001B[39;00m cache_array\u001B[38;5;241m.\u001B[39mempty:\n\u001B[0;32m   1066\u001B[0m         result \u001B[38;5;241m=\u001B[39m arg\u001B[38;5;241m.\u001B[39mmap(cache_array)\n",
      "File \u001B[1;32m~\\AppData\\Local\\anaconda3\\Lib\\site-packages\\pandas\\core\\tools\\datetimes.py:229\u001B[0m, in \u001B[0;36m_maybe_cache\u001B[1;34m(arg, format, cache, convert_listlike)\u001B[0m\n\u001B[0;32m    227\u001B[0m unique_dates \u001B[38;5;241m=\u001B[39m unique(arg)\n\u001B[0;32m    228\u001B[0m \u001B[38;5;28;01mif\u001B[39;00m \u001B[38;5;28mlen\u001B[39m(unique_dates) \u001B[38;5;241m<\u001B[39m \u001B[38;5;28mlen\u001B[39m(arg):\n\u001B[1;32m--> 229\u001B[0m     cache_dates \u001B[38;5;241m=\u001B[39m convert_listlike(unique_dates, \u001B[38;5;28mformat\u001B[39m)\n\u001B[0;32m    230\u001B[0m     \u001B[38;5;66;03m# GH#45319\u001B[39;00m\n\u001B[0;32m    231\u001B[0m     \u001B[38;5;28;01mtry\u001B[39;00m:\n",
      "File \u001B[1;32m~\\AppData\\Local\\anaconda3\\Lib\\site-packages\\pandas\\core\\tools\\datetimes.py:438\u001B[0m, in \u001B[0;36m_convert_listlike_datetimes\u001B[1;34m(arg, format, name, tz, unit, errors, infer_datetime_format, dayfirst, yearfirst, exact)\u001B[0m\n\u001B[0;32m    436\u001B[0m \u001B[38;5;28;01massert\u001B[39;00m \u001B[38;5;28mformat\u001B[39m \u001B[38;5;129;01mis\u001B[39;00m \u001B[38;5;28;01mNone\u001B[39;00m \u001B[38;5;129;01mor\u001B[39;00m infer_datetime_format\n\u001B[0;32m    437\u001B[0m utc \u001B[38;5;241m=\u001B[39m tz \u001B[38;5;241m==\u001B[39m \u001B[38;5;124m\"\u001B[39m\u001B[38;5;124mutc\u001B[39m\u001B[38;5;124m\"\u001B[39m\n\u001B[1;32m--> 438\u001B[0m result, tz_parsed \u001B[38;5;241m=\u001B[39m objects_to_datetime64ns(\n\u001B[0;32m    439\u001B[0m     arg,\n\u001B[0;32m    440\u001B[0m     dayfirst\u001B[38;5;241m=\u001B[39mdayfirst,\n\u001B[0;32m    441\u001B[0m     yearfirst\u001B[38;5;241m=\u001B[39myearfirst,\n\u001B[0;32m    442\u001B[0m     utc\u001B[38;5;241m=\u001B[39mutc,\n\u001B[0;32m    443\u001B[0m     errors\u001B[38;5;241m=\u001B[39merrors,\n\u001B[0;32m    444\u001B[0m     require_iso8601\u001B[38;5;241m=\u001B[39mrequire_iso8601,\n\u001B[0;32m    445\u001B[0m     allow_object\u001B[38;5;241m=\u001B[39m\u001B[38;5;28;01mTrue\u001B[39;00m,\n\u001B[0;32m    446\u001B[0m )\n\u001B[0;32m    448\u001B[0m \u001B[38;5;28;01mif\u001B[39;00m tz_parsed \u001B[38;5;129;01mis\u001B[39;00m \u001B[38;5;129;01mnot\u001B[39;00m \u001B[38;5;28;01mNone\u001B[39;00m:\n\u001B[0;32m    449\u001B[0m     \u001B[38;5;66;03m# We can take a shortcut since the datetime64 numpy array\u001B[39;00m\n\u001B[0;32m    450\u001B[0m     \u001B[38;5;66;03m# is in UTC\u001B[39;00m\n\u001B[0;32m    451\u001B[0m     dta \u001B[38;5;241m=\u001B[39m DatetimeArray(result, dtype\u001B[38;5;241m=\u001B[39mtz_to_dtype(tz_parsed))\n",
      "File \u001B[1;32m~\\AppData\\Local\\anaconda3\\Lib\\site-packages\\pandas\\core\\arrays\\datetimes.py:2177\u001B[0m, in \u001B[0;36mobjects_to_datetime64ns\u001B[1;34m(data, dayfirst, yearfirst, utc, errors, require_iso8601, allow_object, allow_mixed)\u001B[0m\n\u001B[0;32m   2175\u001B[0m order: Literal[\u001B[38;5;124m\"\u001B[39m\u001B[38;5;124mF\u001B[39m\u001B[38;5;124m\"\u001B[39m, \u001B[38;5;124m\"\u001B[39m\u001B[38;5;124mC\u001B[39m\u001B[38;5;124m\"\u001B[39m] \u001B[38;5;241m=\u001B[39m \u001B[38;5;124m\"\u001B[39m\u001B[38;5;124mF\u001B[39m\u001B[38;5;124m\"\u001B[39m \u001B[38;5;28;01mif\u001B[39;00m flags\u001B[38;5;241m.\u001B[39mf_contiguous \u001B[38;5;28;01melse\u001B[39;00m \u001B[38;5;124m\"\u001B[39m\u001B[38;5;124mC\u001B[39m\u001B[38;5;124m\"\u001B[39m\n\u001B[0;32m   2176\u001B[0m \u001B[38;5;28;01mtry\u001B[39;00m:\n\u001B[1;32m-> 2177\u001B[0m     result, tz_parsed \u001B[38;5;241m=\u001B[39m tslib\u001B[38;5;241m.\u001B[39marray_to_datetime(\n\u001B[0;32m   2178\u001B[0m         data\u001B[38;5;241m.\u001B[39mravel(\u001B[38;5;124m\"\u001B[39m\u001B[38;5;124mK\u001B[39m\u001B[38;5;124m\"\u001B[39m),\n\u001B[0;32m   2179\u001B[0m         errors\u001B[38;5;241m=\u001B[39merrors,\n\u001B[0;32m   2180\u001B[0m         utc\u001B[38;5;241m=\u001B[39mutc,\n\u001B[0;32m   2181\u001B[0m         dayfirst\u001B[38;5;241m=\u001B[39mdayfirst,\n\u001B[0;32m   2182\u001B[0m         yearfirst\u001B[38;5;241m=\u001B[39myearfirst,\n\u001B[0;32m   2183\u001B[0m         require_iso8601\u001B[38;5;241m=\u001B[39mrequire_iso8601,\n\u001B[0;32m   2184\u001B[0m         allow_mixed\u001B[38;5;241m=\u001B[39mallow_mixed,\n\u001B[0;32m   2185\u001B[0m     )\n\u001B[0;32m   2186\u001B[0m     result \u001B[38;5;241m=\u001B[39m result\u001B[38;5;241m.\u001B[39mreshape(data\u001B[38;5;241m.\u001B[39mshape, order\u001B[38;5;241m=\u001B[39morder)\n\u001B[0;32m   2187\u001B[0m \u001B[38;5;28;01mexcept\u001B[39;00m \u001B[38;5;167;01mOverflowError\u001B[39;00m \u001B[38;5;28;01mas\u001B[39;00m err:\n\u001B[0;32m   2188\u001B[0m     \u001B[38;5;66;03m# Exception is raised when a part of date is greater than 32 bit signed int\u001B[39;00m\n",
      "File \u001B[1;32m~\\AppData\\Local\\anaconda3\\Lib\\site-packages\\pandas\\_libs\\tslib.pyx:427\u001B[0m, in \u001B[0;36mpandas._libs.tslib.array_to_datetime\u001B[1;34m()\u001B[0m\n",
      "File \u001B[1;32m~\\AppData\\Local\\anaconda3\\Lib\\site-packages\\pandas\\_libs\\tslib.pyx:683\u001B[0m, in \u001B[0;36mpandas._libs.tslib.array_to_datetime\u001B[1;34m()\u001B[0m\n",
      "File \u001B[1;32m~\\AppData\\Local\\anaconda3\\Lib\\site-packages\\pandas\\_libs\\tslib.pyx:833\u001B[0m, in \u001B[0;36mpandas._libs.tslib._array_to_datetime_object\u001B[1;34m()\u001B[0m\n",
      "File \u001B[1;32m~\\AppData\\Local\\anaconda3\\Lib\\site-packages\\pandas\\_libs\\tslib.pyx:655\u001B[0m, in \u001B[0;36mpandas._libs.tslib.array_to_datetime\u001B[1;34m()\u001B[0m\n",
      "\u001B[1;31mTypeError\u001B[0m: <class 'datetime.time'> is not convertible to datetime"
     ]
    }
   ],
   "source": [
    "# '날짜' 열을 datetime 타입으로 변환\n",
    "anchored_count_df['날짜'] = pd.to_datetime(anchored_count_df['날짜'])\n",
    "\n",
    "# '시간대' 열을 datetime.time 타입으로 변환\n",
    "anchored_count_df['시간대'] = pd.to_datetime(anchored_count_df['시간대']).dt.time\n",
    "\n",
    "# anchored_count_df['시간대'] = pd.to_datetime(anchored_count_df['시간대'], format='%H:%M:%S').dt.time\n",
    "# total_tonnage_df datetime 변환\n",
    "# total_tonnage_df['날짜'] = pd.to_datetime(total_tonnage_df['날짜'])\n",
    "# total_tonnage_df['시간대'] = pd.to_datetime(total_tonnage_df['시간대'], format='%H:%M:%S').dt.time\n",
    "# \n",
    "# # 결과 확인\n",
    "print(\"anchored_count_df 변환 후 데이터 타입:\")\n",
    "print(anchored_count_df.dtypes)\n",
    "print(anchored_count_df.head())\n",
    "# \n",
    "# print(\"\\ntotal_tonnage_df 변환 후 데이터 타입:\")\n",
    "# print(total_tonnage_df.dtypes)\n",
    "# print(total_tonnage_df.head())\n"
   ],
   "metadata": {
    "collapsed": false,
    "ExecuteTime": {
     "end_time": "2023-12-16T23:41:58.854672200Z",
     "start_time": "2023-12-16T23:41:58.595214100Z"
    }
   },
   "id": "b221fcf994f5c96b"
  },
  {
   "cell_type": "code",
   "execution_count": 76,
   "outputs": [
    {
     "name": "stdout",
     "output_type": "stream",
     "text": [
      "             DateTime  TotalTonnage          날짜       시간대\n",
      "0 2020-09-01 00:00:00           0.0  2020-09-01  00:00:00\n",
      "1 2020-09-01 01:00:00        9751.0  2020-09-01  01:00:00\n",
      "2 2020-09-01 02:00:00        9929.0  2020-09-01  02:00:00\n",
      "3 2020-09-01 03:00:00       21044.0  2020-09-01  03:00:00\n",
      "4 2020-09-01 04:00:00       20866.0  2020-09-01  04:00:00\n"
     ]
    }
   ],
   "source": [
    "import pandas as pd\n",
    "\n",
    "# 시리즈를 데이터프레임으로 변환하고 인덱스를 열로 변환\n",
    "df = total_tonnage_per_hour.reset_index()\n",
    "df.columns = ['DateTime', 'TotalTonnage']\n",
    "\n",
    "# 'DateTime' 열을 이용하여 '날짜'와 '시간대' 열 생성\n",
    "df['날짜'] = df['DateTime'].dt.date\n",
    "df['시간대'] = df['DateTime'].dt.time\n",
    "\n",
    "\n",
    "tonnage_df = df\n",
    "# 결과 확인\n",
    "print(tonnage_df.head())"
   ],
   "metadata": {
    "collapsed": false,
    "ExecuteTime": {
     "end_time": "2023-12-17T00:12:24.456123100Z",
     "start_time": "2023-12-17T00:12:24.425687200Z"
    }
   },
   "id": "94dfc3ec74588036"
  },
  {
   "cell_type": "code",
   "execution_count": 73,
   "outputs": [
    {
     "data": {
      "text/plain": "             날짜       시간대  anchored_count\n0    2020-09-01  00:00:00               0\n1    2020-09-01  01:00:00               1\n2    2020-09-01  02:00:00               2\n3    2020-09-01  03:00:00               4\n4    2020-09-01  04:00:00               3\n...         ...       ...             ...\n7267 2021-06-30  19:00:00              79\n7268 2021-06-30  20:00:00              80\n7269 2021-06-30  21:00:00              81\n7270 2021-06-30  22:00:00              80\n7271 2021-06-30  23:00:00              79\n\n[7272 rows x 3 columns]",
      "text/html": "<div>\n<style scoped>\n    .dataframe tbody tr th:only-of-type {\n        vertical-align: middle;\n    }\n\n    .dataframe tbody tr th {\n        vertical-align: top;\n    }\n\n    .dataframe thead th {\n        text-align: right;\n    }\n</style>\n<table border=\"1\" class=\"dataframe\">\n  <thead>\n    <tr style=\"text-align: right;\">\n      <th></th>\n      <th>날짜</th>\n      <th>시간대</th>\n      <th>anchored_count</th>\n    </tr>\n  </thead>\n  <tbody>\n    <tr>\n      <th>0</th>\n      <td>2020-09-01</td>\n      <td>00:00:00</td>\n      <td>0</td>\n    </tr>\n    <tr>\n      <th>1</th>\n      <td>2020-09-01</td>\n      <td>01:00:00</td>\n      <td>1</td>\n    </tr>\n    <tr>\n      <th>2</th>\n      <td>2020-09-01</td>\n      <td>02:00:00</td>\n      <td>2</td>\n    </tr>\n    <tr>\n      <th>3</th>\n      <td>2020-09-01</td>\n      <td>03:00:00</td>\n      <td>4</td>\n    </tr>\n    <tr>\n      <th>4</th>\n      <td>2020-09-01</td>\n      <td>04:00:00</td>\n      <td>3</td>\n    </tr>\n    <tr>\n      <th>...</th>\n      <td>...</td>\n      <td>...</td>\n      <td>...</td>\n    </tr>\n    <tr>\n      <th>7267</th>\n      <td>2021-06-30</td>\n      <td>19:00:00</td>\n      <td>79</td>\n    </tr>\n    <tr>\n      <th>7268</th>\n      <td>2021-06-30</td>\n      <td>20:00:00</td>\n      <td>80</td>\n    </tr>\n    <tr>\n      <th>7269</th>\n      <td>2021-06-30</td>\n      <td>21:00:00</td>\n      <td>81</td>\n    </tr>\n    <tr>\n      <th>7270</th>\n      <td>2021-06-30</td>\n      <td>22:00:00</td>\n      <td>80</td>\n    </tr>\n    <tr>\n      <th>7271</th>\n      <td>2021-06-30</td>\n      <td>23:00:00</td>\n      <td>79</td>\n    </tr>\n  </tbody>\n</table>\n<p>7272 rows × 3 columns</p>\n</div>"
     },
     "execution_count": 73,
     "metadata": {},
     "output_type": "execute_result"
    }
   ],
   "source": [
    "anchored_count_df"
   ],
   "metadata": {
    "collapsed": false,
    "ExecuteTime": {
     "end_time": "2023-12-17T00:08:50.178120600Z",
     "start_time": "2023-12-17T00:08:50.121485400Z"
    }
   },
   "id": "ba6e4ec080da33ce"
  },
  {
   "cell_type": "code",
   "execution_count": 74,
   "outputs": [
    {
     "data": {
      "text/plain": "                DateTime  TotalTonnage          날짜       시간대\n0    2020-09-01 00:00:00           0.0  2020-09-01  00:00:00\n1    2020-09-01 01:00:00        9751.0  2020-09-01  01:00:00\n2    2020-09-01 02:00:00        9929.0  2020-09-01  02:00:00\n3    2020-09-01 03:00:00       21044.0  2020-09-01  03:00:00\n4    2020-09-01 04:00:00       20866.0  2020-09-01  04:00:00\n...                  ...           ...         ...       ...\n7267 2021-06-30 19:00:00           NaN  2021-06-30  19:00:00\n7268 2021-06-30 20:00:00           NaN  2021-06-30  20:00:00\n7269 2021-06-30 21:00:00           NaN  2021-06-30  21:00:00\n7270 2021-06-30 22:00:00           NaN  2021-06-30  22:00:00\n7271 2021-06-30 23:00:00           NaN  2021-06-30  23:00:00\n\n[7272 rows x 4 columns]",
      "text/html": "<div>\n<style scoped>\n    .dataframe tbody tr th:only-of-type {\n        vertical-align: middle;\n    }\n\n    .dataframe tbody tr th {\n        vertical-align: top;\n    }\n\n    .dataframe thead th {\n        text-align: right;\n    }\n</style>\n<table border=\"1\" class=\"dataframe\">\n  <thead>\n    <tr style=\"text-align: right;\">\n      <th></th>\n      <th>DateTime</th>\n      <th>TotalTonnage</th>\n      <th>날짜</th>\n      <th>시간대</th>\n    </tr>\n  </thead>\n  <tbody>\n    <tr>\n      <th>0</th>\n      <td>2020-09-01 00:00:00</td>\n      <td>0.0</td>\n      <td>2020-09-01</td>\n      <td>00:00:00</td>\n    </tr>\n    <tr>\n      <th>1</th>\n      <td>2020-09-01 01:00:00</td>\n      <td>9751.0</td>\n      <td>2020-09-01</td>\n      <td>01:00:00</td>\n    </tr>\n    <tr>\n      <th>2</th>\n      <td>2020-09-01 02:00:00</td>\n      <td>9929.0</td>\n      <td>2020-09-01</td>\n      <td>02:00:00</td>\n    </tr>\n    <tr>\n      <th>3</th>\n      <td>2020-09-01 03:00:00</td>\n      <td>21044.0</td>\n      <td>2020-09-01</td>\n      <td>03:00:00</td>\n    </tr>\n    <tr>\n      <th>4</th>\n      <td>2020-09-01 04:00:00</td>\n      <td>20866.0</td>\n      <td>2020-09-01</td>\n      <td>04:00:00</td>\n    </tr>\n    <tr>\n      <th>...</th>\n      <td>...</td>\n      <td>...</td>\n      <td>...</td>\n      <td>...</td>\n    </tr>\n    <tr>\n      <th>7267</th>\n      <td>2021-06-30 19:00:00</td>\n      <td>NaN</td>\n      <td>2021-06-30</td>\n      <td>19:00:00</td>\n    </tr>\n    <tr>\n      <th>7268</th>\n      <td>2021-06-30 20:00:00</td>\n      <td>NaN</td>\n      <td>2021-06-30</td>\n      <td>20:00:00</td>\n    </tr>\n    <tr>\n      <th>7269</th>\n      <td>2021-06-30 21:00:00</td>\n      <td>NaN</td>\n      <td>2021-06-30</td>\n      <td>21:00:00</td>\n    </tr>\n    <tr>\n      <th>7270</th>\n      <td>2021-06-30 22:00:00</td>\n      <td>NaN</td>\n      <td>2021-06-30</td>\n      <td>22:00:00</td>\n    </tr>\n    <tr>\n      <th>7271</th>\n      <td>2021-06-30 23:00:00</td>\n      <td>NaN</td>\n      <td>2021-06-30</td>\n      <td>23:00:00</td>\n    </tr>\n  </tbody>\n</table>\n<p>7272 rows × 4 columns</p>\n</div>"
     },
     "execution_count": 74,
     "metadata": {},
     "output_type": "execute_result"
    }
   ],
   "source": [
    "df"
   ],
   "metadata": {
    "collapsed": false,
    "ExecuteTime": {
     "end_time": "2023-12-17T00:09:13.950508Z",
     "start_time": "2023-12-17T00:09:13.916356900Z"
    }
   },
   "id": "ff1ad5e9da4e9aec"
  },
  {
   "cell_type": "code",
   "execution_count": 77,
   "outputs": [
    {
     "data": {
      "text/plain": "      TotalTonnage          날짜       시간대\n0              0.0  2020-09-01  00:00:00\n1           9751.0  2020-09-01  01:00:00\n2           9929.0  2020-09-01  02:00:00\n3          21044.0  2020-09-01  03:00:00\n4          20866.0  2020-09-01  04:00:00\n...            ...         ...       ...\n7267           NaN  2021-06-30  19:00:00\n7268           NaN  2021-06-30  20:00:00\n7269           NaN  2021-06-30  21:00:00\n7270           NaN  2021-06-30  22:00:00\n7271           NaN  2021-06-30  23:00:00\n\n[7272 rows x 3 columns]",
      "text/html": "<div>\n<style scoped>\n    .dataframe tbody tr th:only-of-type {\n        vertical-align: middle;\n    }\n\n    .dataframe tbody tr th {\n        vertical-align: top;\n    }\n\n    .dataframe thead th {\n        text-align: right;\n    }\n</style>\n<table border=\"1\" class=\"dataframe\">\n  <thead>\n    <tr style=\"text-align: right;\">\n      <th></th>\n      <th>TotalTonnage</th>\n      <th>날짜</th>\n      <th>시간대</th>\n    </tr>\n  </thead>\n  <tbody>\n    <tr>\n      <th>0</th>\n      <td>0.0</td>\n      <td>2020-09-01</td>\n      <td>00:00:00</td>\n    </tr>\n    <tr>\n      <th>1</th>\n      <td>9751.0</td>\n      <td>2020-09-01</td>\n      <td>01:00:00</td>\n    </tr>\n    <tr>\n      <th>2</th>\n      <td>9929.0</td>\n      <td>2020-09-01</td>\n      <td>02:00:00</td>\n    </tr>\n    <tr>\n      <th>3</th>\n      <td>21044.0</td>\n      <td>2020-09-01</td>\n      <td>03:00:00</td>\n    </tr>\n    <tr>\n      <th>4</th>\n      <td>20866.0</td>\n      <td>2020-09-01</td>\n      <td>04:00:00</td>\n    </tr>\n    <tr>\n      <th>...</th>\n      <td>...</td>\n      <td>...</td>\n      <td>...</td>\n    </tr>\n    <tr>\n      <th>7267</th>\n      <td>NaN</td>\n      <td>2021-06-30</td>\n      <td>19:00:00</td>\n    </tr>\n    <tr>\n      <th>7268</th>\n      <td>NaN</td>\n      <td>2021-06-30</td>\n      <td>20:00:00</td>\n    </tr>\n    <tr>\n      <th>7269</th>\n      <td>NaN</td>\n      <td>2021-06-30</td>\n      <td>21:00:00</td>\n    </tr>\n    <tr>\n      <th>7270</th>\n      <td>NaN</td>\n      <td>2021-06-30</td>\n      <td>22:00:00</td>\n    </tr>\n    <tr>\n      <th>7271</th>\n      <td>NaN</td>\n      <td>2021-06-30</td>\n      <td>23:00:00</td>\n    </tr>\n  </tbody>\n</table>\n<p>7272 rows × 3 columns</p>\n</div>"
     },
     "execution_count": 77,
     "metadata": {},
     "output_type": "execute_result"
    }
   ],
   "source": [
    "tonnage_df = df.drop(['DateTime'], axis=1)\n",
    "tonnage_df"
   ],
   "metadata": {
    "collapsed": false,
    "ExecuteTime": {
     "end_time": "2023-12-17T00:12:45.847495700Z",
     "start_time": "2023-12-17T00:12:45.817727300Z"
    }
   },
   "id": "c1455ced4fefabb3"
  },
  {
   "cell_type": "code",
   "execution_count": 80,
   "outputs": [
    {
     "name": "stdout",
     "output_type": "stream",
     "text": [
      "      TotalTonnage          날짜       시간대\n",
      "0              0.0  2020-09-01  00:00:00\n",
      "1           9751.0  2020-09-01  01:00:00\n",
      "2           9929.0  2020-09-01  02:00:00\n",
      "3          21044.0  2020-09-01  03:00:00\n",
      "4          20866.0  2020-09-01  04:00:00\n",
      "...            ...         ...       ...\n",
      "7267           NaN  2021-06-30  19:00:00\n",
      "7268           NaN  2021-06-30  20:00:00\n",
      "7269           NaN  2021-06-30  21:00:00\n",
      "7270           NaN  2021-06-30  22:00:00\n",
      "7271           NaN  2021-06-30  23:00:00\n",
      "\n",
      "[7272 rows x 3 columns]\n",
      "             날짜       시간대  anchored_count\n",
      "0    2020-09-01  00:00:00               0\n",
      "1    2020-09-01  01:00:00               1\n",
      "2    2020-09-01  02:00:00               2\n",
      "3    2020-09-01  03:00:00               4\n",
      "4    2020-09-01  04:00:00               3\n",
      "...         ...       ...             ...\n",
      "7267 2021-06-30  19:00:00              79\n",
      "7268 2021-06-30  20:00:00              80\n",
      "7269 2021-06-30  21:00:00              81\n",
      "7270 2021-06-30  22:00:00              80\n",
      "7271 2021-06-30  23:00:00              79\n",
      "\n",
      "[7272 rows x 3 columns]\n"
     ]
    }
   ],
   "source": [
    "print(tonnage_df)\n",
    "print(anchored_count_df)"
   ],
   "metadata": {
    "collapsed": false,
    "ExecuteTime": {
     "end_time": "2023-12-17T00:13:14.385990700Z",
     "start_time": "2023-12-17T00:13:14.371058400Z"
    }
   },
   "id": "cf951ff80a2ac921"
  },
  {
   "cell_type": "code",
   "execution_count": 86,
   "outputs": [
    {
     "name": "stdout",
     "output_type": "stream",
     "text": [
      "          날짜       시간대  anchored_count  TotalTonnage\n",
      "0 2020-09-01  00:00:00               0           0.0\n",
      "1 2020-09-01  01:00:00               1        9751.0\n",
      "2 2020-09-01  02:00:00               2        9929.0\n",
      "3 2020-09-01  03:00:00               4       21044.0\n",
      "4 2020-09-01  04:00:00               3       20866.0\n"
     ]
    }
   ],
   "source": [
    "# 두 데이터프레임을 '날짜'와 '시간대'를 기준으로 합치기\n",
    "merged_df = pd.merge(anchored_count_df, tonnage_df, on=['날짜', '시간대'], how='outer')\n",
    "\n",
    "# 결과 확인\n",
    "print(merged_df.head())\n"
   ],
   "metadata": {
    "collapsed": false,
    "ExecuteTime": {
     "end_time": "2023-12-17T00:16:52.762799300Z",
     "start_time": "2023-12-17T00:16:52.747451700Z"
    }
   },
   "id": "be1e05326c0e990a"
  },
  {
   "cell_type": "code",
   "execution_count": 82,
   "outputs": [
    {
     "data": {
      "text/plain": "날짜                datetime64[ns]\n시간대                       object\nanchored_count             int64\ndtype: object"
     },
     "execution_count": 82,
     "metadata": {},
     "output_type": "execute_result"
    }
   ],
   "source": [
    "anchored_count_df.dtypes"
   ],
   "metadata": {
    "collapsed": false,
    "ExecuteTime": {
     "end_time": "2023-12-17T00:15:37.223551500Z",
     "start_time": "2023-12-17T00:15:37.198051Z"
    }
   },
   "id": "b3dfa67bc8d2a23b"
  },
  {
   "cell_type": "code",
   "execution_count": 85,
   "outputs": [
    {
     "data": {
      "text/plain": "TotalTonnage           float64\n날짜              datetime64[ns]\n시간대                     object\ndtype: object"
     },
     "execution_count": 85,
     "metadata": {},
     "output_type": "execute_result"
    }
   ],
   "source": [
    "tonnage_df.dtypes"
   ],
   "metadata": {
    "collapsed": false,
    "ExecuteTime": {
     "end_time": "2023-12-17T00:16:47.951950600Z",
     "start_time": "2023-12-17T00:16:47.936620900Z"
    }
   },
   "id": "918c1afd8d5cc7a7"
  },
  {
   "cell_type": "code",
   "execution_count": 84,
   "outputs": [],
   "source": [
    "tonnage_df['날짜'] = pd.to_datetime(df['날짜'])"
   ],
   "metadata": {
    "collapsed": false,
    "ExecuteTime": {
     "end_time": "2023-12-17T00:16:43.988664500Z",
     "start_time": "2023-12-17T00:16:43.962649200Z"
    }
   },
   "id": "7a73540f18e7e6d4"
  },
  {
   "cell_type": "code",
   "execution_count": 87,
   "outputs": [
    {
     "name": "stdout",
     "output_type": "stream",
     "text": [
      "saved vessel.csv\n"
     ]
    }
   ],
   "source": [
    "# 병합된 데이터를 CSV 파일로 저장\n",
    "merged_df.to_csv('./filtered_data/vessel.csv', index=False)\n",
    "\n",
    "print('saved vessel.csv')"
   ],
   "metadata": {
    "collapsed": false,
    "ExecuteTime": {
     "end_time": "2023-12-17T00:17:49.122681600Z",
     "start_time": "2023-12-17T00:17:49.048766800Z"
    }
   },
   "id": "b1d0d8be4799a69d"
  },
  {
   "cell_type": "code",
   "execution_count": null,
   "outputs": [],
   "source": [],
   "metadata": {
    "collapsed": false
   },
   "id": "294590277ec490d8"
  }
 ],
 "metadata": {
  "kernelspec": {
   "display_name": "Python 3",
   "language": "python",
   "name": "python3"
  },
  "language_info": {
   "codemirror_mode": {
    "name": "ipython",
    "version": 2
   },
   "file_extension": ".py",
   "mimetype": "text/x-python",
   "name": "python",
   "nbconvert_exporter": "python",
   "pygments_lexer": "ipython2",
   "version": "2.7.6"
  }
 },
 "nbformat": 4,
 "nbformat_minor": 5
}
